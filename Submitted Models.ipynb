{
 "cells": [
  {
   "cell_type": "markdown",
   "metadata": {},
   "source": [
    "# Submitted Models"
   ]
  },
  {
   "cell_type": "code",
   "execution_count": 1,
   "metadata": {
    "collapsed": true,
    "scrolled": true
   },
   "outputs": [],
   "source": [
    "import numpy as np\n",
    "import pandas as pd\n",
    "import random\n",
    "from sklearn.linear_model import LogisticRegression\n",
    "from sklearn.ensemble import RandomForestClassifier, GradientBoostingClassifier, VotingClassifier\n",
    "from src.utils import *\n",
    "random.seed(7)"
   ]
  },
  {
   "cell_type": "markdown",
   "metadata": {},
   "source": [
    "## Loading Data"
   ]
  },
  {
   "cell_type": "code",
   "execution_count": 2,
   "metadata": {
    "collapsed": true,
    "scrolled": true
   },
   "outputs": [],
   "source": [
    "# Open files\n",
    "Data_X_train = pd.read_csv('data/challenge_fichier_dentrees_dentrainement_challenge_nba/train.csv')\n",
    "Data_Y_train = pd.read_csv('data/challenge_fichier_de_sortie_dentrainement_challenge_nba.csv', sep=';')\n",
    "Data_X_test = pd.read_csv('data/challenge_fichiers_dentrees_de_test_challenge_nba/test.csv')"
   ]
  },
  {
   "cell_type": "markdown",
   "metadata": {},
   "source": [
    "**Data Preprocessing**"
   ]
  },
  {
   "cell_type": "code",
   "execution_count": null,
   "metadata": {
    "collapsed": true,
    "scrolled": true
   },
   "outputs": [],
   "source": [
    "# X_train, Y_train, _, _ = preprocess(Data_X_train, Data_Y_train, portion_train=1)\n",
    "X_train = Data_X_train.as_matrix()[:,1:]\n",
    "X_test = Data_X_test.as_matrix()[:,1:]\n",
    "Y_train = Data_Y_train.as_matrix()[:,1:]"
   ]
  },
  {
   "cell_type": "markdown",
   "metadata": {},
   "source": [
    "## First model : Logistic Regression"
   ]
  },
  {
   "cell_type": "markdown",
   "metadata": {},
   "source": [
    "**Logistic Regression - 01/03 - Test score : 71.626%** <br>"
   ]
  },
  {
   "cell_type": "code",
   "execution_count": null,
   "metadata": {
    "collapsed": true,
    "scrolled": true
   },
   "outputs": [],
   "source": [
    "c = 1e-5\n",
    "model_LogisticRegression = LogisticRegression(C=c)\n",
    "model_LogisticRegression.fit(X_train, Y_train)\n",
    "Y_test = model_LogisticRegression.predict(X_test)"
   ]
  },
  {
   "cell_type": "code",
   "execution_count": null,
   "metadata": {
    "collapsed": true,
    "scrolled": true
   },
   "outputs": [],
   "source": [
    "ID_test = Data_X_test.iloc[:,0].as_matrix()\n",
    "d = {'ID': ID_test, 'label': Y_test}\n",
    "Results_test = pd.DataFrame(data=d)"
   ]
  },
  {
   "cell_type": "code",
   "execution_count": null,
   "metadata": {
    "collapsed": true,
    "scrolled": true
   },
   "outputs": [],
   "source": [
    "# Write in file\n",
    "Results_test.to_csv('data/challenge_fichiers_de_sorties_de_test_challenge_nba/LogisticRegression_0103.csv',sep=';', index=False)"
   ]
  },
  {
   "cell_type": "markdown",
   "metadata": {},
   "source": [
    "## Second model: CNN\n",
    "\n",
    "**CNN on raw images - 01/03 - Test score : 72.20%**"
   ]
  },
  {
   "cell_type": "code",
   "execution_count": 9,
   "metadata": {
    "scrolled": true
   },
   "outputs": [
    {
     "name": "stderr",
     "output_type": "stream",
     "text": [
      "Using TensorFlow backend.\n"
     ]
    }
   ],
   "source": [
    "from keras.utils import np_utils\n",
    "from keras.models import Sequential\n",
    "from keras.layers import Conv2D, BatchNormalization, Dropout, Flatten, Dense, LSTM\n",
    "from keras import losses"
   ]
  },
  {
   "cell_type": "code",
   "execution_count": null,
   "metadata": {
    "collapsed": true,
    "scrolled": true
   },
   "outputs": [],
   "source": [
    "X_train_cnn = X_train.reshape((len(X_train), 11, 1440, 1), order = 'F')\n",
    "Y_train_cnn = np_utils.to_categorical(Y_train, 2)\n",
    "X_test_cnn = X_test.reshape((len(X_test), 11, 1440, 1), order = 'F')"
   ]
  },
  {
   "cell_type": "code",
   "execution_count": null,
   "metadata": {
    "collapsed": true,
    "scrolled": true
   },
   "outputs": [],
   "source": [
    "conv_model = Sequential()\n",
    "conv_model.add(BatchNormalization(axis=1, \n",
    "                                  input_shape = (11, 1440, 1)))\n",
    "conv_model.add(Conv2D(filters = 16, \n",
    "                 kernel_size = (11, 10), \n",
    "                 activation = 'relu'))\n",
    "conv_model.add(Dropout(0.75))\n",
    "conv_model.add(Flatten())\n",
    "conv_model.add(Dense(units = 50, activation = 'relu'))\n",
    "conv_model.add(Dropout(0.5))\n",
    "conv_model.add(Dense(units = 2, \n",
    "                activation='softmax'))\n",
    "conv_model.compile(loss = losses.categorical_crossentropy,\n",
    "                     optimizer = 'adam',\n",
    "                     metrics = ['accuracy'])\n",
    "conv_model.fit(X_train_cnn, Y_train_cnn, epochs = 200, batch_size = 32, verbose = False)\n",
    "Y_test_cnn = conv_model.predict(X_test_cnn)"
   ]
  },
  {
   "cell_type": "code",
   "execution_count": null,
   "metadata": {
    "collapsed": true,
    "scrolled": true
   },
   "outputs": [],
   "source": [
    "Y_test = np.argmax(Y_test_cnn, axis = 1)\n",
    "\n",
    "ID_test = Data_X_test.iloc[:,0].as_matrix()\n",
    "d = {'ID': ID_test, 'label': Y_test}\n",
    "Results_test = pd.DataFrame(data=d)\n",
    "\n",
    "Results_test.to_csv('data/challenge_fichiers_de_sorties_de_test_challenge_nba/CNN_0103.csv',sep=';', index=False)"
   ]
  },
  {
   "cell_type": "markdown",
   "metadata": {},
   "source": [
    "# Third model: LSTM\n",
    "**4 main features - 05/03 - Test score: 68.81%**"
   ]
  },
  {
   "cell_type": "code",
   "execution_count": null,
   "metadata": {
    "collapsed": true,
    "scrolled": true
   },
   "outputs": [],
   "source": [
    "X_train, Y_train, _, _ = preprocess(Data_X_train, Data_Y_train, portion_train=1, main_feature = True)\n",
    "\n",
    "X_train_seq_10 = X_train.reshape((len(X_train), 4, 10, -1), order = 'F')\n",
    "X_train_seq_10 = X_train_seq_10.mean(axis = 2)"
   ]
  },
  {
   "cell_type": "code",
   "execution_count": null,
   "metadata": {
    "collapsed": true,
    "scrolled": true
   },
   "outputs": [],
   "source": [
    "X_test = extract_main_features(Data_X_test)"
   ]
  },
  {
   "cell_type": "code",
   "execution_count": null,
   "metadata": {
    "collapsed": true,
    "scrolled": true
   },
   "outputs": [],
   "source": [
    "X_test_seq_10 = X_test.reshape((len(X_test), 4, 10, -1), order = 'F')\n",
    "X_test_seq_10 = X_test_seq_10.mean(axis = 2)"
   ]
  },
  {
   "cell_type": "code",
   "execution_count": null,
   "metadata": {
    "collapsed": true,
    "scrolled": true
   },
   "outputs": [],
   "source": [
    "Y_train = np_utils.to_categorical(Y_train, 2)"
   ]
  },
  {
   "cell_type": "code",
   "execution_count": null,
   "metadata": {
    "collapsed": true,
    "scrolled": true
   },
   "outputs": [],
   "source": [
    "lstm_model = Sequential()\n",
    "lstm_model.add(LSTM(75, input_shape = (4, 144), dropout = 0.5))\n",
    "lstm_model.add(Dense(units = 10,\n",
    "                     activation = 'relu'))\n",
    "lstm_model.add(Dropout(0.5))\n",
    "lstm_model.add(Dense(units = 2, \n",
    "                activation='softmax'))\n",
    "\n",
    "#Construct Loss\n",
    "lstm_model.compile(loss = losses.categorical_crossentropy,\n",
    "                     optimizer = 'adam',\n",
    "                     metrics = ['accuracy'])\n",
    "\n",
    "#Train\n",
    "training = lstm_model.fit(X_train_seq_10, Y_train, epochs = 200, batch_size = 32, verbose = False)\n",
    "\n",
    "lstm_model.save('models/lstm_seq_10_4_main_features.h5')"
   ]
  },
  {
   "cell_type": "code",
   "execution_count": null,
   "metadata": {
    "collapsed": true,
    "scrolled": true
   },
   "outputs": [],
   "source": [
    "Y_test = lstm_model.predict(X_test_seq_10)\n",
    "Y_test = np.argmax(Y_test, axis = 1)\n",
    "\n",
    "ID_test = Data_X_test.iloc[:,0].as_matrix()\n",
    "d = {'ID': ID_test, 'label': Y_test}\n",
    "Results_test = pd.DataFrame(data=d)\n",
    "\n",
    "Results_test.to_csv('data/challenge_fichiers_de_sorties_de_test_challenge_nba/LSTM_0503.csv',sep=';', index=False)"
   ]
  },
  {
   "cell_type": "markdown",
   "metadata": {},
   "source": [
    "# Fourth Model: CNN\n",
    "**CNN on raw images - 06/03 - Test score: 71.38%**"
   ]
  },
  {
   "cell_type": "code",
   "execution_count": null,
   "metadata": {
    "collapsed": true,
    "scrolled": true
   },
   "outputs": [],
   "source": [
    "X_train_cnn = X_train.reshape((len(X_train), 11, 1440, 1), order = 'F')\n",
    "Y_train_cnn = np_utils.to_categorical(Y_train, 2)\n",
    "X_test_cnn = X_test.reshape((len(X_test), 11, 1440, 1), order = 'F')"
   ]
  },
  {
   "cell_type": "code",
   "execution_count": null,
   "metadata": {
    "collapsed": true,
    "scrolled": true
   },
   "outputs": [],
   "source": [
    "Y_train = np_utils.to_categorical(Y_train, 2)"
   ]
  },
  {
   "cell_type": "code",
   "execution_count": null,
   "metadata": {
    "collapsed": true,
    "scrolled": false
   },
   "outputs": [],
   "source": [
    "conv_model = Sequential()\n",
    "conv_model.add(BatchNormalization(axis=1, \n",
    "                                  input_shape = (11, 1440, 1)))\n",
    "conv_model.add(Conv2D(filters = 32, \n",
    "                 kernel_size = (11, 10), \n",
    "                 activation = 'relu',\n",
    "                 strides = (1, 2)))\n",
    "conv_model.add(Dropout(0.5))\n",
    "conv_model.add(Flatten())\n",
    "conv_model.add(Dense(units = 50, \n",
    "                     activation = 'relu'))\n",
    "conv_model.add(Dropout(0.5))\n",
    "conv_model.add(Dense(units = 2, \n",
    "                activation='softmax'))\n",
    "\n",
    "#Construct Loss\n",
    "conv_model.compile(loss = losses.categorical_crossentropy,\n",
    "                     optimizer = 'adam',\n",
    "                     metrics = ['accuracy'])\n",
    "\n",
    "#Train\n",
    "training = conv_model.fit(X_train_cnn, Y_train, epochs = 200, batch_size = 32, verbose = False)\n",
    "conv_model.save('models/cnn_7.h5')"
   ]
  },
  {
   "cell_type": "code",
   "execution_count": null,
   "metadata": {
    "collapsed": true,
    "scrolled": true
   },
   "outputs": [],
   "source": [
    "Y_test = conv_model.predict(X_test_cnn)\n",
    "Y_test = np.argmax(Y_test, axis = 1)\n",
    "\n",
    "ID_test = Data_X_test.iloc[:,0].as_matrix()\n",
    "d = {'ID': ID_test, 'label': Y_test}\n",
    "Results_test = pd.DataFrame(data=d)\n",
    "\n",
    "Results_test.to_csv('data/challenge_fichiers_de_sorties_de_test_challenge_nba/CNN_0603.csv',sep=';', index=False)"
   ]
  },
  {
   "cell_type": "markdown",
   "metadata": {},
   "source": [
    "# Fifth model: CNN\n",
    "**CNN on raw images full features - 07/03 - Test score: 71.44%**"
   ]
  },
  {
   "cell_type": "code",
   "execution_count": null,
   "metadata": {
    "collapsed": true,
    "scrolled": true
   },
   "outputs": [],
   "source": [
    "X_train_cnn = X_train.reshape((len(X_train), 11, 1440, 1), order = 'F')\n",
    "Y_train_cnn = np_utils.to_categorical(Y_train, 2)\n",
    "X_test_cnn = X_test.reshape((len(X_test), 11, 1440, 1), order = 'F')\n",
    "\n",
    "Y_train = np_utils.to_categorical(Y_train, 2)"
   ]
  },
  {
   "cell_type": "code",
   "execution_count": null,
   "metadata": {
    "collapsed": true,
    "scrolled": true
   },
   "outputs": [],
   "source": [
    "conv_model = Sequential()\n",
    "conv_model.add(BatchNormalization(axis=1, \n",
    "                                  input_shape = (11, 1440, 1)))\n",
    "conv_model.add(Conv2D(filters = 16, \n",
    "                 kernel_size = (11, 10), \n",
    "                 activation = 'relu',\n",
    "                 strides = (1, 10)))\n",
    "conv_model.add(Dropout(0.75))\n",
    "conv_model.add(Flatten())\n",
    "conv_model.add(Dense(units = 50, \n",
    "                     activation = 'relu'))\n",
    "conv_model.add(Dropout(0.5))\n",
    "conv_model.add(Dense(units = 2, \n",
    "                activation='softmax'))\n",
    "\n",
    "#Construct Loss\n",
    "conv_model.compile(loss = losses.categorical_crossentropy,\n",
    "                     optimizer = 'adam',\n",
    "                     metrics = ['accuracy'])\n",
    "\n",
    "#Train\n",
    "training = conv_model.fit(X_train_cnn, Y_train, epochs = 200, batch_size = 32, verbose = False)\n",
    "conv_model.save('models/cnn_8.h5')"
   ]
  },
  {
   "cell_type": "code",
   "execution_count": null,
   "metadata": {
    "collapsed": true,
    "scrolled": true
   },
   "outputs": [],
   "source": [
    "Y_test = conv_model.predict(X_test_cnn)\n",
    "Y_test = np.argmax(Y_test, axis = 1)\n",
    "\n",
    "ID_test = Data_X_test.iloc[:,0].as_matrix()\n",
    "d = {'ID': ID_test, 'label': Y_test}\n",
    "Results_test = pd.DataFrame(data=d)\n",
    "\n",
    "Results_test.to_csv('data/challenge_fichiers_de_sorties_de_test_challenge_nba/CNN_0703.csv',sep=';', index=False)"
   ]
  },
  {
   "cell_type": "markdown",
   "metadata": {},
   "source": [
    "# Sixth model: CNN features + Logistic Regression\n",
    "**Extract last layers features from CNN and apply logistic regression classifier- 07/03 - Test score: 72.19%**"
   ]
  },
  {
   "cell_type": "code",
   "execution_count": null,
   "metadata": {
    "collapsed": true,
    "scrolled": true
   },
   "outputs": [],
   "source": [
    "from keras import backend as K\n",
    "from keras.models import load_model"
   ]
  },
  {
   "cell_type": "code",
   "execution_count": null,
   "metadata": {
    "collapsed": true,
    "scrolled": true
   },
   "outputs": [],
   "source": [
    "cnn_model = load_model('models/cnn_8.h5')"
   ]
  },
  {
   "cell_type": "code",
   "execution_count": null,
   "metadata": {
    "collapsed": true,
    "scrolled": true
   },
   "outputs": [],
   "source": [
    "X_train_cnn = X_train.reshape((len(X_train), 11, 1440, 1), order = 'F')\n",
    "X_test_cnn = X_test.reshape((len(X_test), 11, 1440, 1), order = 'F')"
   ]
  },
  {
   "cell_type": "code",
   "execution_count": null,
   "metadata": {
    "collapsed": true,
    "scrolled": true
   },
   "outputs": [],
   "source": [
    "extract_cnn_features = K.function([cnn_model.layers[0].input, K.learning_phase()],\n",
    "                                [cnn_model.layers[5].output])"
   ]
  },
  {
   "cell_type": "code",
   "execution_count": null,
   "metadata": {
    "collapsed": true,
    "scrolled": true
   },
   "outputs": [],
   "source": [
    "X_train_cnn_features = extract_cnn_features([X_train_cnn, 0])[0]"
   ]
  },
  {
   "cell_type": "code",
   "execution_count": null,
   "metadata": {
    "collapsed": true,
    "scrolled": true
   },
   "outputs": [],
   "source": [
    "X_test_cnn_features = extract_cnn_features([X_test_cnn, 0])[0]"
   ]
  },
  {
   "cell_type": "code",
   "execution_count": null,
   "metadata": {
    "collapsed": true,
    "scrolled": true
   },
   "outputs": [],
   "source": [
    "cnn_lg = LogisticRegression()\n",
    "cnn_lg.fit(X_train_cnn_features, Y_train)\n",
    "Y_test = cnn_lg.predict(X_test_cnn_features)"
   ]
  },
  {
   "cell_type": "code",
   "execution_count": null,
   "metadata": {
    "collapsed": true,
    "scrolled": true
   },
   "outputs": [],
   "source": [
    "Y_test.shape"
   ]
  },
  {
   "cell_type": "code",
   "execution_count": null,
   "metadata": {
    "collapsed": true,
    "scrolled": true
   },
   "outputs": [],
   "source": [
    "ID_test = Data_X_test.iloc[:,0].as_matrix()\n",
    "d = {'ID': ID_test, 'label': Y_test}\n",
    "Results_test = pd.DataFrame(data=d)\n",
    "\n",
    "Results_test.to_csv('data/challenge_fichiers_de_sorties_de_test_challenge_nba/CNN_logreg_0703.csv',sep=';', index=False)"
   ]
  },
  {
   "cell_type": "markdown",
   "metadata": {
    "collapsed": true
   },
   "source": [
    "# Seventh model : CNN with time and frequency features\n",
    "**Time and frequency features - 08/03 - Test score: 71.62%**"
   ]
  },
  {
   "cell_type": "code",
   "execution_count": null,
   "metadata": {
    "collapsed": true,
    "scrolled": true
   },
   "outputs": [],
   "source": [
    "nb_freq = 200\n",
    "\n",
    "X_FF = []\n",
    "X_FF_test = []\n",
    "features = ['miss', 'score', 'assist', 'offensive rebound', 'defensive rebound', 'offensive foul', 'defensive foul',\n",
    "           'lost ball', 'steals', 'bad pass', 'block']\n",
    "for feat in features :\n",
    "    filter_col = [col for col in Data_X_train if col.startswith(feat)]\n",
    "    X_feat = Data_X_train[filter_col].as_matrix()\n",
    "    X_feat_test =  Data_X_test[filter_col].as_matrix()\n",
    "    X_feat_fft = np.fft.fft(X_feat)[:,:nb_freq]\n",
    "    X_feat_fft_test = np.fft.fft(X_feat_test)[:,:nb_freq]\n",
    "    X_FF.append(abs(X_feat_fft))\n",
    "    X_FF_test.append(abs(X_feat_fft_test))\n",
    "X_fft = np.hstack(X_FF)\n",
    "X_fft_test = np.hstack(X_FF_test)"
   ]
  },
  {
   "cell_type": "code",
   "execution_count": null,
   "metadata": {
    "collapsed": true,
    "scrolled": true
   },
   "outputs": [],
   "source": [
    "nb_games = len(X_train)\n",
    "X_seq = X_train.reshape((nb_games, 11, 10, -1), order = 'F')\n",
    "X_seq = X_seq.mean(axis = 2)\n",
    "X_seq = X_seq.reshape(nb_games, 1584)\n",
    "X_tot = np.concatenate((X_seq, X_fft), axis = 1)\n",
    "\n",
    "nb_games_test = len(X_test)\n",
    "X_seq_test = X_test.reshape((nb_games_test, 11, 10, -1), order = 'F')\n",
    "X_seq_test = X_seq_test.mean(axis = 2)\n",
    "X_seq_test = X_seq_test.reshape(nb_games_test, 1584)\n",
    "X_tot_test = np.concatenate((X_seq_test, X_fft_test), axis = 1)"
   ]
  },
  {
   "cell_type": "code",
   "execution_count": null,
   "metadata": {
    "collapsed": true,
    "scrolled": true
   },
   "outputs": [],
   "source": [
    "X_cnn = X_tot.reshape((len(X_tot), 11, 344, 1), order = 'F')\n",
    "Y_cnn = np_utils.to_categorical(Y_train, 2)\n",
    "\n",
    "conv_model = Sequential()\n",
    "\n",
    "conv_model.add(BatchNormalization(axis=1, \n",
    "                                  input_shape = (11, 344, 1)))\n",
    "conv_model.add(Conv2D(filters = 16, \n",
    "                 kernel_size = (11, 10), \n",
    "                 activation = 'relu'))\n",
    "conv_model.add(Dropout(0.75))\n",
    "conv_model.add(Flatten())\n",
    "conv_model.add(Dense(units = 50, activation = 'relu'))\n",
    "conv_model.add(Dropout(0.5))\n",
    "conv_model.add(Dense(units = 2, \n",
    "                activation='softmax'))\n",
    "\n",
    "conv_model.compile(loss = losses.categorical_crossentropy,\n",
    "                     optimizer = 'adam',\n",
    "                     metrics = ['accuracy'])\n",
    "\n",
    "training = conv_model.fit(X_cnn, Y_cnn, epochs = 200, batch_size = 32, verbose = False)\n",
    "conv_model.save('models/cnn_9.h5')"
   ]
  },
  {
   "cell_type": "code",
   "execution_count": null,
   "metadata": {
    "collapsed": true,
    "scrolled": true
   },
   "outputs": [],
   "source": [
    "X_test_cnn = X_tot_test.reshape((len(X_tot_test), 11, 344, 1), order = 'F')\n",
    "\n",
    "Y_test = conv_model.predict(X_test_cnn)\n",
    "Y_test = np.argmax(Y_test, axis = 1)\n",
    "\n",
    "ID_test = Data_X_test.iloc[:,0].as_matrix()\n",
    "d = {'ID': ID_test, 'label': Y_test}\n",
    "Results_test = pd.DataFrame(data=d)\n",
    "\n",
    "Results_test.to_csv('data/challenge_fichiers_de_sorties_de_test_challenge_nba/CNN_0803.csv',sep=';', index=False)"
   ]
  },
  {
   "cell_type": "markdown",
   "metadata": {
    "collapsed": true
   },
   "source": [
    "# Eight model : LSTM + Log Reg\n",
    "**Last layer features from LSTM + Logistic Regression - 10/03 - Test score: 69.67%**"
   ]
  },
  {
   "cell_type": "code",
   "execution_count": null,
   "metadata": {
    "collapsed": true,
    "scrolled": true
   },
   "outputs": [],
   "source": [
    "from keras import backend as K\n",
    "from keras.models import load_model\n",
    "from sklearn.linear_model import LogisticRegression"
   ]
  },
  {
   "cell_type": "code",
   "execution_count": null,
   "metadata": {
    "collapsed": true,
    "scrolled": true
   },
   "outputs": [],
   "source": [
    "X_train = X_train.reshape((len(X_train), 11, 10, -1), order = 'F')\n",
    "X_train = X_train.mean(axis = 2)\n",
    "\n",
    "X_test = X_test.reshape((len(X_test), 11, 10, -1), order = 'F')\n",
    "X_test = X_test.mean(axis = 2)"
   ]
  },
  {
   "cell_type": "code",
   "execution_count": null,
   "metadata": {
    "collapsed": true,
    "scrolled": true
   },
   "outputs": [],
   "source": [
    "model = load_model('models/LSTMs/lstm_11.h5')\n",
    "\n",
    "extract_cnn_features = K.function([model.layers[0].input, K.learning_phase()],\n",
    "                                  [model.layers[1].output])\n",
    "X_train_features = extract_cnn_features([X_train, 0])[0]\n",
    "X_test_features = extract_cnn_features([X_test, 0])[0]\n",
    "\n",
    "clf = LogisticRegression()\n",
    "clf.fit(X_train_features, Y_train.flatten())\n",
    "\n",
    "Y_test = clf.predict(X_test_features)"
   ]
  },
  {
   "cell_type": "code",
   "execution_count": null,
   "metadata": {
    "collapsed": true,
    "scrolled": true
   },
   "outputs": [],
   "source": [
    "ID_test = Data_X_test.iloc[:,0].as_matrix()\n",
    "d = {'ID': ID_test, 'label': Y_test}\n",
    "Results_test = pd.DataFrame(data=d)\n",
    "\n",
    "Results_test.to_csv('data/challenge_fichiers_de_sorties_de_test_challenge_nba/LSTM_logreg_1003.csv',sep=';', index=False)"
   ]
  },
  {
   "cell_type": "markdown",
   "metadata": {},
   "source": [
    "# Ninth model: Average of 5 best model\n",
    "**Average of CNN_0803, CNN_logreg_0703, CNN_0703, CNN_0603, CNN_0103 = 5 best submissions - 10/03 - Test score: 72.48%**"
   ]
  },
  {
   "cell_type": "code",
   "execution_count": null,
   "metadata": {
    "collapsed": true,
    "scrolled": true
   },
   "outputs": [],
   "source": [
    "import functools"
   ]
  },
  {
   "cell_type": "code",
   "execution_count": null,
   "metadata": {
    "collapsed": true,
    "scrolled": true
   },
   "outputs": [],
   "source": [
    "sub1 = pd.read_csv('data/challenge_fichiers_de_sorties_de_test_challenge_nba/CNN_0103.csv', sep = \";\")\n",
    "sub2 = pd.read_csv('data/challenge_fichiers_de_sorties_de_test_challenge_nba/CNN_0603.csv', sep = \";\")\n",
    "sub3 = pd.read_csv('data/challenge_fichiers_de_sorties_de_test_challenge_nba/CNN_0703.csv', sep = \";\")\n",
    "sub4 = pd.read_csv('data/challenge_fichiers_de_sorties_de_test_challenge_nba/CNN_logreg_0703.csv', sep = \";\")\n",
    "sub5 = pd.read_csv('data/challenge_fichiers_de_sorties_de_test_challenge_nba/CNN_0803.csv', sep = \";\")"
   ]
  },
  {
   "cell_type": "code",
   "execution_count": null,
   "metadata": {
    "collapsed": true,
    "scrolled": true
   },
   "outputs": [],
   "source": [
    "temp = functools.reduce(lambda x, y: pd.merge(x, y, on = 'ID'), [sub1, sub2, sub3, sub4, sub5])\n",
    "temp['Avg'] = round(temp.iloc[:,1:].mean(axis = 1)).astype(int)\n",
    "submission = temp[['ID', 'Avg']]\n",
    "submission.rename(columns = {'Avg': 'label'}, inplace = True)\n",
    "\n",
    "submission.to_csv('data/challenge_fichiers_de_sorties_de_test_challenge_nba/average_5_best_submissions_1003.csv',sep=';', index=False)"
   ]
  },
  {
   "cell_type": "markdown",
   "metadata": {},
   "source": [
    "# Tenth model: LSTM + XGBoost\n",
    "**Last Layer from LSTM (20 secs) + XGBoost - Test score: 70.58%**"
   ]
  },
  {
   "cell_type": "code",
   "execution_count": null,
   "metadata": {
    "collapsed": true,
    "scrolled": true
   },
   "outputs": [],
   "source": [
    "from keras import backend as K\n",
    "from keras.models import load_model\n",
    "from xgboost import XGBClassifier"
   ]
  },
  {
   "cell_type": "code",
   "execution_count": null,
   "metadata": {
    "collapsed": true,
    "scrolled": true
   },
   "outputs": [],
   "source": [
    "X_train = X_train.reshape((len(X_train), 11, 20, -1), order = 'F')\n",
    "X_train = X_train.mean(axis = 2)\n",
    "\n",
    "X_test = X_test.reshape((len(X_test), 11, 20, -1), order = 'F')\n",
    "X_test = X_test.mean(axis = 2)"
   ]
  },
  {
   "cell_type": "code",
   "execution_count": null,
   "metadata": {
    "collapsed": true,
    "scrolled": true
   },
   "outputs": [],
   "source": [
    "model = load_model('models/LSTMs/lstm_14.h5')\n",
    "\n",
    "extract_cnn_features = K.function([model.layers[0].input, K.learning_phase()],\n",
    "                                  [model.layers[1].output])\n",
    "X_train_features = extract_cnn_features([X_train, 0])[0]\n",
    "X_test_features = extract_cnn_features([X_test, 0])[0]\n",
    "\n",
    "clf = XGBClassifier(n_estimators = 1000, max_depth = 2)\n",
    "clf.fit(X_train_features, Y_train.flatten())\n",
    "\n",
    "Y_test = clf.predict(X_test_features)"
   ]
  },
  {
   "cell_type": "code",
   "execution_count": null,
   "metadata": {
    "collapsed": true,
    "scrolled": true
   },
   "outputs": [],
   "source": [
    "ID_test = Data_X_test.iloc[:,0].as_matrix()\n",
    "d = {'ID': ID_test, 'label': Y_test}\n",
    "Results_test = pd.DataFrame(data=d)\n",
    "\n",
    "Results_test.to_csv('data/challenge_fichiers_de_sorties_de_test_challenge_nba/LSTM_xgboost_1303.csv',sep=';', index=False)"
   ]
  },
  {
   "cell_type": "markdown",
   "metadata": {},
   "source": [
    "## Eleventh model: Logistic Regression + feature engineering\n",
    "**Test score : 71.43%**"
   ]
  },
  {
   "cell_type": "code",
   "execution_count": null,
   "metadata": {
    "collapsed": true,
    "scrolled": true
   },
   "outputs": [],
   "source": [
    "X_train = feature_engineering(Data_X_train)\n",
    "X_test = feature_engineering(Data_X_test)\n",
    "\n",
    "X_train = X_train.as_matrix()[:,1:]\n",
    "X_test = X_test.as_matrix()[:,1:]\n",
    "Y_train = Data_Y_train.as_matrix()[:,1:]"
   ]
  },
  {
   "cell_type": "code",
   "execution_count": null,
   "metadata": {
    "collapsed": true,
    "scrolled": true
   },
   "outputs": [],
   "source": [
    "LR = LogisticRegression(C=0.00001)\n",
    "LR.fit(X_train, Y_train)"
   ]
  },
  {
   "cell_type": "code",
   "execution_count": null,
   "metadata": {
    "collapsed": true,
    "scrolled": true
   },
   "outputs": [],
   "source": [
    "Y_test = LR.predict(X_test)\n",
    "\n",
    "ID_test = Data_X_test.iloc[:,0].as_matrix()\n",
    "d = {'ID': ID_test, 'label': Y_test}\n",
    "Results_test = pd.DataFrame(data=d)"
   ]
  },
  {
   "cell_type": "code",
   "execution_count": null,
   "metadata": {
    "collapsed": true,
    "scrolled": true
   },
   "outputs": [],
   "source": [
    "Results_test.to_csv('data/challenge_fichiers_de_sorties_de_test_challenge_nba/LogisticRegression_1403.csv',sep=';', index=False)"
   ]
  },
  {
   "cell_type": "markdown",
   "metadata": {},
   "source": [
    "## Twelfth model: Feature Engineering + Random Forest\n",
    "**Test score - 72.24%**"
   ]
  },
  {
   "cell_type": "code",
   "execution_count": null,
   "metadata": {
    "collapsed": true,
    "scrolled": true
   },
   "outputs": [],
   "source": [
    "# If the score difference is greater than 8 points (20147 = score_1140)\n",
    "def postprocess(X, Y) :\n",
    "    Y[X[:,20147] > 8] = 1\n",
    "    Y[X[:,20147] <- 8] = 0\n",
    "    return Y"
   ]
  },
  {
   "cell_type": "code",
   "execution_count": null,
   "metadata": {
    "collapsed": true,
    "scrolled": true
   },
   "outputs": [],
   "source": [
    "X_train = feature_engineering(Data_X_train)\n",
    "X_test = feature_engineering(Data_X_test)\n",
    "\n",
    "X_train = X_train.as_matrix()[:,1:]\n",
    "X_test = X_test.as_matrix()[:,1:]\n",
    "Y_train = Data_Y_train.as_matrix()[:,1:]"
   ]
  },
  {
   "cell_type": "code",
   "execution_count": null,
   "metadata": {
    "collapsed": true,
    "scrolled": true
   },
   "outputs": [],
   "source": [
    "parameters = {'n_estimators': 150, 'max_depth': None, 'max_features': 15, \n",
    "               'min_samples_split': 15, 'min_samples_leaf': 2, 'bootstrap': True, \n",
    "               'oob_score': True, 'criterion': 'entropy'}\n",
    "RandomForest = RandomForestClassifier(**parameters)\n",
    "RandomForest.fit(X_train, Y_train.reshape(len(X_train),))"
   ]
  },
  {
   "cell_type": "code",
   "execution_count": null,
   "metadata": {
    "collapsed": true,
    "scrolled": true
   },
   "outputs": [],
   "source": [
    "# PostProcessing\n",
    "Y_test = RandomForest.predict(X_test)\n",
    "Y_test = postprocess(X_test,Y_test)"
   ]
  },
  {
   "cell_type": "code",
   "execution_count": null,
   "metadata": {
    "collapsed": true,
    "scrolled": true
   },
   "outputs": [],
   "source": [
    "ID_test = Data_X_test.iloc[:,0].as_matrix()\n",
    "d = {'ID': ID_test, 'label': Y_test}\n",
    "Results_test = pd.DataFrame(data=d)"
   ]
  },
  {
   "cell_type": "code",
   "execution_count": null,
   "metadata": {
    "collapsed": true,
    "scrolled": true
   },
   "outputs": [],
   "source": [
    "Results_test.to_csv('data/challenge_fichiers_de_sorties_de_test_challenge_nba/RandomForest_1603.csv',sep=';', index=False)"
   ]
  },
  {
   "cell_type": "markdown",
   "metadata": {},
   "source": [
    "## Thirteenth model:\n",
    "**Aggregation of features + pre and post processing - score 73.53%**"
   ]
  },
  {
   "cell_type": "code",
   "execution_count": null,
   "metadata": {
    "collapsed": true,
    "scrolled": true
   },
   "outputs": [],
   "source": [
    "def postprocess(X, Y) :\n",
    "    Y[X[:,-1] > 9] = 1\n",
    "    Y[X[:,-1] < -9] = 0\n",
    "    return Y"
   ]
  },
  {
   "cell_type": "code",
   "execution_count": null,
   "metadata": {
    "collapsed": true,
    "scrolled": true
   },
   "outputs": [],
   "source": [
    "Data_X_train = feature_engineering(Data_X_train)\n",
    "Data_X_test = feature_engineering(Data_X_test)\n",
    "\n",
    "X_train = Data_X_train.as_matrix()[:,1:]\n",
    "X_test = Data_X_test.as_matrix()[:,1:]\n",
    "Y_train = Data_Y_train.as_matrix()[:,1:].reshape(len(Data_X_train),)"
   ]
  },
  {
   "cell_type": "code",
   "execution_count": null,
   "metadata": {
    "collapsed": true,
    "scrolled": true
   },
   "outputs": [],
   "source": [
    "nb_games_train, col = Data_X_train.shape\n",
    "nb_games_test, _ = Data_X_test.shape\n",
    "nb_features = int((col-1)/1440)\n",
    "\n",
    "## Aggregate features\n",
    "X_train = X_train.reshape((nb_games_train, nb_features, 10, -1), order = 'F')\n",
    "X_train = X_train.mean(axis = 2)\n",
    "X_train = X_train.reshape(nb_games_train, nb_features*144)\n",
    "\n",
    "## Add Score at the end to postprocess\n",
    "score_end_train = Data_X_train['score_1440'].as_matrix()\n",
    "X_tot_train = np.zeros((X_train.shape[0],X_train.shape[1]+1))\n",
    "X_tot_train[:,:-1] = X_train\n",
    "X_tot_train[:,-1] = score_end_train\n",
    "\n",
    "\n",
    "## Aggregate features\n",
    "X_test = X_test.reshape((nb_games_test, nb_features, 10, -1), order = 'F')\n",
    "X_test = X_test.mean(axis = 2)\n",
    "X_test = X_test.reshape(nb_games_test, nb_features*144)\n",
    "\n",
    "## Add Score at the end to postprocess\n",
    "score_end_test = Data_X_test['score_1440'].as_matrix()\n",
    "X_tot_test = np.zeros((X_test.shape[0],X_test.shape[1]+1))\n",
    "X_tot_test[:,:-1] = X_test\n",
    "X_tot_test[:,-1] = score_end_test"
   ]
  },
  {
   "cell_type": "code",
   "execution_count": null,
   "metadata": {
    "collapsed": true,
    "scrolled": true
   },
   "outputs": [],
   "source": [
    "parameters = {'n_estimators': 200, 'max_depth': None, 'max_features': 15, \n",
    "               'min_samples_split': 15, 'min_samples_leaf': 2, 'bootstrap': True, \n",
    "               'oob_score': True, 'criterion': 'entropy'}\n",
    "RandomForest = RandomForestClassifier(**parameters)\n",
    "RandomForest.fit(X_tot_train, Y_train)"
   ]
  },
  {
   "cell_type": "code",
   "execution_count": null,
   "metadata": {
    "collapsed": true,
    "scrolled": true
   },
   "outputs": [],
   "source": [
    "# PostProcessing\n",
    "Y_test = RandomForest.predict(X_tot_test)\n",
    "Y_test = postprocess(X_tot_test,Y_test)"
   ]
  },
  {
   "cell_type": "code",
   "execution_count": null,
   "metadata": {
    "collapsed": true,
    "scrolled": true
   },
   "outputs": [],
   "source": [
    "ID_test = Data_X_test.iloc[:,0].as_matrix()\n",
    "d = {'ID': ID_test, 'label': Y_test}\n",
    "Results_test = pd.DataFrame(data=d)"
   ]
  },
  {
   "cell_type": "code",
   "execution_count": null,
   "metadata": {
    "collapsed": true,
    "scrolled": true
   },
   "outputs": [],
   "source": [
    "Results_test.to_csv('data/challenge_fichiers_de_sorties_de_test_challenge_nba/RandomForest_1703.csv',sep=';', index=False)"
   ]
  },
  {
   "cell_type": "markdown",
   "metadata": {},
   "source": [
    "## Fourteenth model :\n",
    "**Combinaition of Random Forest, XGBoost and LogisticRegression - score 74.34%**"
   ]
  },
  {
   "cell_type": "code",
   "execution_count": 3,
   "metadata": {
    "collapsed": true,
    "scrolled": true
   },
   "outputs": [],
   "source": [
    "Data_X_train = feature_engineering(Data_X_train, two_points = True)\n",
    "Data_X_test = feature_engineering(Data_X_test, two_points = True)\n",
    "\n",
    "X_train = Data_X_train.as_matrix()[:,1:]\n",
    "X_test = Data_X_test.as_matrix()[:,1:]\n",
    "Y_train = Data_Y_train.as_matrix()[:,1:].reshape(len(Data_X_train),)"
   ]
  },
  {
   "cell_type": "code",
   "execution_count": 4,
   "metadata": {
    "collapsed": true,
    "scrolled": true
   },
   "outputs": [],
   "source": [
    "nb_games_train, col = Data_X_train.shape\n",
    "nb_games_test, _ = Data_X_test.shape\n",
    "nb_features = int((col-1)/1440)\n",
    "\n",
    "## Aggregate features\n",
    "X_train = X_train.reshape((nb_games_train, nb_features, 10, -1), order = 'F')\n",
    "X_train = X_train.mean(axis = 2)\n",
    "X_train = X_train.reshape(nb_games_train, nb_features*144)\n",
    "\n",
    "## Add Score at the end\n",
    "score_end_train = Data_X_train['score_1440'].as_matrix()\n",
    "X_tot_train = np.zeros((X_train.shape[0],X_train.shape[1]+1))\n",
    "X_tot_train[:,:-1] = X_train\n",
    "X_tot_train[:,-1] = score_end_train\n",
    "\n",
    "\n",
    "## Aggregate features\n",
    "X_test = X_test.reshape((nb_games_test, nb_features, 10, -1), order = 'F')\n",
    "X_test = X_test.mean(axis = 2)\n",
    "X_test = X_test.reshape(nb_games_test, nb_features*144)\n",
    "\n",
    "## Add Score at the end to postprocess\n",
    "score_end_test = Data_X_test['score_1440'].as_matrix()\n",
    "X_tot_test = np.zeros((X_test.shape[0],X_test.shape[1]+1))\n",
    "X_tot_test[:,:-1] = X_test\n",
    "X_tot_test[:,-1] = score_end_test"
   ]
  },
  {
   "cell_type": "code",
   "execution_count": 5,
   "metadata": {
    "scrolled": true
   },
   "outputs": [
    {
     "data": {
      "text/plain": [
       "VotingClassifier(estimators=[('lr', LogisticRegression(C=1e-05, class_weight=None, dual=False, fit_intercept=True,\n",
       "          intercept_scaling=1, max_iter=100, multi_class='ovr', n_jobs=1,\n",
       "          penalty='l2', random_state=None, solver='liblinear', tol=0.0001,\n",
       "          verbose=0, warm_start=False)), ('xgb', Grad...imators=200, n_jobs=1,\n",
       "            oob_score=True, random_state=None, verbose=0, warm_start=False))],\n",
       "         flatten_transform=None, n_jobs=1, voting='soft', weights=None)"
      ]
     },
     "execution_count": 5,
     "metadata": {},
     "output_type": "execute_result"
    }
   ],
   "source": [
    "parameters_randomforest = {'n_estimators': 200, 'max_depth': None, 'max_features': 15, \n",
    "               'min_samples_split': 15, 'min_samples_leaf': 2, 'bootstrap': True, \n",
    "               'oob_score': True, 'criterion': 'entropy'}\n",
    "\n",
    "xgb = GradientBoostingClassifier(max_depth=10, n_estimators = 1000)\n",
    "LogReg = LogisticRegression(C=0.00001)\n",
    "RandomForest = RandomForestClassifier(**parameters_randomforest)\n",
    "\n",
    "eclf = VotingClassifier(estimators=[\n",
    "                ('lr', LogReg), ('xgb', xgb), ('RandomForest', RandomForest)], voting='soft')\n",
    "eclf.fit(X_tot_train, Y_train)"
   ]
  },
  {
   "cell_type": "code",
   "execution_count": 6,
   "metadata": {
    "collapsed": true,
    "scrolled": true
   },
   "outputs": [],
   "source": [
    "Y_test = eclf.predict(X_tot_test)\n",
    "ID_test = Data_X_test.iloc[:,0].as_matrix()\n",
    "d = {'ID': ID_test, 'label': Y_test}\n",
    "Results_test = pd.DataFrame(data=d)"
   ]
  },
  {
   "cell_type": "code",
   "execution_count": 7,
   "metadata": {
    "collapsed": true,
    "scrolled": true
   },
   "outputs": [],
   "source": [
    "Results_test.to_csv('data/challenge_fichiers_de_sorties_de_test_challenge_nba/CombinationModels_2203.csv',sep=';', index=False)"
   ]
  },
  {
   "cell_type": "markdown",
   "metadata": {},
   "source": [
    "# Fifteenth model: \n",
    "**Bidirectional LSTM - Last Layer - Overfitted Random Forest - Submission score: 74.10%**"
   ]
  },
  {
   "cell_type": "code",
   "execution_count": null,
   "metadata": {
    "collapsed": true,
    "scrolled": true
   },
   "outputs": [],
   "source": [
    "from keras.utils import np_utils\n",
    "from keras.models import Sequential\n",
    "from keras.layers import Dense, LSTM, Bidirectional, Dropout\n",
    "from keras import losses\n",
    "from keras import backend as K\n",
    "\n",
    "from sklearn.ensemble import RandomForestClassifier"
   ]
  },
  {
   "cell_type": "code",
   "execution_count": null,
   "metadata": {
    "collapsed": true,
    "scrolled": true
   },
   "outputs": [],
   "source": [
    "Data_X_train = feature_engineering(Data_X_train)\n",
    "Data_X_test = feature_engineering(Data_X_test)\n",
    "\n",
    "X_train = Data_X_train.as_matrix()[:,1:]\n",
    "X_test = Data_X_test.as_matrix()[:,1:]\n",
    "Y_train = Data_Y_train.as_matrix()[:,1:]\n",
    "\n",
    "del Data_X_train\n",
    "\n",
    "X_train_lstm = X_train.reshape((len(X_train), 16, 15, -1), order = 'F')\n",
    "X_train_lstm = X_train_lstm.mean(axis = 2)\n",
    "Y_train_lstm = np_utils.to_categorical(Y_train, 2)\n",
    "\n",
    "X_test_lstm = X_test.reshape((len(X_test), 16, 15, -1), order = 'F')\n",
    "X_test_lstm = X_test_lstm.mean(axis = 2)"
   ]
  },
  {
   "cell_type": "code",
   "execution_count": null,
   "metadata": {
    "collapsed": true,
    "scrolled": true
   },
   "outputs": [],
   "source": [
    "bi_lstm_model = Sequential()\n",
    "bi_lstm_model.add(Bidirectional(LSTM(125, recurrent_dropout = 0.25), \n",
    "                                input_shape = (16, 96)))\n",
    "bi_lstm_model.add(Dropout(0.75))\n",
    "bi_lstm_model.add(Dense(units = 150, \n",
    "                        activation = 'relu'))\n",
    "bi_lstm_model.add(Dropout(0.5))\n",
    "bi_lstm_model.add(Dense(units = 2, \n",
    "                        activation='softmax'))\n",
    "bi_lstm_model.compile(loss = losses.categorical_crossentropy,\n",
    "                      optimizer = 'adam',\n",
    "                      metrics = ['accuracy'])\n",
    "\n",
    "#Training\n",
    "bi_lstm_model.fit(X_train_lstm, Y_train_lstm, \n",
    "                  epochs = 15, batch_size = 64, verbose = False)\n",
    "\n",
    "bi_lstm_model.save('models/bi_lstm.h5')"
   ]
  },
  {
   "cell_type": "code",
   "execution_count": null,
   "metadata": {
    "collapsed": true,
    "scrolled": true
   },
   "outputs": [],
   "source": [
    "extract_cnn_features = K.function([bi_lstm_model.layers[0].input, K.learning_phase()],\n",
    "                                  [bi_lstm_model.layers[3].output])\n",
    "X_train_features = extract_cnn_features([X_train_lstm, 0])[0]\n",
    "X_test_features = extract_cnn_features([X_test_lstm, 0])[0]\n",
    "\n",
    "parameters = {'n_estimators': 500, 'max_depth': 40, 'min_samples_leaf': 2}\n",
    "clf = RandomForestClassifier(**parameters)\n",
    "clf.fit(X_train_features, Y_train.ravel())"
   ]
  },
  {
   "cell_type": "code",
   "execution_count": null,
   "metadata": {
    "collapsed": true,
    "scrolled": true
   },
   "outputs": [],
   "source": [
    "Y_test = clf.predict(X_test_features)\n",
    "ID_test = Data_X_test.iloc[:,0].as_matrix()\n",
    "d = {'ID': ID_test, 'label': Y_test}\n",
    "Results_test = pd.DataFrame(data=d)\n",
    "\n",
    "Results_test.to_csv('data/challenge_fichiers_de_sorties_de_test_challenge_nba/BiLSTM_1903.csv',sep=';', index=False)"
   ]
  },
  {
   "cell_type": "markdown",
   "metadata": {},
   "source": [
    "# 16th model\n",
    "**Bidirectional LSTM  on 18 features - Last Layer - Overfitted Random Forest - Submission score: 74.48%**"
   ]
  },
  {
   "cell_type": "code",
   "execution_count": null,
   "metadata": {
    "collapsed": true,
    "scrolled": true
   },
   "outputs": [],
   "source": [
    "from keras.utils import np_utils\n",
    "from keras.models import Sequential\n",
    "from keras.layers import Dense, LSTM, Bidirectional, Dropout\n",
    "from keras import losses\n",
    "from keras import backend as K\n",
    "\n",
    "from sklearn.ensemble import RandomForestClassifier"
   ]
  },
  {
   "cell_type": "code",
   "execution_count": null,
   "metadata": {
    "collapsed": true,
    "scrolled": true
   },
   "outputs": [],
   "source": [
    "# Open files\n",
    "Data_X_train = pd.read_csv('data/challenge_fichier_dentrees_dentrainement_challenge_nba/train.csv')\n",
    "Data_Y_train = pd.read_csv('data/challenge_fichier_de_sortie_dentrainement_challenge_nba.csv', sep=';')\n",
    "Data_X_test = pd.read_csv('data/challenge_fichiers_dentrees_de_test_challenge_nba/test.csv')"
   ]
  },
  {
   "cell_type": "code",
   "execution_count": null,
   "metadata": {
    "collapsed": true,
    "scrolled": true
   },
   "outputs": [],
   "source": [
    "Data_X_train = feature_engineering(Data_X_train, two_points = True)\n",
    "Data_X_test = feature_engineering(Data_X_test, two_points = True)\n",
    "\n",
    "X_train = Data_X_train.as_matrix()[:,1:]\n",
    "X_test = Data_X_test.as_matrix()[:,1:]\n",
    "Y_train = Data_Y_train.as_matrix()[:,1:]\n",
    "\n",
    "del Data_X_train"
   ]
  },
  {
   "cell_type": "code",
   "execution_count": null,
   "metadata": {
    "collapsed": true,
    "scrolled": true
   },
   "outputs": [],
   "source": [
    "X_train_lstm = X_train.reshape((len(X_train), 18, 15, -1), order = 'F')\n",
    "X_train_lstm = X_train_lstm.mean(axis = 2)\n",
    "Y_train_lstm = np_utils.to_categorical(Y_train, 2)\n",
    "\n",
    "X_test_lstm = X_test.reshape((len(X_test), 18, 15, -1), order = 'F')\n",
    "X_test_lstm = X_test_lstm.mean(axis = 2)"
   ]
  },
  {
   "cell_type": "code",
   "execution_count": null,
   "metadata": {
    "collapsed": true,
    "scrolled": true
   },
   "outputs": [],
   "source": [
    "#Model\n",
    "bi_lstm_model = Sequential()\n",
    "bi_lstm_model.add(Bidirectional(LSTM(175, recurrent_dropout = 0.25), \n",
    "                                input_shape = (18, 96)))\n",
    "bi_lstm_model.add(Dropout(0.75))\n",
    "bi_lstm_model.add(Dense(units = 150, \n",
    "                        activation = 'relu'))\n",
    "bi_lstm_model.add(Dropout(0.5))\n",
    "bi_lstm_model.add(Dense(units = 2, \n",
    "                        activation='softmax'))\n",
    "bi_lstm_model.compile(loss = losses.categorical_crossentropy,\n",
    "                      optimizer = 'adam',\n",
    "                      metrics = ['accuracy'])\n",
    "\n",
    "#Training\n",
    "bi_lstm_model.fit(X_train_lstm, Y_train_lstm,\n",
    "                  epochs = 15, batch_size = 64, verbose = False)\n",
    "\n",
    "\n",
    "bi_lstm_model.save('models/bi_lstm_2103.h5')"
   ]
  },
  {
   "cell_type": "code",
   "execution_count": null,
   "metadata": {
    "collapsed": true,
    "scrolled": true
   },
   "outputs": [],
   "source": [
    "extract_cnn_features = K.function([bi_lstm_model.layers[0].input, K.learning_phase()],\n",
    "                                  [bi_lstm_model.layers[3].output])\n",
    "X_train_features = extract_cnn_features([X_train_lstm, 0])[0]\n",
    "X_test_features = extract_cnn_features([X_test_lstm, 0])[0]\n",
    "\n",
    "parameters = {'n_estimators': 300, 'max_depth': 60, 'min_samples_leaf': 2}\n",
    "clf = RandomForestClassifier(**parameters)\n",
    "clf.fit(X_train_features, Y_train.ravel())"
   ]
  },
  {
   "cell_type": "code",
   "execution_count": null,
   "metadata": {
    "collapsed": true,
    "scrolled": true
   },
   "outputs": [],
   "source": [
    "Data_X_test = pd.read_csv('data/challenge_fichiers_dentrees_de_test_challenge_nba/test.csv')"
   ]
  },
  {
   "cell_type": "code",
   "execution_count": null,
   "metadata": {
    "collapsed": true,
    "scrolled": true
   },
   "outputs": [],
   "source": [
    "Y_test = clf.predict(X_test_features)\n",
    "ID_test = Data_X_test.iloc[:,0].as_matrix()\n",
    "d = {'ID': ID_test, 'label': Y_test}\n",
    "Results_test = pd.DataFrame(data=d)\n",
    "\n",
    "Results_test.to_csv('data/challenge_fichiers_de_sorties_de_test_challenge_nba/BiLSTM_2103.csv',sep=';', index=False)"
   ]
  },
  {
   "cell_type": "markdown",
   "metadata": {
    "scrolled": true
   },
   "source": [
    "# 17th model\n",
    "**Log Reg on Xgboost + Random Forest + BiLSTM Predictions - Submission Score: 74.77%**"
   ]
  },
  {
   "cell_type": "code",
   "execution_count": 8,
   "metadata": {
    "collapsed": true
   },
   "outputs": [],
   "source": [
    "from keras.utils import np_utils\n",
    "from keras.models import Sequential\n",
    "from keras.layers import Dense, LSTM, Bidirectional, Dropout\n",
    "from keras import losses\n",
    "from keras import backend as K\n",
    "from keras.models import load_model\n",
    "\n",
    "from sklearn.ensemble import RandomForestClassifier\n",
    "from sklearn.externals import joblib"
   ]
  },
  {
   "cell_type": "code",
   "execution_count": 3,
   "metadata": {
    "collapsed": true
   },
   "outputs": [],
   "source": [
    "# Open files\n",
    "Data_X_train = pd.read_csv('data/challenge_fichier_dentrees_dentrainement_challenge_nba/train.csv')\n",
    "Data_Y_train = pd.read_csv('data/challenge_fichier_de_sortie_dentrainement_challenge_nba.csv', sep=';')\n",
    "Data_X_test = pd.read_csv('data/challenge_fichiers_dentrees_de_test_challenge_nba/test.csv')"
   ]
  },
  {
   "cell_type": "code",
   "execution_count": 11,
   "metadata": {
    "collapsed": true
   },
   "outputs": [],
   "source": [
    "Data_X_train = feature_engineering(Data_X_train, two_points = True)\n",
    "Data_X_test = feature_engineering(Data_X_test, two_points = True)\n",
    "\n",
    "nb_games_train, col = Data_X_train.shape\n",
    "nb_games_test, _ = Data_X_test.shape\n",
    "nb_features = int((col-1)/1440)\n",
    "\n",
    "X_train = Data_X_train.as_matrix()[:,1:]\n",
    "X_test = Data_X_test.as_matrix()[:,1:]\n",
    "Y_train = Data_Y_train.as_matrix()[:,1:]\n",
    "\n",
    "del Data_X_train"
   ]
  },
  {
   "cell_type": "code",
   "execution_count": 13,
   "metadata": {
    "collapsed": true
   },
   "outputs": [],
   "source": [
    "score_end = X_train[:,25903]\n",
    "X_train_models = X_train.reshape((nb_games_train, nb_features, 10, -1), order = 'F')\n",
    "X_train_models = X_train_models.mean(axis = 2)\n",
    "X_train_models = X_train_models.reshape(nb_games_train, nb_features*144)\n",
    "\n",
    "X_train_tot = np.zeros((X_train_models.shape[0],X_train_models.shape[1]+1))\n",
    "X_train_tot[:,:-1] = X_train_models\n",
    "X_train_tot[:,-1] = score_end\n",
    "\n",
    "## Test\n",
    "score_end_test = X_test[:,25903]\n",
    "X_test_models = X_test.reshape((nb_games_test, nb_features, 10, -1), order = 'F')\n",
    "X_test_models = X_test_models.mean(axis = 2)\n",
    "X_test_models = X_test_models.reshape(nb_games_test, nb_features*144)\n",
    "\n",
    "X_test_tot = np.zeros((X_test_models.shape[0],X_test_models.shape[1]+1))\n",
    "X_test_tot[:,:-1] = X_test_models\n",
    "X_test_tot[:,-1] = score_end_test\n",
    "\n",
    "del X_train_models, X_test_models"
   ]
  },
  {
   "cell_type": "code",
   "execution_count": 15,
   "metadata": {
    "collapsed": true
   },
   "outputs": [],
   "source": [
    "#Random forest\n",
    "parameters = {'n_estimators': 200, 'max_depth': None, 'max_features': 15, \n",
    "               'min_samples_split': 15, 'min_samples_leaf': 2, 'bootstrap': True, \n",
    "               'oob_score': True, 'criterion': 'entropy'}\n",
    "\n",
    "RandomForest = RandomForestClassifier(**parameters)\n",
    "RandomForest.fit(X_train_tot, Y_train.ravel())\n",
    "joblib.dump(RandomForest, 'models/Random_Forest_2103.pkl')\n",
    "\n",
    "Y_pred_RandomForest = RandomForest.predict(X_test_tot)"
   ]
  },
  {
   "cell_type": "code",
   "execution_count": 16,
   "metadata": {
    "collapsed": true
   },
   "outputs": [],
   "source": [
    "#XGboost\n",
    "xgb = GradientBoostingClassifier(max_depth=10, n_estimators = 1000)\n",
    "xgb.fit(X_train_tot, Y_train.ravel())\n",
    "\n",
    "joblib.dump(xgb, 'models/XGBoost_2103.pkl')\n",
    "\n",
    "Y_pred_xgb = xgb.predict(X_test_tot)"
   ]
  },
  {
   "cell_type": "code",
   "execution_count": 17,
   "metadata": {
    "collapsed": true
   },
   "outputs": [],
   "source": [
    "#Bi-LSTM\n",
    "X_train_lstm = X_train.reshape((len(X_train), 18, 15, -1), order = 'F')\n",
    "X_train_lstm = X_train_lstm.mean(axis = 2)\n",
    "Y_train_lstm = np_utils.to_categorical(Y_train, 2)\n",
    "\n",
    "X_test_lstm = X_test.reshape((len(X_test), 18, 15, -1), order = 'F')\n",
    "X_test_lstm = X_test_lstm.mean(axis = 2)\n",
    "\n",
    "\n",
    "bi_lstm_model = load_model('models/bi_lstm_2103.h5')\n",
    "\n",
    "\n",
    "extract_cnn_features = K.function([bi_lstm_model.layers[0].input, K.learning_phase()],\n",
    "                                  [bi_lstm_model.layers[3].output])\n",
    "X_train_features = extract_cnn_features([X_train_lstm, 0])[0]\n",
    "X_test_features = extract_cnn_features([X_test_lstm, 0])[0]\n",
    "\n",
    "\n",
    "parameters = {'n_estimators': 300, 'max_depth': 60, 'min_samples_leaf': 2}\n",
    "clf = RandomForestClassifier(**parameters)\n",
    "clf.fit(X_train_features, Y_train.ravel())\n",
    "joblib.dump(clf, 'models/Random_Forest_on_BiLSTM_2103.pkl')\n",
    "\n",
    "\n",
    "Y_pred_lstm = clf.predict(X_test_features)"
   ]
  },
  {
   "cell_type": "code",
   "execution_count": 18,
   "metadata": {
    "collapsed": true
   },
   "outputs": [],
   "source": [
    "#Logistic Regression - Meta Classifier\n",
    "LR = joblib.load('models/Log_Reg_On_Other_Clfs_Predictions.pkl')\n",
    "\n",
    "Y_features = np.column_stack((Y_pred_RandomForest, Y_pred_xgb, Y_pred_lstm, score_end_test))\n",
    "Y_test = LR.predict(Y_features)\n",
    "\n",
    "ID_test = Data_X_test.iloc[:,0].as_matrix()\n",
    "d = {'ID': ID_test, 'label': Y_test}\n",
    "Results_test = pd.DataFrame(data=d)\n",
    "\n",
    "Results_test.to_csv('data/challenge_fichiers_de_sorties_de_test_challenge_nba/MetaClassifier_2103.csv',sep=';', index=False)"
   ]
  },
  {
   "cell_type": "markdown",
   "metadata": {},
   "source": [
    "# 18th model\n",
    "**Fourier Transform with preprocessing - 73.19%**"
   ]
  },
  {
   "cell_type": "code",
   "execution_count": 10,
   "metadata": {
    "collapsed": true
   },
   "outputs": [],
   "source": [
    "from keras.utils import np_utils\n",
    "from keras.models import Sequential\n",
    "from keras.layers import Conv2D, BatchNormalization, Dropout, Flatten, Dense, LSTM\n",
    "from keras import losses"
   ]
  },
  {
   "cell_type": "code",
   "execution_count": 3,
   "metadata": {
    "collapsed": true
   },
   "outputs": [],
   "source": [
    "Data_X_train = feature_engineering(Data_X_train)\n",
    "Data_X_test = feature_engineering(Data_X_test)\n",
    "\n",
    "X_train = Data_X_train.as_matrix()[:,1:]\n",
    "X_test = Data_X_test.as_matrix()[:,1:]\n",
    "Y_train = Data_Y_train.as_matrix()[:,1:]"
   ]
  },
  {
   "cell_type": "code",
   "execution_count": 4,
   "metadata": {
    "collapsed": true
   },
   "outputs": [],
   "source": [
    "nb_games_train, col = Data_X_train.shape\n",
    "nb_games_test, _ = Data_X_test.shape\n",
    "nb_features = int((col-1)/1440)"
   ]
  },
  {
   "cell_type": "code",
   "execution_count": 6,
   "metadata": {
    "collapsed": true
   },
   "outputs": [],
   "source": [
    "nb_freq = 200\n",
    "\n",
    "X_FF = []\n",
    "X_FF_test = []\n",
    "features = ['total rebound', 'fied goals', 'total foul', 'three points','free throws', 'miss', 'score', 'assist', 'diff points',\n",
    "            'offensive rebound', 'defensive rebound', 'offensive foul', 'defensive foul','lost ball', 'steals', 'bad pass', 'block']\n",
    "for feat in features :\n",
    "    filter_col = [col for col in Data_X_train if col.startswith(feat)]\n",
    "    X_feat = Data_X_train[filter_col].as_matrix()\n",
    "    X_feat_test =  Data_X_test[filter_col].as_matrix()\n",
    "    X_feat_fft = np.fft.fft(X_feat)[:,:nb_freq]\n",
    "    X_feat_fft_test = np.fft.fft(X_feat_test)[:,:nb_freq]\n",
    "    X_FF.append(abs(X_feat_fft))\n",
    "    X_FF_test.append(abs(X_feat_fft_test))\n",
    "X_fft = np.hstack(X_FF)\n",
    "X_fft_test = np.hstack(X_FF_test)"
   ]
  },
  {
   "cell_type": "code",
   "execution_count": 7,
   "metadata": {
    "collapsed": true
   },
   "outputs": [],
   "source": [
    "X_seq = X_train.reshape((nb_games_train, nb_features, 10, -1), order = 'F')\n",
    "\n",
    "X_seq = X_seq.mean(axis = 2)\n",
    "X_seq = X_seq.reshape(nb_games_train, nb_features*144)\n",
    "X_tot = np.concatenate((X_seq, X_fft), axis = 1)\n",
    "\n",
    "X_seq_test = X_test.reshape((nb_games_test, nb_features, 10, -1), order = 'F')\n",
    "X_seq_test = X_seq_test.mean(axis = 2)\n",
    "X_seq_test = X_seq_test.reshape(nb_games_test, nb_features*144)\n",
    "X_tot_test = np.concatenate((X_seq_test, X_fft_test), axis = 1)"
   ]
  },
  {
   "cell_type": "code",
   "execution_count": 13,
   "metadata": {
    "collapsed": true
   },
   "outputs": [],
   "source": [
    "#Random forest\n",
    "parameters = {'n_estimators': 200, 'max_depth': None, 'max_features': 15, \n",
    "               'min_samples_split': 15, 'min_samples_leaf': 2, 'bootstrap': True, \n",
    "               'oob_score': True, 'criterion': 'entropy'}\n",
    "\n",
    "RandomForest = RandomForestClassifier(**parameters)\n",
    "RandomForest.fit(X_tot, Y_train.ravel())\n",
    "\n",
    "Y_pred_RandomForest = RandomForest.predict(X_tot_test)"
   ]
  },
  {
   "cell_type": "code",
   "execution_count": 15,
   "metadata": {
    "collapsed": true
   },
   "outputs": [],
   "source": [
    "ID_test = Data_X_test.iloc[:,0].as_matrix()\n",
    "d = {'ID': ID_test, 'label': Y_pred_RandomForest}\n",
    "Results_test = pd.DataFrame(data=d)\n",
    "\n",
    "Results_test.to_csv('data/challenge_fichiers_de_sorties_de_test_challenge_nba/Fourier_RandomForest_2203.csv',sep=';', index=False)"
   ]
  },
  {
   "cell_type": "markdown",
   "metadata": {},
   "source": [
    "# 19th model\n",
    "**Wavelet with preprocessing - 73.19%**"
   ]
  },
  {
   "cell_type": "code",
   "execution_count": null,
   "metadata": {
    "collapsed": true
   },
   "outputs": [],
   "source": [
    "from keras.utils import np_utils\n",
    "from keras.models import Sequential\n",
    "from keras.layers import Conv2D, BatchNormalization, Dropout, Flatten, Dense, LSTM\n",
    "from keras import losses"
   ]
  },
  {
   "cell_type": "code",
   "execution_count": null,
   "metadata": {
    "collapsed": true
   },
   "outputs": [],
   "source": [
    "Data_X_train = feature_engineering(Data_X_train)\n",
    "Data_X_test = feature_engineering(Data_X_test)\n",
    "\n",
    "X_train = Data_X_train.as_matrix()[:,1:]\n",
    "X_test = Data_X_test.as_matrix()[:,1:]\n",
    "Y_train = Data_Y_train.as_matrix()[:,1:]"
   ]
  },
  {
   "cell_type": "code",
   "execution_count": null,
   "metadata": {
    "collapsed": true
   },
   "outputs": [],
   "source": [
    "nb_games_train, col = Data_X_train.shape\n",
    "nb_games_test, _ = Data_X_test.shape\n",
    "nb_features = int((col-1)/1440)\n",
    "\n",
    "tw = 240 # 4min\n",
    "nb_freq = 100 # 50 first features"
   ]
  },
  {
   "cell_type": "code",
   "execution_count": null,
   "metadata": {
    "collapsed": true
   },
   "outputs": [],
   "source": [
    "def create_wavelet_features(wav_type, data_X_train, features, nb_freq, tw) :\n",
    "    X_DWT = []\n",
    "    for feat in features :\n",
    "        filter_col = [col for col in Data_X_train if col.startswith(feat)]\n",
    "        for i in range(int(1440/tw)) :        \n",
    "            X_feat = data_X_train[filter_col].as_matrix()[:,i*tw:(i+1)*tw]\n",
    "            cA, cD = pywt.dwt(X_feat, wav_type)\n",
    "            X_DWT.append(cA[:,:nb_freq])\n",
    "            X_DWT.append(cD[:,:nb_freq])\n",
    "    X_wt = np.hstack(X_DWT)   \n",
    "    return X_wt"
   ]
  },
  {
   "cell_type": "code",
   "execution_count": null,
   "metadata": {
    "collapsed": true
   },
   "outputs": [],
   "source": [
    "features = ['total rebound', 'fied goals', 'total foul', 'three points','free throws', 'miss', 'score', 'assist', 'diff points',\n",
    "            'offensive rebound', 'defensive rebound', 'offensive foul', 'defensive foul','lost ball', 'steals', 'bad pass', 'block']\n",
    "X_wt = create_wavelet_features('db1', Data_X_train, features, nb_freq, tw)"
   ]
  },
  {
   "cell_type": "code",
   "execution_count": null,
   "metadata": {
    "collapsed": true
   },
   "outputs": [],
   "source": [
    "X_seq = X.reshape((nb_games, nb_features, 10, -1), order = 'F')\n",
    "X_seq = X_seq.mean(axis = 2)\n",
    "X_seq = X_seq.reshape(nb_games, nb_features*144)\n",
    "X_tot = np.concatenate((X_seq, X_wt), axis = 1)"
   ]
  },
  {
   "cell_type": "code",
   "execution_count": null,
   "metadata": {
    "collapsed": true
   },
   "outputs": [],
   "source": [
    "#Random forest\n",
    "parameters = {'n_estimators': 200, 'max_depth': None, 'max_features': 15, \n",
    "               'min_samples_split': 15, 'min_samples_leaf': 2, 'bootstrap': True, \n",
    "               'oob_score': True, 'criterion': 'entropy'}\n",
    "\n",
    "RandomForest = RandomForestClassifier(**parameters)\n"
   ]
  },
  {
   "cell_type": "code",
   "execution_count": null,
   "metadata": {
    "collapsed": true
   },
   "outputs": [],
   "source": [
    "RandomForest.fit(X_train_tot, Y_train.ravel())\n",
    "\n",
    "Y_pred_RandomForest = RandomForest.predict(X_test_tot)"
   ]
  },
  {
   "cell_type": "code",
   "execution_count": null,
   "metadata": {
    "collapsed": true
   },
   "outputs": [],
   "source": [
    "ID_test = Data_X_test.iloc[:,0].as_matrix()\n",
    "d = {'ID': ID_test, 'label': Y_pred_RandomForest}\n",
    "Results_test = pd.DataFrame(data=d)\n",
    "\n",
    "Results_test.to_csv('data/challenge_fichiers_de_sorties_de_test_challenge_nba/Wavelet_RandomForest_2203.csv',sep=';', index=False)"
   ]
  }
 ],
 "metadata": {
  "kernelspec": {
   "display_name": "Python 3",
   "language": "python",
   "name": "python3"
  },
  "language_info": {
   "codemirror_mode": {
    "name": "ipython",
    "version": 3
   },
   "file_extension": ".py",
   "mimetype": "text/x-python",
   "name": "python",
   "nbconvert_exporter": "python",
   "pygments_lexer": "ipython3",
   "version": "3.6.2"
  }
 },
 "nbformat": 4,
 "nbformat_minor": 2
}
