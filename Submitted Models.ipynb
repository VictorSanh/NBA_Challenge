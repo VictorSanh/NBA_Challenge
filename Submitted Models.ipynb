{
 "cells": [
  {
   "cell_type": "markdown",
   "metadata": {},
   "source": [
    "# Submitted Models"
   ]
  },
  {
   "cell_type": "code",
   "execution_count": null,
   "metadata": {},
   "outputs": [],
   "source": [
    "import numpy as np\n",
    "import pandas as pd\n",
    "import random\n",
    "from sklearn.cross_validation import cross_val_score\n",
    "from sklearn.linear_model import LogisticRegression\n",
    "from src.utils import preprocess\n",
    "random.seed(7)"
   ]
  },
  {
   "cell_type": "markdown",
   "metadata": {},
   "source": [
    "## Loading Data"
   ]
  },
  {
   "cell_type": "code",
   "execution_count": null,
   "metadata": {},
   "outputs": [],
   "source": [
    "# Open files\n",
    "Data_X_train = pd.read_csv('data/challenge_fichier_dentrees_dentrainement_challenge_nba/train.csv')\n",
    "Data_Y_train = pd.read_csv('data/challenge_fichier_de_sortie_dentrainement_challenge_nba.csv', sep=';')\n",
    "Data_X_test = pd.read_csv('data/challenge_fichiers_dentrees_de_test_challenge_nba/test.csv')"
   ]
  },
  {
   "cell_type": "markdown",
   "metadata": {},
   "source": [
    "**Data Preprocessing**"
   ]
  },
  {
   "cell_type": "code",
   "execution_count": null,
   "metadata": {},
   "outputs": [],
   "source": [
    "# X_train, Y_train, _, _ = preprocess(Data_X_train, Data_Y_train, portion_train=1)\n",
    "X_train = Data_X_train.as_matrix()[:,1:]\n",
    "X_test = Data_X_test.as_matrix()[:,1:]\n",
    "Y_train = Data_Y_train.as_matrix()[:,1:]"
   ]
  },
  {
   "cell_type": "markdown",
   "metadata": {},
   "source": [
    "## First model : Logistic Regression"
   ]
  },
  {
   "cell_type": "markdown",
   "metadata": {},
   "source": [
    "**Logistic Regression - 01/03 - Test score : 71.626%** <br>"
   ]
  },
  {
   "cell_type": "code",
   "execution_count": null,
   "metadata": {},
   "outputs": [],
   "source": [
    "c = 1e-5\n",
    "model_LogisticRegression = LogisticRegression(C=c)\n",
    "model_LogisticRegression.fit(X_train, Y_train)\n",
    "Y_test = model_LogisticRegression.predict(X_test)"
   ]
  },
  {
   "cell_type": "code",
   "execution_count": null,
   "metadata": {},
   "outputs": [],
   "source": [
    "ID_test = Data_X_test.iloc[:,0].as_matrix()\n",
    "d = {'ID': ID_test, 'label': Y_test}\n",
    "Results_test = pd.DataFrame(data=d)"
   ]
  },
  {
   "cell_type": "code",
   "execution_count": null,
   "metadata": {},
   "outputs": [],
   "source": [
    "# Write in file\n",
    "Results_test.to_csv('data/challenge_fichiers_de_sorties_de_test_challenge_nba/LogisticRegression_0103.csv',sep=';', index=False)"
   ]
  },
  {
   "cell_type": "markdown",
   "metadata": {},
   "source": [
    "## Second model: CNN\n",
    "\n",
    "**CNN on raw images - 01/03 - Test score : 72.20%**"
   ]
  },
  {
   "cell_type": "code",
   "execution_count": null,
   "metadata": {},
   "outputs": [],
   "source": [
    "from keras.utils import np_utils\n",
    "from keras.models import Sequential\n",
    "from keras.layers import Conv2D, BatchNormalization, Dropout, Flatten, Dense, LSTM\n",
    "from keras import losses"
   ]
  },
  {
   "cell_type": "code",
   "execution_count": null,
   "metadata": {},
   "outputs": [],
   "source": [
    "X_train_cnn = X_train.reshape((len(X_train), 11, 1440, 1), order = 'F')\n",
    "Y_train_cnn = np_utils.to_categorical(Y_train, 2)\n",
    "X_test_cnn = X_test.reshape((len(X_test), 11, 1440, 1), order = 'F')"
   ]
  },
  {
   "cell_type": "code",
   "execution_count": null,
   "metadata": {},
   "outputs": [],
   "source": [
    "conv_model = Sequential()\n",
    "conv_model.add(BatchNormalization(axis=1, \n",
    "                                  input_shape = (11, 1440, 1)))\n",
    "conv_model.add(Conv2D(filters = 16, \n",
    "                 kernel_size = (11, 10), \n",
    "                 activation = 'relu'))\n",
    "conv_model.add(Dropout(0.75))\n",
    "conv_model.add(Flatten())\n",
    "conv_model.add(Dense(units = 50, activation = 'relu'))\n",
    "conv_model.add(Dropout(0.5))\n",
    "conv_model.add(Dense(units = 2, \n",
    "                activation='softmax'))\n",
    "conv_model.compile(loss = losses.categorical_crossentropy,\n",
    "                     optimizer = 'adam',\n",
    "                     metrics = ['accuracy'])\n",
    "conv_model.fit(X_train_cnn, Y_train_cnn, epochs = 200, batch_size = 32, verbose = False)\n",
    "Y_test_cnn = conv_model.predict(X_test_cnn)"
   ]
  },
  {
   "cell_type": "code",
   "execution_count": null,
   "metadata": {},
   "outputs": [],
   "source": [
    "Y_test = np.argmax(Y_test_cnn, axis = 1)\n",
    "\n",
    "ID_test = Data_X_test.iloc[:,0].as_matrix()\n",
    "d = {'ID': ID_test, 'label': Y_test}\n",
    "Results_test = pd.DataFrame(data=d)\n",
    "\n",
    "Results_test.to_csv('data/challenge_fichiers_de_sorties_de_test_challenge_nba/CNN_0103.csv',sep=';', index=False)"
   ]
  },
  {
   "cell_type": "markdown",
   "metadata": {},
   "source": [
    "# Third model: LSTM\n",
    "**4 main features - 05/03 - Test score: 68.81%**"
   ]
  },
  {
   "cell_type": "code",
   "execution_count": null,
   "metadata": {},
   "outputs": [],
   "source": [
    "X_train, Y_train, _, _ = preprocess(Data_X_train, Data_Y_train, portion_train=1, main_feature = True)\n",
    "\n",
    "X_train_seq_10 = X_train.reshape((len(X_train), 4, 10, -1), order = 'F')\n",
    "X_train_seq_10 = X_train_seq_10.mean(axis = 2)"
   ]
  },
  {
   "cell_type": "code",
   "execution_count": null,
   "metadata": {},
   "outputs": [],
   "source": [
    "X_test = extract_main_features(Data_X_test)"
   ]
  },
  {
   "cell_type": "code",
   "execution_count": null,
   "metadata": {},
   "outputs": [],
   "source": [
    "X_test_seq_10 = X_test.reshape((len(X_test), 4, 10, -1), order = 'F')\n",
    "X_test_seq_10 = X_test_seq_10.mean(axis = 2)"
   ]
  },
  {
   "cell_type": "code",
   "execution_count": null,
   "metadata": {},
   "outputs": [],
   "source": [
    "Y_train = np_utils.to_categorical(Y_train, 2)"
   ]
  },
  {
   "cell_type": "code",
   "execution_count": null,
   "metadata": {},
   "outputs": [],
   "source": [
    "lstm_model = Sequential()\n",
    "lstm_model.add(LSTM(75, input_shape = (4, 144), dropout = 0.5))\n",
    "lstm_model.add(Dense(units = 10,\n",
    "                     activation = 'relu'))\n",
    "lstm_model.add(Dropout(0.5))\n",
    "lstm_model.add(Dense(units = 2, \n",
    "                activation='softmax'))\n",
    "\n",
    "#Construct Loss\n",
    "lstm_model.compile(loss = losses.categorical_crossentropy,\n",
    "                     optimizer = 'adam',\n",
    "                     metrics = ['accuracy'])\n",
    "\n",
    "#Train\n",
    "training = lstm_model.fit(X_train_seq_10, Y_train, epochs = 200, batch_size = 32, verbose = False)\n",
    "\n",
    "lstm_model.save('models/lstm_seq_10_4_main_features.h5')"
   ]
  },
  {
   "cell_type": "code",
   "execution_count": null,
   "metadata": {},
   "outputs": [],
   "source": [
    "Y_test = lstm_model.predict(X_test_seq_10)\n",
    "Y_test = np.argmax(Y_test, axis = 1)\n",
    "\n",
    "ID_test = Data_X_test.iloc[:,0].as_matrix()\n",
    "d = {'ID': ID_test, 'label': Y_test}\n",
    "Results_test = pd.DataFrame(data=d)\n",
    "\n",
    "Results_test.to_csv('data/challenge_fichiers_de_sorties_de_test_challenge_nba/LSTM_0503.csv',sep=';', index=False)"
   ]
  },
  {
   "cell_type": "markdown",
   "metadata": {},
   "source": [
    "# Fourth Model: CNN\n",
    "**CNN on raw images - 06/03 - Test score: 71.38%**"
   ]
  },
  {
   "cell_type": "code",
   "execution_count": null,
   "metadata": {},
   "outputs": [],
   "source": [
    "X_train_cnn = X_train.reshape((len(X_train), 11, 1440, 1), order = 'F')\n",
    "Y_train_cnn = np_utils.to_categorical(Y_train, 2)\n",
    "X_test_cnn = X_test.reshape((len(X_test), 11, 1440, 1), order = 'F')"
   ]
  },
  {
   "cell_type": "code",
   "execution_count": null,
   "metadata": {},
   "outputs": [],
   "source": [
    "Y_train = np_utils.to_categorical(Y_train, 2)"
   ]
  },
  {
   "cell_type": "code",
   "execution_count": null,
   "metadata": {
    "scrolled": true
   },
   "outputs": [],
   "source": [
    "conv_model = Sequential()\n",
    "conv_model.add(BatchNormalization(axis=1, \n",
    "                                  input_shape = (11, 1440, 1)))\n",
    "conv_model.add(Conv2D(filters = 32, \n",
    "                 kernel_size = (11, 10), \n",
    "                 activation = 'relu',\n",
    "                 strides = (1, 2)))\n",
    "conv_model.add(Dropout(0.5))\n",
    "conv_model.add(Flatten())\n",
    "conv_model.add(Dense(units = 50, \n",
    "                     activation = 'relu'))\n",
    "conv_model.add(Dropout(0.5))\n",
    "conv_model.add(Dense(units = 2, \n",
    "                activation='softmax'))\n",
    "\n",
    "#Construct Loss\n",
    "conv_model.compile(loss = losses.categorical_crossentropy,\n",
    "                     optimizer = 'adam',\n",
    "                     metrics = ['accuracy'])\n",
    "\n",
    "#Train\n",
    "training = conv_model.fit(X_train_cnn, Y_train, epochs = 200, batch_size = 32, verbose = False)\n",
    "conv_model.save('models/cnn_7.h5')"
   ]
  },
  {
   "cell_type": "code",
   "execution_count": null,
   "metadata": {},
   "outputs": [],
   "source": [
    "Y_test = conv_model.predict(X_test_cnn)\n",
    "Y_test = np.argmax(Y_test, axis = 1)\n",
    "\n",
    "ID_test = Data_X_test.iloc[:,0].as_matrix()\n",
    "d = {'ID': ID_test, 'label': Y_test}\n",
    "Results_test = pd.DataFrame(data=d)\n",
    "\n",
    "Results_test.to_csv('data/challenge_fichiers_de_sorties_de_test_challenge_nba/CNN_0603.csv',sep=';', index=False)"
   ]
  },
  {
   "cell_type": "markdown",
   "metadata": {},
   "source": [
    "# Fifth model: CNN\n",
    "**CNN on raw images full features - 07/03 - Test score: 71.44%**"
   ]
  },
  {
   "cell_type": "code",
   "execution_count": null,
   "metadata": {},
   "outputs": [],
   "source": [
    "X_train_cnn = X_train.reshape((len(X_train), 11, 1440, 1), order = 'F')\n",
    "Y_train_cnn = np_utils.to_categorical(Y_train, 2)\n",
    "X_test_cnn = X_test.reshape((len(X_test), 11, 1440, 1), order = 'F')\n",
    "\n",
    "Y_train = np_utils.to_categorical(Y_train, 2)"
   ]
  },
  {
   "cell_type": "code",
   "execution_count": null,
   "metadata": {},
   "outputs": [],
   "source": [
    "conv_model = Sequential()\n",
    "conv_model.add(BatchNormalization(axis=1, \n",
    "                                  input_shape = (11, 1440, 1)))\n",
    "conv_model.add(Conv2D(filters = 16, \n",
    "                 kernel_size = (11, 10), \n",
    "                 activation = 'relu',\n",
    "                 strides = (1, 10)))\n",
    "conv_model.add(Dropout(0.75))\n",
    "conv_model.add(Flatten())\n",
    "conv_model.add(Dense(units = 50, \n",
    "                     activation = 'relu'))\n",
    "conv_model.add(Dropout(0.5))\n",
    "conv_model.add(Dense(units = 2, \n",
    "                activation='softmax'))\n",
    "\n",
    "#Construct Loss\n",
    "conv_model.compile(loss = losses.categorical_crossentropy,\n",
    "                     optimizer = 'adam',\n",
    "                     metrics = ['accuracy'])\n",
    "\n",
    "#Train\n",
    "training = conv_model.fit(X_train_cnn, Y_train, epochs = 200, batch_size = 32, verbose = False)\n",
    "conv_model.save('models/cnn_8.h5')"
   ]
  },
  {
   "cell_type": "code",
   "execution_count": null,
   "metadata": {},
   "outputs": [],
   "source": [
    "Y_test = conv_model.predict(X_test_cnn)\n",
    "Y_test = np.argmax(Y_test, axis = 1)\n",
    "\n",
    "ID_test = Data_X_test.iloc[:,0].as_matrix()\n",
    "d = {'ID': ID_test, 'label': Y_test}\n",
    "Results_test = pd.DataFrame(data=d)\n",
    "\n",
    "Results_test.to_csv('data/challenge_fichiers_de_sorties_de_test_challenge_nba/CNN_0703.csv',sep=';', index=False)"
   ]
  },
  {
   "cell_type": "markdown",
   "metadata": {},
   "source": [
    "# Sixth model: CNN features + Logistic Regression\n",
    "**Extract last layers features from CNN and apply logistic regression classifier- 07/03 - Test score: 72.19%**"
   ]
  },
  {
   "cell_type": "code",
   "execution_count": null,
   "metadata": {},
   "outputs": [],
   "source": [
    "from keras import backend as K\n",
    "from keras.models import load_model"
   ]
  },
  {
   "cell_type": "code",
   "execution_count": null,
   "metadata": {},
   "outputs": [],
   "source": [
    "cnn_model = load_model('models/cnn_8.h5')"
   ]
  },
  {
   "cell_type": "code",
   "execution_count": null,
   "metadata": {},
   "outputs": [],
   "source": [
    "X_train_cnn = X_train.reshape((len(X_train), 11, 1440, 1), order = 'F')\n",
    "X_test_cnn = X_test.reshape((len(X_test), 11, 1440, 1), order = 'F')"
   ]
  },
  {
   "cell_type": "code",
   "execution_count": null,
   "metadata": {},
   "outputs": [],
   "source": [
    "extract_cnn_features = K.function([cnn_model.layers[0].input, K.learning_phase()],\n",
    "                                [cnn_model.layers[5].output])"
   ]
  },
  {
   "cell_type": "code",
   "execution_count": null,
   "metadata": {},
   "outputs": [],
   "source": [
    "X_train_cnn_features = extract_cnn_features([X_train_cnn, 0])[0]"
   ]
  },
  {
   "cell_type": "code",
   "execution_count": null,
   "metadata": {},
   "outputs": [],
   "source": [
    "X_test_cnn_features = extract_cnn_features([X_test_cnn, 0])[0]"
   ]
  },
  {
   "cell_type": "code",
   "execution_count": null,
   "metadata": {},
   "outputs": [],
   "source": [
    "cnn_lg = LogisticRegression()\n",
    "cnn_lg.fit(X_train_cnn_features, Y_train)\n",
    "Y_test = cnn_lg.predict(X_test_cnn_features)"
   ]
  },
  {
   "cell_type": "code",
   "execution_count": null,
   "metadata": {},
   "outputs": [],
   "source": [
    "Y_test.shape"
   ]
  },
  {
   "cell_type": "code",
   "execution_count": null,
   "metadata": {},
   "outputs": [],
   "source": [
    "ID_test = Data_X_test.iloc[:,0].as_matrix()\n",
    "d = {'ID': ID_test, 'label': Y_test}\n",
    "Results_test = pd.DataFrame(data=d)\n",
    "\n",
    "Results_test.to_csv('data/challenge_fichiers_de_sorties_de_test_challenge_nba/CNN_logreg_0703.csv',sep=';', index=False)"
   ]
  },
  {
   "cell_type": "code",
   "execution_count": null,
   "metadata": {},
   "outputs": [],
   "source": []
  }
 ],
 "metadata": {
  "kernelspec": {
   "display_name": "Python 3",
   "language": "python",
   "name": "python3"
  },
  "language_info": {
   "codemirror_mode": {
    "name": "ipython",
    "version": 3
   },
   "file_extension": ".py",
   "mimetype": "text/x-python",
   "name": "python",
   "nbconvert_exporter": "python",
   "pygments_lexer": "ipython3",
   "version": "3.5.2"
  }
 },
 "nbformat": 4,
 "nbformat_minor": 2
}
