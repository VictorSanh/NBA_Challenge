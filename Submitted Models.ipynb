{
 "cells": [
  {
   "cell_type": "markdown",
   "metadata": {},
   "source": [
    "# Submitted Models"
   ]
  },
  {
   "cell_type": "code",
   "execution_count": 1,
   "metadata": {},
   "outputs": [
    {
     "name": "stderr",
     "output_type": "stream",
     "text": [
      "/usr/local/lib/python3.5/dist-packages/sklearn/cross_validation.py:41: DeprecationWarning: This module was deprecated in version 0.18 in favor of the model_selection module into which all the refactored classes and functions are moved. Also note that the interface of the new CV iterators are different from that of this module. This module will be removed in 0.20.\n",
      "  \"This module will be removed in 0.20.\", DeprecationWarning)\n"
     ]
    }
   ],
   "source": [
    "import numpy as np\n",
    "import pandas as pd\n",
    "import random\n",
    "from sklearn.cross_validation import cross_val_score\n",
    "from sklearn.linear_model import LogisticRegression\n",
    "from src.utils import preprocess\n",
    "random.seed(7)"
   ]
  },
  {
   "cell_type": "markdown",
   "metadata": {},
   "source": [
    "## Loading Data"
   ]
  },
  {
   "cell_type": "code",
   "execution_count": 2,
   "metadata": {},
   "outputs": [],
   "source": [
    "# Open files\n",
    "Data_X_train = pd.read_csv('data/challenge_fichier_dentrees_dentrainement_challenge_nba/train.csv')\n",
    "Data_Y_train = pd.read_csv('data/challenge_fichier_de_sortie_dentrainement_challenge_nba.csv', sep=';')\n",
    "Data_X_test = pd.read_csv('data/challenge_fichiers_dentrees_de_test_challenge_nba/test.csv')"
   ]
  },
  {
   "cell_type": "markdown",
   "metadata": {},
   "source": [
    "**Data Preprocessing**"
   ]
  },
  {
   "cell_type": "code",
   "execution_count": 4,
   "metadata": {},
   "outputs": [],
   "source": [
    "X_train, Y_train, _, _ = preprocess(Data_X_train, Data_Y_train, portion_train=1)\n",
    "X_test = Data_X_test.as_matrix()[:,1:]"
   ]
  },
  {
   "cell_type": "markdown",
   "metadata": {},
   "source": [
    "## First model : Logistic Regression"
   ]
  },
  {
   "cell_type": "markdown",
   "metadata": {},
   "source": [
    "**Logistic Regression - 01/03 - Test score : 71.626%** <br>"
   ]
  },
  {
   "cell_type": "code",
   "execution_count": 8,
   "metadata": {},
   "outputs": [],
   "source": [
    "c = 1e-5\n",
    "model_LogisticRegression = LogisticRegression(C=c)\n",
    "model_LogisticRegression.fit(X_train, Y_train)\n",
    "Y_test = model_LogisticRegression.predict(X_test)"
   ]
  },
  {
   "cell_type": "code",
   "execution_count": 43,
   "metadata": {},
   "outputs": [],
   "source": [
    "ID_test = Data_X_test.iloc[:,0].as_matrix()\n",
    "d = {'ID': ID_test, 'label': Y_test}\n",
    "Results_test = pd.DataFrame(data=d)"
   ]
  },
  {
   "cell_type": "code",
   "execution_count": 53,
   "metadata": {},
   "outputs": [],
   "source": [
    "# Write in file\n",
    "Results_test.to_csv('data/challenge_fichiers_de_sorties_de_test_challenge_nba/LogisticRegression_0103.csv',sep=';', index=False)"
   ]
  },
  {
   "cell_type": "markdown",
   "metadata": {},
   "source": [
    "## Second model: CNN\n",
    "\n",
    "**CNN on raw images - 01/03 - Test score : 72.20%**"
   ]
  },
  {
   "cell_type": "code",
   "execution_count": 5,
   "metadata": {},
   "outputs": [
    {
     "name": "stderr",
     "output_type": "stream",
     "text": [
      "/usr/local/lib/python3.5/dist-packages/h5py/__init__.py:36: FutureWarning: Conversion of the second argument of issubdtype from `float` to `np.floating` is deprecated. In future, it will be treated as `np.float64 == np.dtype(float).type`.\n",
      "  from ._conv import register_converters as _register_converters\n",
      "Using TensorFlow backend.\n"
     ]
    }
   ],
   "source": [
    "from keras.utils import np_utils\n",
    "from keras.models import Sequential\n",
    "from keras.layers import Conv2D, BatchNormalization, Dropout, Flatten, Dense, LSTM\n",
    "from keras import losses"
   ]
  },
  {
   "cell_type": "code",
   "execution_count": 6,
   "metadata": {},
   "outputs": [],
   "source": [
    "X_train_cnn = X_train.reshape((len(X_train), 11, 1440, 1), order = 'F')\n",
    "Y_train_cnn = np_utils.to_categorical(Y_train, 2)\n",
    "X_test_cnn = X_test.reshape((len(X_test), 11, 1440, 1), order = 'F')"
   ]
  },
  {
   "cell_type": "code",
   "execution_count": 9,
   "metadata": {},
   "outputs": [],
   "source": [
    "conv_model = Sequential()\n",
    "conv_model.add(BatchNormalization(axis=1, \n",
    "                                  input_shape = (11, 1440, 1)))\n",
    "conv_model.add(Conv2D(filters = 16, \n",
    "                 kernel_size = (11, 10), \n",
    "                 activation = 'relu'))\n",
    "conv_model.add(Dropout(0.75))\n",
    "conv_model.add(Flatten())\n",
    "conv_model.add(Dense(units = 50, activation = 'relu'))\n",
    "conv_model.add(Dropout(0.5))\n",
    "conv_model.add(Dense(units = 2, \n",
    "                activation='softmax'))\n",
    "conv_model.compile(loss = losses.categorical_crossentropy,\n",
    "                     optimizer = 'adam',\n",
    "                     metrics = ['accuracy'])\n",
    "conv_model.fit(X_train_cnn, Y_train_cnn, epochs = 200, batch_size = 32, verbose = False)\n",
    "Y_test_cnn = conv_model.predict(X_test_cnn)"
   ]
  },
  {
   "cell_type": "code",
   "execution_count": 10,
   "metadata": {},
   "outputs": [],
   "source": [
    "Y_test = np.argmax(Y_test_cnn, axis = 1)\n",
    "\n",
    "ID_test = Data_X_test.iloc[:,0].as_matrix()\n",
    "d = {'ID': ID_test, 'label': Y_test}\n",
    "Results_test = pd.DataFrame(data=d)\n",
    "\n",
    "Results_test.to_csv('data/challenge_fichiers_de_sorties_de_test_challenge_nba/CNN_0103.csv',sep=';', index=False)"
   ]
  },
  {
   "cell_type": "markdown",
   "metadata": {},
   "source": [
    "# Third model: LSTM\n",
    "**4 main features - 05/03 - Test score: 68.81%**"
   ]
  },
  {
   "cell_type": "code",
   "execution_count": null,
   "metadata": {},
   "outputs": [],
   "source": [
    "X_train, Y_train, _, _ = preprocess(Data_X_train, Data_Y_train, portion_train=1, main_feature = True)\n",
    "\n",
    "X_train_seq_10 = X_train.reshape((len(X_train), 4, 10, -1), order = 'F')\n",
    "X_train_seq_10 = X_train_seq_10.mean(axis = 2)"
   ]
  },
  {
   "cell_type": "code",
   "execution_count": 27,
   "metadata": {},
   "outputs": [],
   "source": [
    "X_test = extract_main_features(Data_X_test)"
   ]
  },
  {
   "cell_type": "code",
   "execution_count": 28,
   "metadata": {},
   "outputs": [],
   "source": [
    "X_test_seq_10 = X_test.reshape((len(X_test), 4, 10, -1), order = 'F')\n",
    "X_test_seq_10 = X_test_seq_10.mean(axis = 2)"
   ]
  },
  {
   "cell_type": "code",
   "execution_count": 12,
   "metadata": {},
   "outputs": [],
   "source": [
    "Y_train = np_utils.to_categorical(Y_train, 2)"
   ]
  },
  {
   "cell_type": "code",
   "execution_count": 14,
   "metadata": {},
   "outputs": [],
   "source": [
    "lstm_model = Sequential()\n",
    "lstm_model.add(LSTM(75, input_shape = (4, 144), dropout = 0.5))\n",
    "lstm_model.add(Dense(units = 10,\n",
    "                     activation = 'relu'))\n",
    "lstm_model.add(Dropout(0.5))\n",
    "lstm_model.add(Dense(units = 2, \n",
    "                activation='softmax'))\n",
    "\n",
    "#Construct Loss\n",
    "lstm_model.compile(loss = losses.categorical_crossentropy,\n",
    "                     optimizer = 'adam',\n",
    "                     metrics = ['accuracy'])\n",
    "\n",
    "#Train\n",
    "training = lstm_model.fit(X_train_seq_10, Y_train, epochs = 200, batch_size = 32, verbose = False)\n",
    "\n",
    "lstm_model.save('models/lstm_seq_10_4_main_features.h5')"
   ]
  },
  {
   "cell_type": "code",
   "execution_count": 31,
   "metadata": {},
   "outputs": [],
   "source": [
    "Y_test = lstm_model.predict(X_test_seq_10)\n",
    "Y_test = np.argmax(Y_test, axis = 1)\n",
    "\n",
    "ID_test = Data_X_test.iloc[:,0].as_matrix()\n",
    "d = {'ID': ID_test, 'label': Y_test}\n",
    "Results_test = pd.DataFrame(data=d)\n",
    "\n",
    "Results_test.to_csv('data/challenge_fichiers_de_sorties_de_test_challenge_nba/LSTM_0503.csv',sep=';', index=False)"
   ]
  },
  {
   "cell_type": "markdown",
   "metadata": {},
   "source": [
    "# Fourth Model: CNN\n",
    "**CNN on raw images - 06/03 - Test score: 71.38%**"
   ]
  },
  {
   "cell_type": "code",
   "execution_count": 6,
   "metadata": {},
   "outputs": [],
   "source": [
    "X_train_cnn = X_train.reshape((len(X_train), 11, 1440, 1), order = 'F')\n",
    "Y_train_cnn = np_utils.to_categorical(Y_train, 2)\n",
    "X_test_cnn = X_test.reshape((len(X_test), 11, 1440, 1), order = 'F')"
   ]
  },
  {
   "cell_type": "code",
   "execution_count": 7,
   "metadata": {},
   "outputs": [],
   "source": [
    "Y_train = np_utils.to_categorical(Y_train, 2)"
   ]
  },
  {
   "cell_type": "code",
   "execution_count": 9,
   "metadata": {
    "scrolled": true
   },
   "outputs": [],
   "source": [
    "conv_model = Sequential()\n",
    "conv_model.add(BatchNormalization(axis=1, \n",
    "                                  input_shape = (11, 1440, 1)))\n",
    "conv_model.add(Conv2D(filters = 32, \n",
    "                 kernel_size = (11, 10), \n",
    "                 activation = 'relu',\n",
    "                 strides = (1, 2)))\n",
    "conv_model.add(Dropout(0.5))\n",
    "conv_model.add(Flatten())\n",
    "conv_model.add(Dense(units = 50, \n",
    "                     activation = 'relu'))\n",
    "conv_model.add(Dropout(0.5))\n",
    "conv_model.add(Dense(units = 2, \n",
    "                activation='softmax'))\n",
    "\n",
    "#Construct Loss\n",
    "conv_model.compile(loss = losses.categorical_crossentropy,\n",
    "                     optimizer = 'adam',\n",
    "                     metrics = ['accuracy'])\n",
    "\n",
    "#Train\n",
    "training = conv_model.fit(X_train_cnn, Y_train, epochs = 200, batch_size = 32, verbose = False)\n",
    "conv_model.save('models/cnn_7.h5')"
   ]
  },
  {
   "cell_type": "code",
   "execution_count": 12,
   "metadata": {},
   "outputs": [],
   "source": [
    "Y_test = conv_model.predict(X_test_cnn)\n",
    "Y_test = np.argmax(Y_test, axis = 1)\n",
    "\n",
    "ID_test = Data_X_test.iloc[:,0].as_matrix()\n",
    "d = {'ID': ID_test, 'label': Y_test}\n",
    "Results_test = pd.DataFrame(data=d)\n",
    "\n",
    "Results_test.to_csv('data/challenge_fichiers_de_sorties_de_test_challenge_nba/CNN_0603.csv',sep=';', index=False)"
   ]
  },
  {
   "cell_type": "code",
   "execution_count": null,
   "metadata": {},
   "outputs": [],
   "source": []
  }
 ],
 "metadata": {
  "kernelspec": {
   "display_name": "Python 3",
   "language": "python",
   "name": "python3"
  },
  "language_info": {
   "codemirror_mode": {
    "name": "ipython",
    "version": 3
   },
   "file_extension": ".py",
   "mimetype": "text/x-python",
   "name": "python",
   "nbconvert_exporter": "python",
   "pygments_lexer": "ipython3",
   "version": "3.5.2"
  }
 },
 "nbformat": 4,
 "nbformat_minor": 2
}
