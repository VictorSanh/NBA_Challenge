{
 "cells": [
  {
   "cell_type": "markdown",
   "metadata": {},
   "source": [
    "# Submitted Models"
   ]
  },
  {
   "cell_type": "code",
   "execution_count": 1,
   "metadata": {
    "collapsed": true
   },
   "outputs": [],
   "source": [
    "import numpy as np\n",
    "import pandas as pd\n",
    "import random\n",
    "from sklearn.linear_model import LogisticRegression\n",
    "from src.utils import preprocess, feature_engineering\n",
    "random.seed(7)"
   ]
  },
  {
   "cell_type": "markdown",
   "metadata": {},
   "source": [
    "## Loading Data"
   ]
  },
  {
   "cell_type": "code",
   "execution_count": 2,
   "metadata": {},
   "outputs": [],
   "source": [
    "# Open files\n",
    "Data_X_train = pd.read_csv('data/challenge_fichier_dentrees_dentrainement_challenge_nba/train.csv')\n",
    "Data_Y_train = pd.read_csv('data/challenge_fichier_de_sortie_dentrainement_challenge_nba.csv', sep=';')\n",
    "Data_X_test = pd.read_csv('data/challenge_fichiers_dentrees_de_test_challenge_nba/test.csv')"
   ]
  },
  {
   "cell_type": "markdown",
   "metadata": {},
   "source": [
    "**Data Preprocessing**"
   ]
  },
  {
   "cell_type": "code",
   "execution_count": null,
   "metadata": {
    "collapsed": true
   },
   "outputs": [],
   "source": [
    "# X_train, Y_train, _, _ = preprocess(Data_X_train, Data_Y_train, portion_train=1)\n",
    "X_train = Data_X_train.as_matrix()[:,1:]\n",
    "X_test = Data_X_test.as_matrix()[:,1:]\n",
    "Y_train = Data_Y_train.as_matrix()[:,1:]"
   ]
  },
  {
   "cell_type": "markdown",
   "metadata": {},
   "source": [
    "## First model : Logistic Regression"
   ]
  },
  {
   "cell_type": "markdown",
   "metadata": {},
   "source": [
    "**Logistic Regression - 01/03 - Test score : 71.626%** <br>"
   ]
  },
  {
   "cell_type": "code",
   "execution_count": null,
   "metadata": {
    "collapsed": true
   },
   "outputs": [],
   "source": [
    "c = 1e-5\n",
    "model_LogisticRegression = LogisticRegression(C=c)\n",
    "model_LogisticRegression.fit(X_train, Y_train)\n",
    "Y_test = model_LogisticRegression.predict(X_test)"
   ]
  },
  {
   "cell_type": "code",
   "execution_count": null,
   "metadata": {
    "collapsed": true
   },
   "outputs": [],
   "source": [
    "ID_test = Data_X_test.iloc[:,0].as_matrix()\n",
    "d = {'ID': ID_test, 'label': Y_test}\n",
    "Results_test = pd.DataFrame(data=d)"
   ]
  },
  {
   "cell_type": "code",
   "execution_count": null,
   "metadata": {
    "collapsed": true
   },
   "outputs": [],
   "source": [
    "# Write in file\n",
    "Results_test.to_csv('data/challenge_fichiers_de_sorties_de_test_challenge_nba/LogisticRegression_0103.csv',sep=';', index=False)"
   ]
  },
  {
   "cell_type": "markdown",
   "metadata": {},
   "source": [
    "## Second model: CNN\n",
    "\n",
    "**CNN on raw images - 01/03 - Test score : 72.20%**"
   ]
  },
  {
   "cell_type": "code",
   "execution_count": null,
   "metadata": {
    "collapsed": true
   },
   "outputs": [],
   "source": [
    "from keras.utils import np_utils\n",
    "from keras.models import Sequential\n",
    "from keras.layers import Conv2D, BatchNormalization, Dropout, Flatten, Dense, LSTM\n",
    "from keras import losses"
   ]
  },
  {
   "cell_type": "code",
   "execution_count": null,
   "metadata": {
    "collapsed": true
   },
   "outputs": [],
   "source": [
    "X_train_cnn = X_train.reshape((len(X_train), 11, 1440, 1), order = 'F')\n",
    "Y_train_cnn = np_utils.to_categorical(Y_train, 2)\n",
    "X_test_cnn = X_test.reshape((len(X_test), 11, 1440, 1), order = 'F')"
   ]
  },
  {
   "cell_type": "code",
   "execution_count": null,
   "metadata": {
    "collapsed": true
   },
   "outputs": [],
   "source": [
    "conv_model = Sequential()\n",
    "conv_model.add(BatchNormalization(axis=1, \n",
    "                                  input_shape = (11, 1440, 1)))\n",
    "conv_model.add(Conv2D(filters = 16, \n",
    "                 kernel_size = (11, 10), \n",
    "                 activation = 'relu'))\n",
    "conv_model.add(Dropout(0.75))\n",
    "conv_model.add(Flatten())\n",
    "conv_model.add(Dense(units = 50, activation = 'relu'))\n",
    "conv_model.add(Dropout(0.5))\n",
    "conv_model.add(Dense(units = 2, \n",
    "                activation='softmax'))\n",
    "conv_model.compile(loss = losses.categorical_crossentropy,\n",
    "                     optimizer = 'adam',\n",
    "                     metrics = ['accuracy'])\n",
    "conv_model.fit(X_train_cnn, Y_train_cnn, epochs = 200, batch_size = 32, verbose = False)\n",
    "Y_test_cnn = conv_model.predict(X_test_cnn)"
   ]
  },
  {
   "cell_type": "code",
   "execution_count": null,
   "metadata": {
    "collapsed": true
   },
   "outputs": [],
   "source": [
    "Y_test = np.argmax(Y_test_cnn, axis = 1)\n",
    "\n",
    "ID_test = Data_X_test.iloc[:,0].as_matrix()\n",
    "d = {'ID': ID_test, 'label': Y_test}\n",
    "Results_test = pd.DataFrame(data=d)\n",
    "\n",
    "Results_test.to_csv('data/challenge_fichiers_de_sorties_de_test_challenge_nba/CNN_0103.csv',sep=';', index=False)"
   ]
  },
  {
   "cell_type": "markdown",
   "metadata": {},
   "source": [
    "# Third model: LSTM\n",
    "**4 main features - 05/03 - Test score: 68.81%**"
   ]
  },
  {
   "cell_type": "code",
   "execution_count": null,
   "metadata": {
    "collapsed": true
   },
   "outputs": [],
   "source": [
    "X_train, Y_train, _, _ = preprocess(Data_X_train, Data_Y_train, portion_train=1, main_feature = True)\n",
    "\n",
    "X_train_seq_10 = X_train.reshape((len(X_train), 4, 10, -1), order = 'F')\n",
    "X_train_seq_10 = X_train_seq_10.mean(axis = 2)"
   ]
  },
  {
   "cell_type": "code",
   "execution_count": null,
   "metadata": {
    "collapsed": true
   },
   "outputs": [],
   "source": [
    "X_test = extract_main_features(Data_X_test)"
   ]
  },
  {
   "cell_type": "code",
   "execution_count": null,
   "metadata": {
    "collapsed": true
   },
   "outputs": [],
   "source": [
    "X_test_seq_10 = X_test.reshape((len(X_test), 4, 10, -1), order = 'F')\n",
    "X_test_seq_10 = X_test_seq_10.mean(axis = 2)"
   ]
  },
  {
   "cell_type": "code",
   "execution_count": null,
   "metadata": {
    "collapsed": true
   },
   "outputs": [],
   "source": [
    "Y_train = np_utils.to_categorical(Y_train, 2)"
   ]
  },
  {
   "cell_type": "code",
   "execution_count": null,
   "metadata": {
    "collapsed": true
   },
   "outputs": [],
   "source": [
    "lstm_model = Sequential()\n",
    "lstm_model.add(LSTM(75, input_shape = (4, 144), dropout = 0.5))\n",
    "lstm_model.add(Dense(units = 10,\n",
    "                     activation = 'relu'))\n",
    "lstm_model.add(Dropout(0.5))\n",
    "lstm_model.add(Dense(units = 2, \n",
    "                activation='softmax'))\n",
    "\n",
    "#Construct Loss\n",
    "lstm_model.compile(loss = losses.categorical_crossentropy,\n",
    "                     optimizer = 'adam',\n",
    "                     metrics = ['accuracy'])\n",
    "\n",
    "#Train\n",
    "training = lstm_model.fit(X_train_seq_10, Y_train, epochs = 200, batch_size = 32, verbose = False)\n",
    "\n",
    "lstm_model.save('models/lstm_seq_10_4_main_features.h5')"
   ]
  },
  {
   "cell_type": "code",
   "execution_count": null,
   "metadata": {
    "collapsed": true
   },
   "outputs": [],
   "source": [
    "Y_test = lstm_model.predict(X_test_seq_10)\n",
    "Y_test = np.argmax(Y_test, axis = 1)\n",
    "\n",
    "ID_test = Data_X_test.iloc[:,0].as_matrix()\n",
    "d = {'ID': ID_test, 'label': Y_test}\n",
    "Results_test = pd.DataFrame(data=d)\n",
    "\n",
    "Results_test.to_csv('data/challenge_fichiers_de_sorties_de_test_challenge_nba/LSTM_0503.csv',sep=';', index=False)"
   ]
  },
  {
   "cell_type": "markdown",
   "metadata": {},
   "source": [
    "# Fourth Model: CNN\n",
    "**CNN on raw images - 06/03 - Test score: 71.38%**"
   ]
  },
  {
   "cell_type": "code",
   "execution_count": null,
   "metadata": {
    "collapsed": true
   },
   "outputs": [],
   "source": [
    "X_train_cnn = X_train.reshape((len(X_train), 11, 1440, 1), order = 'F')\n",
    "Y_train_cnn = np_utils.to_categorical(Y_train, 2)\n",
    "X_test_cnn = X_test.reshape((len(X_test), 11, 1440, 1), order = 'F')"
   ]
  },
  {
   "cell_type": "code",
   "execution_count": null,
   "metadata": {
    "collapsed": true
   },
   "outputs": [],
   "source": [
    "Y_train = np_utils.to_categorical(Y_train, 2)"
   ]
  },
  {
   "cell_type": "code",
   "execution_count": null,
   "metadata": {
    "collapsed": true,
    "scrolled": true
   },
   "outputs": [],
   "source": [
    "conv_model = Sequential()\n",
    "conv_model.add(BatchNormalization(axis=1, \n",
    "                                  input_shape = (11, 1440, 1)))\n",
    "conv_model.add(Conv2D(filters = 32, \n",
    "                 kernel_size = (11, 10), \n",
    "                 activation = 'relu',\n",
    "                 strides = (1, 2)))\n",
    "conv_model.add(Dropout(0.5))\n",
    "conv_model.add(Flatten())\n",
    "conv_model.add(Dense(units = 50, \n",
    "                     activation = 'relu'))\n",
    "conv_model.add(Dropout(0.5))\n",
    "conv_model.add(Dense(units = 2, \n",
    "                activation='softmax'))\n",
    "\n",
    "#Construct Loss\n",
    "conv_model.compile(loss = losses.categorical_crossentropy,\n",
    "                     optimizer = 'adam',\n",
    "                     metrics = ['accuracy'])\n",
    "\n",
    "#Train\n",
    "training = conv_model.fit(X_train_cnn, Y_train, epochs = 200, batch_size = 32, verbose = False)\n",
    "conv_model.save('models/cnn_7.h5')"
   ]
  },
  {
   "cell_type": "code",
   "execution_count": null,
   "metadata": {
    "collapsed": true
   },
   "outputs": [],
   "source": [
    "Y_test = conv_model.predict(X_test_cnn)\n",
    "Y_test = np.argmax(Y_test, axis = 1)\n",
    "\n",
    "ID_test = Data_X_test.iloc[:,0].as_matrix()\n",
    "d = {'ID': ID_test, 'label': Y_test}\n",
    "Results_test = pd.DataFrame(data=d)\n",
    "\n",
    "Results_test.to_csv('data/challenge_fichiers_de_sorties_de_test_challenge_nba/CNN_0603.csv',sep=';', index=False)"
   ]
  },
  {
   "cell_type": "markdown",
   "metadata": {},
   "source": [
    "# Fifth model: CNN\n",
    "**CNN on raw images full features - 07/03 - Test score: 71.44%**"
   ]
  },
  {
   "cell_type": "code",
   "execution_count": null,
   "metadata": {
    "collapsed": true
   },
   "outputs": [],
   "source": [
    "X_train_cnn = X_train.reshape((len(X_train), 11, 1440, 1), order = 'F')\n",
    "Y_train_cnn = np_utils.to_categorical(Y_train, 2)\n",
    "X_test_cnn = X_test.reshape((len(X_test), 11, 1440, 1), order = 'F')\n",
    "\n",
    "Y_train = np_utils.to_categorical(Y_train, 2)"
   ]
  },
  {
   "cell_type": "code",
   "execution_count": null,
   "metadata": {
    "collapsed": true
   },
   "outputs": [],
   "source": [
    "conv_model = Sequential()\n",
    "conv_model.add(BatchNormalization(axis=1, \n",
    "                                  input_shape = (11, 1440, 1)))\n",
    "conv_model.add(Conv2D(filters = 16, \n",
    "                 kernel_size = (11, 10), \n",
    "                 activation = 'relu',\n",
    "                 strides = (1, 10)))\n",
    "conv_model.add(Dropout(0.75))\n",
    "conv_model.add(Flatten())\n",
    "conv_model.add(Dense(units = 50, \n",
    "                     activation = 'relu'))\n",
    "conv_model.add(Dropout(0.5))\n",
    "conv_model.add(Dense(units = 2, \n",
    "                activation='softmax'))\n",
    "\n",
    "#Construct Loss\n",
    "conv_model.compile(loss = losses.categorical_crossentropy,\n",
    "                     optimizer = 'adam',\n",
    "                     metrics = ['accuracy'])\n",
    "\n",
    "#Train\n",
    "training = conv_model.fit(X_train_cnn, Y_train, epochs = 200, batch_size = 32, verbose = False)\n",
    "conv_model.save('models/cnn_8.h5')"
   ]
  },
  {
   "cell_type": "code",
   "execution_count": null,
   "metadata": {
    "collapsed": true
   },
   "outputs": [],
   "source": [
    "Y_test = conv_model.predict(X_test_cnn)\n",
    "Y_test = np.argmax(Y_test, axis = 1)\n",
    "\n",
    "ID_test = Data_X_test.iloc[:,0].as_matrix()\n",
    "d = {'ID': ID_test, 'label': Y_test}\n",
    "Results_test = pd.DataFrame(data=d)\n",
    "\n",
    "Results_test.to_csv('data/challenge_fichiers_de_sorties_de_test_challenge_nba/CNN_0703.csv',sep=';', index=False)"
   ]
  },
  {
   "cell_type": "markdown",
   "metadata": {},
   "source": [
    "# Sixth model: CNN features + Logistic Regression\n",
    "**Extract last layers features from CNN and apply logistic regression classifier- 07/03 - Test score: 72.19%**"
   ]
  },
  {
   "cell_type": "code",
   "execution_count": null,
   "metadata": {
    "collapsed": true
   },
   "outputs": [],
   "source": [
    "from keras import backend as K\n",
    "from keras.models import load_model"
   ]
  },
  {
   "cell_type": "code",
   "execution_count": null,
   "metadata": {
    "collapsed": true
   },
   "outputs": [],
   "source": [
    "cnn_model = load_model('models/cnn_8.h5')"
   ]
  },
  {
   "cell_type": "code",
   "execution_count": null,
   "metadata": {
    "collapsed": true
   },
   "outputs": [],
   "source": [
    "X_train_cnn = X_train.reshape((len(X_train), 11, 1440, 1), order = 'F')\n",
    "X_test_cnn = X_test.reshape((len(X_test), 11, 1440, 1), order = 'F')"
   ]
  },
  {
   "cell_type": "code",
   "execution_count": null,
   "metadata": {
    "collapsed": true
   },
   "outputs": [],
   "source": [
    "extract_cnn_features = K.function([cnn_model.layers[0].input, K.learning_phase()],\n",
    "                                [cnn_model.layers[5].output])"
   ]
  },
  {
   "cell_type": "code",
   "execution_count": null,
   "metadata": {
    "collapsed": true
   },
   "outputs": [],
   "source": [
    "X_train_cnn_features = extract_cnn_features([X_train_cnn, 0])[0]"
   ]
  },
  {
   "cell_type": "code",
   "execution_count": null,
   "metadata": {
    "collapsed": true
   },
   "outputs": [],
   "source": [
    "X_test_cnn_features = extract_cnn_features([X_test_cnn, 0])[0]"
   ]
  },
  {
   "cell_type": "code",
   "execution_count": null,
   "metadata": {
    "collapsed": true
   },
   "outputs": [],
   "source": [
    "cnn_lg = LogisticRegression()\n",
    "cnn_lg.fit(X_train_cnn_features, Y_train)\n",
    "Y_test = cnn_lg.predict(X_test_cnn_features)"
   ]
  },
  {
   "cell_type": "code",
   "execution_count": null,
   "metadata": {
    "collapsed": true
   },
   "outputs": [],
   "source": [
    "Y_test.shape"
   ]
  },
  {
   "cell_type": "code",
   "execution_count": null,
   "metadata": {
    "collapsed": true
   },
   "outputs": [],
   "source": [
    "ID_test = Data_X_test.iloc[:,0].as_matrix()\n",
    "d = {'ID': ID_test, 'label': Y_test}\n",
    "Results_test = pd.DataFrame(data=d)\n",
    "\n",
    "Results_test.to_csv('data/challenge_fichiers_de_sorties_de_test_challenge_nba/CNN_logreg_0703.csv',sep=';', index=False)"
   ]
  },
  {
   "cell_type": "markdown",
   "metadata": {
    "collapsed": true
   },
   "source": [
    "# Seventh model : CNN with time and frequency features\n",
    "**Time and frequency features - 08/03 - Test score: 71.62%**"
   ]
  },
  {
   "cell_type": "code",
   "execution_count": null,
   "metadata": {
    "collapsed": true
   },
   "outputs": [],
   "source": [
    "nb_freq = 200\n",
    "\n",
    "X_FF = []\n",
    "X_FF_test = []\n",
    "features = ['miss', 'score', 'assist', 'offensive rebound', 'defensive rebound', 'offensive foul', 'defensive foul',\n",
    "           'lost ball', 'steals', 'bad pass', 'block']\n",
    "for feat in features :\n",
    "    filter_col = [col for col in Data_X_train if col.startswith(feat)]\n",
    "    X_feat = Data_X_train[filter_col].as_matrix()\n",
    "    X_feat_test =  Data_X_test[filter_col].as_matrix()\n",
    "    X_feat_fft = np.fft.fft(X_feat)[:,:nb_freq]\n",
    "    X_feat_fft_test = np.fft.fft(X_feat_test)[:,:nb_freq]\n",
    "    X_FF.append(abs(X_feat_fft))\n",
    "    X_FF_test.append(abs(X_feat_fft_test))\n",
    "X_fft = np.hstack(X_FF)\n",
    "X_fft_test = np.hstack(X_FF_test)"
   ]
  },
  {
   "cell_type": "code",
   "execution_count": null,
   "metadata": {
    "collapsed": true
   },
   "outputs": [],
   "source": [
    "nb_games = len(X_train)\n",
    "X_seq = X_train.reshape((nb_games, 11, 10, -1), order = 'F')\n",
    "X_seq = X_seq.mean(axis = 2)\n",
    "X_seq = X_seq.reshape(nb_games, 1584)\n",
    "X_tot = np.concatenate((X_seq, X_fft), axis = 1)\n",
    "\n",
    "nb_games_test = len(X_test)\n",
    "X_seq_test = X_test.reshape((nb_games_test, 11, 10, -1), order = 'F')\n",
    "X_seq_test = X_seq_test.mean(axis = 2)\n",
    "X_seq_test = X_seq_test.reshape(nb_games_test, 1584)\n",
    "X_tot_test = np.concatenate((X_seq_test, X_fft_test), axis = 1)"
   ]
  },
  {
   "cell_type": "code",
   "execution_count": null,
   "metadata": {
    "collapsed": true
   },
   "outputs": [],
   "source": [
    "X_cnn = X_tot.reshape((len(X_tot), 11, 344, 1), order = 'F')\n",
    "Y_cnn = np_utils.to_categorical(Y_train, 2)\n",
    "\n",
    "conv_model = Sequential()\n",
    "\n",
    "conv_model.add(BatchNormalization(axis=1, \n",
    "                                  input_shape = (11, 344, 1)))\n",
    "conv_model.add(Conv2D(filters = 16, \n",
    "                 kernel_size = (11, 10), \n",
    "                 activation = 'relu'))\n",
    "conv_model.add(Dropout(0.75))\n",
    "conv_model.add(Flatten())\n",
    "conv_model.add(Dense(units = 50, activation = 'relu'))\n",
    "conv_model.add(Dropout(0.5))\n",
    "conv_model.add(Dense(units = 2, \n",
    "                activation='softmax'))\n",
    "\n",
    "conv_model.compile(loss = losses.categorical_crossentropy,\n",
    "                     optimizer = 'adam',\n",
    "                     metrics = ['accuracy'])\n",
    "\n",
    "training = conv_model.fit(X_cnn, Y_cnn, epochs = 200, batch_size = 32, verbose = False)\n",
    "conv_model.save('models/cnn_9.h5')"
   ]
  },
  {
   "cell_type": "code",
   "execution_count": null,
   "metadata": {
    "collapsed": true
   },
   "outputs": [],
   "source": [
    "X_test_cnn = X_tot_test.reshape((len(X_tot_test), 11, 344, 1), order = 'F')\n",
    "\n",
    "Y_test = conv_model.predict(X_test_cnn)\n",
    "Y_test = np.argmax(Y_test, axis = 1)\n",
    "\n",
    "ID_test = Data_X_test.iloc[:,0].as_matrix()\n",
    "d = {'ID': ID_test, 'label': Y_test}\n",
    "Results_test = pd.DataFrame(data=d)\n",
    "\n",
    "Results_test.to_csv('data/challenge_fichiers_de_sorties_de_test_challenge_nba/CNN_0803.csv',sep=';', index=False)"
   ]
  },
  {
   "cell_type": "markdown",
   "metadata": {
    "collapsed": true
   },
   "source": [
    "# Eight model : LSTM + Log Reg\n",
    "**Last layer features from LSTM + Logistic Regression - 10/03 - Test score: 69.67%**"
   ]
  },
  {
   "cell_type": "code",
   "execution_count": null,
   "metadata": {
    "collapsed": true
   },
   "outputs": [],
   "source": [
    "from keras import backend as K\n",
    "from keras.models import load_model\n",
    "from sklearn.linear_model import LogisticRegression"
   ]
  },
  {
   "cell_type": "code",
   "execution_count": null,
   "metadata": {
    "collapsed": true
   },
   "outputs": [],
   "source": [
    "X_train = X_train.reshape((len(X_train), 11, 10, -1), order = 'F')\n",
    "X_train = X_train.mean(axis = 2)\n",
    "\n",
    "X_test = X_test.reshape((len(X_test), 11, 10, -1), order = 'F')\n",
    "X_test = X_test.mean(axis = 2)"
   ]
  },
  {
   "cell_type": "code",
   "execution_count": null,
   "metadata": {
    "collapsed": true
   },
   "outputs": [],
   "source": [
    "model = load_model('models/LSTMs/lstm_11.h5')\n",
    "\n",
    "extract_cnn_features = K.function([model.layers[0].input, K.learning_phase()],\n",
    "                                  [model.layers[1].output])\n",
    "X_train_features = extract_cnn_features([X_train, 0])[0]\n",
    "X_test_features = extract_cnn_features([X_test, 0])[0]\n",
    "\n",
    "clf = LogisticRegression()\n",
    "clf.fit(X_train_features, Y_train.flatten())\n",
    "\n",
    "Y_test = clf.predict(X_test_features)"
   ]
  },
  {
   "cell_type": "code",
   "execution_count": null,
   "metadata": {
    "collapsed": true
   },
   "outputs": [],
   "source": [
    "ID_test = Data_X_test.iloc[:,0].as_matrix()\n",
    "d = {'ID': ID_test, 'label': Y_test}\n",
    "Results_test = pd.DataFrame(data=d)\n",
    "\n",
    "Results_test.to_csv('data/challenge_fichiers_de_sorties_de_test_challenge_nba/LSTM_logreg_1003.csv',sep=';', index=False)"
   ]
  },
  {
   "cell_type": "markdown",
   "metadata": {},
   "source": [
    "# Ninth model: Average of 5 best model\n",
    "**Average of CNN_0803, CNN_logreg_0703, CNN_0703, CNN_0603, CNN_0103 = 5 best submissions - 10/03 - Test score: 72.48%**"
   ]
  },
  {
   "cell_type": "code",
   "execution_count": null,
   "metadata": {
    "collapsed": true
   },
   "outputs": [],
   "source": [
    "import functools"
   ]
  },
  {
   "cell_type": "code",
   "execution_count": null,
   "metadata": {
    "collapsed": true
   },
   "outputs": [],
   "source": [
    "sub1 = pd.read_csv('data/challenge_fichiers_de_sorties_de_test_challenge_nba/CNN_0103.csv', sep = \";\")\n",
    "sub2 = pd.read_csv('data/challenge_fichiers_de_sorties_de_test_challenge_nba/CNN_0603.csv', sep = \";\")\n",
    "sub3 = pd.read_csv('data/challenge_fichiers_de_sorties_de_test_challenge_nba/CNN_0703.csv', sep = \";\")\n",
    "sub4 = pd.read_csv('data/challenge_fichiers_de_sorties_de_test_challenge_nba/CNN_logreg_0703.csv', sep = \";\")\n",
    "sub5 = pd.read_csv('data/challenge_fichiers_de_sorties_de_test_challenge_nba/CNN_0803.csv', sep = \";\")"
   ]
  },
  {
   "cell_type": "code",
   "execution_count": null,
   "metadata": {
    "collapsed": true
   },
   "outputs": [],
   "source": [
    "temp = functools.reduce(lambda x, y: pd.merge(x, y, on = 'ID'), [sub1, sub2, sub3, sub4, sub5])\n",
    "temp['Avg'] = round(temp.iloc[:,1:].mean(axis = 1)).astype(int)\n",
    "submission = temp[['ID', 'Avg']]\n",
    "submission.rename(columns = {'Avg': 'label'}, inplace = True)\n",
    "\n",
    "submission.to_csv('data/challenge_fichiers_de_sorties_de_test_challenge_nba/average_5_best_submissions_1003.csv',sep=';', index=False)"
   ]
  },
  {
   "cell_type": "markdown",
   "metadata": {},
   "source": [
    "# Tenth model: LSTM + XGBoost\n",
    "**Last Layer from LSTM (20 secs) + XGBoost - Test score: 70.58%**"
   ]
  },
  {
   "cell_type": "code",
   "execution_count": null,
   "metadata": {
    "collapsed": true
   },
   "outputs": [],
   "source": [
    "from keras import backend as K\n",
    "from keras.models import load_model\n",
    "from xgboost import XGBClassifier"
   ]
  },
  {
   "cell_type": "code",
   "execution_count": null,
   "metadata": {
    "collapsed": true
   },
   "outputs": [],
   "source": [
    "X_train = X_train.reshape((len(X_train), 11, 20, -1), order = 'F')\n",
    "X_train = X_train.mean(axis = 2)\n",
    "\n",
    "X_test = X_test.reshape((len(X_test), 11, 20, -1), order = 'F')\n",
    "X_test = X_test.mean(axis = 2)"
   ]
  },
  {
   "cell_type": "code",
   "execution_count": null,
   "metadata": {
    "collapsed": true
   },
   "outputs": [],
   "source": [
    "model = load_model('models/LSTMs/lstm_14.h5')\n",
    "\n",
    "extract_cnn_features = K.function([model.layers[0].input, K.learning_phase()],\n",
    "                                  [model.layers[1].output])\n",
    "X_train_features = extract_cnn_features([X_train, 0])[0]\n",
    "X_test_features = extract_cnn_features([X_test, 0])[0]\n",
    "\n",
    "clf = XGBClassifier(n_estimators = 1000, max_depth = 2)\n",
    "clf.fit(X_train_features, Y_train.flatten())\n",
    "\n",
    "Y_test = clf.predict(X_test_features)"
   ]
  },
  {
   "cell_type": "code",
   "execution_count": null,
   "metadata": {
    "collapsed": true
   },
   "outputs": [],
   "source": [
    "ID_test = Data_X_test.iloc[:,0].as_matrix()\n",
    "d = {'ID': ID_test, 'label': Y_test}\n",
    "Results_test = pd.DataFrame(data=d)\n",
    "\n",
    "Results_test.to_csv('data/challenge_fichiers_de_sorties_de_test_challenge_nba/LSTM_xgboost_1303.csv',sep=';', index=False)"
   ]
  },
  {
   "cell_type": "markdown",
   "metadata": {},
   "source": [
    "## Eleventh model: Logistic Regression + feature engineering\n",
    "**Test score : 71.43%**"
   ]
  },
  {
   "cell_type": "code",
   "execution_count": 3,
   "metadata": {},
   "outputs": [
    {
     "name": "stderr",
     "output_type": "stream",
     "text": [
      "100%|██████████████████████████████████████████████████████████████████████████████| 1439/1439 [00:41<00:00, 34.41it/s]\n",
      "100%|██████████████████████████████████████████████████████████████████████████████| 1440/1440 [02:18<00:00, 10.40it/s]\n",
      "100%|██████████████████████████████████████████████████████████████████████████████| 1440/1440 [00:50<00:00, 28.73it/s]\n",
      "100%|██████████████████████████████████████████████████████████████████████████████| 1439/1439 [00:15<00:00, 93.59it/s]\n",
      "100%|██████████████████████████████████████████████████████████████████████████████| 1440/1440 [00:44<00:00, 32.63it/s]\n",
      "100%|██████████████████████████████████████████████████████████████████████████████| 1440/1440 [00:15<00:00, 93.05it/s]\n"
     ]
    }
   ],
   "source": [
    "X_train = feature_engineering(Data_X_train)\n",
    "X_test = feature_engineering(Data_X_test)\n",
    "\n",
    "X_train = X_train.as_matrix()[:,1:]\n",
    "X_test = X_test.as_matrix()[:,1:]\n",
    "Y_train = Data_Y_train.as_matrix()[:,1:]"
   ]
  },
  {
   "cell_type": "code",
   "execution_count": 4,
   "metadata": {},
   "outputs": [
    {
     "name": "stderr",
     "output_type": "stream",
     "text": [
      "D:\\Programs\\Anaconda3\\lib\\site-packages\\sklearn\\utils\\validation.py:547: DataConversionWarning: A column-vector y was passed when a 1d array was expected. Please change the shape of y to (n_samples, ), for example using ravel().\n",
      "  y = column_or_1d(y, warn=True)\n"
     ]
    },
    {
     "data": {
      "text/plain": [
       "LogisticRegression(C=1e-05, class_weight=None, dual=False, fit_intercept=True,\n",
       "          intercept_scaling=1, max_iter=100, multi_class='ovr', n_jobs=1,\n",
       "          penalty='l2', random_state=None, solver='liblinear', tol=0.0001,\n",
       "          verbose=0, warm_start=False)"
      ]
     },
     "execution_count": 4,
     "metadata": {},
     "output_type": "execute_result"
    }
   ],
   "source": [
    "LR = LogisticRegression(C=0.00001)\n",
    "LR.fit(X_train, Y_train)"
   ]
  },
  {
   "cell_type": "code",
   "execution_count": 5,
   "metadata": {
    "collapsed": true
   },
   "outputs": [],
   "source": [
    "Y_test = LR.predict(X_test)\n",
    "\n",
    "ID_test = Data_X_test.iloc[:,0].as_matrix()\n",
    "d = {'ID': ID_test, 'label': Y_test}\n",
    "Results_test = pd.DataFrame(data=d)"
   ]
  },
  {
   "cell_type": "code",
   "execution_count": 6,
   "metadata": {
    "collapsed": true
   },
   "outputs": [],
   "source": [
    "Results_test.to_csv('data/challenge_fichiers_de_sorties_de_test_challenge_nba/LogisticRegression_1403.csv',sep=';', index=False)"
   ]
  }
 ],
 "metadata": {
  "kernelspec": {
   "display_name": "Python 3",
   "language": "python",
   "name": "python3"
  },
  "language_info": {
   "codemirror_mode": {
    "name": "ipython",
    "version": 3
   },
   "file_extension": ".py",
   "mimetype": "text/x-python",
   "name": "python",
   "nbconvert_exporter": "python",
   "pygments_lexer": "ipython3",
   "version": "3.6.2"
  }
 },
 "nbformat": 4,
 "nbformat_minor": 2
}
