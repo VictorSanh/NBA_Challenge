{
 "cells": [
  {
   "cell_type": "markdown",
   "metadata": {},
   "source": [
    "# Discrete Fourier Transform"
   ]
  },
  {
   "cell_type": "code",
   "execution_count": 42,
   "metadata": {
    "collapsed": true
   },
   "outputs": [],
   "source": [
    "import numpy as np\n",
    "import pandas as pd\n",
    "import matplotlib.pyplot as plt\n",
    "from src.utils import preprocess\n",
    "\n",
    "from keras.utils import np_utils\n",
    "from keras.models import Sequential\n",
    "from keras.layers import Conv2D, BatchNormalization, Dropout, Flatten, Dense, LSTM\n",
    "from keras import losses\n",
    "\n",
    "from sklearn.neural_network import MLPClassifier\n",
    "from sklearn.linear_model import LogisticRegression\n",
    "from sklearn.model_selection import StratifiedKFold"
   ]
  },
  {
   "cell_type": "markdown",
   "metadata": {},
   "source": [
    "## Loading data"
   ]
  },
  {
   "cell_type": "code",
   "execution_count": 2,
   "metadata": {
    "collapsed": true
   },
   "outputs": [],
   "source": [
    "# Open files\n",
    "Data_X_train = pd.read_csv('data/challenge_fichier_dentrees_dentrainement_challenge_nba/train.csv')\n",
    "Data_Y_train = pd.read_csv('data/challenge_fichier_de_sortie_dentrainement_challenge_nba.csv', sep=';')\n",
    "X_test = pd.read_csv('data/challenge_fichiers_dentrees_de_test_challenge_nba/test.csv')"
   ]
  },
  {
   "cell_type": "code",
   "execution_count": 3,
   "metadata": {},
   "outputs": [
    {
     "data": {
      "text/html": [
       "<div>\n",
       "<style scoped>\n",
       "    .dataframe tbody tr th:only-of-type {\n",
       "        vertical-align: middle;\n",
       "    }\n",
       "\n",
       "    .dataframe tbody tr th {\n",
       "        vertical-align: top;\n",
       "    }\n",
       "\n",
       "    .dataframe thead th {\n",
       "        text-align: right;\n",
       "    }\n",
       "</style>\n",
       "<table border=\"1\" class=\"dataframe\">\n",
       "  <thead>\n",
       "    <tr style=\"text-align: right;\">\n",
       "      <th></th>\n",
       "      <th>ID</th>\n",
       "      <th>score_1</th>\n",
       "      <th>offensive rebound_1</th>\n",
       "      <th>assist_1</th>\n",
       "      <th>miss_1</th>\n",
       "      <th>score_2</th>\n",
       "      <th>offensive rebound_2</th>\n",
       "      <th>assist_2</th>\n",
       "      <th>miss_2</th>\n",
       "      <th>score_3</th>\n",
       "      <th>...</th>\n",
       "      <th>assist_1438</th>\n",
       "      <th>miss_1438</th>\n",
       "      <th>score_1439</th>\n",
       "      <th>offensive rebound_1439</th>\n",
       "      <th>assist_1439</th>\n",
       "      <th>miss_1439</th>\n",
       "      <th>score_1440</th>\n",
       "      <th>offensive rebound_1440</th>\n",
       "      <th>assist_1440</th>\n",
       "      <th>miss_1440</th>\n",
       "    </tr>\n",
       "  </thead>\n",
       "  <tbody>\n",
       "    <tr>\n",
       "      <th>0</th>\n",
       "      <td>14186</td>\n",
       "      <td>-2</td>\n",
       "      <td>0</td>\n",
       "      <td>0</td>\n",
       "      <td>0</td>\n",
       "      <td>-2</td>\n",
       "      <td>0</td>\n",
       "      <td>0</td>\n",
       "      <td>0</td>\n",
       "      <td>-2</td>\n",
       "      <td>...</td>\n",
       "      <td>-4</td>\n",
       "      <td>9</td>\n",
       "      <td>-16</td>\n",
       "      <td>8</td>\n",
       "      <td>-4</td>\n",
       "      <td>9</td>\n",
       "      <td>-13</td>\n",
       "      <td>8</td>\n",
       "      <td>-3</td>\n",
       "      <td>9</td>\n",
       "    </tr>\n",
       "    <tr>\n",
       "      <th>1</th>\n",
       "      <td>13013</td>\n",
       "      <td>0</td>\n",
       "      <td>0</td>\n",
       "      <td>0</td>\n",
       "      <td>1</td>\n",
       "      <td>0</td>\n",
       "      <td>0</td>\n",
       "      <td>0</td>\n",
       "      <td>1</td>\n",
       "      <td>0</td>\n",
       "      <td>...</td>\n",
       "      <td>2</td>\n",
       "      <td>0</td>\n",
       "      <td>-5</td>\n",
       "      <td>1</td>\n",
       "      <td>1</td>\n",
       "      <td>0</td>\n",
       "      <td>-5</td>\n",
       "      <td>1</td>\n",
       "      <td>1</td>\n",
       "      <td>-1</td>\n",
       "    </tr>\n",
       "    <tr>\n",
       "      <th>2</th>\n",
       "      <td>7102</td>\n",
       "      <td>0</td>\n",
       "      <td>0</td>\n",
       "      <td>0</td>\n",
       "      <td>0</td>\n",
       "      <td>0</td>\n",
       "      <td>0</td>\n",
       "      <td>0</td>\n",
       "      <td>0</td>\n",
       "      <td>0</td>\n",
       "      <td>...</td>\n",
       "      <td>0</td>\n",
       "      <td>-5</td>\n",
       "      <td>5</td>\n",
       "      <td>-1</td>\n",
       "      <td>0</td>\n",
       "      <td>-5</td>\n",
       "      <td>5</td>\n",
       "      <td>-1</td>\n",
       "      <td>0</td>\n",
       "      <td>-5</td>\n",
       "    </tr>\n",
       "    <tr>\n",
       "      <th>3</th>\n",
       "      <td>7637</td>\n",
       "      <td>-2</td>\n",
       "      <td>0</td>\n",
       "      <td>0</td>\n",
       "      <td>0</td>\n",
       "      <td>-2</td>\n",
       "      <td>0</td>\n",
       "      <td>0</td>\n",
       "      <td>0</td>\n",
       "      <td>-2</td>\n",
       "      <td>...</td>\n",
       "      <td>-1</td>\n",
       "      <td>-1</td>\n",
       "      <td>-1</td>\n",
       "      <td>2</td>\n",
       "      <td>-1</td>\n",
       "      <td>-1</td>\n",
       "      <td>-1</td>\n",
       "      <td>2</td>\n",
       "      <td>-1</td>\n",
       "      <td>-1</td>\n",
       "    </tr>\n",
       "    <tr>\n",
       "      <th>4</th>\n",
       "      <td>12350</td>\n",
       "      <td>0</td>\n",
       "      <td>0</td>\n",
       "      <td>0</td>\n",
       "      <td>1</td>\n",
       "      <td>0</td>\n",
       "      <td>0</td>\n",
       "      <td>0</td>\n",
       "      <td>1</td>\n",
       "      <td>0</td>\n",
       "      <td>...</td>\n",
       "      <td>4</td>\n",
       "      <td>4</td>\n",
       "      <td>1</td>\n",
       "      <td>4</td>\n",
       "      <td>4</td>\n",
       "      <td>4</td>\n",
       "      <td>1</td>\n",
       "      <td>4</td>\n",
       "      <td>4</td>\n",
       "      <td>3</td>\n",
       "    </tr>\n",
       "  </tbody>\n",
       "</table>\n",
       "<p>5 rows × 5761 columns</p>\n",
       "</div>"
      ],
      "text/plain": [
       "      ID  score_1  offensive rebound_1  assist_1  miss_1  score_2  \\\n",
       "0  14186       -2                    0         0       0       -2   \n",
       "1  13013        0                    0         0       1        0   \n",
       "2   7102        0                    0         0       0        0   \n",
       "3   7637       -2                    0         0       0       -2   \n",
       "4  12350        0                    0         0       1        0   \n",
       "\n",
       "   offensive rebound_2  assist_2  miss_2  score_3    ...      assist_1438  \\\n",
       "0                    0         0       0       -2    ...               -4   \n",
       "1                    0         0       1        0    ...                2   \n",
       "2                    0         0       0        0    ...                0   \n",
       "3                    0         0       0       -2    ...               -1   \n",
       "4                    0         0       1        0    ...                4   \n",
       "\n",
       "   miss_1438  score_1439  offensive rebound_1439  assist_1439  miss_1439  \\\n",
       "0          9         -16                       8           -4          9   \n",
       "1          0          -5                       1            1          0   \n",
       "2         -5           5                      -1            0         -5   \n",
       "3         -1          -1                       2           -1         -1   \n",
       "4          4           1                       4            4          4   \n",
       "\n",
       "   score_1440  offensive rebound_1440  assist_1440  miss_1440  \n",
       "0         -13                       8           -3          9  \n",
       "1          -5                       1            1         -1  \n",
       "2           5                      -1            0         -5  \n",
       "3          -1                       2           -1         -1  \n",
       "4           1                       4            4          3  \n",
       "\n",
       "[5 rows x 5761 columns]"
      ]
     },
     "execution_count": 3,
     "metadata": {},
     "output_type": "execute_result"
    }
   ],
   "source": [
    "kept_features = ('ID','miss', 'score', 'assist', 'offensive rebound')\n",
    "filter_col = [col for col in Data_X_train if col.startswith(kept_features)]\n",
    "Data_X_train_reduced = Data_X_train[filter_col]\n",
    "Data_X_train_reduced.head()"
   ]
  },
  {
   "cell_type": "code",
   "execution_count": 24,
   "metadata": {
    "collapsed": true
   },
   "outputs": [],
   "source": [
    "X, Y, _, _ = preprocess(Data_X_train_reduced, Data_Y_train, 1)\n",
    "nb_games = len(X)"
   ]
  },
  {
   "cell_type": "markdown",
   "metadata": {
    "collapsed": true
   },
   "source": [
    "## First frequencies"
   ]
  },
  {
   "cell_type": "code",
   "execution_count": 21,
   "metadata": {
    "collapsed": true
   },
   "outputs": [],
   "source": [
    "nb_freq = 200"
   ]
  },
  {
   "cell_type": "code",
   "execution_count": 22,
   "metadata": {
    "collapsed": true
   },
   "outputs": [],
   "source": [
    "X_FF = []\n",
    "features = ['miss', 'score', 'assist', 'offensive rebound', 'defensive rebound', 'offensive foul', 'defensive foul',\n",
    "           'lost ball', 'steals', 'bad pass', 'block']\n",
    "for feat in main_features :\n",
    "    filter_col = [col for col in Data_X_train if col.startswith(feat)]\n",
    "    X_feat = Data_X_train[filter_col].as_matrix()\n",
    "    X_feat_fft = np.fft.fft(X_feat)[:,:nb_freq]\n",
    "    X_FF.append(abs(X_feat_fft))\n",
    "X_fft = np.hstack(X_FF)"
   ]
  },
  {
   "cell_type": "markdown",
   "metadata": {},
   "source": [
    "## Mix features in frequence and time"
   ]
  },
  {
   "cell_type": "markdown",
   "metadata": {},
   "source": [
    "### Aggregate by subsequence of 10 seconds"
   ]
  },
  {
   "cell_type": "code",
   "execution_count": 25,
   "metadata": {
    "collapsed": true
   },
   "outputs": [],
   "source": [
    "X_seq = X.reshape((nb_games, 4, 10, -1), order = 'F')\n",
    "X_seq = X_seq.mean(axis = 2)\n",
    "X_seq = X_seq.reshape(nb_games, 576)\n",
    "X_tot = np.concatenate((X_seq, X_fft), axis = 1)"
   ]
  },
  {
   "cell_type": "code",
   "execution_count": 26,
   "metadata": {},
   "outputs": [
    {
     "data": {
      "text/plain": [
       "(12576, 1376)"
      ]
     },
     "execution_count": 26,
     "metadata": {},
     "output_type": "execute_result"
    }
   ],
   "source": [
    "X_tot = np.concatenate((X_seq, X_fft), axis = 1)\n",
    "X_tot.shape"
   ]
  },
  {
   "cell_type": "markdown",
   "metadata": {},
   "source": [
    "## K folds"
   ]
  },
  {
   "cell_type": "code",
   "execution_count": 40,
   "metadata": {
    "collapsed": true
   },
   "outputs": [],
   "source": [
    "skf = StratifiedKFold(n_splits = 2, shuffle = True, random_state = 7)"
   ]
  },
  {
   "cell_type": "code",
   "execution_count": 49,
   "metadata": {
    "collapsed": true
   },
   "outputs": [],
   "source": [
    "def evaluate_model(model, X, Y, skf) :\n",
    "    accs_train = []\n",
    "    accs_val = []\n",
    "    for train, val in skf.split(X, Y) :\n",
    "        model.fit(X[train], Y[train])\n",
    "        acc_train = model.score(X[train], Y[train])\n",
    "        acc_val = model.score(X[val], Y[val])\n",
    "        accs_train.append(acc_train)\n",
    "        accs_val.append(acc_val)\n",
    "        print('(Training, Validation) accuracies: ({0:.2f},{1:.2f})'.format(100*acc_train, 100*acc_val))\n",
    "\n",
    "    print('Mean Training Accuracy: {0:.2f} +/- {1:.2f}'.format(100*np.mean(accs_train), 100*np.std(accs_train)))\n",
    "    print('Mean Validation Accuracy: {0:.2f} +/- {1:.2f}'.format(100*np.mean(accs_val), 100*np.std(accs_val)))   "
   ]
  },
  {
   "cell_type": "markdown",
   "metadata": {
    "collapsed": true
   },
   "source": [
    "### MLP CLassifier"
   ]
  },
  {
   "cell_type": "code",
   "execution_count": 90,
   "metadata": {},
   "outputs": [
    {
     "name": "stdout",
     "output_type": "stream",
     "text": [
      "(Training, Validation) accuracies: (67.53,63.84)\n",
      "(Training, Validation) accuracies: (76.75,66.27)\n",
      "(Training, Validation) accuracies: (70.52,66.82)\n",
      "Mean Training Accuracy: 71.60 +/- 3.84\n",
      "Mean Validation Accuracy: 65.64 +/- 1.30\n"
     ]
    }
   ],
   "source": [
    "model = MLPClassifier()\n",
    "evaluate_model(model, X, Y, skf)"
   ]
  },
  {
   "cell_type": "markdown",
   "metadata": {},
   "source": [
    "### Logistic Regression"
   ]
  },
  {
   "cell_type": "code",
   "execution_count": 92,
   "metadata": {},
   "outputs": [
    {
     "name": "stdout",
     "output_type": "stream",
     "text": [
      "(Training, Validation) accuracies: (74.52,71.54)\n",
      "(Training, Validation) accuracies: (74.86,70.99)\n",
      "(Training, Validation) accuracies: (74.36,72.05)\n",
      "(Training, Validation) accuracies: (74.68,70.02)\n",
      "(Training, Validation) accuracies: (74.85,70.56)\n",
      "Mean Training Accuracy: 74.65 +/- 0.19\n",
      "Mean Validation Accuracy: 71.03 +/- 0.71\n"
     ]
    }
   ],
   "source": [
    "c = 1e-5\n",
    "LR = LogisticRegression(C=c)\n",
    "evaluate_model(LR, X, Y, skf)"
   ]
  },
  {
   "cell_type": "markdown",
   "metadata": {},
   "source": [
    "### CNN models"
   ]
  },
  {
   "cell_type": "code",
   "execution_count": 39,
   "metadata": {
    "collapsed": true
   },
   "outputs": [],
   "source": [
    "X_cnn = X_tot.reshape((len(X_tot), 4, 344, 1), order = 'F')"
   ]
  },
  {
   "cell_type": "code",
   "execution_count": 60,
   "metadata": {},
   "outputs": [
    {
     "name": "stdout",
     "output_type": "stream",
     "text": [
      "Epoch 1/50\n",
      "6288/6288 [==============================] - 10s 2ms/step - loss: 0.6965 - acc: 0.5517\n",
      "Epoch 2/50\n",
      "6288/6288 [==============================] - 8s 1ms/step - loss: 0.6466 - acc: 0.6228\n",
      "Epoch 3/50\n",
      "6288/6288 [==============================] - 9s 1ms/step - loss: 0.6139 - acc: 0.6733\n",
      "Epoch 4/50\n",
      "6288/6288 [==============================] - 9s 1ms/step - loss: 0.5940 - acc: 0.6832\n",
      "Epoch 5/50\n",
      "6288/6288 [==============================] - 9s 1ms/step - loss: 0.5886 - acc: 0.6939\n",
      "Epoch 6/50\n",
      "6288/6288 [==============================] - 9s 1ms/step - loss: 0.5849 - acc: 0.6916\n",
      "Epoch 7/50\n",
      "6288/6288 [==============================] - 9s 1ms/step - loss: 0.5790 - acc: 0.6962\n",
      "Epoch 8/50\n",
      "6288/6288 [==============================] - 9s 1ms/step - loss: 0.5799 - acc: 0.6985\n",
      "Epoch 9/50\n",
      "6288/6288 [==============================] - 9s 1ms/step - loss: 0.5754 - acc: 0.7079\n",
      "Epoch 10/50\n",
      "6288/6288 [==============================] - 9s 1ms/step - loss: 0.5737 - acc: 0.7002\n",
      "Epoch 11/50\n",
      "6288/6288 [==============================] - 8s 1ms/step - loss: 0.5756 - acc: 0.7009\n",
      "Epoch 12/50\n",
      "6288/6288 [==============================] - 8s 1ms/step - loss: 0.5678 - acc: 0.7118\n",
      "Epoch 13/50\n",
      "6288/6288 [==============================] - 9s 1ms/step - loss: 0.5711 - acc: 0.7034\n",
      "Epoch 14/50\n",
      "6288/6288 [==============================] - 9s 1ms/step - loss: 0.5685 - acc: 0.7059\n",
      "Epoch 15/50\n",
      "6288/6288 [==============================] - 9s 1ms/step - loss: 0.5729 - acc: 0.7071\n",
      "Epoch 16/50\n",
      "6288/6288 [==============================] - 9s 1ms/step - loss: 0.5656 - acc: 0.7090\n",
      "Epoch 17/50\n",
      "6288/6288 [==============================] - 9s 1ms/step - loss: 0.5675 - acc: 0.7048\n",
      "Epoch 18/50\n",
      "6288/6288 [==============================] - 9s 1ms/step - loss: 0.5648 - acc: 0.7036A: 1s - lo\n",
      "Epoch 19/50\n",
      "6288/6288 [==============================] - 8s 1ms/step - loss: 0.5662 - acc: 0.7039\n",
      "Epoch 20/50\n",
      "6288/6288 [==============================] - 9s 1ms/step - loss: 0.5663 - acc: 0.7069\n",
      "Epoch 21/50\n",
      "6288/6288 [==============================] - 8s 1ms/step - loss: 0.5607 - acc: 0.7096\n",
      "Epoch 22/50\n",
      "6288/6288 [==============================] - 9s 1ms/step - loss: 0.5673 - acc: 0.7122\n",
      "Epoch 23/50\n",
      "6288/6288 [==============================] - 9s 1ms/step - loss: 0.5621 - acc: 0.7082\n",
      "Epoch 24/50\n",
      "6288/6288 [==============================] - 9s 1ms/step - loss: 0.5608 - acc: 0.7091\n",
      "Epoch 25/50\n",
      "6288/6288 [==============================] - 9s 1ms/step - loss: 0.5625 - acc: 0.7104\n",
      "Epoch 26/50\n",
      "6288/6288 [==============================] - 9s 1ms/step - loss: 0.5616 - acc: 0.7053\n",
      "Epoch 27/50\n",
      "6288/6288 [==============================] - 9s 1ms/step - loss: 0.5624 - acc: 0.7101\n",
      "Epoch 28/50\n",
      "6288/6288 [==============================] - 8s 1ms/step - loss: 0.5619 - acc: 0.7115\n",
      "Epoch 29/50\n",
      "6288/6288 [==============================] - 8s 1ms/step - loss: 0.5544 - acc: 0.7122\n",
      "Epoch 30/50\n",
      "6288/6288 [==============================] - 9s 1ms/step - loss: 0.5611 - acc: 0.7106\n",
      "Epoch 31/50\n",
      "6288/6288 [==============================] - 9s 1ms/step - loss: 0.5604 - acc: 0.7128\n",
      "Epoch 32/50\n",
      "6288/6288 [==============================] - 8s 1ms/step - loss: 0.5581 - acc: 0.7145\n",
      "Epoch 33/50\n",
      "6288/6288 [==============================] - 9s 1ms/step - loss: 0.5579 - acc: 0.7112\n",
      "Epoch 34/50\n",
      "6288/6288 [==============================] - 8s 1ms/step - loss: 0.5603 - acc: 0.7123\n",
      "Epoch 35/50\n",
      "6288/6288 [==============================] - 9s 1ms/step - loss: 0.5522 - acc: 0.7137\n",
      "Epoch 36/50\n",
      "6288/6288 [==============================] - 9s 1ms/step - loss: 0.5503 - acc: 0.7161\n",
      "Epoch 37/50\n",
      "6288/6288 [==============================] - 8s 1ms/step - loss: 0.5512 - acc: 0.7139\n",
      "Epoch 38/50\n",
      "6288/6288 [==============================] - 8s 1ms/step - loss: 0.5501 - acc: 0.7134\n",
      "Epoch 39/50\n",
      "6288/6288 [==============================] - 9s 1ms/step - loss: 0.5581 - acc: 0.7071\n",
      "Epoch 40/50\n",
      "6288/6288 [==============================] - 8s 1ms/step - loss: 0.5505 - acc: 0.7149\n",
      "Epoch 41/50\n",
      "6288/6288 [==============================] - 8s 1ms/step - loss: 0.5522 - acc: 0.7098\n",
      "Epoch 42/50\n",
      "6288/6288 [==============================] - 8s 1ms/step - loss: 0.5522 - acc: 0.7152\n",
      "Epoch 43/50\n",
      "6288/6288 [==============================] - 8s 1ms/step - loss: 0.5549 - acc: 0.7149\n",
      "Epoch 44/50\n",
      "6288/6288 [==============================] - 9s 1ms/step - loss: 0.5476 - acc: 0.7131\n",
      "Epoch 45/50\n",
      "6288/6288 [==============================] - 9s 1ms/step - loss: 0.5529 - acc: 0.7122\n",
      "Epoch 46/50\n",
      "6288/6288 [==============================] - 9s 1ms/step - loss: 0.5496 - acc: 0.7179\n",
      "Epoch 47/50\n",
      "6288/6288 [==============================] - 8s 1ms/step - loss: 0.5538 - acc: 0.7123\n",
      "Epoch 48/50\n",
      "6288/6288 [==============================] - 9s 1ms/step - loss: 0.5471 - acc: 0.7190\n",
      "Epoch 49/50\n",
      "6288/6288 [==============================] - 9s 1ms/step - loss: 0.5503 - acc: 0.7168\n",
      "Epoch 50/50\n",
      "6288/6288 [==============================] - 9s 1ms/step - loss: 0.5459 - acc: 0.7158\n",
      "6288/6288 [==============================] - 5s 764us/step\n",
      "(Training, Validation) accuracies: (71.58,72.17)\n",
      "Epoch 1/50\n",
      "6288/6288 [==============================] - 8s 1ms/step - loss: 0.5606 - acc: 0.7145\n",
      "Epoch 2/50\n",
      "6288/6288 [==============================] - 8s 1ms/step - loss: 0.5584 - acc: 0.7190\n",
      "Epoch 3/50\n",
      "6288/6288 [==============================] - 8s 1ms/step - loss: 0.5535 - acc: 0.7145A: 1s - loss: 0.55\n",
      "Epoch 4/50\n",
      "6288/6288 [==============================] - 8s 1ms/step - loss: 0.5526 - acc: 0.7195\n",
      "Epoch 5/50\n",
      "6288/6288 [==============================] - 8s 1ms/step - loss: 0.5519 - acc: 0.7177\n",
      "Epoch 6/50\n",
      "6288/6288 [==============================] - 8s 1ms/step - loss: 0.5532 - acc: 0.7228\n",
      "Epoch 7/50\n",
      "6288/6288 [==============================] - 8s 1ms/step - loss: 0.5510 - acc: 0.7190\n",
      "Epoch 8/50\n",
      "6288/6288 [==============================] - 8s 1ms/step - loss: 0.5467 - acc: 0.7198\n",
      "Epoch 9/50\n",
      "6288/6288 [==============================] - 8s 1ms/step - loss: 0.5457 - acc: 0.7252\n",
      "Epoch 10/50\n",
      "6288/6288 [==============================] - 8s 1ms/step - loss: 0.5505 - acc: 0.7222\n",
      "Epoch 11/50\n",
      "6288/6288 [==============================] - 8s 1ms/step - loss: 0.5467 - acc: 0.7279\n",
      "Epoch 12/50\n",
      "6288/6288 [==============================] - 8s 1ms/step - loss: 0.5473 - acc: 0.7242\n",
      "Epoch 13/50\n",
      "6288/6288 [==============================] - 8s 1ms/step - loss: 0.5440 - acc: 0.7257\n",
      "Epoch 14/50\n",
      "6288/6288 [==============================] - 8s 1ms/step - loss: 0.5460 - acc: 0.7239\n",
      "Epoch 15/50\n",
      "6288/6288 [==============================] - 8s 1ms/step - loss: 0.5454 - acc: 0.7238\n",
      "Epoch 16/50\n",
      "6288/6288 [==============================] - 8s 1ms/step - loss: 0.5443 - acc: 0.7255\n",
      "Epoch 17/50\n",
      "6288/6288 [==============================] - 8s 1ms/step - loss: 0.5448 - acc: 0.7234\n",
      "Epoch 18/50\n",
      "6288/6288 [==============================] - 8s 1ms/step - loss: 0.5435 - acc: 0.7236\n",
      "Epoch 19/50\n",
      "6288/6288 [==============================] - 8s 1ms/step - loss: 0.5379 - acc: 0.7228\n",
      "Epoch 20/50\n",
      "6288/6288 [==============================] - 8s 1ms/step - loss: 0.5371 - acc: 0.7277\n",
      "Epoch 21/50\n",
      "6288/6288 [==============================] - 8s 1ms/step - loss: 0.5373 - acc: 0.7284\n",
      "Epoch 22/50\n",
      "6288/6288 [==============================] - 8s 1ms/step - loss: 0.5420 - acc: 0.7234\n",
      "Epoch 23/50\n",
      "6288/6288 [==============================] - 8s 1ms/step - loss: 0.5410 - acc: 0.7239\n",
      "Epoch 24/50\n",
      "6288/6288 [==============================] - 8s 1ms/step - loss: 0.5432 - acc: 0.7269\n",
      "Epoch 25/50\n",
      "6288/6288 [==============================] - 8s 1ms/step - loss: 0.5389 - acc: 0.7271\n",
      "Epoch 26/50\n",
      "6288/6288 [==============================] - 8s 1ms/step - loss: 0.5355 - acc: 0.7301\n",
      "Epoch 27/50\n",
      "6288/6288 [==============================] - 8s 1ms/step - loss: 0.5405 - acc: 0.7269\n",
      "Epoch 28/50\n",
      "6288/6288 [==============================] - 8s 1ms/step - loss: 0.5340 - acc: 0.7290\n",
      "Epoch 29/50\n",
      "6288/6288 [==============================] - 8s 1ms/step - loss: 0.5390 - acc: 0.7255\n",
      "Epoch 30/50\n",
      "6288/6288 [==============================] - 8s 1ms/step - loss: 0.5329 - acc: 0.7346\n",
      "Epoch 31/50\n",
      "6288/6288 [==============================] - 8s 1ms/step - loss: 0.5389 - acc: 0.7261\n",
      "Epoch 32/50\n",
      "6288/6288 [==============================] - 8s 1ms/step - loss: 0.5380 - acc: 0.7309\n",
      "Epoch 33/50\n",
      "6288/6288 [==============================] - 8s 1ms/step - loss: 0.5316 - acc: 0.7360\n",
      "Epoch 34/50\n",
      "6288/6288 [==============================] - 8s 1ms/step - loss: 0.5338 - acc: 0.7309\n",
      "Epoch 35/50\n",
      "6288/6288 [==============================] - 8s 1ms/step - loss: 0.5312 - acc: 0.7323\n",
      "Epoch 36/50\n",
      "6288/6288 [==============================] - 8s 1ms/step - loss: 0.5291 - acc: 0.7311\n",
      "Epoch 37/50\n",
      "6288/6288 [==============================] - 8s 1ms/step - loss: 0.5313 - acc: 0.7331\n",
      "Epoch 38/50\n",
      "6288/6288 [==============================] - 8s 1ms/step - loss: 0.5269 - acc: 0.7292\n",
      "Epoch 39/50\n",
      "6288/6288 [==============================] - 8s 1ms/step - loss: 0.5284 - acc: 0.7250\n",
      "Epoch 40/50\n",
      "6288/6288 [==============================] - 8s 1ms/step - loss: 0.5282 - acc: 0.7322\n",
      "Epoch 41/50\n",
      "6288/6288 [==============================] - 8s 1ms/step - loss: 0.5239 - acc: 0.7381\n",
      "Epoch 42/50\n",
      "6288/6288 [==============================] - 8s 1ms/step - loss: 0.5245 - acc: 0.7338\n",
      "Epoch 43/50\n",
      "6288/6288 [==============================] - 8s 1ms/step - loss: 0.5285 - acc: 0.7339\n",
      "Epoch 44/50\n",
      "6288/6288 [==============================] - 8s 1ms/step - loss: 0.5264 - acc: 0.7354\n",
      "Epoch 45/50\n",
      "6288/6288 [==============================] - 8s 1ms/step - loss: 0.5256 - acc: 0.7387\n",
      "Epoch 46/50\n",
      "6288/6288 [==============================] - 8s 1ms/step - loss: 0.5239 - acc: 0.7301\n",
      "Epoch 47/50\n",
      "6288/6288 [==============================] - 8s 1ms/step - loss: 0.5198 - acc: 0.7319\n",
      "Epoch 48/50\n",
      "6288/6288 [==============================] - 8s 1ms/step - loss: 0.5253 - acc: 0.7346\n",
      "Epoch 49/50\n",
      "6288/6288 [==============================] - 8s 1ms/step - loss: 0.5187 - acc: 0.7343\n",
      "Epoch 50/50\n",
      "6288/6288 [==============================] - 8s 1ms/step - loss: 0.5239 - acc: 0.7409\n",
      "6288/6288 [==============================] - 4s 654us/step\n",
      "(Training, Validation) accuracies: (74.09,71.66)\n",
      "Mean Training Accuracy: 72.84 +/- 1.26\n",
      "Mean Validation Accuracy: 71.91 +/- 0.25\n"
     ]
    }
   ],
   "source": [
    "conv_model = Sequential()\n",
    "\n",
    "conv_model.add(BatchNormalization(axis=1, \n",
    "                                  input_shape = (4, 344, 1)))\n",
    "conv_model.add(Conv2D(filters = 16, \n",
    "                 kernel_size = (4, 10), \n",
    "                 activation = 'relu'))\n",
    "conv_model.add(Dropout(0.75))\n",
    "conv_model.add(Flatten())\n",
    "conv_model.add(Dense(units = 50, activation = 'relu'))\n",
    "conv_model.add(Dropout(0.5))\n",
    "conv_model.add(Dense(units = 2, \n",
    "                activation='softmax'))\n",
    "\n",
    "conv_model.compile(loss = losses.categorical_crossentropy,\n",
    "                     optimizer = 'adam',\n",
    "                     metrics = ['accuracy'])\n",
    "\n",
    "accs_train = []\n",
    "accs_val = []\n",
    "for train, val in skf.split(X_cnn, Y) :\n",
    "    Y_cnn = np_utils.to_categorical(Y, 2)\n",
    "    training = conv_model.fit(X_cnn[train], Y_cnn[train], epochs = 50, batch_size = 32, verbose = True)\n",
    "    acc_train = training.history['acc'][-1]\n",
    "    accs_train.append(acc_train)\n",
    "    acc_val = conv_model.evaluate(X_cnn[val], Y_cnn[val])[1]\n",
    "    accs_val.append(acc_val)\n",
    "    print('(Training, Validation) accuracies: ({0:.2f},{1:.2f})'.format(100*acc_train, 100*acc_val))\n",
    "    \n",
    "print('Mean Training Accuracy: {0:.2f} +/- {1:.2f}'.format(100*np.mean(accs_train), 100*np.std(accs_train)))\n",
    "print('Mean Validation Accuracy: {0:.2f} +/- {1:.2f}'.format(100*np.mean(accs_val), 100*np.std(accs_val)))  "
   ]
  },
  {
   "cell_type": "code",
   "execution_count": null,
   "metadata": {
    "collapsed": true
   },
   "outputs": [],
   "source": []
  },
  {
   "cell_type": "code",
   "execution_count": null,
   "metadata": {
    "collapsed": true
   },
   "outputs": [],
   "source": []
  },
  {
   "cell_type": "code",
   "execution_count": null,
   "metadata": {
    "collapsed": true
   },
   "outputs": [],
   "source": []
  },
  {
   "cell_type": "code",
   "execution_count": null,
   "metadata": {
    "collapsed": true
   },
   "outputs": [],
   "source": []
  },
  {
   "cell_type": "code",
   "execution_count": null,
   "metadata": {
    "collapsed": true
   },
   "outputs": [],
   "source": []
  },
  {
   "cell_type": "code",
   "execution_count": null,
   "metadata": {
    "collapsed": true
   },
   "outputs": [],
   "source": []
  },
  {
   "cell_type": "code",
   "execution_count": null,
   "metadata": {
    "collapsed": true
   },
   "outputs": [],
   "source": []
  }
 ],
 "metadata": {
  "kernelspec": {
   "display_name": "Python 3",
   "language": "python",
   "name": "python3"
  },
  "language_info": {
   "codemirror_mode": {
    "name": "ipython",
    "version": 3
   },
   "file_extension": ".py",
   "mimetype": "text/x-python",
   "name": "python",
   "nbconvert_exporter": "python",
   "pygments_lexer": "ipython3",
   "version": "3.6.2"
  }
 },
 "nbformat": 4,
 "nbformat_minor": 2
}
