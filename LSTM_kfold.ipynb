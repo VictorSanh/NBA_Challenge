{
 "cells": [
  {
   "cell_type": "code",
   "execution_count": 1,
   "metadata": {},
   "outputs": [
    {
     "name": "stderr",
     "output_type": "stream",
     "text": [
      "/usr/local/lib/python3.5/dist-packages/h5py/__init__.py:36: FutureWarning: Conversion of the second argument of issubdtype from `float` to `np.floating` is deprecated. In future, it will be treated as `np.float64 == np.dtype(float).type`.\n",
      "  from ._conv import register_converters as _register_converters\n",
      "Using TensorFlow backend.\n"
     ]
    }
   ],
   "source": [
    "import numpy as np\n",
    "import pandas as pd\n",
    "import random\n",
    "\n",
    "from sklearn.ensemble import RandomForestClassifier\n",
    "from src.utils import preprocess\n",
    "from tqdm import tqdm\n",
    "\n",
    "from keras.models import Sequential\n",
    "from keras.layers import Dense, Dropout, Conv2D, MaxPooling2D, BatchNormalization, Dropout, Flatten, Dense\n",
    "from keras.layers import Embedding, LSTM\n",
    "from keras.optimizers import SGD\n",
    "from keras.utils import np_utils\n",
    "from keras import losses\n",
    "from keras import regularizers\n",
    "from keras.constraints import max_norm\n",
    "from keras.wrappers.scikit_learn import KerasClassifier\n",
    "\n",
    "import time\n",
    "\n",
    "from sklearn.model_selection import StratifiedKFold"
   ]
  },
  {
   "cell_type": "markdown",
   "metadata": {},
   "source": [
    "# Loading data"
   ]
  },
  {
   "cell_type": "code",
   "execution_count": 2,
   "metadata": {},
   "outputs": [],
   "source": [
    "Data_X_train = pd.read_csv('data/challenge_fichier_dentrees_dentrainement_challenge_nba/train.csv')\n",
    "Data_Y_train = pd.read_csv('data/challenge_fichier_de_sortie_dentrainement_challenge_nba.csv', sep=';')"
   ]
  },
  {
   "cell_type": "code",
   "execution_count": 3,
   "metadata": {},
   "outputs": [],
   "source": [
    "X = Data_X_train.as_matrix()[:,1:]\n",
    "Y = Data_Y_train.as_matrix()[:,1:]"
   ]
  },
  {
   "cell_type": "markdown",
   "metadata": {},
   "source": [
    "# K fold functions"
   ]
  },
  {
   "cell_type": "code",
   "execution_count": 4,
   "metadata": {},
   "outputs": [],
   "source": [
    "def train_and_evaluate(model, X_train, Y_train, X_val, Y_val, epochs, batch_size, verbose):\n",
    "    training = model.fit(X_train, Y_train, epochs = epochs, batch_size = batch_size, verbose = verbose)\n",
    "    evalu = model.evaluate(X_val, Y_val)\n",
    "    \n",
    "    return training.history['acc'][-1], evalu[1]"
   ]
  },
  {
   "cell_type": "code",
   "execution_count": 5,
   "metadata": {},
   "outputs": [],
   "source": [
    "skf = StratifiedKFold(n_splits = 5, shuffle = True, random_state = 7)"
   ]
  },
  {
   "cell_type": "code",
   "execution_count": 12,
   "metadata": {},
   "outputs": [],
   "source": [
    "def kfold_print(skf_splitter, X, Y, create_model_func, epochs, batch_size, verbose):\n",
    "    accs_train = []\n",
    "    accs_val = []\n",
    "    for train, val in skf.split(X, Y):\n",
    "        model = create_model_func()\n",
    "        Y_train = np_utils.to_categorical(Y[train], 2)\n",
    "        Y_val = np_utils.to_categorical(Y[val], 2)\n",
    "        acc_train, acc_val = train_and_evaluate(model, \n",
    "                                                X[train], Y_train, X[val], Y_val, \n",
    "                                                epochs = epochs, batch_size = batch_size, verbose = verbose)\n",
    "\n",
    "        accs_train.append(acc_train)\n",
    "        accs_val.append(acc_val)\n",
    "        print('(Training, Validation) accuracies: ({0:.2f},{1:.2f})'.format(100*acc_train, 100*acc_val))\n",
    "\n",
    "    print('Mean Training Accuracy: {0:.2f} +/- {1:.2f}'.format(100*np.mean(accs_train), 100*np.std(accs_train)))\n",
    "    print('Mean Validation Accuracy: {0:.2f} +/- {1:.2f}'.format(100*np.mean(accs_val), 100*np.std(accs_val)))"
   ]
  },
  {
   "cell_type": "markdown",
   "metadata": {},
   "source": [
    "# 15sec subsequences - Aggregation = Mean"
   ]
  },
  {
   "cell_type": "code",
   "execution_count": 39,
   "metadata": {},
   "outputs": [],
   "source": [
    "X_train = X.reshape((len(X), 11, 15, -1), order = 'F')\n",
    "X_train = X_train.mean(axis = 2)"
   ]
  },
  {
   "cell_type": "code",
   "execution_count": 13,
   "metadata": {},
   "outputs": [
    {
     "name": "stdout",
     "output_type": "stream",
     "text": [
      "2516/2516 [==============================] - 0s 139us/step\n",
      "(Training, Validation) accuracies: (69.99,72.02)\n",
      "2516/2516 [==============================] - 0s 151us/step\n",
      "(Training, Validation) accuracies: (70.03,70.79)\n",
      "2515/2515 [==============================] - 0s 159us/step\n",
      "(Training, Validation) accuracies: (70.49,69.98)\n",
      "2515/2515 [==============================] - 0s 174us/step\n",
      "(Training, Validation) accuracies: (70.77,70.97)\n",
      "2514/2514 [==============================] - 0s 185us/step\n",
      "(Training, Validation) accuracies: (71.13,68.10)\n",
      "Mean Training Accuracy: 70.48 +/- 0.44\n",
      "Mean Validation Accuracy: 70.37 +/- 1.31\n"
     ]
    }
   ],
   "source": [
    "def create_model():\n",
    "    lstm_model = Sequential()\n",
    "    lstm_model.add(LSTM(30, \n",
    "                        input_shape = (11, 96), \n",
    "                        dropout = 0.75))\n",
    "    lstm_model.add(Dense(units = 20,\n",
    "                        activation = 'relu'))\n",
    "    lstm_model.add(Dropout(0.5))\n",
    "    lstm_model.add(Dense(units = 2, \n",
    "                    activation='softmax'))\n",
    "    #Construct Loss\n",
    "    lstm_model.compile(loss = losses.categorical_crossentropy,\n",
    "                         optimizer = 'adam',\n",
    "                         metrics = ['accuracy'])\n",
    "    \n",
    "    return lstm_model\n",
    "\n",
    "kfold_print(skf, X_train, Y, create_model, 200, 32, False)"
   ]
  },
  {
   "cell_type": "code",
   "execution_count": 14,
   "metadata": {},
   "outputs": [
    {
     "name": "stdout",
     "output_type": "stream",
     "text": [
      "2516/2516 [==============================] - 0s 196us/step\n",
      "(Training, Validation) accuracies: (71.10,71.94)\n",
      "2516/2516 [==============================] - 1s 210us/step\n",
      "(Training, Validation) accuracies: (71.05,71.74)\n",
      "2515/2515 [==============================] - 1s 223us/step\n",
      "(Training, Validation) accuracies: (71.81,70.85)\n",
      "2515/2515 [==============================] - 1s 234us/step\n",
      "(Training, Validation) accuracies: (71.52,71.13)\n",
      "2514/2514 [==============================] - 1s 260us/step\n",
      "(Training, Validation) accuracies: (71.89,68.93)\n",
      "Mean Training Accuracy: 71.48 +/- 0.35\n",
      "Mean Validation Accuracy: 70.92 +/- 1.07\n"
     ]
    }
   ],
   "source": [
    "def create_model():\n",
    "    lstm_model = Sequential()\n",
    "    lstm_model.add(LSTM(50, \n",
    "                        input_shape = (11, 96), \n",
    "                        dropout = 0.75))\n",
    "    lstm_model.add(Dense(units = 20,\n",
    "                        activation = 'relu'))\n",
    "    lstm_model.add(Dropout(0.5))\n",
    "    lstm_model.add(Dense(units = 2, \n",
    "                    activation='softmax'))\n",
    "    #Construct Loss\n",
    "    lstm_model.compile(loss = losses.categorical_crossentropy,\n",
    "                         optimizer = 'adam',\n",
    "                         metrics = ['accuracy'])\n",
    "    \n",
    "    return lstm_model\n",
    "\n",
    "kfold_print(skf, X_train, Y, create_model, 200, 32, False)"
   ]
  },
  {
   "cell_type": "code",
   "execution_count": 15,
   "metadata": {},
   "outputs": [
    {
     "name": "stdout",
     "output_type": "stream",
     "text": [
      "2516/2516 [==============================] - 1s 268us/step\n",
      "(Training, Validation) accuracies: (72.95,71.38)\n",
      "2516/2516 [==============================] - 1s 272us/step\n",
      "(Training, Validation) accuracies: (72.23,71.50)\n",
      "2515/2515 [==============================] - 1s 279us/step\n",
      "(Training, Validation) accuracies: (72.64,69.82)\n",
      "2515/2515 [==============================] - 1s 297us/step\n",
      "(Training, Validation) accuracies: (73.03,70.46)\n",
      "2514/2514 [==============================] - 1s 306us/step\n",
      "(Training, Validation) accuracies: (73.75,68.30)\n",
      "Mean Training Accuracy: 72.92 +/- 0.50\n",
      "Mean Validation Accuracy: 70.29 +/- 1.17\n"
     ]
    }
   ],
   "source": [
    "def create_model():\n",
    "    lstm_model = Sequential()\n",
    "    lstm_model.add(LSTM(75, \n",
    "                        input_shape = (11, 96), \n",
    "                        dropout = 0.75))\n",
    "    lstm_model.add(Dense(units = 20,\n",
    "                        activation = 'relu'))\n",
    "    lstm_model.add(Dropout(0.5))\n",
    "    lstm_model.add(Dense(units = 2, \n",
    "                    activation='softmax'))\n",
    "    #Construct Loss\n",
    "    lstm_model.compile(loss = losses.categorical_crossentropy,\n",
    "                         optimizer = 'adam',\n",
    "                         metrics = ['accuracy'])\n",
    "    \n",
    "    return lstm_model\n",
    "\n",
    "kfold_print(skf, X_train, Y, create_model, 200, 32, False)"
   ]
  },
  {
   "cell_type": "code",
   "execution_count": 16,
   "metadata": {},
   "outputs": [
    {
     "name": "stdout",
     "output_type": "stream",
     "text": [
      "2516/2516 [==============================] - 1s 326us/step\n",
      "(Training, Validation) accuracies: (73.15,72.54)\n",
      "2516/2516 [==============================] - 1s 340us/step\n",
      "(Training, Validation) accuracies: (73.47,72.10)\n",
      "2515/2515 [==============================] - 1s 354us/step\n",
      "(Training, Validation) accuracies: (74.02,69.22)\n",
      "2515/2515 [==============================] - 1s 366us/step\n",
      "(Training, Validation) accuracies: (73.57,70.74)\n",
      "2514/2514 [==============================] - 1s 388us/step\n",
      "(Training, Validation) accuracies: (74.41,67.34)\n",
      "Mean Training Accuracy: 73.72 +/- 0.44\n",
      "Mean Validation Accuracy: 70.39 +/- 1.91\n"
     ]
    }
   ],
   "source": [
    "def create_model():\n",
    "    lstm_model = Sequential()\n",
    "    lstm_model.add(LSTM(100, \n",
    "                        input_shape = (11, 96), \n",
    "                        dropout = 0.75))\n",
    "    lstm_model.add(Dense(units = 20,\n",
    "                        activation = 'relu'))\n",
    "    lstm_model.add(Dropout(0.5))\n",
    "    lstm_model.add(Dense(units = 2, \n",
    "                    activation='softmax'))\n",
    "    #Construct Loss\n",
    "    lstm_model.compile(loss = losses.categorical_crossentropy,\n",
    "                         optimizer = 'adam',\n",
    "                         metrics = ['accuracy'])\n",
    "    \n",
    "    return lstm_model\n",
    "\n",
    "kfold_print(skf, X_train, Y, create_model, 200, 32, False)"
   ]
  },
  {
   "cell_type": "code",
   "execution_count": 17,
   "metadata": {},
   "outputs": [
    {
     "name": "stdout",
     "output_type": "stream",
     "text": [
      "2516/2516 [==============================] - 1s 383us/step\n",
      "(Training, Validation) accuracies: (76.67,71.34)\n",
      "2516/2516 [==============================] - 1s 409us/step\n",
      "(Training, Validation) accuracies: (75.74,71.03)\n",
      "2515/2515 [==============================] - 1s 411us/step\n",
      "(Training, Validation) accuracies: (76.18,69.98)\n",
      "2515/2515 [==============================] - 1s 435us/step\n",
      "(Training, Validation) accuracies: (75.58,70.78)\n",
      "2514/2514 [==============================] - 1s 440us/step\n",
      "(Training, Validation) accuracies: (76.11,67.42)\n",
      "Mean Training Accuracy: 76.05 +/- 0.38\n",
      "Mean Validation Accuracy: 70.11 +/- 1.42\n"
     ]
    }
   ],
   "source": [
    "def create_model():\n",
    "    lstm_model = Sequential()\n",
    "    lstm_model.add(LSTM(150, \n",
    "                        input_shape = (11, 96), \n",
    "                        dropout = 0.75))\n",
    "    lstm_model.add(Dense(units = 20,\n",
    "                        activation = 'relu'))\n",
    "    lstm_model.add(Dropout(0.5))\n",
    "    lstm_model.add(Dense(units = 2, \n",
    "                    activation='softmax'))\n",
    "    #Construct Loss\n",
    "    lstm_model.compile(loss = losses.categorical_crossentropy,\n",
    "                         optimizer = 'adam',\n",
    "                         metrics = ['accuracy'])\n",
    "    \n",
    "    return lstm_model\n",
    "\n",
    "kfold_print(skf, X_train, Y, create_model, 200, 32, False)"
   ]
  },
  {
   "cell_type": "code",
   "execution_count": 40,
   "metadata": {},
   "outputs": [
    {
     "name": "stdout",
     "output_type": "stream",
     "text": [
      "2516/2516 [==============================] - 5s 2ms/step\n",
      "(Training, Validation) accuracies: (79.16,70.39)\n",
      "2516/2516 [==============================] - 5s 2ms/step\n",
      "(Training, Validation) accuracies: (78.61,70.51)\n",
      "2515/2515 [==============================] - 5s 2ms/step\n",
      "(Training, Validation) accuracies: (80.02,68.11)\n",
      "2515/2515 [==============================] - 5s 2ms/step\n",
      "(Training, Validation) accuracies: (78.10,70.06)\n",
      "2514/2514 [==============================] - 5s 2ms/step\n",
      "(Training, Validation) accuracies: (78.95,67.06)\n",
      "Mean Training Accuracy: 78.97 +/- 0.64\n",
      "Mean Validation Accuracy: 69.23 +/- 1.39\n"
     ]
    }
   ],
   "source": [
    "def create_model():\n",
    "    lstm_model = Sequential()\n",
    "    lstm_model.add(LSTM(200, \n",
    "                        input_shape = (11, 96), \n",
    "                        dropout = 0.75))\n",
    "    lstm_model.add(Dense(units = 20,\n",
    "                        activation = 'relu'))\n",
    "    lstm_model.add(Dropout(0.5))\n",
    "    lstm_model.add(Dense(units = 2, \n",
    "                    activation='softmax'))\n",
    "    #Construct Loss\n",
    "    lstm_model.compile(loss = losses.categorical_crossentropy,\n",
    "                         optimizer = 'adam',\n",
    "                         metrics = ['accuracy'])\n",
    "    \n",
    "    return lstm_model\n",
    "\n",
    "kfold_print(skf, X_train, Y, create_model, 200, 32, False)"
   ]
  },
  {
   "cell_type": "code",
   "execution_count": 41,
   "metadata": {},
   "outputs": [
    {
     "name": "stdout",
     "output_type": "stream",
     "text": [
      "2516/2516 [==============================] - 5s 2ms/step\n",
      "(Training, Validation) accuracies: (84.09,67.45)\n",
      "2516/2516 [==============================] - 5s 2ms/step\n",
      "(Training, Validation) accuracies: (83.55,69.95)\n",
      "2515/2515 [==============================] - 5s 2ms/step\n",
      "(Training, Validation) accuracies: (83.33,67.91)\n",
      "2515/2515 [==============================] - 5s 2ms/step\n",
      "(Training, Validation) accuracies: (82.40,68.43)\n",
      "2514/2514 [==============================] - 5s 2ms/step\n",
      "(Training, Validation) accuracies: (83.68,68.34)\n",
      "Mean Training Accuracy: 83.41 +/- 0.56\n",
      "Mean Validation Accuracy: 68.42 +/- 0.84\n"
     ]
    }
   ],
   "source": [
    "def create_model():\n",
    "    lstm_model = Sequential()\n",
    "    lstm_model.add(LSTM(300, \n",
    "                        input_shape = (11, 96), \n",
    "                        dropout = 0.75))\n",
    "    lstm_model.add(Dense(units = 20,\n",
    "                        activation = 'relu'))\n",
    "    lstm_model.add(Dropout(0.5))\n",
    "    lstm_model.add(Dense(units = 2, \n",
    "                    activation='softmax'))\n",
    "    #Construct Loss\n",
    "    lstm_model.compile(loss = losses.categorical_crossentropy,\n",
    "                         optimizer = 'adam',\n",
    "                         metrics = ['accuracy'])\n",
    "    \n",
    "    return lstm_model\n",
    "\n",
    "kfold_print(skf, X_train, Y, create_model, 200, 32, False)"
   ]
  },
  {
   "cell_type": "code",
   "execution_count": 18,
   "metadata": {},
   "outputs": [
    {
     "name": "stdout",
     "output_type": "stream",
     "text": [
      "2516/2516 [==============================] - 1s 468us/step\n",
      "(Training, Validation) accuracies: (70.37,72.14)\n",
      "2516/2516 [==============================] - 1s 458us/step\n",
      "(Training, Validation) accuracies: (70.11,71.07)\n",
      "2515/2515 [==============================] - 1s 466us/step\n",
      "(Training, Validation) accuracies: (70.35,69.66)\n",
      "2515/2515 [==============================] - 1s 487us/step\n",
      "(Training, Validation) accuracies: (71.11,71.09)\n",
      "2514/2514 [==============================] - 1s 484us/step\n",
      "(Training, Validation) accuracies: (71.21,68.50)\n",
      "Mean Training Accuracy: 70.63 +/- 0.44\n",
      "Mean Validation Accuracy: 70.49 +/- 1.27\n"
     ]
    }
   ],
   "source": [
    "def create_model():\n",
    "    lstm_model = Sequential()\n",
    "    lstm_model.add(LSTM(30, \n",
    "                        input_shape = (11, 96), \n",
    "                        dropout = 0.75))\n",
    "    lstm_model.add(Dense(units = 2, \n",
    "                    activation='softmax'))\n",
    "    #Construct Loss\n",
    "    lstm_model.compile(loss = losses.categorical_crossentropy,\n",
    "                         optimizer = 'adam',\n",
    "                         metrics = ['accuracy'])\n",
    "    \n",
    "    return lstm_model\n",
    "\n",
    "kfold_print(skf, X_train, Y, create_model, 200, 32, False)"
   ]
  },
  {
   "cell_type": "code",
   "execution_count": 19,
   "metadata": {},
   "outputs": [
    {
     "name": "stdout",
     "output_type": "stream",
     "text": [
      "2516/2516 [==============================] - 1s 500us/step\n",
      "(Training, Validation) accuracies: (71.88,72.22)\n",
      "2516/2516 [==============================] - 1s 517us/step\n",
      "(Training, Validation) accuracies: (71.79,71.46)\n",
      "2515/2515 [==============================] - 1s 569us/step\n",
      "(Training, Validation) accuracies: (72.61,69.26)\n",
      "2515/2515 [==============================] - 1s 542us/step\n",
      "(Training, Validation) accuracies: (72.53,70.66)\n",
      "2514/2514 [==============================] - 1s 556us/step\n",
      "(Training, Validation) accuracies: (72.99,67.94)\n",
      "Mean Training Accuracy: 72.36 +/- 0.46\n",
      "Mean Validation Accuracy: 70.31 +/- 1.54\n"
     ]
    }
   ],
   "source": [
    "def create_model():\n",
    "    lstm_model = Sequential()\n",
    "    lstm_model.add(LSTM(50, \n",
    "                        input_shape = (11, 96), \n",
    "                        dropout = 0.75))\n",
    "    lstm_model.add(Dense(units = 2, \n",
    "                    activation='softmax'))\n",
    "    #Construct Loss\n",
    "    lstm_model.compile(loss = losses.categorical_crossentropy,\n",
    "                         optimizer = 'adam',\n",
    "                         metrics = ['accuracy'])\n",
    "    \n",
    "    return lstm_model\n",
    "\n",
    "kfold_print(skf, X_train, Y, create_model, 200, 32, False)"
   ]
  },
  {
   "cell_type": "code",
   "execution_count": 20,
   "metadata": {},
   "outputs": [
    {
     "name": "stdout",
     "output_type": "stream",
     "text": [
      "2516/2516 [==============================] - 1s 556us/step\n",
      "(Training, Validation) accuracies: (73.12,70.99)\n",
      "2516/2516 [==============================] - 1s 572us/step\n",
      "(Training, Validation) accuracies: (73.79,71.90)\n",
      "2515/2515 [==============================] - 1s 595us/step\n",
      "(Training, Validation) accuracies: (74.11,69.30)\n",
      "2515/2515 [==============================] - 2s 611us/step\n",
      "(Training, Validation) accuracies: (73.89,70.02)\n",
      "2514/2514 [==============================] - 2s 617us/step\n",
      "(Training, Validation) accuracies: (74.18,68.02)\n",
      "Mean Training Accuracy: 73.82 +/- 0.38\n",
      "Mean Validation Accuracy: 70.05 +/- 1.34\n"
     ]
    }
   ],
   "source": [
    "def create_model():\n",
    "    lstm_model = Sequential()\n",
    "    lstm_model.add(LSTM(75, \n",
    "                        input_shape = (11, 96), \n",
    "                        dropout = 0.75))\n",
    "    lstm_model.add(Dense(units = 2, \n",
    "                    activation='softmax'))\n",
    "    #Construct Loss\n",
    "    lstm_model.compile(loss = losses.categorical_crossentropy,\n",
    "                         optimizer = 'adam',\n",
    "                         metrics = ['accuracy'])\n",
    "    \n",
    "    return lstm_model\n",
    "\n",
    "kfold_print(skf, X_train, Y, create_model, 200, 32, False)"
   ]
  },
  {
   "cell_type": "code",
   "execution_count": 21,
   "metadata": {},
   "outputs": [
    {
     "name": "stdout",
     "output_type": "stream",
     "text": [
      "2516/2516 [==============================] - 2s 655us/step\n",
      "(Training, Validation) accuracies: (76.18,70.03)\n",
      "2516/2516 [==============================] - 2s 646us/step\n",
      "(Training, Validation) accuracies: (76.09,70.47)\n",
      "2515/2515 [==============================] - 2s 663us/step\n",
      "(Training, Validation) accuracies: (75.82,68.99)\n",
      "2515/2515 [==============================] - 2s 651us/step\n",
      "(Training, Validation) accuracies: (76.49,70.66)\n",
      "2514/2514 [==============================] - 2s 680us/step\n",
      "(Training, Validation) accuracies: (77.12,67.18)\n",
      "Mean Training Accuracy: 76.34 +/- 0.45\n",
      "Mean Validation Accuracy: 69.47 +/- 1.28\n"
     ]
    }
   ],
   "source": [
    "def create_model():\n",
    "    lstm_model = Sequential()\n",
    "    lstm_model.add(LSTM(100, \n",
    "                        input_shape = (11, 96), \n",
    "                        dropout = 0.75))\n",
    "    lstm_model.add(Dense(units = 2, \n",
    "                    activation='softmax'))\n",
    "    #Construct Loss\n",
    "    lstm_model.compile(loss = losses.categorical_crossentropy,\n",
    "                         optimizer = 'adam',\n",
    "                         metrics = ['accuracy'])\n",
    "    \n",
    "    return lstm_model\n",
    "\n",
    "kfold_print(skf, X_train, Y, create_model, 200, 32, False)"
   ]
  },
  {
   "cell_type": "code",
   "execution_count": 22,
   "metadata": {},
   "outputs": [
    {
     "name": "stdout",
     "output_type": "stream",
     "text": [
      "2516/2516 [==============================] - 2s 705us/step\n",
      "(Training, Validation) accuracies: (79.77,69.59)\n",
      "2516/2516 [==============================] - 2s 709us/step\n",
      "(Training, Validation) accuracies: (79.86,70.11)\n",
      "2515/2515 [==============================] - 2s 725us/step\n",
      "(Training, Validation) accuracies: (78.80,68.91)\n",
      "2515/2515 [==============================] - 2s 723us/step\n",
      "(Training, Validation) accuracies: (80.12,68.59)\n",
      "2514/2514 [==============================] - 2s 740us/step\n",
      "(Training, Validation) accuracies: (81.03,67.10)\n",
      "Mean Training Accuracy: 79.92 +/- 0.71\n",
      "Mean Validation Accuracy: 68.86 +/- 1.03\n"
     ]
    }
   ],
   "source": [
    "def create_model():\n",
    "    lstm_model = Sequential()\n",
    "    lstm_model.add(LSTM(150, \n",
    "                        input_shape = (11, 96), \n",
    "                        dropout = 0.75))\n",
    "    lstm_model.add(Dense(units = 2, \n",
    "                    activation='softmax'))\n",
    "    #Construct Loss\n",
    "    lstm_model.compile(loss = losses.categorical_crossentropy,\n",
    "                         optimizer = 'adam',\n",
    "                         metrics = ['accuracy'])\n",
    "    \n",
    "    return lstm_model\n",
    "\n",
    "kfold_print(skf, X_train, Y, create_model, 200, 32, False)"
   ]
  },
  {
   "cell_type": "code",
   "execution_count": 42,
   "metadata": {},
   "outputs": [
    {
     "name": "stdout",
     "output_type": "stream",
     "text": [
      "2516/2516 [==============================] - 5s 2ms/step\n",
      "(Training, Validation) accuracies: (84.28,69.40)\n",
      "2516/2516 [==============================] - 5s 2ms/step\n",
      "(Training, Validation) accuracies: (83.51,67.33)\n",
      "2515/2515 [==============================] - 5s 2ms/step\n",
      "(Training, Validation) accuracies: (84.22,69.66)\n",
      "2515/2515 [==============================] - 5s 2ms/step\n",
      "(Training, Validation) accuracies: (84.70,68.23)\n",
      "2514/2514 [==============================] - 5s 2ms/step\n",
      "(Training, Validation) accuracies: (83.96,68.06)\n",
      "Mean Training Accuracy: 84.13 +/- 0.39\n",
      "Mean Validation Accuracy: 68.54 +/- 0.87\n"
     ]
    }
   ],
   "source": [
    "def create_model():\n",
    "    lstm_model = Sequential()\n",
    "    lstm_model.add(LSTM(200, \n",
    "                        input_shape = (11, 96), \n",
    "                        dropout = 0.75))\n",
    "    lstm_model.add(Dense(units = 2, \n",
    "                    activation='softmax'))\n",
    "    #Construct Loss\n",
    "    lstm_model.compile(loss = losses.categorical_crossentropy,\n",
    "                         optimizer = 'adam',\n",
    "                         metrics = ['accuracy'])\n",
    "    \n",
    "    return lstm_model\n",
    "\n",
    "kfold_print(skf, X_train, Y, create_model, 200, 32, False)"
   ]
  },
  {
   "cell_type": "code",
   "execution_count": 43,
   "metadata": {},
   "outputs": [
    {
     "name": "stdout",
     "output_type": "stream",
     "text": [
      "2516/2516 [==============================] - 5s 2ms/step\n",
      "(Training, Validation) accuracies: (89.28,68.00)\n",
      "2516/2516 [==============================] - 5s 2ms/step\n",
      "(Training, Validation) accuracies: (88.89,69.04)\n",
      "2515/2515 [==============================] - 5s 2ms/step\n",
      "(Training, Validation) accuracies: (89.53,67.44)\n",
      "2515/2515 [==============================] - 6s 2ms/step\n",
      "(Training, Validation) accuracies: (89.20,68.83)\n",
      "2514/2514 [==============================] - 5s 2ms/step\n",
      "(Training, Validation) accuracies: (88.63,66.87)\n",
      "Mean Training Accuracy: 89.11 +/- 0.32\n",
      "Mean Validation Accuracy: 68.03 +/- 0.82\n"
     ]
    }
   ],
   "source": [
    "def create_model():\n",
    "    lstm_model = Sequential()\n",
    "    lstm_model.add(LSTM(300, \n",
    "                        input_shape = (11, 96), \n",
    "                        dropout = 0.75))\n",
    "    lstm_model.add(Dense(units = 2, \n",
    "                    activation='softmax'))\n",
    "    #Construct Loss\n",
    "    lstm_model.compile(loss = losses.categorical_crossentropy,\n",
    "                         optimizer = 'adam',\n",
    "                         metrics = ['accuracy'])\n",
    "    \n",
    "    return lstm_model\n",
    "\n",
    "kfold_print(skf, X_train, Y, create_model, 200, 32, False)"
   ]
  },
  {
   "cell_type": "markdown",
   "metadata": {},
   "source": [
    "# 10sec subsequences - Aggregation = Mean"
   ]
  },
  {
   "cell_type": "code",
   "execution_count": 24,
   "metadata": {},
   "outputs": [],
   "source": [
    "X_train = X.reshape((len(X), 11, 10, -1), order = 'F')\n",
    "X_train = X_train.mean(axis = 2)"
   ]
  },
  {
   "cell_type": "code",
   "execution_count": 25,
   "metadata": {},
   "outputs": [
    {
     "name": "stdout",
     "output_type": "stream",
     "text": [
      "2516/2516 [==============================] - 2s 775us/step\n",
      "(Training, Validation) accuracies: (68.93,69.87)\n",
      "2516/2516 [==============================] - 2s 765us/step\n",
      "(Training, Validation) accuracies: (69.41,71.26)\n",
      "2515/2515 [==============================] - 2s 801us/step\n",
      "(Training, Validation) accuracies: (69.82,70.46)\n",
      "2515/2515 [==============================] - 2s 808us/step\n",
      "(Training, Validation) accuracies: (70.12,70.22)\n",
      "2514/2514 [==============================] - 2s 817us/step\n",
      "(Training, Validation) accuracies: (70.93,68.14)\n",
      "Mean Training Accuracy: 69.84 +/- 0.68\n",
      "Mean Validation Accuracy: 69.99 +/- 1.03\n"
     ]
    }
   ],
   "source": [
    "def create_model():\n",
    "    lstm_model = Sequential()\n",
    "    lstm_model.add(LSTM(30, \n",
    "                        input_shape = (11, 144), \n",
    "                        dropout = 0.75))\n",
    "    lstm_model.add(Dense(units = 20,\n",
    "                        activation = 'relu'))\n",
    "    lstm_model.add(Dropout(0.5))\n",
    "    lstm_model.add(Dense(units = 2, \n",
    "                    activation='softmax'))\n",
    "    #Construct Loss\n",
    "    lstm_model.compile(loss = losses.categorical_crossentropy,\n",
    "                         optimizer = 'adam',\n",
    "                         metrics = ['accuracy'])\n",
    "    \n",
    "    return lstm_model\n",
    "\n",
    "kfold_print(skf, X_train, Y, create_model, 200, 32, False)"
   ]
  },
  {
   "cell_type": "code",
   "execution_count": 26,
   "metadata": {},
   "outputs": [
    {
     "name": "stdout",
     "output_type": "stream",
     "text": [
      "2516/2516 [==============================] - 2s 836us/step\n",
      "(Training, Validation) accuracies: (70.95,72.10)\n",
      "2516/2516 [==============================] - 2s 858us/step\n",
      "(Training, Validation) accuracies: (71.34,70.75)\n",
      "2515/2515 [==============================] - 2s 867us/step\n",
      "(Training, Validation) accuracies: (71.55,69.74)\n",
      "2515/2515 [==============================] - 2s 887us/step\n",
      "(Training, Validation) accuracies: (71.65,70.50)\n",
      "2514/2514 [==============================] - 2s 897us/step\n",
      "(Training, Validation) accuracies: (72.53,67.46)\n",
      "Mean Training Accuracy: 71.61 +/- 0.52\n",
      "Mean Validation Accuracy: 70.11 +/- 1.53\n"
     ]
    }
   ],
   "source": [
    "def create_model():\n",
    "    lstm_model = Sequential()\n",
    "    lstm_model.add(LSTM(50, \n",
    "                        input_shape = (11, 144), \n",
    "                        dropout = 0.75))\n",
    "    lstm_model.add(Dense(units = 20,\n",
    "                        activation = 'relu'))\n",
    "    lstm_model.add(Dropout(0.5))\n",
    "    lstm_model.add(Dense(units = 2, \n",
    "                    activation='softmax'))\n",
    "    #Construct Loss\n",
    "    lstm_model.compile(loss = losses.categorical_crossentropy,\n",
    "                         optimizer = 'adam',\n",
    "                         metrics = ['accuracy'])\n",
    "    \n",
    "    return lstm_model\n",
    "\n",
    "kfold_print(skf, X_train, Y, create_model, 200, 32, False)"
   ]
  },
  {
   "cell_type": "code",
   "execution_count": 27,
   "metadata": {},
   "outputs": [
    {
     "name": "stdout",
     "output_type": "stream",
     "text": [
      "2516/2516 [==============================] - 2s 907us/step\n",
      "(Training, Validation) accuracies: (72.31,71.07)\n",
      "2516/2516 [==============================] - 2s 919us/step\n",
      "(Training, Validation) accuracies: (71.47,70.35)\n",
      "2515/2515 [==============================] - 2s 959us/step\n",
      "(Training, Validation) accuracies: (73.23,69.82)\n",
      "2515/2515 [==============================] - 2s 943us/step\n",
      "(Training, Validation) accuracies: (72.75,70.30)\n",
      "2514/2514 [==============================] - 2s 970us/step\n",
      "(Training, Validation) accuracies: (73.50,68.62)\n",
      "Mean Training Accuracy: 72.65 +/- 0.72\n",
      "Mean Validation Accuracy: 70.03 +/- 0.81\n"
     ]
    }
   ],
   "source": [
    "def create_model():\n",
    "    lstm_model = Sequential()\n",
    "    lstm_model.add(LSTM(75, \n",
    "                        input_shape = (11, 144), \n",
    "                        dropout = 0.75))\n",
    "    lstm_model.add(Dense(units = 20,\n",
    "                        activation = 'relu'))\n",
    "    lstm_model.add(Dropout(0.5))\n",
    "    lstm_model.add(Dense(units = 2, \n",
    "                    activation='softmax'))\n",
    "    #Construct Loss\n",
    "    lstm_model.compile(loss = losses.categorical_crossentropy,\n",
    "                         optimizer = 'adam',\n",
    "                         metrics = ['accuracy'])\n",
    "    \n",
    "    return lstm_model\n",
    "\n",
    "kfold_print(skf, X_train, Y, create_model, 200, 32, False)"
   ]
  },
  {
   "cell_type": "code",
   "execution_count": 28,
   "metadata": {},
   "outputs": [
    {
     "name": "stdout",
     "output_type": "stream",
     "text": [
      "2516/2516 [==============================] - 2s 986us/step\n",
      "(Training, Validation) accuracies: (73.84,71.22)\n",
      "2516/2516 [==============================] - 3s 1ms/step\n",
      "(Training, Validation) accuracies: (73.34,70.51)\n",
      "2515/2515 [==============================] - 3s 1ms/step\n",
      "(Training, Validation) accuracies: (73.73,69.78)\n",
      "2515/2515 [==============================] - 3s 1ms/step\n",
      "(Training, Validation) accuracies: (73.68,69.66)\n",
      "2514/2514 [==============================] - 3s 1ms/step\n",
      "(Training, Validation) accuracies: (74.13,68.26)\n",
      "Mean Training Accuracy: 73.74 +/- 0.26\n",
      "Mean Validation Accuracy: 69.89 +/- 0.99\n"
     ]
    }
   ],
   "source": [
    "def create_model():\n",
    "    lstm_model = Sequential()\n",
    "    lstm_model.add(LSTM(100, \n",
    "                        input_shape = (11, 144), \n",
    "                        dropout = 0.75))\n",
    "    lstm_model.add(Dense(units = 20,\n",
    "                        activation = 'relu'))\n",
    "    lstm_model.add(Dropout(0.5))\n",
    "    lstm_model.add(Dense(units = 2, \n",
    "                    activation='softmax'))\n",
    "    #Construct Loss\n",
    "    lstm_model.compile(loss = losses.categorical_crossentropy,\n",
    "                         optimizer = 'adam',\n",
    "                         metrics = ['accuracy'])\n",
    "    \n",
    "    return lstm_model\n",
    "\n",
    "kfold_print(skf, X_train, Y, create_model, 200, 32, False)"
   ]
  },
  {
   "cell_type": "code",
   "execution_count": 29,
   "metadata": {},
   "outputs": [
    {
     "name": "stdout",
     "output_type": "stream",
     "text": [
      "2516/2516 [==============================] - 3s 1ms/step\n",
      "(Training, Validation) accuracies: (77.04,71.30)\n",
      "2516/2516 [==============================] - 3s 1ms/step\n",
      "(Training, Validation) accuracies: (75.78,69.91)\n",
      "2515/2515 [==============================] - 3s 1ms/step\n",
      "(Training, Validation) accuracies: (77.18,68.67)\n",
      "2515/2515 [==============================] - 3s 1ms/step\n",
      "(Training, Validation) accuracies: (75.16,68.79)\n",
      "2514/2514 [==============================] - 3s 1ms/step\n",
      "(Training, Validation) accuracies: (77.20,66.35)\n",
      "Mean Training Accuracy: 76.47 +/- 0.84\n",
      "Mean Validation Accuracy: 69.00 +/- 1.63\n"
     ]
    }
   ],
   "source": [
    "def create_model():\n",
    "    lstm_model = Sequential()\n",
    "    lstm_model.add(LSTM(150, \n",
    "                        input_shape = (11, 144), \n",
    "                        dropout = 0.75))\n",
    "    lstm_model.add(Dense(units = 20,\n",
    "                        activation = 'relu'))\n",
    "    lstm_model.add(Dropout(0.5))\n",
    "    lstm_model.add(Dense(units = 2, \n",
    "                    activation='softmax'))\n",
    "    #Construct Loss\n",
    "    lstm_model.compile(loss = losses.categorical_crossentropy,\n",
    "                         optimizer = 'adam',\n",
    "                         metrics = ['accuracy'])\n",
    "    \n",
    "    return lstm_model\n",
    "\n",
    "kfold_print(skf, X_train, Y, create_model, 200, 32, False)"
   ]
  },
  {
   "cell_type": "code",
   "execution_count": 37,
   "metadata": {},
   "outputs": [
    {
     "name": "stdout",
     "output_type": "stream",
     "text": [
      "2516/2516 [==============================] - 4s 2ms/step\n",
      "(Training, Validation) accuracies: (79.77,69.99)\n",
      "2516/2516 [==============================] - 4s 2ms/step\n",
      "(Training, Validation) accuracies: (78.99,70.67)\n",
      "2515/2515 [==============================] - 4s 2ms/step\n",
      "(Training, Validation) accuracies: (78.54,69.34)\n",
      "2515/2515 [==============================] - 4s 2ms/step\n",
      "(Training, Validation) accuracies: (78.75,70.10)\n",
      "2514/2514 [==============================] - 4s 2ms/step\n",
      "(Training, Validation) accuracies: (79.81,68.14)\n",
      "Mean Training Accuracy: 79.17 +/- 0.52\n",
      "Mean Validation Accuracy: 69.65 +/- 0.86\n"
     ]
    }
   ],
   "source": [
    "def create_model():\n",
    "    lstm_model = Sequential()\n",
    "    lstm_model.add(LSTM(200, \n",
    "                        input_shape = (11, 144), \n",
    "                        dropout = 0.75))\n",
    "    lstm_model.add(Dense(units = 20,\n",
    "                        activation = 'relu'))\n",
    "    lstm_model.add(Dropout(0.5))\n",
    "    lstm_model.add(Dense(units = 2, \n",
    "                    activation='softmax'))\n",
    "    #Construct Loss\n",
    "    lstm_model.compile(loss = losses.categorical_crossentropy,\n",
    "                         optimizer = 'adam',\n",
    "                         metrics = ['accuracy'])\n",
    "    \n",
    "    return lstm_model\n",
    "\n",
    "kfold_print(skf, X_train, Y, create_model, 200, 32, False)"
   ]
  },
  {
   "cell_type": "code",
   "execution_count": 38,
   "metadata": {},
   "outputs": [
    {
     "name": "stdout",
     "output_type": "stream",
     "text": [
      "2516/2516 [==============================] - 4s 2ms/step\n",
      "(Training, Validation) accuracies: (83.49,69.12)\n",
      "2516/2516 [==============================] - 4s 2ms/step\n",
      "(Training, Validation) accuracies: (82.03,69.59)\n",
      "2515/2515 [==============================] - 4s 2ms/step\n",
      "(Training, Validation) accuracies: (83.20,69.74)\n",
      "2515/2515 [==============================] - 4s 2ms/step\n",
      "(Training, Validation) accuracies: (82.37,68.47)\n",
      "2514/2514 [==============================] - 4s 2ms/step\n",
      "(Training, Validation) accuracies: (83.75,66.55)\n",
      "Mean Training Accuracy: 82.97 +/- 0.66\n",
      "Mean Validation Accuracy: 68.69 +/- 1.16\n"
     ]
    }
   ],
   "source": [
    "def create_model():\n",
    "    lstm_model = Sequential()\n",
    "    lstm_model.add(LSTM(300, \n",
    "                        input_shape = (11, 144), \n",
    "                        dropout = 0.75))\n",
    "    lstm_model.add(Dense(units = 20,\n",
    "                        activation = 'relu'))\n",
    "    lstm_model.add(Dropout(0.5))\n",
    "    lstm_model.add(Dense(units = 2, \n",
    "                    activation='softmax'))\n",
    "    #Construct Loss\n",
    "    lstm_model.compile(loss = losses.categorical_crossentropy,\n",
    "                         optimizer = 'adam',\n",
    "                         metrics = ['accuracy'])\n",
    "    \n",
    "    return lstm_model\n",
    "\n",
    "kfold_print(skf, X_train, Y, create_model, 200, 32, False)"
   ]
  },
  {
   "cell_type": "code",
   "execution_count": 30,
   "metadata": {},
   "outputs": [
    {
     "name": "stdout",
     "output_type": "stream",
     "text": [
      "2516/2516 [==============================] - 3s 1ms/step\n",
      "(Training, Validation) accuracies: (69.70,70.43)\n",
      "2516/2516 [==============================] - 3s 1ms/step\n",
      "(Training, Validation) accuracies: (69.92,70.75)\n",
      "2515/2515 [==============================] - 3s 1ms/step\n",
      "(Training, Validation) accuracies: (71.33,69.82)\n",
      "2515/2515 [==============================] - 3s 1ms/step\n",
      "(Training, Validation) accuracies: (70.56,70.10)\n",
      "2514/2514 [==============================] - 3s 1ms/step\n",
      "(Training, Validation) accuracies: (71.29,68.66)\n",
      "Mean Training Accuracy: 70.56 +/- 0.67\n",
      "Mean Validation Accuracy: 69.95 +/- 0.72\n"
     ]
    }
   ],
   "source": [
    "def create_model():\n",
    "    lstm_model = Sequential()\n",
    "    lstm_model.add(LSTM(30, \n",
    "                        input_shape = (11, 144), \n",
    "                        dropout = 0.75))\n",
    "    lstm_model.add(Dense(units = 2, \n",
    "                    activation='softmax'))\n",
    "    #Construct Loss\n",
    "    lstm_model.compile(loss = losses.categorical_crossentropy,\n",
    "                         optimizer = 'adam',\n",
    "                         metrics = ['accuracy'])\n",
    "    \n",
    "    return lstm_model\n",
    "\n",
    "kfold_print(skf, X_train, Y, create_model, 200, 32, False)"
   ]
  },
  {
   "cell_type": "code",
   "execution_count": 31,
   "metadata": {},
   "outputs": [
    {
     "name": "stdout",
     "output_type": "stream",
     "text": [
      "2516/2516 [==============================] - 3s 1ms/step\n",
      "(Training, Validation) accuracies: (71.40,71.30)\n",
      "2516/2516 [==============================] - 3s 1ms/step\n",
      "(Training, Validation) accuracies: (71.96,70.55)\n",
      "2515/2515 [==============================] - 3s 1ms/step\n",
      "(Training, Validation) accuracies: (72.30,69.58)\n",
      "2515/2515 [==============================] - 3s 1ms/step\n",
      "(Training, Validation) accuracies: (72.34,71.09)\n",
      "2514/2514 [==============================] - 3s 1ms/step\n",
      "(Training, Validation) accuracies: (72.88,68.14)\n",
      "Mean Training Accuracy: 72.18 +/- 0.49\n",
      "Mean Validation Accuracy: 70.13 +/- 1.16\n"
     ]
    }
   ],
   "source": [
    "def create_model():\n",
    "    lstm_model = Sequential()\n",
    "    lstm_model.add(LSTM(50, \n",
    "                        input_shape = (11, 144), \n",
    "                        dropout = 0.75))\n",
    "    lstm_model.add(Dense(units = 2, \n",
    "                    activation='softmax'))\n",
    "    #Construct Loss\n",
    "    lstm_model.compile(loss = losses.categorical_crossentropy,\n",
    "                         optimizer = 'adam',\n",
    "                         metrics = ['accuracy'])\n",
    "    \n",
    "    return lstm_model\n",
    "\n",
    "kfold_print(skf, X_train, Y, create_model, 200, 32, False)"
   ]
  },
  {
   "cell_type": "code",
   "execution_count": 32,
   "metadata": {},
   "outputs": [
    {
     "name": "stdout",
     "output_type": "stream",
     "text": [
      "2516/2516 [==============================] - 3s 1ms/step\n",
      "(Training, Validation) accuracies: (73.59,71.30)\n",
      "2516/2516 [==============================] - 3s 1ms/step\n",
      "(Training, Validation) accuracies: (73.43,70.11)\n",
      "2515/2515 [==============================] - 3s 1ms/step\n",
      "(Training, Validation) accuracies: (73.58,70.18)\n",
      "2515/2515 [==============================] - 3s 1ms/step\n",
      "(Training, Validation) accuracies: (74.17,70.02)\n",
      "2514/2514 [==============================] - 3s 1ms/step\n",
      "(Training, Validation) accuracies: (74.54,67.66)\n",
      "Mean Training Accuracy: 73.86 +/- 0.42\n",
      "Mean Validation Accuracy: 69.85 +/- 1.19\n"
     ]
    }
   ],
   "source": [
    "def create_model():\n",
    "    lstm_model = Sequential()\n",
    "    lstm_model.add(LSTM(75, \n",
    "                        input_shape = (11, 144), \n",
    "                        dropout = 0.75))\n",
    "    lstm_model.add(Dense(units = 2, \n",
    "                    activation='softmax'))\n",
    "    #Construct Loss\n",
    "    lstm_model.compile(loss = losses.categorical_crossentropy,\n",
    "                         optimizer = 'adam',\n",
    "                         metrics = ['accuracy'])\n",
    "    \n",
    "    return lstm_model\n",
    "\n",
    "kfold_print(skf, X_train, Y, create_model, 200, 32, False)"
   ]
  },
  {
   "cell_type": "code",
   "execution_count": 33,
   "metadata": {},
   "outputs": [
    {
     "name": "stdout",
     "output_type": "stream",
     "text": [
      "2516/2516 [==============================] - 3s 1ms/step\n",
      "(Training, Validation) accuracies: (75.46,70.71)\n",
      "2516/2516 [==============================] - 3s 1ms/step\n",
      "(Training, Validation) accuracies: (75.72,70.71)\n",
      "2515/2515 [==============================] - 3s 1ms/step\n",
      "(Training, Validation) accuracies: (75.76,69.03)\n",
      "2515/2515 [==============================] - 4s 1ms/step\n",
      "(Training, Validation) accuracies: (76.07,69.86)\n",
      "2514/2514 [==============================] - 5s 2ms/step\n",
      "(Training, Validation) accuracies: (75.96,68.06)\n",
      "Mean Training Accuracy: 75.79 +/- 0.21\n",
      "Mean Validation Accuracy: 69.67 +/- 1.02\n"
     ]
    }
   ],
   "source": [
    "def create_model():\n",
    "    lstm_model = Sequential()\n",
    "    lstm_model.add(LSTM(100, \n",
    "                        input_shape = (11, 144), \n",
    "                        dropout = 0.75))\n",
    "    lstm_model.add(Dense(units = 2, \n",
    "                    activation='softmax'))\n",
    "    #Construct Loss\n",
    "    lstm_model.compile(loss = losses.categorical_crossentropy,\n",
    "                         optimizer = 'adam',\n",
    "                         metrics = ['accuracy'])\n",
    "    \n",
    "    return lstm_model\n",
    "\n",
    "kfold_print(skf, X_train, Y, create_model, 200, 32, False)"
   ]
  },
  {
   "cell_type": "code",
   "execution_count": 34,
   "metadata": {},
   "outputs": [
    {
     "name": "stdout",
     "output_type": "stream",
     "text": [
      "2516/2516 [==============================] - 4s 1ms/step\n",
      "(Training, Validation) accuracies: (80.01,71.18)\n",
      "2516/2516 [==============================] - 4s 1ms/step\n",
      "(Training, Validation) accuracies: (79.48,69.79)\n",
      "2515/2515 [==============================] - 4s 1ms/step\n",
      "(Training, Validation) accuracies: (79.73,68.83)\n",
      "2515/2515 [==============================] - 4s 1ms/step\n",
      "(Training, Validation) accuracies: (80.03,69.11)\n",
      "2514/2514 [==============================] - 4s 1ms/step\n",
      "(Training, Validation) accuracies: (80.15,67.18)\n",
      "Mean Training Accuracy: 79.88 +/- 0.24\n",
      "Mean Validation Accuracy: 69.22 +/- 1.30\n"
     ]
    }
   ],
   "source": [
    "def create_model():\n",
    "    lstm_model = Sequential()\n",
    "    lstm_model.add(LSTM(150, \n",
    "                        input_shape = (11, 144), \n",
    "                        dropout = 0.75))\n",
    "    lstm_model.add(Dense(units = 2, \n",
    "                    activation='softmax'))\n",
    "    #Construct Loss\n",
    "    lstm_model.compile(loss = losses.categorical_crossentropy,\n",
    "                         optimizer = 'adam',\n",
    "                         metrics = ['accuracy'])\n",
    "    \n",
    "    return lstm_model\n",
    "\n",
    "kfold_print(skf, X_train, Y, create_model, 200, 32, False)"
   ]
  },
  {
   "cell_type": "code",
   "execution_count": 35,
   "metadata": {},
   "outputs": [
    {
     "name": "stdout",
     "output_type": "stream",
     "text": [
      "2516/2516 [==============================] - 4s 1ms/step\n",
      "(Training, Validation) accuracies: (82.70,69.40)\n",
      "2516/2516 [==============================] - 4s 1ms/step\n",
      "(Training, Validation) accuracies: (82.89,70.55)\n",
      "2515/2515 [==============================] - 4s 2ms/step\n",
      "(Training, Validation) accuracies: (82.82,69.82)\n",
      "2515/2515 [==============================] - 4s 2ms/step\n",
      "(Training, Validation) accuracies: (82.89,68.59)\n",
      "2514/2514 [==============================] - 4s 2ms/step\n",
      "(Training, Validation) accuracies: (83.34,66.47)\n",
      "Mean Training Accuracy: 82.93 +/- 0.22\n",
      "Mean Validation Accuracy: 68.96 +/- 1.40\n"
     ]
    }
   ],
   "source": [
    "def create_model():\n",
    "    lstm_model = Sequential()\n",
    "    lstm_model.add(LSTM(200, \n",
    "                        input_shape = (11, 144), \n",
    "                        dropout = 0.75))\n",
    "    lstm_model.add(Dense(units = 2, \n",
    "                    activation='softmax'))\n",
    "    #Construct Loss\n",
    "    lstm_model.compile(loss = losses.categorical_crossentropy,\n",
    "                         optimizer = 'adam',\n",
    "                         metrics = ['accuracy'])\n",
    "    \n",
    "    return lstm_model\n",
    "\n",
    "kfold_print(skf, X_train, Y, create_model, 200, 32, False)"
   ]
  },
  {
   "cell_type": "code",
   "execution_count": 36,
   "metadata": {},
   "outputs": [
    {
     "name": "stdout",
     "output_type": "stream",
     "text": [
      "2516/2516 [==============================] - 4s 2ms/step\n",
      "(Training, Validation) accuracies: (88.42,68.00)\n",
      "2516/2516 [==============================] - 4s 2ms/step\n",
      "(Training, Validation) accuracies: (88.58,69.24)\n",
      "2515/2515 [==============================] - 5s 2ms/step\n",
      "(Training, Validation) accuracies: (88.79,68.71)\n",
      "2515/2515 [==============================] - 4s 2ms/step\n",
      "(Training, Validation) accuracies: (89.23,68.35)\n",
      "2514/2514 [==============================] - 4s 2ms/step\n",
      "(Training, Validation) accuracies: (89.59,65.35)\n",
      "Mean Training Accuracy: 88.92 +/- 0.43\n",
      "Mean Validation Accuracy: 67.93 +/- 1.35\n"
     ]
    }
   ],
   "source": [
    "def create_model():\n",
    "    lstm_model = Sequential()\n",
    "    lstm_model.add(LSTM(300, \n",
    "                        input_shape = (11, 144), \n",
    "                        dropout = 0.75))\n",
    "    lstm_model.add(Dense(units = 2, \n",
    "                    activation='softmax'))\n",
    "    #Construct Loss\n",
    "    lstm_model.compile(loss = losses.categorical_crossentropy,\n",
    "                         optimizer = 'adam',\n",
    "                         metrics = ['accuracy'])\n",
    "    \n",
    "    return lstm_model\n",
    "\n",
    "kfold_print(skf, X_train, Y, create_model, 200, 32, False)"
   ]
  },
  {
   "cell_type": "markdown",
   "metadata": {},
   "source": [
    "# 20 sec subsequences - Aggregation = Mean"
   ]
  },
  {
   "cell_type": "code",
   "execution_count": 7,
   "metadata": {},
   "outputs": [],
   "source": [
    "X_train = X.reshape((len(X), 11, 20, -1), order = 'F')\n",
    "X_train = X_train.mean(axis = 2)"
   ]
  },
  {
   "cell_type": "code",
   "execution_count": 13,
   "metadata": {},
   "outputs": [
    {
     "name": "stdout",
     "output_type": "stream",
     "text": [
      "2516/2516 [==============================] - 0s 133us/step\n",
      "(Training, Validation) accuracies: (72.68,71.94)\n",
      "2516/2516 [==============================] - 0s 145us/step\n",
      "(Training, Validation) accuracies: (72.42,71.82)\n",
      "2515/2515 [==============================] - 0s 159us/step\n",
      "(Training, Validation) accuracies: (72.58,69.54)\n",
      "2515/2515 [==============================] - 0s 169us/step\n",
      "(Training, Validation) accuracies: (73.09,70.30)\n",
      "2514/2514 [==============================] - 0s 180us/step\n",
      "(Training, Validation) accuracies: (73.51,68.62)\n",
      "Mean Training Accuracy: 72.86 +/- 0.40\n",
      "Mean Validation Accuracy: 70.44 +/- 1.29\n"
     ]
    }
   ],
   "source": [
    "def create_model():\n",
    "    lstm_model = Sequential()\n",
    "    lstm_model.add(LSTM(100, \n",
    "                        input_shape = (11, 72), \n",
    "                        dropout = 0.75))\n",
    "    lstm_model.add(Dense(units = 75,\n",
    "                        activation = 'relu'))\n",
    "    lstm_model.add(Dropout(0.75))\n",
    "    lstm_model.add(Dense(units = 2, \n",
    "                    activation='softmax'))\n",
    "    #Construct Loss\n",
    "    lstm_model.compile(loss = losses.categorical_crossentropy,\n",
    "                         optimizer = 'adam',\n",
    "                         metrics = ['accuracy'])\n",
    "    \n",
    "    return lstm_model\n",
    "\n",
    "kfold_print(skf, X_train, Y, create_model, 200, 32, False)"
   ]
  },
  {
   "cell_type": "code",
   "execution_count": 14,
   "metadata": {},
   "outputs": [
    {
     "name": "stdout",
     "output_type": "stream",
     "text": [
      "2516/2516 [==============================] - 0s 193us/step\n",
      "(Training, Validation) accuracies: (73.14,71.38)\n",
      "2516/2516 [==============================] - 1s 206us/step\n",
      "(Training, Validation) accuracies: (72.77,72.30)\n",
      "2515/2515 [==============================] - 1s 217us/step\n",
      "(Training, Validation) accuracies: (73.81,70.89)\n",
      "2515/2515 [==============================] - 1s 230us/step\n",
      "(Training, Validation) accuracies: (73.19,70.74)\n",
      "2514/2514 [==============================] - 1s 243us/step\n",
      "(Training, Validation) accuracies: (73.69,67.70)\n",
      "Mean Training Accuracy: 73.32 +/- 0.38\n",
      "Mean Validation Accuracy: 70.60 +/- 1.55\n"
     ]
    }
   ],
   "source": [
    "def create_model():\n",
    "    lstm_model = Sequential()\n",
    "    lstm_model.add(LSTM(100, \n",
    "                        input_shape = (11, 72), \n",
    "                        dropout = 0.75))\n",
    "    lstm_model.add(Dense(units = 100,\n",
    "                        activation = 'relu'))\n",
    "    lstm_model.add(Dropout(0.75))\n",
    "    lstm_model.add(Dense(units = 2, \n",
    "                    activation='softmax'))\n",
    "    #Construct Loss\n",
    "    lstm_model.compile(loss = losses.categorical_crossentropy,\n",
    "                         optimizer = 'adam',\n",
    "                         metrics = ['accuracy'])\n",
    "    \n",
    "    return lstm_model\n",
    "\n",
    "kfold_print(skf, X_train, Y, create_model, 200, 32, False)"
   ]
  },
  {
   "cell_type": "code",
   "execution_count": 15,
   "metadata": {},
   "outputs": [
    {
     "name": "stdout",
     "output_type": "stream",
     "text": [
      "2516/2516 [==============================] - 1s 259us/step\n",
      "(Training, Validation) accuracies: (75.69,70.03)\n",
      "2516/2516 [==============================] - 1s 267us/step\n",
      "(Training, Validation) accuracies: (74.56,71.62)\n",
      "2515/2515 [==============================] - 1s 280us/step\n",
      "(Training, Validation) accuracies: (75.89,69.70)\n",
      "2515/2515 [==============================] - 1s 296us/step\n",
      "(Training, Validation) accuracies: (74.35,70.06)\n",
      "2514/2514 [==============================] - 1s 317us/step\n",
      "(Training, Validation) accuracies: (75.72,67.74)\n",
      "Mean Training Accuracy: 75.24 +/- 0.65\n",
      "Mean Validation Accuracy: 69.83 +/- 1.24\n"
     ]
    }
   ],
   "source": [
    "def create_model():\n",
    "    lstm_model = Sequential()\n",
    "    lstm_model.add(LSTM(150, \n",
    "                        input_shape = (11, 72), \n",
    "                        dropout = 0.75))\n",
    "    lstm_model.add(Dense(units = 150,\n",
    "                        activation = 'relu'))\n",
    "    lstm_model.add(Dropout(0.75))\n",
    "    lstm_model.add(Dense(units = 2, \n",
    "                    activation='softmax'))\n",
    "    #Construct Loss\n",
    "    lstm_model.compile(loss = losses.categorical_crossentropy,\n",
    "                         optimizer = 'adam',\n",
    "                         metrics = ['accuracy'])\n",
    "    \n",
    "    return lstm_model\n",
    "\n",
    "kfold_print(skf, X_train, Y, create_model, 200, 32, False)"
   ]
  },
  {
   "cell_type": "code",
   "execution_count": 16,
   "metadata": {},
   "outputs": [
    {
     "name": "stdout",
     "output_type": "stream",
     "text": [
      "2516/2516 [==============================] - 1s 319us/step\n",
      "(Training, Validation) accuracies: (74.48,70.87)\n",
      "2516/2516 [==============================] - 1s 326us/step\n",
      "(Training, Validation) accuracies: (74.68,72.02)\n",
      "2515/2515 [==============================] - 1s 350us/step\n",
      "(Training, Validation) accuracies: (74.89,70.14)\n",
      "2515/2515 [==============================] - 1s 358us/step\n",
      "(Training, Validation) accuracies: (73.99,70.30)\n",
      "2514/2514 [==============================] - 1s 387us/step\n",
      "(Training, Validation) accuracies: (75.86,68.02)\n",
      "Mean Training Accuracy: 74.78 +/- 0.62\n",
      "Mean Validation Accuracy: 70.27 +/- 1.30\n"
     ]
    }
   ],
   "source": [
    "def create_model():\n",
    "    lstm_model = Sequential()\n",
    "    lstm_model.add(LSTM(150, \n",
    "                        input_shape = (11, 72), \n",
    "                        dropout = 0.75))\n",
    "    lstm_model.add(Dense(units = 100,\n",
    "                        activation = 'relu'))\n",
    "    lstm_model.add(Dropout(0.75))\n",
    "    lstm_model.add(Dense(units = 2, \n",
    "                    activation='softmax'))\n",
    "    #Construct Loss\n",
    "    lstm_model.compile(loss = losses.categorical_crossentropy,\n",
    "                         optimizer = 'adam',\n",
    "                         metrics = ['accuracy'])\n",
    "    \n",
    "    return lstm_model\n",
    "\n",
    "kfold_print(skf, X_train, Y, create_model, 200, 32, False)"
   ]
  },
  {
   "cell_type": "code",
   "execution_count": null,
   "metadata": {},
   "outputs": [],
   "source": []
  }
 ],
 "metadata": {
  "kernelspec": {
   "display_name": "Python 3",
   "language": "python",
   "name": "python3"
  },
  "language_info": {
   "codemirror_mode": {
    "name": "ipython",
    "version": 3
   },
   "file_extension": ".py",
   "mimetype": "text/x-python",
   "name": "python",
   "nbconvert_exporter": "python",
   "pygments_lexer": "ipython3",
   "version": "3.5.2"
  }
 },
 "nbformat": 4,
 "nbformat_minor": 2
}
