{
 "cells": [
  {
   "cell_type": "markdown",
   "metadata": {},
   "source": [
    "# Discrete Wavelet Transform"
   ]
  },
  {
   "cell_type": "code",
   "execution_count": 3,
   "metadata": {
    "collapsed": true
   },
   "outputs": [],
   "source": [
    "import sys\n",
    "sys.chdir('../')\n",
    "\n",
    "import numpy as np\n",
    "import pandas as pd\n",
    "import matplotlib.pyplot as plt\n",
    "from src.utils import preprocess\n",
    "import pywt\n",
    "\n",
    "from keras.utils import np_utils\n",
    "from keras.models import Sequential\n",
    "from keras.layers import Conv2D, BatchNormalization, Dropout, Flatten, Dense, LSTM\n",
    "from keras import losses\n",
    "\n",
    "from sklearn.neural_network import MLPClassifier\n",
    "from sklearn.linear_model import LogisticRegression\n",
    "from sklearn.model_selection import StratifiedKFold\n",
    "from sklearn.ensemble import GradientBoostingClassifier\n",
    "from sklearn.ensemble import RandomForestClassifier"
   ]
  },
  {
   "cell_type": "markdown",
   "metadata": {},
   "source": [
    "## Loading data"
   ]
  },
  {
   "cell_type": "code",
   "execution_count": 4,
   "metadata": {
    "collapsed": true
   },
   "outputs": [],
   "source": [
    "# Open files\n",
    "Data_X_train = pd.read_csv('data/challenge_fichier_dentrees_dentrainement_challenge_nba/train.csv')\n",
    "Data_Y_train = pd.read_csv('data/challenge_fichier_de_sortie_dentrainement_challenge_nba.csv', sep=';')\n",
    "X_test = pd.read_csv('data/challenge_fichiers_dentrees_de_test_challenge_nba/test.csv')"
   ]
  },
  {
   "cell_type": "code",
   "execution_count": 5,
   "metadata": {},
   "outputs": [
    {
     "data": {
      "text/html": [
       "<div>\n",
       "<style scoped>\n",
       "    .dataframe tbody tr th:only-of-type {\n",
       "        vertical-align: middle;\n",
       "    }\n",
       "\n",
       "    .dataframe tbody tr th {\n",
       "        vertical-align: top;\n",
       "    }\n",
       "\n",
       "    .dataframe thead th {\n",
       "        text-align: right;\n",
       "    }\n",
       "</style>\n",
       "<table border=\"1\" class=\"dataframe\">\n",
       "  <thead>\n",
       "    <tr style=\"text-align: right;\">\n",
       "      <th></th>\n",
       "      <th>ID</th>\n",
       "      <th>score_1</th>\n",
       "      <th>offensive rebound_1</th>\n",
       "      <th>assist_1</th>\n",
       "      <th>miss_1</th>\n",
       "      <th>score_2</th>\n",
       "      <th>offensive rebound_2</th>\n",
       "      <th>assist_2</th>\n",
       "      <th>miss_2</th>\n",
       "      <th>score_3</th>\n",
       "      <th>...</th>\n",
       "      <th>assist_1438</th>\n",
       "      <th>miss_1438</th>\n",
       "      <th>score_1439</th>\n",
       "      <th>offensive rebound_1439</th>\n",
       "      <th>assist_1439</th>\n",
       "      <th>miss_1439</th>\n",
       "      <th>score_1440</th>\n",
       "      <th>offensive rebound_1440</th>\n",
       "      <th>assist_1440</th>\n",
       "      <th>miss_1440</th>\n",
       "    </tr>\n",
       "  </thead>\n",
       "  <tbody>\n",
       "    <tr>\n",
       "      <th>0</th>\n",
       "      <td>14186</td>\n",
       "      <td>-2</td>\n",
       "      <td>0</td>\n",
       "      <td>0</td>\n",
       "      <td>0</td>\n",
       "      <td>-2</td>\n",
       "      <td>0</td>\n",
       "      <td>0</td>\n",
       "      <td>0</td>\n",
       "      <td>-2</td>\n",
       "      <td>...</td>\n",
       "      <td>-4</td>\n",
       "      <td>9</td>\n",
       "      <td>-16</td>\n",
       "      <td>8</td>\n",
       "      <td>-4</td>\n",
       "      <td>9</td>\n",
       "      <td>-13</td>\n",
       "      <td>8</td>\n",
       "      <td>-3</td>\n",
       "      <td>9</td>\n",
       "    </tr>\n",
       "    <tr>\n",
       "      <th>1</th>\n",
       "      <td>13013</td>\n",
       "      <td>0</td>\n",
       "      <td>0</td>\n",
       "      <td>0</td>\n",
       "      <td>1</td>\n",
       "      <td>0</td>\n",
       "      <td>0</td>\n",
       "      <td>0</td>\n",
       "      <td>1</td>\n",
       "      <td>0</td>\n",
       "      <td>...</td>\n",
       "      <td>2</td>\n",
       "      <td>0</td>\n",
       "      <td>-5</td>\n",
       "      <td>1</td>\n",
       "      <td>1</td>\n",
       "      <td>0</td>\n",
       "      <td>-5</td>\n",
       "      <td>1</td>\n",
       "      <td>1</td>\n",
       "      <td>-1</td>\n",
       "    </tr>\n",
       "    <tr>\n",
       "      <th>2</th>\n",
       "      <td>7102</td>\n",
       "      <td>0</td>\n",
       "      <td>0</td>\n",
       "      <td>0</td>\n",
       "      <td>0</td>\n",
       "      <td>0</td>\n",
       "      <td>0</td>\n",
       "      <td>0</td>\n",
       "      <td>0</td>\n",
       "      <td>0</td>\n",
       "      <td>...</td>\n",
       "      <td>0</td>\n",
       "      <td>-5</td>\n",
       "      <td>5</td>\n",
       "      <td>-1</td>\n",
       "      <td>0</td>\n",
       "      <td>-5</td>\n",
       "      <td>5</td>\n",
       "      <td>-1</td>\n",
       "      <td>0</td>\n",
       "      <td>-5</td>\n",
       "    </tr>\n",
       "    <tr>\n",
       "      <th>3</th>\n",
       "      <td>7637</td>\n",
       "      <td>-2</td>\n",
       "      <td>0</td>\n",
       "      <td>0</td>\n",
       "      <td>0</td>\n",
       "      <td>-2</td>\n",
       "      <td>0</td>\n",
       "      <td>0</td>\n",
       "      <td>0</td>\n",
       "      <td>-2</td>\n",
       "      <td>...</td>\n",
       "      <td>-1</td>\n",
       "      <td>-1</td>\n",
       "      <td>-1</td>\n",
       "      <td>2</td>\n",
       "      <td>-1</td>\n",
       "      <td>-1</td>\n",
       "      <td>-1</td>\n",
       "      <td>2</td>\n",
       "      <td>-1</td>\n",
       "      <td>-1</td>\n",
       "    </tr>\n",
       "    <tr>\n",
       "      <th>4</th>\n",
       "      <td>12350</td>\n",
       "      <td>0</td>\n",
       "      <td>0</td>\n",
       "      <td>0</td>\n",
       "      <td>1</td>\n",
       "      <td>0</td>\n",
       "      <td>0</td>\n",
       "      <td>0</td>\n",
       "      <td>1</td>\n",
       "      <td>0</td>\n",
       "      <td>...</td>\n",
       "      <td>4</td>\n",
       "      <td>4</td>\n",
       "      <td>1</td>\n",
       "      <td>4</td>\n",
       "      <td>4</td>\n",
       "      <td>4</td>\n",
       "      <td>1</td>\n",
       "      <td>4</td>\n",
       "      <td>4</td>\n",
       "      <td>3</td>\n",
       "    </tr>\n",
       "  </tbody>\n",
       "</table>\n",
       "<p>5 rows × 5761 columns</p>\n",
       "</div>"
      ],
      "text/plain": [
       "      ID  score_1  offensive rebound_1  assist_1  miss_1  score_2  \\\n",
       "0  14186       -2                    0         0       0       -2   \n",
       "1  13013        0                    0         0       1        0   \n",
       "2   7102        0                    0         0       0        0   \n",
       "3   7637       -2                    0         0       0       -2   \n",
       "4  12350        0                    0         0       1        0   \n",
       "\n",
       "   offensive rebound_2  assist_2  miss_2  score_3    ...      assist_1438  \\\n",
       "0                    0         0       0       -2    ...               -4   \n",
       "1                    0         0       1        0    ...                2   \n",
       "2                    0         0       0        0    ...                0   \n",
       "3                    0         0       0       -2    ...               -1   \n",
       "4                    0         0       1        0    ...                4   \n",
       "\n",
       "   miss_1438  score_1439  offensive rebound_1439  assist_1439  miss_1439  \\\n",
       "0          9         -16                       8           -4          9   \n",
       "1          0          -5                       1            1          0   \n",
       "2         -5           5                      -1            0         -5   \n",
       "3         -1          -1                       2           -1         -1   \n",
       "4          4           1                       4            4          4   \n",
       "\n",
       "   score_1440  offensive rebound_1440  assist_1440  miss_1440  \n",
       "0         -13                       8           -3          9  \n",
       "1          -5                       1            1         -1  \n",
       "2           5                      -1            0         -5  \n",
       "3          -1                       2           -1         -1  \n",
       "4           1                       4            4          3  \n",
       "\n",
       "[5 rows x 5761 columns]"
      ]
     },
     "execution_count": 5,
     "metadata": {},
     "output_type": "execute_result"
    }
   ],
   "source": [
    "kept_features = ('ID','miss', 'score', 'assist', 'offensive rebound')\n",
    "filter_col = [col for col in Data_X_train if col.startswith(kept_features)]\n",
    "Data_X_train_reduced = Data_X_train[filter_col]\n",
    "Data_X_train_reduced.head()"
   ]
  },
  {
   "cell_type": "code",
   "execution_count": 6,
   "metadata": {
    "collapsed": true
   },
   "outputs": [],
   "source": [
    "X, Y, _, _ = preprocess(Data_X_train_reduced, Data_Y_train, 1)\n",
    "nb_games = len(X)"
   ]
  },
  {
   "cell_type": "markdown",
   "metadata": {},
   "source": [
    "## K folds"
   ]
  },
  {
   "cell_type": "code",
   "execution_count": 7,
   "metadata": {
    "collapsed": true
   },
   "outputs": [],
   "source": [
    "skf = StratifiedKFold(n_splits = 5, shuffle = True, random_state = 7)"
   ]
  },
  {
   "cell_type": "code",
   "execution_count": 8,
   "metadata": {
    "collapsed": true
   },
   "outputs": [],
   "source": [
    "def evaluate_model(model, X, Y, skf) :\n",
    "    accs_train = []\n",
    "    accs_val = []\n",
    "    for train, val in skf.split(X, Y) :\n",
    "        model.fit(X[train], Y[train])\n",
    "        acc_train = model.score(X[train], Y[train])\n",
    "        acc_val = model.score(X[val], Y[val])\n",
    "        accs_train.append(acc_train)\n",
    "        accs_val.append(acc_val)\n",
    "        print('(Training, Validation) accuracies: ({0:.2f},{1:.2f})'.format(100*acc_train, 100*acc_val))\n",
    "\n",
    "    print('Mean Training Accuracy: {0:.2f} +/- {1:.2f}'.format(100*np.mean(accs_train), 100*np.std(accs_train)))\n",
    "    print('Mean Validation Accuracy: {0:.2f} +/- {1:.2f}'.format(100*np.mean(accs_val), 100*np.std(accs_val)))   "
   ]
  },
  {
   "cell_type": "markdown",
   "metadata": {},
   "source": [
    "## Create Wavelet"
   ]
  },
  {
   "cell_type": "code",
   "execution_count": 12,
   "metadata": {
    "collapsed": true
   },
   "outputs": [],
   "source": [
    "def create_wavelet_features(wav_type, data_X_train, features, nb_freq, tw) :\n",
    "    X_DWT = []\n",
    "    for feat in features :\n",
    "        filter_col = [col for col in Data_X_train if col.startswith(feat)]\n",
    "        for i in range(int(1440/tw)) :        \n",
    "            X_feat = data_X_train[filter_col].as_matrix()[:,i*tw:(i+1)*tw]\n",
    "            cA, cD = pywt.dwt(X_feat, wav_type)\n",
    "            X_DWT.append(cA[:,:nb_freq])\n",
    "            X_DWT.append(cD[:,:nb_freq])\n",
    "    X_wt = np.hstack(X_DWT)   \n",
    "    return X_wt"
   ]
  },
  {
   "cell_type": "markdown",
   "metadata": {},
   "source": [
    "# Mix features in frequence and time"
   ]
  },
  {
   "cell_type": "code",
   "execution_count": 10,
   "metadata": {
    "collapsed": true
   },
   "outputs": [],
   "source": [
    "tw = 240 # 4min\n",
    "nb_freq = 100 # 50 first features"
   ]
  },
  {
   "cell_type": "markdown",
   "metadata": {},
   "source": [
    "### Haar Wavelet"
   ]
  },
  {
   "cell_type": "code",
   "execution_count": 13,
   "metadata": {
    "collapsed": true
   },
   "outputs": [],
   "source": [
    "main_features = ['miss', 'score', 'assist', 'offensive rebound'] # , 'defensive rebound', 'offensive foul', 'defensive foul', 'lost ball', 'steals', 'bad pass', 'block']\n",
    "\n",
    "X_wt = create_wavelet_features('haar', Data_X_train, main_features, nb_freq, tw)"
   ]
  },
  {
   "cell_type": "markdown",
   "metadata": {},
   "source": [
    "### Logistic Regression"
   ]
  },
  {
   "cell_type": "code",
   "execution_count": 35,
   "metadata": {},
   "outputs": [
    {
     "name": "stdout",
     "output_type": "stream",
     "text": [
      "(Training, Validation) accuracies: (55.40,52.23)\n",
      "(Training, Validation) accuracies: (55.28,51.19)\n",
      "(Training, Validation) accuracies: (55.09,51.49)\n",
      "(Training, Validation) accuracies: (55.32,52.68)\n",
      "(Training, Validation) accuracies: (55.03,52.27)\n",
      "Mean Training Accuracy: 55.22 +/- 0.14\n",
      "Mean Validation Accuracy: 51.97 +/- 0.55\n"
     ]
    }
   ],
   "source": [
    "c = 1e-5\n",
    "LR = LogisticRegression(C=c)\n",
    "evaluate_model(LR, X_wt, Y, skf)"
   ]
  },
  {
   "cell_type": "markdown",
   "metadata": {},
   "source": [
    "## Mix time and frequency features"
   ]
  },
  {
   "cell_type": "markdown",
   "metadata": {},
   "source": [
    "**Aggregate time features by subsequence of 10 seconds**"
   ]
  },
  {
   "cell_type": "code",
   "execution_count": 14,
   "metadata": {
    "collapsed": true
   },
   "outputs": [],
   "source": [
    "X_seq = X.reshape((nb_games, 4, 10, -1), order = 'F')\n",
    "X_seq = X_seq.mean(axis = 2)\n",
    "X_seq = X_seq.reshape(nb_games, 576)\n",
    "X_tot = np.concatenate((X_seq, X_wt), axis = 1)"
   ]
  },
  {
   "cell_type": "markdown",
   "metadata": {},
   "source": [
    "### Logistic Regression"
   ]
  },
  {
   "cell_type": "code",
   "execution_count": 15,
   "metadata": {
    "collapsed": true
   },
   "outputs": [],
   "source": [
    "skf = StratifiedKFold(n_splits = 5, shuffle = True, random_state = 7)"
   ]
  },
  {
   "cell_type": "code",
   "execution_count": 16,
   "metadata": {},
   "outputs": [
    {
     "name": "stdout",
     "output_type": "stream",
     "text": [
      "(Training, Validation) accuracies: (72.52,71.46)\n",
      "(Training, Validation) accuracies: (72.88,70.67)\n",
      "(Training, Validation) accuracies: (72.60,71.61)\n",
      "(Training, Validation) accuracies: (71.91,73.76)\n",
      "(Training, Validation) accuracies: (72.51,72.35)\n",
      "Mean Training Accuracy: 72.49 +/- 0.32\n",
      "Mean Validation Accuracy: 71.97 +/- 1.04\n"
     ]
    }
   ],
   "source": [
    "c = 1e-5\n",
    "LR = LogisticRegression(C=c)\n",
    "evaluate_model(LR, X_tot, Y, skf)"
   ]
  },
  {
   "cell_type": "markdown",
   "metadata": {},
   "source": [
    "### Random Forest CLassifier"
   ]
  },
  {
   "cell_type": "code",
   "execution_count": null,
   "metadata": {},
   "outputs": [
    {
     "name": "stdout",
     "output_type": "stream",
     "text": [
      "(Training, Validation) accuracies: (74.25,72.62)\n",
      "(Training, Validation) accuracies: (74.26,71.58)\n",
      "(Training, Validation) accuracies: (74.49,71.81)\n",
      "(Training, Validation) accuracies: (74.35,71.57)\n",
      "(Training, Validation) accuracies: (74.58,70.88)\n",
      "Mean Training Accuracy: 74.39 +/- 0.13\n",
      "Mean Validation Accuracy: 71.69 +/- 0.56\n"
     ]
    }
   ],
   "source": [
    "rdmforest = RandomForestClassifier(n_estimators = 1000, max_depth = 6)\n",
    "evaluate_model(rdmforest, X_tot, Y, skf)"
   ]
  },
  {
   "cell_type": "markdown",
   "metadata": {},
   "source": [
    "### MLP CLassifier"
   ]
  },
  {
   "cell_type": "code",
   "execution_count": 17,
   "metadata": {},
   "outputs": [
    {
     "name": "stdout",
     "output_type": "stream",
     "text": [
      "(Training, Validation) accuracies: (71.99,70.63)\n",
      "(Training, Validation) accuracies: (72.29,70.03)\n",
      "(Training, Validation) accuracies: (71.63,71.09)\n",
      "(Training, Validation) accuracies: (71.95,71.85)\n",
      "(Training, Validation) accuracies: (71.93,71.64)\n",
      "Mean Training Accuracy: 71.96 +/- 0.21\n",
      "Mean Validation Accuracy: 71.05 +/- 0.66\n"
     ]
    }
   ],
   "source": [
    "MLP = MLPClassifier(hidden_layer_sizes = (50,20), \n",
    "                     alpha = 10)\n",
    "evaluate_model(MLP, X_tot, Y, skf)"
   ]
  },
  {
   "cell_type": "markdown",
   "metadata": {},
   "source": [
    "## Daubechies Wavelet"
   ]
  },
  {
   "cell_type": "code",
   "execution_count": 18,
   "metadata": {
    "collapsed": true
   },
   "outputs": [],
   "source": [
    "main_features = ['miss', 'score', 'assist', 'offensive rebound'] # , 'defensive rebound', 'offensive foul', 'defensive foul', 'lost ball', 'steals', 'bad pass', 'block']\n",
    "\n",
    "X_wt = create_wavelet_features('db1', Data_X_train, main_features, nb_freq, tw)"
   ]
  },
  {
   "cell_type": "code",
   "execution_count": 19,
   "metadata": {
    "collapsed": true
   },
   "outputs": [],
   "source": [
    "X_seq = X.reshape((nb_games, 4, 10, -1), order = 'F')\n",
    "X_seq = X_seq.mean(axis = 2)\n",
    "X_seq = X_seq.reshape(nb_games, 576)\n",
    "X_tot = np.concatenate((X_seq, X_wt), axis = 1)"
   ]
  },
  {
   "cell_type": "markdown",
   "metadata": {},
   "source": [
    "### Random Forest Classifier"
   ]
  },
  {
   "cell_type": "code",
   "execution_count": 20,
   "metadata": {},
   "outputs": [
    {
     "name": "stdout",
     "output_type": "stream",
     "text": [
      "(Training, Validation) accuracies: (74.62,71.46)\n",
      "(Training, Validation) accuracies: (74.52,70.87)\n",
      "(Training, Validation) accuracies: (74.56,71.93)\n",
      "(Training, Validation) accuracies: (73.97,72.25)\n",
      "(Training, Validation) accuracies: (74.31,72.12)\n",
      "Mean Training Accuracy: 74.40 +/- 0.24\n",
      "Mean Validation Accuracy: 71.72 +/- 0.50\n"
     ]
    }
   ],
   "source": [
    "rdmforest = RandomForestClassifier(n_estimators = 1000, max_depth = 6)\n",
    "evaluate_model(rdmforest, X_tot, Y, skf)"
   ]
  },
  {
   "cell_type": "markdown",
   "metadata": {},
   "source": [
    "### MLP Classifier"
   ]
  },
  {
   "cell_type": "code",
   "execution_count": 21,
   "metadata": {},
   "outputs": [
    {
     "name": "stdout",
     "output_type": "stream",
     "text": [
      "(Training, Validation) accuracies: (72.20,71.94)\n",
      "(Training, Validation) accuracies: (71.96,69.52)\n",
      "(Training, Validation) accuracies: (71.66,70.58)\n",
      "(Training, Validation) accuracies: (70.21,71.41)\n",
      "(Training, Validation) accuracies: (71.45,71.24)\n",
      "Mean Training Accuracy: 71.50 +/- 0.69\n",
      "Mean Validation Accuracy: 70.94 +/- 0.83\n"
     ]
    }
   ],
   "source": [
    "MLP = MLPClassifier(hidden_layer_sizes = (50,20), \n",
    "                     alpha = 10)\n",
    "evaluate_model(MLP, X_tot, Y, skf)"
   ]
  },
  {
   "cell_type": "markdown",
   "metadata": {},
   "source": [
    "### Logistic Regression"
   ]
  },
  {
   "cell_type": "code",
   "execution_count": 22,
   "metadata": {},
   "outputs": [
    {
     "name": "stdout",
     "output_type": "stream",
     "text": [
      "(Training, Validation) accuracies: (72.52,71.46)\n",
      "(Training, Validation) accuracies: (72.88,70.67)\n",
      "(Training, Validation) accuracies: (72.60,71.61)\n",
      "(Training, Validation) accuracies: (71.91,73.76)\n",
      "(Training, Validation) accuracies: (72.51,72.35)\n",
      "Mean Training Accuracy: 72.49 +/- 0.32\n",
      "Mean Validation Accuracy: 71.97 +/- 1.04\n"
     ]
    }
   ],
   "source": [
    "c = 1e-5\n",
    "LR = LogisticRegression(C=c)\n",
    "evaluate_model(LR, X_tot, Y, skf)"
   ]
  },
  {
   "cell_type": "markdown",
   "metadata": {},
   "source": [
    "## Biorthogonal Wavelet"
   ]
  },
  {
   "cell_type": "code",
   "execution_count": 23,
   "metadata": {
    "collapsed": true
   },
   "outputs": [],
   "source": [
    "main_features = ['miss', 'score', 'assist', 'offensive rebound']\n",
    "X_wt = create_wavelet_features('db1', Data_X_train, main_features, nb_freq, tw)"
   ]
  },
  {
   "cell_type": "code",
   "execution_count": 24,
   "metadata": {
    "collapsed": true
   },
   "outputs": [],
   "source": [
    "X_seq = X.reshape((nb_games, 4, 10, -1), order = 'F')\n",
    "X_seq = X_seq.mean(axis = 2)\n",
    "X_seq = X_seq.reshape(nb_games, 576)\n",
    "X_tot = np.concatenate((X_seq, X_wt), axis = 1)"
   ]
  },
  {
   "cell_type": "markdown",
   "metadata": {},
   "source": [
    "### Random Forest Classifier"
   ]
  },
  {
   "cell_type": "code",
   "execution_count": 25,
   "metadata": {},
   "outputs": [
    {
     "name": "stdout",
     "output_type": "stream",
     "text": [
      "(Training, Validation) accuracies: (74.64,71.50)\n",
      "(Training, Validation) accuracies: (74.52,71.03)\n",
      "(Training, Validation) accuracies: (74.54,71.89)\n",
      "(Training, Validation) accuracies: (74.11,72.64)\n",
      "(Training, Validation) accuracies: (74.29,72.16)\n",
      "Mean Training Accuracy: 74.42 +/- 0.19\n",
      "Mean Validation Accuracy: 71.84 +/- 0.55\n"
     ]
    }
   ],
   "source": [
    "rdmforest = RandomForestClassifier(n_estimators = 1000, max_depth = 6)\n",
    "evaluate_model(rdmforest, X_tot, Y, skf)"
   ]
  },
  {
   "cell_type": "markdown",
   "metadata": {},
   "source": [
    "### MLP CLassifier"
   ]
  },
  {
   "cell_type": "code",
   "execution_count": 26,
   "metadata": {},
   "outputs": [
    {
     "name": "stdout",
     "output_type": "stream",
     "text": [
      "(Training, Validation) accuracies: (72.62,71.50)\n",
      "(Training, Validation) accuracies: (71.99,69.40)\n",
      "(Training, Validation) accuracies: (71.89,70.78)\n",
      "(Training, Validation) accuracies: (71.56,73.28)\n",
      "(Training, Validation) accuracies: (71.81,71.12)\n",
      "Mean Training Accuracy: 71.98 +/- 0.35\n",
      "Mean Validation Accuracy: 71.22 +/- 1.25\n"
     ]
    }
   ],
   "source": [
    "MLP = MLPClassifier(hidden_layer_sizes = (50,20), \n",
    "                     alpha = 10)\n",
    "evaluate_model(MLP, X_tot, Y, skf)"
   ]
  },
  {
   "cell_type": "markdown",
   "metadata": {},
   "source": [
    "### Logistic Regression"
   ]
  },
  {
   "cell_type": "code",
   "execution_count": 27,
   "metadata": {},
   "outputs": [
    {
     "name": "stdout",
     "output_type": "stream",
     "text": [
      "(Training, Validation) accuracies: (72.52,71.46)\n",
      "(Training, Validation) accuracies: (72.88,70.67)\n",
      "(Training, Validation) accuracies: (72.60,71.61)\n",
      "(Training, Validation) accuracies: (71.91,73.76)\n",
      "(Training, Validation) accuracies: (72.51,72.35)\n",
      "Mean Training Accuracy: 72.49 +/- 0.32\n",
      "Mean Validation Accuracy: 71.97 +/- 1.04\n"
     ]
    }
   ],
   "source": [
    "c = 1e-5\n",
    "LR = LogisticRegression(C=c)\n",
    "evaluate_model(LR, X_tot, Y, skf)"
   ]
  }
 ],
 "metadata": {
  "kernelspec": {
   "display_name": "Python 3",
   "language": "python",
   "name": "python3"
  },
  "language_info": {
   "codemirror_mode": {
    "name": "ipython",
    "version": 3
   },
   "file_extension": ".py",
   "mimetype": "text/x-python",
   "name": "python",
   "nbconvert_exporter": "python",
   "pygments_lexer": "ipython3",
   "version": "3.5.2"
  }
 },
 "nbformat": 4,
 "nbformat_minor": 2
}
