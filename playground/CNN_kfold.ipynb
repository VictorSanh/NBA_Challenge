{
 "cells": [
  {
   "cell_type": "code",
   "execution_count": 23,
   "metadata": {},
   "outputs": [],
   "source": [
    "import sys\n",
    "sys.chdir('../')\n",
    "\n",
    "import numpy as np\n",
    "import pandas as pd\n",
    "import random\n",
    "import time \n",
    "\n",
    "from keras.utils import np_utils\n",
    "from keras.models import Sequential\n",
    "from keras.layers import Conv2D, MaxPooling2D, BatchNormalization, Dropout, Flatten, Dense\n",
    "from keras.optimizers import SGD\n",
    "from keras import losses\n",
    "from keras import regularizers\n",
    "from keras.constraints import max_norm\n",
    "from keras.wrappers.scikit_learn import KerasClassifier\n",
    "\n",
    "from sklearn.model_selection import StratifiedKFold\n",
    "\n",
    "random.seed(7)\n",
    "\n",
    "%matplotlib inline\n",
    "import matplotlib.pyplot as plt\n",
    "\n",
    "from src.utils import preprocess"
   ]
  },
  {
   "cell_type": "markdown",
   "metadata": {},
   "source": [
    "# Load Data"
   ]
  },
  {
   "cell_type": "code",
   "execution_count": 4,
   "metadata": {},
   "outputs": [],
   "source": [
    "X_train_pd = pd.read_csv('data/challenge_fichier_dentrees_dentrainement_challenge_nba/train.csv')\n",
    "Y_train_pd = pd.read_csv('data/challenge_fichier_de_sortie_dentrainement_challenge_nba.csv', sep=';')"
   ]
  },
  {
   "cell_type": "code",
   "execution_count": 5,
   "metadata": {},
   "outputs": [],
   "source": [
    "X, Y, _, _ = preprocess(X_train_pd, Y_train_pd, 1)"
   ]
  },
  {
   "cell_type": "code",
   "execution_count": 30,
   "metadata": {},
   "outputs": [],
   "source": [
    "X = X.reshape((len(X), 11, 1440, 1), order = 'F')"
   ]
  },
  {
   "cell_type": "markdown",
   "metadata": {},
   "source": [
    "# Defining k fold functions and evaluation functions"
   ]
  },
  {
   "cell_type": "code",
   "execution_count": 22,
   "metadata": {},
   "outputs": [],
   "source": [
    "def train_and_evaluate(model, X_train, Y_train, X_val, Y_val, epochs, batch_size, verbose):\n",
    "    training = model.fit(X_train, Y_train, epochs = epochs, batch_size = batch_size, verbose = verbose)\n",
    "    evalu = model.evaluate(X_val, Y_val)\n",
    "    \n",
    "    return training.history['acc'][-1], evalu[1]"
   ]
  },
  {
   "cell_type": "code",
   "execution_count": 25,
   "metadata": {},
   "outputs": [],
   "source": [
    "skf = StratifiedKFold(n_splits = 5, shuffle = True, random_state = 7)"
   ]
  },
  {
   "cell_type": "code",
   "execution_count": 46,
   "metadata": {},
   "outputs": [],
   "source": [
    "def kfold_print(skf_splitter, X, Y, create_model_func, epochs, batch_size, verbose):\n",
    "    accs_train = []\n",
    "    accs_val = []\n",
    "    for train, val in skf.split(X, Y):\n",
    "        model = create_model_func()\n",
    "        Y_train = np_utils.to_categorical(Y[train], 2)\n",
    "        Y_val = np_utils.to_categorical(Y[val], 2)\n",
    "        acc_train, acc_val = train_and_evaluate(model, \n",
    "                                                X[train], Y_train, X[val], Y_val, \n",
    "                                                epochs = epochs, batch_size = batch_size, verbose = verbose)\n",
    "\n",
    "        accs_train.append(acc_train)\n",
    "        accs_val.append(acc_val)\n",
    "        print('(Training, Validation) accuracies: ({0:.2f},{1:.2f})'.format(100*acc_train, 100*acc_val))\n",
    "\n",
    "    print('Mean Training Accuracy: {0:.2f} +/- {1:.2f}'.format(100*np.mean(accs_train), 100*np.std(accs_train)))\n",
    "    print('Mean Validation Accuracy: {0:.2f} +/- {1:.2f}'.format(100*np.mean(accs_val), 100*np.std(accs_val)))"
   ]
  },
  {
   "cell_type": "markdown",
   "metadata": {},
   "source": [
    "# Train CNN kfold"
   ]
  },
  {
   "cell_type": "code",
   "execution_count": 40,
   "metadata": {},
   "outputs": [
    {
     "name": "stdout",
     "output_type": "stream",
     "text": [
      "2516/2516 [==============================] - 1s 508us/step\n",
      "(Training, Validation) accuracies: (75.12,70.79)\n",
      "2516/2516 [==============================] - 1s 288us/step\n",
      "(Training, Validation) accuracies: (73.69,69.00)\n",
      "2515/2515 [==============================] - 1s 363us/step\n",
      "(Training, Validation) accuracies: (74.62,71.69)\n",
      "2515/2515 [==============================] - 1s 353us/step\n",
      "(Training, Validation) accuracies: (74.04,69.70)\n",
      "2514/2514 [==============================] - 1s 327us/step\n",
      "(Training, Validation) accuracies: (74.24,72.55)\n",
      "Mean Training Accuracy: 74.34 +/- 0.49\n",
      "Mean Validation Accuracy: 70.75 +/- 1.29\n"
     ]
    }
   ],
   "source": [
    "def create_model():\n",
    "    conv_model = Sequential()\n",
    "    conv_model.add(BatchNormalization(axis=1, \n",
    "                                      input_shape = (11, 1440, 1)))\n",
    "    conv_model.add(Conv2D(filters = 16, \n",
    "                     kernel_size = (11, 15), \n",
    "                     activation = 'relu'))\n",
    "    conv_model.add(Dropout(0.75))\n",
    "    conv_model.add(Flatten())\n",
    "    conv_model.add(Dense(units = 2, \n",
    "                    activation='softmax'))\n",
    "\n",
    "    #Construct Loss\n",
    "    conv_model.compile(loss = losses.categorical_crossentropy,\n",
    "                         optimizer = 'adam',\n",
    "                         metrics = ['accuracy'])\n",
    "    \n",
    "    return conv_model\n",
    "\n",
    "kfold_print(skf, X, Y, create_model, 200, 32, False)"
   ]
  },
  {
   "cell_type": "code",
   "execution_count": 42,
   "metadata": {},
   "outputs": [
    {
     "name": "stdout",
     "output_type": "stream",
     "text": [
      "2516/2516 [==============================] - 1s 353us/step\n",
      "(Training, Validation) accuracies: (73.62,70.75)\n",
      "2516/2516 [==============================] - 2s 857us/step\n",
      "(Training, Validation) accuracies: (74.04,71.03)\n",
      "2515/2515 [==============================] - 1s 342us/step\n",
      "(Training, Validation) accuracies: (73.49,72.92)\n",
      "2515/2515 [==============================] - 1s 357us/step\n",
      "(Training, Validation) accuracies: (73.61,72.01)\n",
      "2514/2514 [==============================] - 1s 366us/step\n",
      "(Training, Validation) accuracies: (73.47,72.00)\n",
      "Mean Training Accuracy: 73.65 +/- 0.20\n",
      "Mean Validation Accuracy: 71.74 +/- 0.78\n"
     ]
    }
   ],
   "source": [
    "def create_model():\n",
    "    conv_model = Sequential()\n",
    "    conv_model.add(BatchNormalization(axis=1, \n",
    "                                      input_shape = (11, 1440, 1)))\n",
    "    conv_model.add(Conv2D(filters = 16, \n",
    "                     kernel_size = (11, 10),\n",
    "                     strides = (1, 10),\n",
    "                     activation = 'relu'))\n",
    "    conv_model.add(Dropout(0.75))\n",
    "    conv_model.add(Flatten())\n",
    "    conv_model.add(Dense(units = 50, activation = 'relu'))\n",
    "    conv_model.add(Dropout(0.5))\n",
    "    conv_model.add(Dense(units = 2, \n",
    "                    activation='softmax'))\n",
    "    #Construct Loss\n",
    "    conv_model.compile(loss = losses.categorical_crossentropy,\n",
    "                         optimizer = 'adam',\n",
    "                         metrics = ['accuracy'])\n",
    "    return conv_model\n",
    "\n",
    "kfold_print(skf, X, Y, create_model, 200, 32, False)"
   ]
  },
  {
   "cell_type": "code",
   "execution_count": 48,
   "metadata": {},
   "outputs": [
    {
     "name": "stdout",
     "output_type": "stream",
     "text": [
      "2516/2516 [==============================] - 2s 617us/step\n",
      "(Training, Validation) accuracies: (74.66,71.50)\n",
      "2516/2516 [==============================] - 2s 666us/step\n",
      "(Training, Validation) accuracies: (75.49,70.95)\n",
      "2515/2515 [==============================] - 2s 649us/step\n",
      "(Training, Validation) accuracies: (75.07,71.81)\n",
      "2515/2515 [==============================] - 2s 767us/step\n",
      "(Training, Validation) accuracies: (74.52,72.41)\n",
      "2514/2514 [==============================] - 2s 683us/step\n",
      "(Training, Validation) accuracies: (74.20,72.35)\n",
      "Mean Training Accuracy: 74.79 +/- 0.45\n",
      "Mean Validation Accuracy: 71.80 +/- 0.55\n"
     ]
    }
   ],
   "source": [
    "def create_model():\n",
    "    conv_model = Sequential()\n",
    "    conv_model.add(BatchNormalization(axis=1, \n",
    "                                      input_shape = (11, 1440, 1)))\n",
    "    conv_model.add(Conv2D(filters = 16, \n",
    "                     kernel_size = (11, 10),\n",
    "                     strides = (1, 5),\n",
    "                     activation = 'relu'))\n",
    "    conv_model.add(Dropout(0.75))\n",
    "    conv_model.add(Flatten())\n",
    "    conv_model.add(Dense(units = 50, activation = 'relu'))\n",
    "    conv_model.add(Dropout(0.5))\n",
    "    conv_model.add(Dense(units = 2, \n",
    "                    activation='softmax'))\n",
    "    #Construct Loss\n",
    "    conv_model.compile(loss = losses.categorical_crossentropy,\n",
    "                         optimizer = 'adam',\n",
    "                         metrics = ['accuracy'])\n",
    "    return conv_model\n",
    "\n",
    "kfold_print(skf, X, Y, create_model, 200, 32, False)"
   ]
  },
  {
   "cell_type": "code",
   "execution_count": 49,
   "metadata": {},
   "outputs": [
    {
     "name": "stdout",
     "output_type": "stream",
     "text": [
      "2516/2516 [==============================] - 3s 1ms/step\n",
      "(Training, Validation) accuracies: (73.56,70.99)\n",
      "2516/2516 [==============================] - 4s 1ms/step\n",
      "(Training, Validation) accuracies: (74.89,70.47)\n",
      "2515/2515 [==============================] - 2s 799us/step\n",
      "(Training, Validation) accuracies: (73.89,71.57)\n",
      "2515/2515 [==============================] - 2s 774us/step\n",
      "(Training, Validation) accuracies: (74.27,71.21)\n",
      "2514/2514 [==============================] - 2s 898us/step\n",
      "(Training, Validation) accuracies: (72.95,73.31)\n",
      "Mean Training Accuracy: 73.91 +/- 0.65\n",
      "Mean Validation Accuracy: 71.51 +/- 0.97\n"
     ]
    }
   ],
   "source": [
    "def create_model():\n",
    "    conv_model = Sequential()\n",
    "    conv_model.add(BatchNormalization(axis=1, \n",
    "                                      input_shape = (11, 1440, 1)))\n",
    "    conv_model.add(Conv2D(filters = 16, \n",
    "                     kernel_size = (11, 15),\n",
    "                     strides = (1, 8),\n",
    "                     activation = 'relu'))\n",
    "    conv_model.add(Dropout(0.75))\n",
    "    conv_model.add(Flatten())\n",
    "    conv_model.add(Dense(units = 50, activation = 'relu'))\n",
    "    conv_model.add(Dropout(0.5))\n",
    "    conv_model.add(Dense(units = 2, \n",
    "                    activation='softmax'))\n",
    "    #Construct Loss\n",
    "    conv_model.compile(loss = losses.categorical_crossentropy,\n",
    "                         optimizer = 'adam',\n",
    "                         metrics = ['accuracy'])\n",
    "    return conv_model\n",
    "\n",
    "kfold_print(skf, X, Y, create_model, 200, 32, False)"
   ]
  },
  {
   "cell_type": "code",
   "execution_count": 50,
   "metadata": {},
   "outputs": [
    {
     "name": "stdout",
     "output_type": "stream",
     "text": [
      "2516/2516 [==============================] - 2s 878us/step\n",
      "(Training, Validation) accuracies: (75.54,71.07)\n",
      "2516/2516 [==============================] - 2s 878us/step\n",
      "(Training, Validation) accuracies: (75.42,70.43)\n",
      "2515/2515 [==============================] - 2s 848us/step\n",
      "(Training, Validation) accuracies: (76.24,71.45)\n",
      "2515/2515 [==============================] - 3s 1ms/step\n",
      "(Training, Validation) accuracies: (74.56,71.33)\n",
      "2514/2514 [==============================] - 3s 1ms/step\n",
      "(Training, Validation) accuracies: (75.87,71.60)\n",
      "Mean Training Accuracy: 75.52 +/- 0.56\n",
      "Mean Validation Accuracy: 71.18 +/- 0.41\n"
     ]
    }
   ],
   "source": [
    "def create_model():\n",
    "    conv_model = Sequential()\n",
    "    conv_model.add(BatchNormalization(axis=1, \n",
    "                                      input_shape = (11, 1440, 1)))\n",
    "    conv_model.add(Conv2D(filters = 16, \n",
    "                     kernel_size = (11, 20),\n",
    "                     strides = (1, 5),\n",
    "                     activation = 'relu'))\n",
    "    conv_model.add(Dropout(0.75))\n",
    "    conv_model.add(Flatten())\n",
    "    conv_model.add(Dense(units = 50, activation = 'relu'))\n",
    "    conv_model.add(Dropout(0.5))\n",
    "    conv_model.add(Dense(units = 2, \n",
    "                    activation='softmax'))\n",
    "    #Construct Loss\n",
    "    conv_model.compile(loss = losses.categorical_crossentropy,\n",
    "                         optimizer = 'adam',\n",
    "                         metrics = ['accuracy'])\n",
    "    return conv_model\n",
    "\n",
    "kfold_print(skf, X, Y, create_model, 200, 32, False)"
   ]
  },
  {
   "cell_type": "code",
   "execution_count": 51,
   "metadata": {},
   "outputs": [
    {
     "name": "stdout",
     "output_type": "stream",
     "text": [
      "2516/2516 [==============================] - 4s 2ms/step\n",
      "(Training, Validation) accuracies: (73.82,70.67)\n",
      "2516/2516 [==============================] - 3s 1ms/step\n",
      "(Training, Validation) accuracies: (73.81,70.23)\n",
      "2515/2515 [==============================] - 3s 997us/step\n",
      "(Training, Validation) accuracies: (74.11,71.73)\n",
      "2515/2515 [==============================] - 3s 1ms/step\n",
      "(Training, Validation) accuracies: (73.43,72.25)\n",
      "2514/2514 [==============================] - 3s 1ms/step\n",
      "(Training, Validation) accuracies: (73.76,71.96)\n",
      "Mean Training Accuracy: 73.79 +/- 0.21\n",
      "Mean Validation Accuracy: 71.37 +/- 0.78\n"
     ]
    }
   ],
   "source": [
    "def create_model():\n",
    "    conv_model = Sequential()\n",
    "    conv_model.add(BatchNormalization(axis=1, \n",
    "                                      input_shape = (11, 1440, 1)))\n",
    "    conv_model.add(Conv2D(filters = 16, \n",
    "                     kernel_size = (11, 20),\n",
    "                     strides = (1, 10),\n",
    "                     activation = 'relu'))\n",
    "    conv_model.add(Dropout(0.75))\n",
    "    conv_model.add(Flatten())\n",
    "    conv_model.add(Dense(units = 50, activation = 'relu'))\n",
    "    conv_model.add(Dropout(0.5))\n",
    "    conv_model.add(Dense(units = 2, \n",
    "                    activation='softmax'))\n",
    "    #Construct Loss\n",
    "    conv_model.compile(loss = losses.categorical_crossentropy,\n",
    "                         optimizer = 'adam',\n",
    "                         metrics = ['accuracy'])\n",
    "    return conv_model\n",
    "\n",
    "kfold_print(skf, X, Y, create_model, 200, 32, False)"
   ]
  },
  {
   "cell_type": "code",
   "execution_count": 45,
   "metadata": {},
   "outputs": [
    {
     "name": "stdout",
     "output_type": "stream",
     "text": [
      "2516/2516 [==============================] - 3s 1ms/step\n",
      "(Training, Validation) accuracies: (78.82,69.52)\n",
      "2516/2516 [==============================] - 1s 504us/step\n",
      "(Training, Validation) accuracies: (79.17,69.32)\n",
      "2515/2515 [==============================] - 1s 510us/step\n",
      "(Training, Validation) accuracies: (78.49,72.68)\n",
      "2515/2515 [==============================] - 1s 531us/step\n",
      "(Training, Validation) accuracies: (78.49,72.13)\n",
      "2514/2514 [==============================] - 1s 585us/step\n",
      "(Training, Validation) accuracies: (78.78,70.45)\n",
      "Mean Training Accuracy: 78.75 +/- 0.25\n",
      "Mean Validation Accuracy: 70.82 +/- 1.36\n"
     ]
    }
   ],
   "source": [
    "def create_model():\n",
    "    conv_model = Sequential()\n",
    "    conv_model.add(BatchNormalization(axis=1, \n",
    "                                      input_shape = (11, 1440, 1)))\n",
    "    conv_model.add(Conv2D(filters = 32, \n",
    "                     kernel_size = (11, 10), \n",
    "                     activation = 'relu',\n",
    "                     strides = (1, 2)))\n",
    "    conv_model.add(Dropout(0.75))\n",
    "    conv_model.add(Flatten())\n",
    "    conv_model.add(Dense(units = 50, \n",
    "                         activation = 'relu'))\n",
    "    conv_model.add(Dropout(0.5))\n",
    "    conv_model.add(Dense(units = 2, \n",
    "                    activation='softmax'))\n",
    "    #Construct Loss\n",
    "    conv_model.compile(loss = losses.categorical_crossentropy,\n",
    "                         optimizer = 'adam',\n",
    "                         metrics = ['accuracy'])\n",
    "    return conv_model\n",
    "\n",
    "kfold_print(skf, X, Y, create_model, 250, 32, False)"
   ]
  },
  {
   "cell_type": "code",
   "execution_count": 52,
   "metadata": {},
   "outputs": [
    {
     "name": "stdout",
     "output_type": "stream",
     "text": [
      "2516/2516 [==============================] - 1s 485us/step\n",
      "(Training, Validation) accuracies: (72.32,69.99)\n",
      "2516/2516 [==============================] - 1s 508us/step\n",
      "(Training, Validation) accuracies: (73.45,70.63)\n",
      "2515/2515 [==============================] - 1s 535us/step\n",
      "(Training, Validation) accuracies: (73.07,72.33)\n",
      "2515/2515 [==============================] - 4s 2ms/step\n",
      "(Training, Validation) accuracies: (72.33,71.73)\n",
      "2514/2514 [==============================] - 1s 537us/step\n",
      "(Training, Validation) accuracies: (72.17,72.12)\n",
      "Mean Training Accuracy: 72.67 +/- 0.50\n",
      "Mean Validation Accuracy: 71.36 +/- 0.90\n"
     ]
    }
   ],
   "source": [
    "def create_model():\n",
    "    conv_model = Sequential()\n",
    "    conv_model.add(BatchNormalization(axis=1, \n",
    "                                      input_shape = (11, 1440, 1)))\n",
    "    conv_model.add(Conv2D(filters = 16, \n",
    "                     kernel_size = (11, 10),\n",
    "                     strides = (1, 5),\n",
    "                     activation = 'relu'))\n",
    "    conv_model.add(Dropout(0.75))\n",
    "    conv_model.add(Flatten())\n",
    "    conv_model.add(Dense(units = 50, activation = 'relu'))\n",
    "    conv_model.add(Dropout(0.5))\n",
    "    conv_model.add(Dense(units = 10, activation = 'relu'))\n",
    "    conv_model.add(Dropout(0.5))\n",
    "    conv_model.add(Dense(units = 2, \n",
    "                    activation='softmax'))\n",
    "    #Construct Loss\n",
    "    conv_model.compile(loss = losses.categorical_crossentropy,\n",
    "                         optimizer = 'adam',\n",
    "                         metrics = ['accuracy'])\n",
    "    return conv_model\n",
    "\n",
    "kfold_print(skf, X, Y, create_model, 200, 32, False)"
   ]
  },
  {
   "cell_type": "code",
   "execution_count": 53,
   "metadata": {},
   "outputs": [
    {
     "name": "stdout",
     "output_type": "stream",
     "text": [
      "2516/2516 [==============================] - 1s 549us/step\n",
      "(Training, Validation) accuracies: (76.10,70.47)\n",
      "2516/2516 [==============================] - 1s 546us/step\n",
      "(Training, Validation) accuracies: (76.30,70.59)\n",
      "2515/2515 [==============================] - 1s 586us/step\n",
      "(Training, Validation) accuracies: (76.06,71.89)\n",
      "2515/2515 [==============================] - 2s 892us/step\n",
      "(Training, Validation) accuracies: (75.97,70.97)\n",
      "2514/2514 [==============================] - 2s 610us/step\n",
      "(Training, Validation) accuracies: (75.24,72.35)\n",
      "Mean Training Accuracy: 75.93 +/- 0.36\n",
      "Mean Validation Accuracy: 71.25 +/- 0.74\n"
     ]
    }
   ],
   "source": [
    "def create_model():\n",
    "    conv_model = Sequential()\n",
    "    conv_model.add(BatchNormalization(axis=1, \n",
    "                                      input_shape = (11, 1440, 1)))\n",
    "    conv_model.add(Conv2D(filters = 16, \n",
    "                     kernel_size = (11, 10),\n",
    "                     strides = (1, 5),\n",
    "                     activation = 'relu'))\n",
    "    conv_model.add(Dropout(0.75))\n",
    "    conv_model.add(Flatten())\n",
    "    conv_model.add(Dense(units = 75, activation = 'relu'))\n",
    "    conv_model.add(Dropout(0.5))\n",
    "    conv_model.add(Dense(units = 2, \n",
    "                    activation='softmax'))\n",
    "    #Construct Loss\n",
    "    conv_model.compile(loss = losses.categorical_crossentropy,\n",
    "                         optimizer = 'adam',\n",
    "                         metrics = ['accuracy'])\n",
    "    return conv_model\n",
    "\n",
    "kfold_print(skf, X, Y, create_model, 200, 32, False)"
   ]
  },
  {
   "cell_type": "code",
   "execution_count": 55,
   "metadata": {},
   "outputs": [
    {
     "name": "stdout",
     "output_type": "stream",
     "text": [
      "2516/2516 [==============================] - 2s 782us/step\n",
      "(Training, Validation) accuracies: (73.98,71.14)\n",
      "2516/2516 [==============================] - 4s 1ms/step\n",
      "(Training, Validation) accuracies: (74.27,70.35)\n",
      "2515/2515 [==============================] - 7s 3ms/step\n",
      "(Training, Validation) accuracies: (73.95,72.33)\n",
      "2515/2515 [==============================] - 4s 2ms/step\n",
      "(Training, Validation) accuracies: (74.34,71.33)\n",
      "2514/2514 [==============================] - 3s 1ms/step\n",
      "(Training, Validation) accuracies: (73.40,72.08)\n",
      "Mean Training Accuracy: 73.99 +/- 0.33\n",
      "Mean Validation Accuracy: 71.45 +/- 0.70\n"
     ]
    }
   ],
   "source": [
    "def create_model():\n",
    "    conv_model = Sequential()\n",
    "    conv_model.add(BatchNormalization(axis=1, \n",
    "                                      input_shape = (11, 1440, 1)))\n",
    "    conv_model.add(Conv2D(filters = 16, \n",
    "                     kernel_size = (11, 10),\n",
    "                     strides = (1, 5),\n",
    "                     activation = 'relu'))\n",
    "    conv_model.add(Dropout(0.75))\n",
    "    conv_model.add(Flatten())\n",
    "    conv_model.add(Dense(units = 25, activation = 'relu'))\n",
    "    conv_model.add(Dropout(0.5))\n",
    "    conv_model.add(Dense(units = 2, \n",
    "                    activation='softmax'))\n",
    "    #Construct Loss\n",
    "    conv_model.compile(loss = losses.categorical_crossentropy,\n",
    "                         optimizer = 'adam',\n",
    "                         metrics = ['accuracy'])\n",
    "    return conv_model\n",
    "\n",
    "kfold_print(skf, X, Y, create_model, 200, 32, False)"
   ]
  },
  {
   "cell_type": "markdown",
   "metadata": {},
   "source": [
    "# Submitted models: verifying that this cross validation is a reasonable proxy for estimating test accuracy"
   ]
  },
  {
   "cell_type": "code",
   "execution_count": 47,
   "metadata": {},
   "outputs": [
    {
     "name": "stdout",
     "output_type": "stream",
     "text": [
      "2516/2516 [==============================] - 1s 558us/step\n",
      "(Training, Validation) accuracies: (81.35,70.75)\n",
      "2516/2516 [==============================] - 2s 605us/step\n",
      "(Training, Validation) accuracies: (81.10,70.15)\n",
      "2515/2515 [==============================] - 2s 630us/step\n",
      "(Training, Validation) accuracies: (78.31,71.57)\n",
      "2515/2515 [==============================] - 2s 645us/step\n",
      "(Training, Validation) accuracies: (80.51,71.57)\n",
      "2514/2514 [==============================] - 2s 616us/step\n",
      "(Training, Validation) accuracies: (78.42,70.84)\n",
      "Mean Training Accuracy: 79.94 +/- 1.31\n",
      "Mean Validation Accuracy: 70.98 +/- 0.54\n"
     ]
    }
   ],
   "source": [
    "# 72% on test\n",
    "def create_model():\n",
    "    conv_model = Sequential()\n",
    "    conv_model.add(BatchNormalization(axis=1, \n",
    "                                      input_shape = (11, 1440, 1)))\n",
    "    conv_model.add(Conv2D(filters = 16, \n",
    "                     kernel_size = (11, 10), \n",
    "                     activation = 'relu'))\n",
    "    conv_model.add(Dropout(0.75))\n",
    "    conv_model.add(Flatten())\n",
    "    conv_model.add(Dense(units = 50, activation = 'relu'))\n",
    "    conv_model.add(Dropout(0.5))\n",
    "    conv_model.add(Dense(units = 2, \n",
    "                    activation='softmax'))\n",
    "    #Construct Loss\n",
    "    conv_model.compile(loss = losses.categorical_crossentropy,\n",
    "                         optimizer = 'adam',\n",
    "                         metrics = ['accuracy'])\n",
    "    return conv_model\n",
    "\n",
    "kfold_print(skf, X, Y, create_model, 200, 32, False)"
   ]
  },
  {
   "cell_type": "code",
   "execution_count": 54,
   "metadata": {},
   "outputs": [
    {
     "name": "stdout",
     "output_type": "stream",
     "text": [
      "2516/2516 [==============================] - 2s 621us/step\n",
      "(Training, Validation) accuracies: (81.98,70.75)\n",
      "2516/2516 [==============================] - 2s 610us/step\n",
      "(Training, Validation) accuracies: (79.49,69.79)\n",
      "2515/2515 [==============================] - 2s 639us/step\n",
      "(Training, Validation) accuracies: (82.34,72.49)\n",
      "2515/2515 [==============================] - 2s 634us/step\n",
      "(Training, Validation) accuracies: (82.42,70.54)\n",
      "2514/2514 [==============================] - 2s 663us/step\n",
      "(Training, Validation) accuracies: (79.68,71.76)\n",
      "Mean Training Accuracy: 81.18 +/- 1.31\n",
      "Mean Validation Accuracy: 71.06 +/- 0.95\n"
     ]
    }
   ],
   "source": [
    "# 71.38% on test\n",
    "def create_model():\n",
    "    conv_model = Sequential()\n",
    "    conv_model.add(BatchNormalization(axis=1, \n",
    "                                      input_shape = (11, 1440, 1)))\n",
    "    conv_model.add(Conv2D(filters = 32, \n",
    "                     kernel_size = (11, 10), \n",
    "                     activation = 'relu',\n",
    "                     strides = (1, 2)))\n",
    "    conv_model.add(Dropout(0.5))\n",
    "    conv_model.add(Flatten())\n",
    "    conv_model.add(Dense(units = 50, \n",
    "                         activation = 'relu'))\n",
    "    conv_model.add(Dropout(0.5))\n",
    "    conv_model.add(Dense(units = 2, \n",
    "                    activation='softmax'))\n",
    "    #Construct Loss\n",
    "    conv_model.compile(loss = losses.categorical_crossentropy,\n",
    "                         optimizer = 'adam',\n",
    "                         metrics = ['accuracy'])\n",
    "    return conv_model\n",
    "\n",
    "kfold_print(skf, X, Y, create_model, 200, 32, False)"
   ]
  },
  {
   "cell_type": "code",
   "execution_count": null,
   "metadata": {},
   "outputs": [],
   "source": []
  }
 ],
 "metadata": {
  "kernelspec": {
   "display_name": "Python 3",
   "language": "python",
   "name": "python3"
  },
  "language_info": {
   "codemirror_mode": {
    "name": "ipython",
    "version": 3
   },
   "file_extension": ".py",
   "mimetype": "text/x-python",
   "name": "python",
   "nbconvert_exporter": "python",
   "pygments_lexer": "ipython3",
   "version": "3.5.2"
  }
 },
 "nbformat": 4,
 "nbformat_minor": 2
}
