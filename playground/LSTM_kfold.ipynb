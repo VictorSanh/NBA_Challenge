{
 "cells": [
  {
   "cell_type": "code",
   "execution_count": 1,
   "metadata": {},
   "outputs": [
    {
     "name": "stderr",
     "output_type": "stream",
     "text": [
      "/usr/local/lib/python3.5/dist-packages/h5py/__init__.py:36: FutureWarning: Conversion of the second argument of issubdtype from `float` to `np.floating` is deprecated. In future, it will be treated as `np.float64 == np.dtype(float).type`.\n",
      "  from ._conv import register_converters as _register_converters\n",
      "Using TensorFlow backend.\n"
     ]
    }
   ],
   "source": [
    "import sys\n",
    "sys.chdir('../')\n",
    "\n",
    "import numpy as np\n",
    "import pandas as pd\n",
    "import random\n",
    "\n",
    "from sklearn.ensemble import RandomForestClassifier\n",
    "from src.utils import *\n",
    "from tqdm import tqdm\n",
    "\n",
    "from keras.models import Sequential\n",
    "from keras.layers import Dense, Dropout, Conv2D, MaxPooling2D, BatchNormalization, Dropout, Flatten, Dense\n",
    "from keras.layers import Embedding, LSTM\n",
    "from keras.optimizers import SGD\n",
    "from keras.utils import np_utils\n",
    "from keras import losses\n",
    "from keras import regularizers\n",
    "from keras.constraints import max_norm\n",
    "from keras.wrappers.scikit_learn import KerasClassifier\n",
    "\n",
    "import time\n",
    "\n",
    "from sklearn.model_selection import StratifiedKFold"
   ]
  },
  {
   "cell_type": "markdown",
   "metadata": {},
   "source": [
    "# Loading data"
   ]
  },
  {
   "cell_type": "code",
   "execution_count": 2,
   "metadata": {},
   "outputs": [],
   "source": [
    "Data_X_train = pd.read_csv('data/challenge_fichier_dentrees_dentrainement_challenge_nba/train.csv')\n",
    "Data_Y_train = pd.read_csv('data/challenge_fichier_de_sortie_dentrainement_challenge_nba.csv', sep=';')"
   ]
  },
  {
   "cell_type": "code",
   "execution_count": 3,
   "metadata": {},
   "outputs": [
    {
     "name": "stderr",
     "output_type": "stream",
     "text": [
      "100%|██████████| 1439/1439 [01:07<00:00, 21.47it/s]\n",
      "100%|██████████| 1440/1440 [02:29<00:00,  9.66it/s]\n",
      "100%|██████████| 1440/1440 [06:09<00:00,  3.89it/s] \n"
     ]
    }
   ],
   "source": [
    "Data_X_train = feature_engineering(Data_X_train)"
   ]
  },
  {
   "cell_type": "code",
   "execution_count": 4,
   "metadata": {},
   "outputs": [],
   "source": [
    "X = Data_X_train.as_matrix()[:,1:]\n",
    "Y = Data_Y_train.as_matrix()[:,1:]"
   ]
  },
  {
   "cell_type": "markdown",
   "metadata": {},
   "source": [
    "# K fold functions"
   ]
  },
  {
   "cell_type": "code",
   "execution_count": 5,
   "metadata": {},
   "outputs": [],
   "source": [
    "def train_and_evaluate(model, X_train, Y_train, X_val, Y_val, epochs, batch_size, verbose):\n",
    "    training = model.fit(X_train, Y_train, epochs = epochs, batch_size = batch_size, verbose = verbose)\n",
    "    evalu = model.evaluate(X_val, Y_val)\n",
    "    \n",
    "    return training.history['acc'][-1], evalu[1]"
   ]
  },
  {
   "cell_type": "code",
   "execution_count": 6,
   "metadata": {},
   "outputs": [],
   "source": [
    "skf = StratifiedKFold(n_splits = 5, shuffle = True, random_state = 7)"
   ]
  },
  {
   "cell_type": "code",
   "execution_count": 7,
   "metadata": {},
   "outputs": [],
   "source": [
    "def kfold_print(skf_splitter, X, Y, create_model_func, epochs, batch_size, verbose):\n",
    "    accs_train = []\n",
    "    accs_val = []\n",
    "    for train, val in skf.split(X, Y):\n",
    "        model = create_model_func()\n",
    "        Y_train = np_utils.to_categorical(Y[train], 2)\n",
    "        Y_val = np_utils.to_categorical(Y[val], 2)\n",
    "        acc_train, acc_val = train_and_evaluate(model, \n",
    "                                                X[train], Y_train, X[val], Y_val, \n",
    "                                                epochs = epochs, batch_size = batch_size, verbose = verbose)\n",
    "\n",
    "        accs_train.append(acc_train)\n",
    "        accs_val.append(acc_val)\n",
    "        print('(Training, Validation) accuracies: ({0:.2f},{1:.2f})'.format(100*acc_train, 100*acc_val))\n",
    "\n",
    "    print('Mean Training Accuracy: {0:.2f} +/- {1:.2f}'.format(100*np.mean(accs_train), 100*np.std(accs_train)))\n",
    "    print('Mean Validation Accuracy: {0:.2f} +/- {1:.2f}'.format(100*np.mean(accs_val), 100*np.std(accs_val)))"
   ]
  },
  {
   "cell_type": "markdown",
   "metadata": {},
   "source": [
    "# 15sec subsequences - Aggregation = Mean"
   ]
  },
  {
   "cell_type": "code",
   "execution_count": 8,
   "metadata": {},
   "outputs": [],
   "source": [
    "X_train = X.reshape((len(X), 14, 15, -1), order = 'F')\n",
    "X_train = X_train.mean(axis = 2)"
   ]
  },
  {
   "cell_type": "code",
   "execution_count": 9,
   "metadata": {
    "scrolled": true
   },
   "outputs": [
    {
     "name": "stdout",
     "output_type": "stream",
     "text": [
      "2516/2516 [==============================] - 0s 156us/step\n",
      "(Training, Validation) accuracies: (69.89,73.13)\n",
      "2516/2516 [==============================] - 0s 142us/step\n",
      "(Training, Validation) accuracies: (69.62,71.66)\n",
      "2515/2515 [==============================] - 0s 164us/step\n",
      "(Training, Validation) accuracies: (71.31,71.13)\n",
      "2515/2515 [==============================] - 0s 167us/step\n",
      "(Training, Validation) accuracies: (71.37,71.69)\n",
      "2514/2514 [==============================] - 0s 184us/step\n",
      "(Training, Validation) accuracies: (71.94,68.97)\n",
      "Mean Training Accuracy: 70.83 +/- 0.91\n",
      "Mean Validation Accuracy: 71.32 +/- 1.35\n"
     ]
    }
   ],
   "source": [
    "def create_model():\n",
    "    lstm_model = Sequential()\n",
    "    lstm_model.add(LSTM(30, \n",
    "                        input_shape = (14, 96)))\n",
    "    lstm_model.add(Dropout(0.75))\n",
    "    lstm_model.add(Dense(units = 20,\n",
    "                        activation = 'relu'))\n",
    "    lstm_model.add(Dropout(0.5))\n",
    "    lstm_model.add(Dense(units = 2, \n",
    "                    activation='softmax'))\n",
    "    #Construct Loss\n",
    "    lstm_model.compile(loss = losses.categorical_crossentropy,\n",
    "                         optimizer = 'adam',\n",
    "                         metrics = ['accuracy'])\n",
    "    \n",
    "    return lstm_model\n",
    "\n",
    "kfold_print(skf, X_train, Y, create_model, 30, 32, False)"
   ]
  },
  {
   "cell_type": "code",
   "execution_count": 10,
   "metadata": {},
   "outputs": [
    {
     "name": "stdout",
     "output_type": "stream",
     "text": [
      "2516/2516 [==============================] - 0s 190us/step\n",
      "(Training, Validation) accuracies: (70.67,72.93)\n",
      "2516/2516 [==============================] - 1s 224us/step\n",
      "(Training, Validation) accuracies: (71.13,72.38)\n",
      "2515/2515 [==============================] - 1s 229us/step\n",
      "(Training, Validation) accuracies: (71.94,71.21)\n",
      "2515/2515 [==============================] - 1s 225us/step\n",
      "(Training, Validation) accuracies: (71.35,72.64)\n",
      "2514/2514 [==============================] - 1s 241us/step\n",
      "(Training, Validation) accuracies: (72.56,68.85)\n",
      "Mean Training Accuracy: 71.53 +/- 0.66\n",
      "Mean Validation Accuracy: 71.60 +/- 1.49\n"
     ]
    }
   ],
   "source": [
    "def create_model():\n",
    "    lstm_model = Sequential()\n",
    "    lstm_model.add(LSTM(50, \n",
    "                        input_shape = (14, 96)))\n",
    "    lstm_model.add(Dropout(0.75))\n",
    "    lstm_model.add(Dense(units = 20,\n",
    "                        activation = 'relu'))\n",
    "    lstm_model.add(Dropout(0.5))\n",
    "    lstm_model.add(Dense(units = 2, \n",
    "                    activation='softmax'))\n",
    "    #Construct Loss\n",
    "    lstm_model.compile(loss = losses.categorical_crossentropy,\n",
    "                         optimizer = 'adam',\n",
    "                         metrics = ['accuracy'])\n",
    "    \n",
    "    return lstm_model\n",
    "\n",
    "kfold_print(skf, X_train, Y, create_model, 30, 32, False)"
   ]
  },
  {
   "cell_type": "code",
   "execution_count": 11,
   "metadata": {},
   "outputs": [
    {
     "name": "stdout",
     "output_type": "stream",
     "text": [
      "2516/2516 [==============================] - 1s 254us/step\n",
      "(Training, Validation) accuracies: (72.01,72.18)\n",
      "2516/2516 [==============================] - 1s 264us/step\n",
      "(Training, Validation) accuracies: (71.22,71.42)\n",
      "2515/2515 [==============================] - 1s 288us/step\n",
      "(Training, Validation) accuracies: (72.45,70.97)\n",
      "2515/2515 [==============================] - 1s 289us/step\n",
      "(Training, Validation) accuracies: (72.16,71.93)\n",
      "2514/2514 [==============================] - 1s 303us/step\n",
      "(Training, Validation) accuracies: (73.15,69.81)\n",
      "Mean Training Accuracy: 72.20 +/- 0.62\n",
      "Mean Validation Accuracy: 71.26 +/- 0.84\n"
     ]
    }
   ],
   "source": [
    "def create_model():\n",
    "    lstm_model = Sequential()\n",
    "    lstm_model.add(LSTM(75, \n",
    "                        input_shape = (14, 96)))\n",
    "    lstm_model.add(Dropout(0.75))\n",
    "    lstm_model.add(Dense(units = 20,\n",
    "                        activation = 'relu'))\n",
    "    lstm_model.add(Dropout(0.5))\n",
    "    lstm_model.add(Dense(units = 2, \n",
    "                    activation='softmax'))\n",
    "    #Construct Loss\n",
    "    lstm_model.compile(loss = losses.categorical_crossentropy,\n",
    "                         optimizer = 'adam',\n",
    "                         metrics = ['accuracy'])\n",
    "    \n",
    "    return lstm_model\n",
    "\n",
    "kfold_print(skf, X_train, Y, create_model, 30, 32, False)"
   ]
  },
  {
   "cell_type": "code",
   "execution_count": 12,
   "metadata": {},
   "outputs": [
    {
     "name": "stdout",
     "output_type": "stream",
     "text": [
      "2516/2516 [==============================] - 1s 314us/step\n",
      "(Training, Validation) accuracies: (72.26,71.90)\n",
      "2516/2516 [==============================] - 1s 328us/step\n",
      "(Training, Validation) accuracies: (72.73,72.14)\n",
      "2515/2515 [==============================] - 1s 383us/step\n",
      "(Training, Validation) accuracies: (72.95,70.34)\n",
      "2515/2515 [==============================] - 1s 387us/step\n",
      "(Training, Validation) accuracies: (72.81,71.49)\n",
      "2514/2514 [==============================] - 1s 385us/step\n",
      "(Training, Validation) accuracies: (73.70,69.53)\n",
      "Mean Training Accuracy: 72.89 +/- 0.47\n",
      "Mean Validation Accuracy: 71.08 +/- 0.99\n"
     ]
    }
   ],
   "source": [
    "def create_model():\n",
    "    lstm_model = Sequential()\n",
    "    lstm_model.add(LSTM(100, \n",
    "                        input_shape = (14, 96)))\n",
    "    lstm_model.add(Dropout(0.75))\n",
    "    lstm_model.add(Dense(units = 20,\n",
    "                        activation = 'relu'))\n",
    "    lstm_model.add(Dropout(0.5))\n",
    "    lstm_model.add(Dense(units = 2, \n",
    "                    activation='softmax'))\n",
    "    #Construct Loss\n",
    "    lstm_model.compile(loss = losses.categorical_crossentropy,\n",
    "                         optimizer = 'adam',\n",
    "                         metrics = ['accuracy'])\n",
    "    \n",
    "    return lstm_model\n",
    "\n",
    "kfold_print(skf, X_train, Y, create_model, 30, 32, False)"
   ]
  },
  {
   "cell_type": "code",
   "execution_count": 13,
   "metadata": {},
   "outputs": [
    {
     "name": "stdout",
     "output_type": "stream",
     "text": [
      "2516/2516 [==============================] - 1s 419us/step\n",
      "(Training, Validation) accuracies: (73.87,71.07)\n",
      "2516/2516 [==============================] - 1s 409us/step\n",
      "(Training, Validation) accuracies: (73.48,71.22)\n",
      "2515/2515 [==============================] - 1s 436us/step\n",
      "(Training, Validation) accuracies: (73.20,71.49)\n",
      "2515/2515 [==============================] - 1s 450us/step\n",
      "(Training, Validation) accuracies: (74.40,71.17)\n",
      "2514/2514 [==============================] - 1s 443us/step\n",
      "(Training, Validation) accuracies: (75.25,68.62)\n",
      "Mean Training Accuracy: 74.04 +/- 0.73\n",
      "Mean Validation Accuracy: 70.71 +/- 1.06\n"
     ]
    }
   ],
   "source": [
    "def create_model():\n",
    "    lstm_model = Sequential()\n",
    "    lstm_model.add(LSTM(150, \n",
    "                        input_shape = (14, 96)))\n",
    "    lstm_model.add(Dropout(0.75))\n",
    "    lstm_model.add(Dense(units = 20,\n",
    "                        activation = 'relu'))\n",
    "    lstm_model.add(Dropout(0.5))\n",
    "    lstm_model.add(Dense(units = 2, \n",
    "                    activation='softmax'))\n",
    "    #Construct Loss\n",
    "    lstm_model.compile(loss = losses.categorical_crossentropy,\n",
    "                         optimizer = 'adam',\n",
    "                         metrics = ['accuracy'])\n",
    "    \n",
    "    return lstm_model\n",
    "\n",
    "kfold_print(skf, X_train, Y, create_model, 30, 32, False)"
   ]
  },
  {
   "cell_type": "code",
   "execution_count": 14,
   "metadata": {},
   "outputs": [
    {
     "name": "stdout",
     "output_type": "stream",
     "text": [
      "2516/2516 [==============================] - 1s 440us/step\n",
      "(Training, Validation) accuracies: (74.82,72.22)\n",
      "2516/2516 [==============================] - 1s 462us/step\n",
      "(Training, Validation) accuracies: (73.86,71.34)\n",
      "2515/2515 [==============================] - 1s 467us/step\n",
      "(Training, Validation) accuracies: (75.94,70.74)\n",
      "2515/2515 [==============================] - 1s 538us/step\n",
      "(Training, Validation) accuracies: (75.04,71.69)\n",
      "2514/2514 [==============================] - 1s 506us/step\n",
      "(Training, Validation) accuracies: (77.55,69.09)\n",
      "Mean Training Accuracy: 75.44 +/- 1.24\n",
      "Mean Validation Accuracy: 71.02 +/- 1.08\n"
     ]
    }
   ],
   "source": [
    "def create_model():\n",
    "    lstm_model = Sequential()\n",
    "    lstm_model.add(LSTM(200, \n",
    "                        input_shape = (14, 96)))\n",
    "    lstm_model.add(Dropout(0.75))\n",
    "    lstm_model.add(Dense(units = 20,\n",
    "                        activation = 'relu'))\n",
    "    lstm_model.add(Dropout(0.5))\n",
    "    lstm_model.add(Dense(units = 2, \n",
    "                    activation='softmax'))\n",
    "    #Construct Loss\n",
    "    lstm_model.compile(loss = losses.categorical_crossentropy,\n",
    "                         optimizer = 'adam',\n",
    "                         metrics = ['accuracy'])\n",
    "    \n",
    "    return lstm_model\n",
    "\n",
    "kfold_print(skf, X_train, Y, create_model, 30, 32, False)"
   ]
  },
  {
   "cell_type": "code",
   "execution_count": 15,
   "metadata": {},
   "outputs": [
    {
     "name": "stdout",
     "output_type": "stream",
     "text": [
      "2516/2516 [==============================] - 1s 510us/step\n",
      "(Training, Validation) accuracies: (75.57,70.87)\n",
      "2516/2516 [==============================] - 1s 537us/step\n",
      "(Training, Validation) accuracies: (77.32,70.59)\n",
      "2515/2515 [==============================] - 1s 543us/step\n",
      "(Training, Validation) accuracies: (78.97,69.62)\n",
      "2515/2515 [==============================] - 1s 545us/step\n",
      "(Training, Validation) accuracies: (77.24,70.30)\n",
      "2514/2514 [==============================] - 1s 570us/step\n",
      "(Training, Validation) accuracies: (77.64,68.02)\n",
      "Mean Training Accuracy: 77.35 +/- 1.09\n",
      "Mean Validation Accuracy: 69.88 +/- 1.02\n"
     ]
    }
   ],
   "source": [
    "def create_model():\n",
    "    lstm_model = Sequential()\n",
    "    lstm_model.add(LSTM(300, \n",
    "                        input_shape = (14, 96)))\n",
    "    lstm_model.add(Dropout(0.75))\n",
    "    lstm_model.add(Dense(units = 20,\n",
    "                        activation = 'relu'))\n",
    "    lstm_model.add(Dropout(0.5))\n",
    "    lstm_model.add(Dense(units = 2, \n",
    "                    activation='softmax'))\n",
    "    #Construct Loss\n",
    "    lstm_model.compile(loss = losses.categorical_crossentropy,\n",
    "                         optimizer = 'adam',\n",
    "                         metrics = ['accuracy'])\n",
    "    \n",
    "    return lstm_model\n",
    "\n",
    "kfold_print(skf, X_train, Y, create_model, 30, 32, False)"
   ]
  },
  {
   "cell_type": "code",
   "execution_count": 16,
   "metadata": {},
   "outputs": [
    {
     "name": "stdout",
     "output_type": "stream",
     "text": [
      "2516/2516 [==============================] - 1s 576us/step\n",
      "(Training, Validation) accuracies: (71.68,72.97)\n",
      "2516/2516 [==============================] - 2s 602us/step\n",
      "(Training, Validation) accuracies: (71.40,72.58)\n",
      "2515/2515 [==============================] - 2s 600us/step\n",
      "(Training, Validation) accuracies: (71.86,71.01)\n",
      "2515/2515 [==============================] - 2s 609us/step\n",
      "(Training, Validation) accuracies: (72.00,71.77)\n",
      "2514/2514 [==============================] - 2s 627us/step\n",
      "(Training, Validation) accuracies: (72.07,69.29)\n",
      "Mean Training Accuracy: 71.80 +/- 0.24\n",
      "Mean Validation Accuracy: 71.52 +/- 1.30\n"
     ]
    }
   ],
   "source": [
    "def create_model():\n",
    "    lstm_model = Sequential()\n",
    "    lstm_model.add(LSTM(30, \n",
    "                        input_shape = (14, 96)))\n",
    "    lstm_model.add(Dropout(0.75))\n",
    "    lstm_model.add(Dense(units = 2, \n",
    "                    activation='softmax'))\n",
    "    #Construct Loss\n",
    "    lstm_model.compile(loss = losses.categorical_crossentropy,\n",
    "                         optimizer = 'adam',\n",
    "                         metrics = ['accuracy'])\n",
    "    \n",
    "    return lstm_model\n",
    "\n",
    "kfold_print(skf, X_train, Y, create_model, 30, 32, False)"
   ]
  },
  {
   "cell_type": "code",
   "execution_count": 17,
   "metadata": {},
   "outputs": [
    {
     "name": "stdout",
     "output_type": "stream",
     "text": [
      "2516/2516 [==============================] - 2s 621us/step\n",
      "(Training, Validation) accuracies: (72.71,72.69)\n",
      "2516/2516 [==============================] - 2s 653us/step\n",
      "(Training, Validation) accuracies: (72.99,71.46)\n",
      "2515/2515 [==============================] - 2s 672us/step\n",
      "(Training, Validation) accuracies: (72.91,70.38)\n",
      "2515/2515 [==============================] - 2s 662us/step\n",
      "(Training, Validation) accuracies: (73.10,72.17)\n",
      "2514/2514 [==============================] - 2s 700us/step\n",
      "(Training, Validation) accuracies: (73.44,69.57)\n",
      "Mean Training Accuracy: 73.03 +/- 0.24\n",
      "Mean Validation Accuracy: 71.25 +/- 1.15\n"
     ]
    }
   ],
   "source": [
    "def create_model():\n",
    "    lstm_model = Sequential()\n",
    "    lstm_model.add(LSTM(50, \n",
    "                        input_shape = (14, 96)))\n",
    "    lstm_model.add(Dropout(0.75))\n",
    "    lstm_model.add(Dense(units = 2, \n",
    "                    activation='softmax'))\n",
    "    #Construct Loss\n",
    "    lstm_model.compile(loss = losses.categorical_crossentropy,\n",
    "                         optimizer = 'adam',\n",
    "                         metrics = ['accuracy'])\n",
    "    \n",
    "    return lstm_model\n",
    "\n",
    "kfold_print(skf, X_train, Y, create_model, 30, 32, False)"
   ]
  },
  {
   "cell_type": "code",
   "execution_count": 18,
   "metadata": {},
   "outputs": [
    {
     "name": "stdout",
     "output_type": "stream",
     "text": [
      "2516/2516 [==============================] - 2s 703us/step\n",
      "(Training, Validation) accuracies: (74.43,72.58)\n",
      "2516/2516 [==============================] - 2s 768us/step\n",
      "(Training, Validation) accuracies: (74.33,72.10)\n",
      "2515/2515 [==============================] - 2s 821us/step\n",
      "(Training, Validation) accuracies: (75.24,69.94)\n",
      "2515/2515 [==============================] - 2s 734us/step\n",
      "(Training, Validation) accuracies: (74.15,71.25)\n",
      "2514/2514 [==============================] - 2s 752us/step\n",
      "(Training, Validation) accuracies: (74.25,69.37)\n",
      "Mean Training Accuracy: 74.48 +/- 0.39\n",
      "Mean Validation Accuracy: 71.05 +/- 1.23\n"
     ]
    }
   ],
   "source": [
    "def create_model():\n",
    "    lstm_model = Sequential()\n",
    "    lstm_model.add(LSTM(75, \n",
    "                        input_shape = (14, 96)))\n",
    "    lstm_model.add(Dropout(0.75))\n",
    "    lstm_model.add(Dense(units = 2, \n",
    "                    activation='softmax'))\n",
    "    #Construct Loss\n",
    "    lstm_model.compile(loss = losses.categorical_crossentropy,\n",
    "                         optimizer = 'adam',\n",
    "                         metrics = ['accuracy'])\n",
    "    \n",
    "    return lstm_model\n",
    "\n",
    "kfold_print(skf, X_train, Y, create_model, 30, 32, False)"
   ]
  },
  {
   "cell_type": "code",
   "execution_count": 19,
   "metadata": {},
   "outputs": [
    {
     "name": "stdout",
     "output_type": "stream",
     "text": [
      "2516/2516 [==============================] - 2s 757us/step\n",
      "(Training, Validation) accuracies: (76.05,72.18)\n",
      "2516/2516 [==============================] - 2s 770us/step\n",
      "(Training, Validation) accuracies: (77.38,70.27)\n",
      "2515/2515 [==============================] - 2s 780us/step\n",
      "(Training, Validation) accuracies: (76.54,71.21)\n",
      "2515/2515 [==============================] - 2s 790us/step\n",
      "(Training, Validation) accuracies: (76.73,70.18)\n",
      "2514/2514 [==============================] - 2s 818us/step\n",
      "(Training, Validation) accuracies: (77.93,68.50)\n",
      "Mean Training Accuracy: 76.93 +/- 0.66\n",
      "Mean Validation Accuracy: 70.47 +/- 1.22\n"
     ]
    }
   ],
   "source": [
    "def create_model():\n",
    "    lstm_model = Sequential()\n",
    "    lstm_model.add(LSTM(100, \n",
    "                        input_shape = (14, 96)))\n",
    "    lstm_model.add(Dropout(0.75))\n",
    "    lstm_model.add(Dense(units = 2, \n",
    "                    activation='softmax'))\n",
    "    #Construct Loss\n",
    "    lstm_model.compile(loss = losses.categorical_crossentropy,\n",
    "                         optimizer = 'adam',\n",
    "                         metrics = ['accuracy'])\n",
    "    \n",
    "    return lstm_model\n",
    "\n",
    "kfold_print(skf, X_train, Y, create_model, 30, 32, False)"
   ]
  },
  {
   "cell_type": "code",
   "execution_count": 20,
   "metadata": {},
   "outputs": [
    {
     "name": "stdout",
     "output_type": "stream",
     "text": [
      "2516/2516 [==============================] - 2s 817us/step\n",
      "(Training, Validation) accuracies: (80.89,71.03)\n",
      "2516/2516 [==============================] - 2s 816us/step\n",
      "(Training, Validation) accuracies: (80.43,70.19)\n",
      "2515/2515 [==============================] - 2s 832us/step\n",
      "(Training, Validation) accuracies: (81.49,69.34)\n",
      "2515/2515 [==============================] - 2s 848us/step\n",
      "(Training, Validation) accuracies: (81.77,70.38)\n",
      "2514/2514 [==============================] - 2s 857us/step\n",
      "(Training, Validation) accuracies: (82.38,68.26)\n",
      "Mean Training Accuracy: 81.39 +/- 0.68\n",
      "Mean Validation Accuracy: 69.84 +/- 0.96\n"
     ]
    }
   ],
   "source": [
    "def create_model():\n",
    "    lstm_model = Sequential()\n",
    "    lstm_model.add(LSTM(150, \n",
    "                        input_shape = (14, 96)))\n",
    "    lstm_model.add(Dropout(0.75))\n",
    "    lstm_model.add(Dense(units = 2, \n",
    "                    activation='softmax'))\n",
    "    #Construct Loss\n",
    "    lstm_model.compile(loss = losses.categorical_crossentropy,\n",
    "                         optimizer = 'adam',\n",
    "                         metrics = ['accuracy'])\n",
    "    \n",
    "    return lstm_model\n",
    "\n",
    "kfold_print(skf, X_train, Y, create_model, 30, 32, False)"
   ]
  },
  {
   "cell_type": "code",
   "execution_count": 21,
   "metadata": {},
   "outputs": [
    {
     "name": "stdout",
     "output_type": "stream",
     "text": [
      "2516/2516 [==============================] - 2s 876us/step\n",
      "(Training, Validation) accuracies: (84.96,70.75)\n",
      "2516/2516 [==============================] - 2s 903us/step\n",
      "(Training, Validation) accuracies: (85.09,70.95)\n",
      "2515/2515 [==============================] - 2s 909us/step\n",
      "(Training, Validation) accuracies: (84.38,68.79)\n",
      "2515/2515 [==============================] - 2s 920us/step\n",
      "(Training, Validation) accuracies: (86.20,68.35)\n",
      "2514/2514 [==============================] - 2s 938us/step\n",
      "(Training, Validation) accuracies: (85.52,67.94)\n",
      "Mean Training Accuracy: 85.23 +/- 0.61\n",
      "Mean Validation Accuracy: 69.35 +/- 1.25\n"
     ]
    }
   ],
   "source": [
    "def create_model():\n",
    "    lstm_model = Sequential()\n",
    "    lstm_model.add(LSTM(200,\n",
    "                        input_shape = (14, 96)))\n",
    "    lstm_model.add(Dropout(0.75))\n",
    "    lstm_model.add(Dense(units = 2, \n",
    "                    activation='softmax'))\n",
    "    #Construct Loss\n",
    "    lstm_model.compile(loss = losses.categorical_crossentropy,\n",
    "                         optimizer = 'adam',\n",
    "                         metrics = ['accuracy'])\n",
    "    \n",
    "    return lstm_model\n",
    "\n",
    "kfold_print(skf, X_train, Y, create_model, 30, 32, False)"
   ]
  },
  {
   "cell_type": "code",
   "execution_count": 22,
   "metadata": {},
   "outputs": [
    {
     "name": "stdout",
     "output_type": "stream",
     "text": [
      "2516/2516 [==============================] - 2s 939us/step\n",
      "(Training, Validation) accuracies: (88.60,68.92)\n",
      "2516/2516 [==============================] - 2s 960us/step\n",
      "(Training, Validation) accuracies: (89.71,66.53)\n",
      "2515/2515 [==============================] - 2s 984us/step\n",
      "(Training, Validation) accuracies: (88.77,69.15)\n",
      "2515/2515 [==============================] - 2s 982us/step\n",
      "(Training, Validation) accuracies: (90.04,67.91)\n",
      "2514/2514 [==============================] - 3s 1ms/step\n",
      "(Training, Validation) accuracies: (90.01,68.42)\n",
      "Mean Training Accuracy: 89.43 +/- 0.62\n",
      "Mean Validation Accuracy: 68.19 +/- 0.93\n"
     ]
    }
   ],
   "source": [
    "def create_model():\n",
    "    lstm_model = Sequential()\n",
    "    lstm_model.add(LSTM(300, \n",
    "                        input_shape = (14, 96)))\n",
    "    lstm_model.add(Dropout(0.75))\n",
    "    lstm_model.add(Dense(units = 2, \n",
    "                    activation='softmax'))\n",
    "    #Construct Loss\n",
    "    lstm_model.compile(loss = losses.categorical_crossentropy,\n",
    "                         optimizer = 'adam',\n",
    "                         metrics = ['accuracy'])\n",
    "    \n",
    "    return lstm_model\n",
    "\n",
    "kfold_print(skf, X_train, Y, create_model, 30, 32, False)"
   ]
  },
  {
   "cell_type": "markdown",
   "metadata": {},
   "source": [
    "# 10sec subsequences - Aggregation = Mean"
   ]
  },
  {
   "cell_type": "code",
   "execution_count": 23,
   "metadata": {},
   "outputs": [],
   "source": [
    "X_train = X.reshape((len(X), 14, 10, -1), order = 'F')\n",
    "X_train = X_train.mean(axis = 2)"
   ]
  },
  {
   "cell_type": "code",
   "execution_count": 24,
   "metadata": {},
   "outputs": [
    {
     "name": "stdout",
     "output_type": "stream",
     "text": [
      "2516/2516 [==============================] - 3s 1ms/step\n",
      "(Training, Validation) accuracies: (69.81,72.34)\n",
      "2516/2516 [==============================] - 3s 1ms/step\n",
      "(Training, Validation) accuracies: (70.00,72.34)\n",
      "2515/2515 [==============================] - 3s 1ms/step\n",
      "(Training, Validation) accuracies: (70.44,70.62)\n",
      "2515/2515 [==============================] - 3s 1ms/step\n",
      "(Training, Validation) accuracies: (70.19,71.61)\n",
      "2514/2514 [==============================] - 3s 1ms/step\n",
      "(Training, Validation) accuracies: (71.25,68.93)\n",
      "Mean Training Accuracy: 70.34 +/- 0.50\n",
      "Mean Validation Accuracy: 71.17 +/- 1.28\n"
     ]
    }
   ],
   "source": [
    "def create_model():\n",
    "    lstm_model = Sequential()\n",
    "    lstm_model.add(LSTM(30, \n",
    "                        input_shape = (14, 144)))\n",
    "    lstm_model.add(Dropout(0.75))\n",
    "    lstm_model.add(Dense(units = 20,\n",
    "                        activation = 'relu'))\n",
    "    lstm_model.add(Dropout(0.5))\n",
    "    lstm_model.add(Dense(units = 2, \n",
    "                    activation='softmax'))\n",
    "    #Construct Loss\n",
    "    lstm_model.compile(loss = losses.categorical_crossentropy,\n",
    "                         optimizer = 'adam',\n",
    "                         metrics = ['accuracy'])\n",
    "    \n",
    "    return lstm_model\n",
    "\n",
    "kfold_print(skf, X_train, Y, create_model, 30, 32, False)"
   ]
  },
  {
   "cell_type": "code",
   "execution_count": 25,
   "metadata": {},
   "outputs": [
    {
     "name": "stdout",
     "output_type": "stream",
     "text": [
      "2516/2516 [==============================] - 3s 1ms/step\n",
      "(Training, Validation) accuracies: (71.17,72.85)\n",
      "2516/2516 [==============================] - 3s 1ms/step\n",
      "(Training, Validation) accuracies: (71.06,72.66)\n",
      "2515/2515 [==============================] - 3s 1ms/step\n",
      "(Training, Validation) accuracies: (71.94,71.37)\n",
      "2515/2515 [==============================] - 3s 1ms/step\n",
      "(Training, Validation) accuracies: (71.28,71.93)\n",
      "2514/2514 [==============================] - 3s 1ms/step\n",
      "(Training, Validation) accuracies: (72.06,69.01)\n",
      "Mean Training Accuracy: 71.50 +/- 0.41\n",
      "Mean Validation Accuracy: 71.56 +/- 1.38\n"
     ]
    }
   ],
   "source": [
    "def create_model():\n",
    "    lstm_model = Sequential()\n",
    "    lstm_model.add(LSTM(50, \n",
    "                        input_shape = (14, 144)))\n",
    "    lstm_model.add(Dropout(0.75))\n",
    "    lstm_model.add(Dense(units = 20,\n",
    "                        activation = 'relu'))\n",
    "    lstm_model.add(Dropout(0.5))\n",
    "    lstm_model.add(Dense(units = 2, \n",
    "                    activation='softmax'))\n",
    "    #Construct Loss\n",
    "    lstm_model.compile(loss = losses.categorical_crossentropy,\n",
    "                         optimizer = 'adam',\n",
    "                         metrics = ['accuracy'])\n",
    "    \n",
    "    return lstm_model\n",
    "\n",
    "kfold_print(skf, X_train, Y, create_model, 30, 32, False)"
   ]
  },
  {
   "cell_type": "code",
   "execution_count": 26,
   "metadata": {},
   "outputs": [
    {
     "name": "stdout",
     "output_type": "stream",
     "text": [
      "2516/2516 [==============================] - 3s 1ms/step\n",
      "(Training, Validation) accuracies: (71.83,73.25)\n",
      "2516/2516 [==============================] - 3s 1ms/step\n",
      "(Training, Validation) accuracies: (70.58,72.18)\n",
      "2515/2515 [==============================] - 3s 1ms/step\n",
      "(Training, Validation) accuracies: (71.97,70.78)\n",
      "2515/2515 [==============================] - 3s 1ms/step\n",
      "(Training, Validation) accuracies: (71.20,72.41)\n",
      "2514/2514 [==============================] - 3s 1ms/step\n",
      "(Training, Validation) accuracies: (71.92,68.85)\n",
      "Mean Training Accuracy: 71.50 +/- 0.54\n",
      "Mean Validation Accuracy: 71.49 +/- 1.54\n"
     ]
    }
   ],
   "source": [
    "def create_model():\n",
    "    lstm_model = Sequential()\n",
    "    lstm_model.add(LSTM(75, \n",
    "                        input_shape = (14, 144)))\n",
    "    lstm_model.add(Dropout(0.75))\n",
    "    lstm_model.add(Dense(units = 20,\n",
    "                        activation = 'relu'))\n",
    "    lstm_model.add(Dropout(0.5))\n",
    "    lstm_model.add(Dense(units = 2, \n",
    "                    activation='softmax'))\n",
    "    #Construct Loss\n",
    "    lstm_model.compile(loss = losses.categorical_crossentropy,\n",
    "                         optimizer = 'adam',\n",
    "                         metrics = ['accuracy'])\n",
    "    \n",
    "    return lstm_model\n",
    "\n",
    "kfold_print(skf, X_train, Y, create_model, 30, 32, False)"
   ]
  },
  {
   "cell_type": "code",
   "execution_count": 27,
   "metadata": {},
   "outputs": [
    {
     "name": "stdout",
     "output_type": "stream",
     "text": [
      "2516/2516 [==============================] - 3s 1ms/step\n",
      "(Training, Validation) accuracies: (71.87,72.85)\n",
      "2516/2516 [==============================] - 3s 1ms/step\n",
      "(Training, Validation) accuracies: (71.64,72.18)\n",
      "2515/2515 [==============================] - 3s 1ms/step\n",
      "(Training, Validation) accuracies: (71.62,71.09)\n",
      "2515/2515 [==============================] - 3s 1ms/step\n",
      "(Training, Validation) accuracies: (71.92,71.69)\n",
      "2514/2514 [==============================] - 3s 1ms/step\n",
      "(Training, Validation) accuracies: (72.14,69.45)\n",
      "Mean Training Accuracy: 71.84 +/- 0.19\n",
      "Mean Validation Accuracy: 71.45 +/- 1.16\n"
     ]
    }
   ],
   "source": [
    "def create_model():\n",
    "    lstm_model = Sequential()\n",
    "    lstm_model.add(LSTM(100, \n",
    "                        input_shape = (14, 144)))\n",
    "    lstm_model.add(Dropout(0.75))\n",
    "    lstm_model.add(Dense(units = 20,\n",
    "                        activation = 'relu'))\n",
    "    lstm_model.add(Dropout(0.5))\n",
    "    lstm_model.add(Dense(units = 2, \n",
    "                    activation='softmax'))\n",
    "    #Construct Loss\n",
    "    lstm_model.compile(loss = losses.categorical_crossentropy,\n",
    "                         optimizer = 'adam',\n",
    "                         metrics = ['accuracy'])\n",
    "    \n",
    "    return lstm_model\n",
    "\n",
    "kfold_print(skf, X_train, Y, create_model, 30, 32, False)"
   ]
  },
  {
   "cell_type": "code",
   "execution_count": 28,
   "metadata": {},
   "outputs": [
    {
     "name": "stdout",
     "output_type": "stream",
     "text": [
      "2516/2516 [==============================] - 3s 1ms/step\n",
      "(Training, Validation) accuracies: (72.51,72.93)\n",
      "2516/2516 [==============================] - 3s 1ms/step\n",
      "(Training, Validation) accuracies: (72.64,71.54)\n",
      "2515/2515 [==============================] - 3s 1ms/step\n",
      "(Training, Validation) accuracies: (72.93,71.05)\n",
      "2515/2515 [==============================] - 3s 1ms/step\n",
      "(Training, Validation) accuracies: (72.56,72.49)\n",
      "2514/2514 [==============================] - 3s 1ms/step\n",
      "(Training, Validation) accuracies: (73.04,68.89)\n",
      "Mean Training Accuracy: 72.74 +/- 0.21\n",
      "Mean Validation Accuracy: 71.38 +/- 1.41\n"
     ]
    }
   ],
   "source": [
    "def create_model():\n",
    "    lstm_model = Sequential()\n",
    "    lstm_model.add(LSTM(150, \n",
    "                        input_shape = (14, 144)))\n",
    "    lstm_model.add(Dropout(0.75))\n",
    "    lstm_model.add(Dense(units = 20,\n",
    "                        activation = 'relu'))\n",
    "    lstm_model.add(Dropout(0.5))\n",
    "    lstm_model.add(Dense(units = 2, \n",
    "                    activation='softmax'))\n",
    "    #Construct Loss\n",
    "    lstm_model.compile(loss = losses.categorical_crossentropy,\n",
    "                         optimizer = 'adam',\n",
    "                         metrics = ['accuracy'])\n",
    "    \n",
    "    return lstm_model\n",
    "\n",
    "kfold_print(skf, X_train, Y, create_model, 30, 32, False)"
   ]
  },
  {
   "cell_type": "code",
   "execution_count": 29,
   "metadata": {},
   "outputs": [
    {
     "name": "stdout",
     "output_type": "stream",
     "text": [
      "2516/2516 [==============================] - 3s 1ms/step\n",
      "(Training, Validation) accuracies: (72.46,71.74)\n",
      "2516/2516 [==============================] - 4s 1ms/step\n",
      "(Training, Validation) accuracies: (73.26,72.62)\n",
      "2515/2515 [==============================] - 4s 1ms/step\n",
      "(Training, Validation) accuracies: (73.06,71.81)\n",
      "2515/2515 [==============================] - 4s 1ms/step\n",
      "(Training, Validation) accuracies: (72.58,71.41)\n",
      "2514/2514 [==============================] - 7s 3ms/step\n",
      "(Training, Validation) accuracies: (73.80,69.13)\n",
      "Mean Training Accuracy: 73.03 +/- 0.49\n",
      "Mean Validation Accuracy: 71.34 +/- 1.17\n"
     ]
    }
   ],
   "source": [
    "def create_model():\n",
    "    lstm_model = Sequential()\n",
    "    lstm_model.add(LSTM(200, \n",
    "                        input_shape = (14, 144)))\n",
    "    lstm_model.add(Dropout(0.75))\n",
    "    lstm_model.add(Dense(units = 20,\n",
    "                        activation = 'relu'))\n",
    "    lstm_model.add(Dropout(0.5))\n",
    "    lstm_model.add(Dense(units = 2, \n",
    "                    activation='softmax'))\n",
    "    #Construct Loss\n",
    "    lstm_model.compile(loss = losses.categorical_crossentropy,\n",
    "                         optimizer = 'adam',\n",
    "                         metrics = ['accuracy'])\n",
    "    \n",
    "    return lstm_model\n",
    "\n",
    "kfold_print(skf, X_train, Y, create_model, 30, 32, False)"
   ]
  },
  {
   "cell_type": "code",
   "execution_count": 30,
   "metadata": {},
   "outputs": [
    {
     "name": "stdout",
     "output_type": "stream",
     "text": [
      "2516/2516 [==============================] - 4s 2ms/step\n",
      "(Training, Validation) accuracies: (73.36,72.62)\n",
      "2516/2516 [==============================] - 4s 1ms/step\n",
      "(Training, Validation) accuracies: (74.13,72.22)\n",
      "2515/2515 [==============================] - 4s 2ms/step\n",
      "(Training, Validation) accuracies: (73.29,71.13)\n",
      "2515/2515 [==============================] - 4s 2ms/step\n",
      "(Training, Validation) accuracies: (72.93,71.53)\n",
      "2514/2514 [==============================] - 4s 2ms/step\n",
      "(Training, Validation) accuracies: (74.92,68.70)\n",
      "Mean Training Accuracy: 73.72 +/- 0.71\n",
      "Mean Validation Accuracy: 71.24 +/- 1.37\n"
     ]
    }
   ],
   "source": [
    "def create_model():\n",
    "    lstm_model = Sequential()\n",
    "    lstm_model.add(LSTM(300, \n",
    "                        input_shape = (14, 144)))\n",
    "    lstm_model.add(Dropout(0.75))\n",
    "    lstm_model.add(Dense(units = 20,\n",
    "                        activation = 'relu'))\n",
    "    lstm_model.add(Dropout(0.5))\n",
    "    lstm_model.add(Dense(units = 2, \n",
    "                    activation='softmax'))\n",
    "    #Construct Loss\n",
    "    lstm_model.compile(loss = losses.categorical_crossentropy,\n",
    "                         optimizer = 'adam',\n",
    "                         metrics = ['accuracy'])\n",
    "    \n",
    "    return lstm_model\n",
    "\n",
    "kfold_print(skf, X_train, Y, create_model, 30, 32, False)"
   ]
  },
  {
   "cell_type": "code",
   "execution_count": 31,
   "metadata": {},
   "outputs": [
    {
     "name": "stdout",
     "output_type": "stream",
     "text": [
      "2516/2516 [==============================] - 4s 2ms/step\n",
      "(Training, Validation) accuracies: (71.17,72.89)\n",
      "2516/2516 [==============================] - 4s 2ms/step\n",
      "(Training, Validation) accuracies: (70.99,72.54)\n",
      "2515/2515 [==============================] - 4s 2ms/step\n",
      "(Training, Validation) accuracies: (71.01,70.78)\n",
      "2515/2515 [==============================] - 4s 2ms/step\n",
      "(Training, Validation) accuracies: (71.15,71.65)\n",
      "2514/2514 [==============================] - 4s 2ms/step\n",
      "(Training, Validation) accuracies: (72.49,68.97)\n",
      "Mean Training Accuracy: 71.36 +/- 0.57\n",
      "Mean Validation Accuracy: 71.37 +/- 1.40\n"
     ]
    }
   ],
   "source": [
    "def create_model():\n",
    "    lstm_model = Sequential()\n",
    "    lstm_model.add(LSTM(30, \n",
    "                        input_shape = (14, 144)))\n",
    "    lstm_model.add(Dropout(0.75))\n",
    "    lstm_model.add(Dense(units = 2, \n",
    "                    activation='softmax'))\n",
    "    #Construct Loss\n",
    "    lstm_model.compile(loss = losses.categorical_crossentropy,\n",
    "                         optimizer = 'adam',\n",
    "                         metrics = ['accuracy'])\n",
    "    \n",
    "    return lstm_model\n",
    "\n",
    "kfold_print(skf, X_train, Y, create_model, 30, 32, False)"
   ]
  },
  {
   "cell_type": "code",
   "execution_count": 32,
   "metadata": {},
   "outputs": [
    {
     "name": "stdout",
     "output_type": "stream",
     "text": [
      "2516/2516 [==============================] - 4s 2ms/step\n",
      "(Training, Validation) accuracies: (72.50,72.85)\n",
      "2516/2516 [==============================] - 4s 2ms/step\n",
      "(Training, Validation) accuracies: (72.43,71.94)\n",
      "2515/2515 [==============================] - 4s 2ms/step\n",
      "(Training, Validation) accuracies: (72.43,70.82)\n",
      "2515/2515 [==============================] - 4s 2ms/step\n",
      "(Training, Validation) accuracies: (72.28,71.61)\n",
      "2514/2514 [==============================] - 4s 2ms/step\n",
      "(Training, Validation) accuracies: (73.42,69.41)\n",
      "Mean Training Accuracy: 72.61 +/- 0.41\n",
      "Mean Validation Accuracy: 71.33 +/- 1.16\n"
     ]
    }
   ],
   "source": [
    "def create_model():\n",
    "    lstm_model = Sequential()\n",
    "    lstm_model.add(LSTM(50, \n",
    "                        input_shape = (14, 144)))\n",
    "    lstm_model.add(Dropout(0.75))\n",
    "    lstm_model.add(Dense(units = 2, \n",
    "                    activation='softmax'))\n",
    "    #Construct Loss\n",
    "    lstm_model.compile(loss = losses.categorical_crossentropy,\n",
    "                         optimizer = 'adam',\n",
    "                         metrics = ['accuracy'])\n",
    "    \n",
    "    return lstm_model\n",
    "\n",
    "kfold_print(skf, X_train, Y, create_model, 30, 32, False)"
   ]
  },
  {
   "cell_type": "code",
   "execution_count": 33,
   "metadata": {},
   "outputs": [
    {
     "name": "stdout",
     "output_type": "stream",
     "text": [
      "2516/2516 [==============================] - 4s 2ms/step\n",
      "(Training, Validation) accuracies: (72.70,73.45)\n",
      "2516/2516 [==============================] - 4s 2ms/step\n",
      "(Training, Validation) accuracies: (73.86,72.14)\n",
      "2515/2515 [==============================] - 4s 2ms/step\n",
      "(Training, Validation) accuracies: (73.72,70.58)\n",
      "2515/2515 [==============================] - 4s 2ms/step\n",
      "(Training, Validation) accuracies: (73.13,71.81)\n",
      "2514/2514 [==============================] - 4s 2ms/step\n",
      "(Training, Validation) accuracies: (73.66,69.21)\n",
      "Mean Training Accuracy: 73.42 +/- 0.43\n",
      "Mean Validation Accuracy: 71.44 +/- 1.44\n"
     ]
    }
   ],
   "source": [
    "def create_model():\n",
    "    lstm_model = Sequential()\n",
    "    lstm_model.add(LSTM(75, \n",
    "                        input_shape = (14, 144)))\n",
    "    lstm_model.add(Dropout(0.75))\n",
    "    lstm_model.add(Dense(units = 2, \n",
    "                    activation='softmax'))\n",
    "    #Construct Loss\n",
    "    lstm_model.compile(loss = losses.categorical_crossentropy,\n",
    "                         optimizer = 'adam',\n",
    "                         metrics = ['accuracy'])\n",
    "    \n",
    "    return lstm_model\n",
    "\n",
    "kfold_print(skf, X_train, Y, create_model, 30, 32, False)"
   ]
  },
  {
   "cell_type": "code",
   "execution_count": 34,
   "metadata": {},
   "outputs": [
    {
     "name": "stdout",
     "output_type": "stream",
     "text": [
      "2516/2516 [==============================] - 4s 2ms/step\n",
      "(Training, Validation) accuracies: (73.66,72.66)\n",
      "2516/2516 [==============================] - 5s 2ms/step\n",
      "(Training, Validation) accuracies: (74.80,72.58)\n",
      "2515/2515 [==============================] - 4s 2ms/step\n",
      "(Training, Validation) accuracies: (74.53,70.54)\n",
      "2515/2515 [==============================] - 5s 2ms/step\n",
      "(Training, Validation) accuracies: (74.33,72.21)\n",
      "2514/2514 [==============================] - 5s 2ms/step\n",
      "(Training, Validation) accuracies: (75.27,70.21)\n",
      "Mean Training Accuracy: 74.52 +/- 0.53\n",
      "Mean Validation Accuracy: 71.64 +/- 1.05\n"
     ]
    }
   ],
   "source": [
    "def create_model():\n",
    "    lstm_model = Sequential()\n",
    "    lstm_model.add(LSTM(100, \n",
    "                        input_shape = (14, 144)))\n",
    "    lstm_model.add(Dropout(0.75))\n",
    "    lstm_model.add(Dense(units = 2, \n",
    "                    activation='softmax'))\n",
    "    #Construct Loss\n",
    "    lstm_model.compile(loss = losses.categorical_crossentropy,\n",
    "                         optimizer = 'adam',\n",
    "                         metrics = ['accuracy'])\n",
    "    \n",
    "    return lstm_model\n",
    "\n",
    "kfold_print(skf, X_train, Y, create_model, 30, 32, False)"
   ]
  },
  {
   "cell_type": "code",
   "execution_count": 35,
   "metadata": {},
   "outputs": [
    {
     "name": "stdout",
     "output_type": "stream",
     "text": [
      "2516/2516 [==============================] - 5s 2ms/step\n",
      "(Training, Validation) accuracies: (75.44,71.22)\n",
      "2516/2516 [==============================] - 5s 2ms/step\n",
      "(Training, Validation) accuracies: (77.58,71.58)\n",
      "2515/2515 [==============================] - 5s 2ms/step\n",
      "(Training, Validation) accuracies: (76.07,70.62)\n",
      "2515/2515 [==============================] - 5s 2ms/step\n",
      "(Training, Validation) accuracies: (76.07,71.85)\n",
      "2514/2514 [==============================] - 5s 2ms/step\n",
      "(Training, Validation) accuracies: (78.24,68.77)\n",
      "Mean Training Accuracy: 76.68 +/- 1.05\n",
      "Mean Validation Accuracy: 70.81 +/- 1.10\n"
     ]
    }
   ],
   "source": [
    "def create_model():\n",
    "    lstm_model = Sequential()\n",
    "    lstm_model.add(LSTM(150, \n",
    "                        input_shape = (14, 144)))\n",
    "    lstm_model.add(Dropout(0.75))\n",
    "    lstm_model.add(Dense(units = 2, \n",
    "                    activation='softmax'))\n",
    "    #Construct Loss\n",
    "    lstm_model.compile(loss = losses.categorical_crossentropy,\n",
    "                         optimizer = 'adam',\n",
    "                         metrics = ['accuracy'])\n",
    "    \n",
    "    return lstm_model\n",
    "\n",
    "kfold_print(skf, X_train, Y, create_model, 30, 32, False)"
   ]
  },
  {
   "cell_type": "code",
   "execution_count": 36,
   "metadata": {},
   "outputs": [
    {
     "name": "stdout",
     "output_type": "stream",
     "text": [
      "2516/2516 [==============================] - 5s 2ms/step\n",
      "(Training, Validation) accuracies: (79.22,71.42)\n",
      "2516/2516 [==============================] - 5s 2ms/step\n",
      "(Training, Validation) accuracies: (78.83,71.07)\n",
      "2515/2515 [==============================] - 5s 2ms/step\n",
      "(Training, Validation) accuracies: (79.70,70.14)\n",
      "2515/2515 [==============================] - 5s 2ms/step\n",
      "(Training, Validation) accuracies: (79.61,69.38)\n",
      "2514/2514 [==============================] - 5s 2ms/step\n",
      "(Training, Validation) accuracies: (79.16,70.05)\n",
      "Mean Training Accuracy: 79.31 +/- 0.32\n",
      "Mean Validation Accuracy: 70.41 +/- 0.74\n"
     ]
    }
   ],
   "source": [
    "def create_model():\n",
    "    lstm_model = Sequential()\n",
    "    lstm_model.add(LSTM(200, \n",
    "                        input_shape = (14, 144)))\n",
    "    lstm_model.add(Dropout(0.75))\n",
    "    lstm_model.add(Dense(units = 2, \n",
    "                    activation='softmax'))\n",
    "    #Construct Loss\n",
    "    lstm_model.compile(loss = losses.categorical_crossentropy,\n",
    "                         optimizer = 'adam',\n",
    "                         metrics = ['accuracy'])\n",
    "    \n",
    "    return lstm_model\n",
    "\n",
    "kfold_print(skf, X_train, Y, create_model, 30, 32, False)"
   ]
  },
  {
   "cell_type": "code",
   "execution_count": 37,
   "metadata": {},
   "outputs": [
    {
     "name": "stdout",
     "output_type": "stream",
     "text": [
      "2516/2516 [==============================] - 5s 2ms/step\n",
      "(Training, Validation) accuracies: (81.72,70.95)\n",
      "2516/2516 [==============================] - 5s 2ms/step\n",
      "(Training, Validation) accuracies: (82.50,70.63)\n",
      "2515/2515 [==============================] - 5s 2ms/step\n",
      "(Training, Validation) accuracies: (82.48,69.38)\n",
      "2515/2515 [==============================] - 5s 2ms/step\n",
      "(Training, Validation) accuracies: (81.59,68.19)\n",
      "2514/2514 [==============================] - 5s 2ms/step\n",
      "(Training, Validation) accuracies: (81.95,68.74)\n",
      "Mean Training Accuracy: 82.05 +/- 0.38\n",
      "Mean Validation Accuracy: 69.58 +/- 1.06\n"
     ]
    }
   ],
   "source": [
    "def create_model():\n",
    "    lstm_model = Sequential()\n",
    "    lstm_model.add(LSTM(300, \n",
    "                        input_shape = (14, 144)))\n",
    "    lstm_model.add(Dropout(0.75))\n",
    "    lstm_model.add(Dense(units = 2, \n",
    "                    activation='softmax'))\n",
    "    #Construct Loss\n",
    "    lstm_model.compile(loss = losses.categorical_crossentropy,\n",
    "                         optimizer = 'adam',\n",
    "                         metrics = ['accuracy'])\n",
    "    \n",
    "    return lstm_model\n",
    "\n",
    "kfold_print(skf, X_train, Y, create_model, 30, 32, False)"
   ]
  },
  {
   "cell_type": "markdown",
   "metadata": {},
   "source": [
    "# 20 sec subsequences - Aggregation = Mean"
   ]
  },
  {
   "cell_type": "code",
   "execution_count": 38,
   "metadata": {},
   "outputs": [],
   "source": [
    "X_train = X.reshape((len(X), 14, 20, -1), order = 'F')\n",
    "X_train = X_train.mean(axis = 2)"
   ]
  },
  {
   "cell_type": "code",
   "execution_count": 39,
   "metadata": {},
   "outputs": [
    {
     "name": "stdout",
     "output_type": "stream",
     "text": [
      "2516/2516 [==============================] - 6s 2ms/step\n",
      "(Training, Validation) accuracies: (71.81,72.26)\n",
      "2516/2516 [==============================] - 6s 2ms/step\n",
      "(Training, Validation) accuracies: (71.79,70.11)\n",
      "2515/2515 [==============================] - 6s 2ms/step\n",
      "(Training, Validation) accuracies: (72.49,71.25)\n",
      "2515/2515 [==============================] - 17s 7ms/step\n",
      "(Training, Validation) accuracies: (72.35,71.93)\n",
      "2514/2514 [==============================] - 7s 3ms/step\n",
      "(Training, Validation) accuracies: (72.07,69.65)\n",
      "Mean Training Accuracy: 72.10 +/- 0.28\n",
      "Mean Validation Accuracy: 71.04 +/- 1.01\n"
     ]
    }
   ],
   "source": [
    "def create_model():\n",
    "    lstm_model = Sequential()\n",
    "    lstm_model.add(LSTM(100, \n",
    "                        input_shape = (14, 72)))\n",
    "    lstm_model.add(Dropout(0.75))\n",
    "    lstm_model.add(Dense(units = 75,\n",
    "                        activation = 'relu'))\n",
    "    lstm_model.add(Dropout(0.75))\n",
    "    lstm_model.add(Dense(units = 2, \n",
    "                    activation='softmax'))\n",
    "    #Construct Loss\n",
    "    lstm_model.compile(loss = losses.categorical_crossentropy,\n",
    "                         optimizer = 'adam',\n",
    "                         metrics = ['accuracy'])\n",
    "    \n",
    "    return lstm_model\n",
    "\n",
    "kfold_print(skf, X_train, Y, create_model, 30, 32, False)"
   ]
  },
  {
   "cell_type": "code",
   "execution_count": 40,
   "metadata": {},
   "outputs": [
    {
     "name": "stdout",
     "output_type": "stream",
     "text": [
      "2516/2516 [==============================] - 5s 2ms/step\n",
      "(Training, Validation) accuracies: (72.36,70.35)\n",
      "2516/2516 [==============================] - 6s 2ms/step\n",
      "(Training, Validation) accuracies: (72.74,72.06)\n",
      "2515/2515 [==============================] - 5s 2ms/step\n",
      "(Training, Validation) accuracies: (72.66,70.78)\n",
      "2515/2515 [==============================] - 5s 2ms/step\n",
      "(Training, Validation) accuracies: (72.87,71.53)\n",
      "2514/2514 [==============================] - 5s 2ms/step\n",
      "(Training, Validation) accuracies: (73.57,69.29)\n",
      "Mean Training Accuracy: 72.84 +/- 0.40\n",
      "Mean Validation Accuracy: 70.80 +/- 0.96\n"
     ]
    }
   ],
   "source": [
    "def create_model():\n",
    "    lstm_model = Sequential()\n",
    "    lstm_model.add(LSTM(100, \n",
    "                        input_shape = (14, 72)))\n",
    "    lstm_model.add(Dropout(0.75))\n",
    "    lstm_model.add(Dense(units = 100,\n",
    "                        activation = 'relu'))\n",
    "    lstm_model.add(Dropout(0.75))\n",
    "    lstm_model.add(Dense(units = 2, \n",
    "                    activation='softmax'))\n",
    "    #Construct Loss\n",
    "    lstm_model.compile(loss = losses.categorical_crossentropy,\n",
    "                         optimizer = 'adam',\n",
    "                         metrics = ['accuracy'])\n",
    "    \n",
    "    return lstm_model\n",
    "\n",
    "kfold_print(skf, X_train, Y, create_model, 30, 32, False)"
   ]
  },
  {
   "cell_type": "code",
   "execution_count": 43,
   "metadata": {},
   "outputs": [
    {
     "name": "stdout",
     "output_type": "stream",
     "text": [
      "2516/2516 [==============================] - 6s 2ms/step\n",
      "(Training, Validation) accuracies: (71.67,72.34)\n",
      "2516/2516 [==============================] - 6s 2ms/step\n",
      "(Training, Validation) accuracies: (71.17,69.91)\n",
      "2515/2515 [==============================] - 6s 2ms/step\n",
      "(Training, Validation) accuracies: (71.48,70.89)\n",
      "2515/2515 [==============================] - 6s 2ms/step\n",
      "(Training, Validation) accuracies: (71.76,71.89)\n",
      "2514/2514 [==============================] - 6s 2ms/step\n",
      "(Training, Validation) accuracies: (72.07,69.57)\n",
      "Mean Training Accuracy: 71.63 +/- 0.30\n",
      "Mean Validation Accuracy: 70.92 +/- 1.08\n"
     ]
    }
   ],
   "source": [
    "def create_model():\n",
    "    lstm_model = Sequential()\n",
    "    lstm_model.add(LSTM(150, \n",
    "                        input_shape = (14, 72)))\n",
    "    lstm_model.add(Dropout(0.75))\n",
    "    lstm_model.add(Dense(units = 150,\n",
    "                        activation = 'relu'))\n",
    "    lstm_model.add(Dropout(0.75))\n",
    "    lstm_model.add(Dense(units = 2, \n",
    "                    activation='softmax'))\n",
    "    #Construct Loss\n",
    "    lstm_model.compile(loss = losses.categorical_crossentropy,\n",
    "                         optimizer = 'adam',\n",
    "                         metrics = ['accuracy'])\n",
    "    \n",
    "    return lstm_model\n",
    "\n",
    "kfold_print(skf, X_train, Y, create_model, 20, 32, False)"
   ]
  },
  {
   "cell_type": "code",
   "execution_count": 42,
   "metadata": {},
   "outputs": [
    {
     "name": "stdout",
     "output_type": "stream",
     "text": [
      "2516/2516 [==============================] - 6s 2ms/step\n",
      "(Training, Validation) accuracies: (73.24,71.66)\n",
      "2516/2516 [==============================] - 6s 2ms/step\n",
      "(Training, Validation) accuracies: (73.32,71.07)\n",
      "2515/2515 [==============================] - 6s 2ms/step\n",
      "(Training, Validation) accuracies: (73.48,69.74)\n",
      "2515/2515 [==============================] - 6s 2ms/step\n",
      "(Training, Validation) accuracies: (73.42,71.21)\n",
      "2514/2514 [==============================] - 7s 3ms/step\n",
      "(Training, Validation) accuracies: (75.32,68.30)\n",
      "Mean Training Accuracy: 73.76 +/- 0.79\n",
      "Mean Validation Accuracy: 70.40 +/- 1.23\n"
     ]
    }
   ],
   "source": [
    "def create_model():\n",
    "    lstm_model = Sequential()\n",
    "    lstm_model.add(LSTM(150, \n",
    "                        input_shape = (14, 72)))\n",
    "    lstm_model.add(Dropout(0.75))\n",
    "    lstm_model.add(Dense(units = 100,\n",
    "                        activation = 'relu'))\n",
    "    lstm_model.add(Dropout(0.75))\n",
    "    lstm_model.add(Dense(units = 2, \n",
    "                    activation='softmax'))\n",
    "    #Construct Loss\n",
    "    lstm_model.compile(loss = losses.categorical_crossentropy,\n",
    "                         optimizer = 'adam',\n",
    "                         metrics = ['accuracy'])\n",
    "    \n",
    "    return lstm_model\n",
    "\n",
    "kfold_print(skf, X_train, Y, create_model, 30, 32, False)"
   ]
  },
  {
   "cell_type": "code",
   "execution_count": null,
   "metadata": {},
   "outputs": [],
   "source": []
  }
 ],
 "metadata": {
  "kernelspec": {
   "display_name": "Python 3",
   "language": "python",
   "name": "python3"
  },
  "language_info": {
   "codemirror_mode": {
    "name": "ipython",
    "version": 3
   },
   "file_extension": ".py",
   "mimetype": "text/x-python",
   "name": "python",
   "nbconvert_exporter": "python",
   "pygments_lexer": "ipython3",
   "version": "3.5.2"
  }
 },
 "nbformat": 4,
 "nbformat_minor": 2
}
