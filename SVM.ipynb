{
 "cells": [
  {
   "cell_type": "markdown",
   "metadata": {},
   "source": [
    "# SVM"
   ]
  },
  {
   "cell_type": "code",
   "execution_count": 1,
   "metadata": {},
   "outputs": [
    {
     "name": "stderr",
     "output_type": "stream",
     "text": [
      "D:\\Programs\\Anaconda3\\lib\\site-packages\\sklearn\\cross_validation.py:41: DeprecationWarning: This module was deprecated in version 0.18 in favor of the model_selection module into which all the refactored classes and functions are moved. Also note that the interface of the new CV iterators are different from that of this module. This module will be removed in 0.20.\n",
      "  \"This module will be removed in 0.20.\", DeprecationWarning)\n"
     ]
    }
   ],
   "source": [
    "import numpy as np\n",
    "import pandas as pd\n",
    "import random\n",
    "from sklearn.cross_validation import cross_val_score\n",
    "from sklearn import svm\n",
    "from src.utils import preprocess\n",
    "random.seed(7)"
   ]
  },
  {
   "cell_type": "markdown",
   "metadata": {},
   "source": [
    "## Loading data"
   ]
  },
  {
   "cell_type": "code",
   "execution_count": 2,
   "metadata": {
    "collapsed": true
   },
   "outputs": [],
   "source": [
    "# Open files\n",
    "data_X_train = pd.read_csv('data/challenge_fichier_dentrees_dentrainement_challenge_nba/train.csv')\n",
    "data_Y_train = pd.read_csv('data/challenge_fichier_de_sortie_dentrainement_challenge_nba.csv', sep=';')\n",
    "X_test = pd.read_csv('data/challenge_fichiers_dentrees_de_test_challenge_nba/test.csv')"
   ]
  },
  {
   "cell_type": "markdown",
   "metadata": {},
   "source": [
    "**Preprocess data : split train/validation and remove ID**"
   ]
  },
  {
   "cell_type": "code",
   "execution_count": 3,
   "metadata": {
    "collapsed": true
   },
   "outputs": [],
   "source": [
    "X_train, Y_train, X_val, Y_val = preprocess(data_X_train, data_Y_train, 0.7)"
   ]
  },
  {
   "cell_type": "markdown",
   "metadata": {},
   "source": [
    "## Model evaluation"
   ]
  },
  {
   "cell_type": "markdown",
   "metadata": {
    "collapsed": true
   },
   "source": [
    "**SVC with linear kernel**"
   ]
  },
  {
   "cell_type": "code",
   "execution_count": 9,
   "metadata": {},
   "outputs": [
    {
     "name": "stdout",
     "output_type": "stream",
     "text": [
      "Accuracy : 64.6%\n"
     ]
    }
   ],
   "source": [
    "C = 1\n",
    "model_1 = svm.SVC(kernel='linear', C=C)\n",
    "model_1.fit(X_train, Y_train)\n",
    "score = model_1.score(X_val, Y_val)\n",
    "print('Accuracy : {:.1f}%'.format(score*100))"
   ]
  },
  {
   "cell_type": "code",
   "execution_count": 10,
   "metadata": {},
   "outputs": [
    {
     "name": "stdout",
     "output_type": "stream",
     "text": [
      "Accuracy : 72.2%\n"
     ]
    }
   ],
   "source": [
    "C = 1e-5\n",
    "model_1 = svm.SVC(kernel='linear', C=C)\n",
    "model_1.fit(X_train, Y_train)\n",
    "score = model_1.score(X_val, Y_val)\n",
    "print('Accuracy : {:.1f}%'.format(score*100))"
   ]
  },
  {
   "cell_type": "markdown",
   "metadata": {},
   "source": [
    "**Linear SVC**"
   ]
  },
  {
   "cell_type": "code",
   "execution_count": 4,
   "metadata": {},
   "outputs": [
    {
     "name": "stdout",
     "output_type": "stream",
     "text": [
      "Accuracy : 66.6%\n"
     ]
    }
   ],
   "source": [
    "C = 1\n",
    "model_2 = svm.LinearSVC(C=C)\n",
    "model_2.fit(X_train, Y_train)\n",
    "score_2 = model_2.score(X_val, Y_val)\n",
    "print('Accuracy : {:.1f}%'.format(score_2*100))"
   ]
  },
  {
   "cell_type": "code",
   "execution_count": 5,
   "metadata": {},
   "outputs": [
    {
     "name": "stdout",
     "output_type": "stream",
     "text": [
      "Accuracy : 71.9%\n"
     ]
    }
   ],
   "source": [
    "C=1e-5\n",
    "model_2 = svm.LinearSVC(C=C)\n",
    "model_2.fit(X_train, Y_train)\n",
    "score_2 = model_2.score(X_val, Y_val)\n",
    "print('Accuracy : {:.1f}%'.format(score_2*100))"
   ]
  },
  {
   "cell_type": "markdown",
   "metadata": {
    "collapsed": true
   },
   "source": [
    "**SVC with RBF kernel**"
   ]
  },
  {
   "cell_type": "code",
   "execution_count": 8,
   "metadata": {},
   "outputs": [
    {
     "name": "stdout",
     "output_type": "stream",
     "text": [
      "Accuracy : 56.7%\n"
     ]
    }
   ],
   "source": [
    "C = 1e-5\n",
    "model_3 = svm.SVC(kernel='rbf', gamma=0.7, C=C)\n",
    "model_3.fit(X_train, Y_train)\n",
    "score_3 = model_3.score(X_val, Y_val)\n",
    "print('Accuracy : {:.1f}%'.format(score_3*100))"
   ]
  },
  {
   "cell_type": "markdown",
   "metadata": {},
   "source": [
    "**SVC with polynomial (degree 3) kernel**"
   ]
  },
  {
   "cell_type": "code",
   "execution_count": 7,
   "metadata": {},
   "outputs": [
    {
     "name": "stdout",
     "output_type": "stream",
     "text": [
      "Accuracy : 66.0%\n"
     ]
    }
   ],
   "source": [
    "C=1e-5\n",
    "model_4 = svm.SVC(kernel='poly', degree=3, C=C)\n",
    "model_4.fit(X_train, Y_train)\n",
    "score_4 = model_4.score(X_val, Y_val)\n",
    "print('Accuracy : {:.1f}%'.format(score_4*100))"
   ]
  }
 ],
 "metadata": {
  "kernelspec": {
   "display_name": "Python 3",
   "language": "python",
   "name": "python3"
  },
  "language_info": {
   "codemirror_mode": {
    "name": "ipython",
    "version": 3
   },
   "file_extension": ".py",
   "mimetype": "text/x-python",
   "name": "python",
   "nbconvert_exporter": "python",
   "pygments_lexer": "ipython3",
   "version": "3.6.2"
  }
 },
 "nbformat": 4,
 "nbformat_minor": 2
}
