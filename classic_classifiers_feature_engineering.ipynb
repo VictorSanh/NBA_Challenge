{
 "cells": [
  {
   "cell_type": "markdown",
   "metadata": {},
   "source": [
    "# Classifiers with Feature Engineering"
   ]
  },
  {
   "cell_type": "code",
   "execution_count": 1,
   "metadata": {
    "collapsed": true
   },
   "outputs": [],
   "source": [
    "import numpy as np\n",
    "import pandas as pd\n",
    "from tqdm import tqdm\n",
    "from sklearn.ensemble import GradientBoostingClassifier\n",
    "from sklearn.model_selection import StratifiedKFold\n",
    "from sklearn.linear_model import LogisticRegression\n",
    "from src.utils import preprocess, feature_engineering"
   ]
  },
  {
   "cell_type": "markdown",
   "metadata": {},
   "source": [
    "## Loading data"
   ]
  },
  {
   "cell_type": "code",
   "execution_count": 2,
   "metadata": {
    "collapsed": true
   },
   "outputs": [],
   "source": [
    "# Open files\n",
    "X_train = pd.read_csv('data/challenge_fichier_dentrees_dentrainement_challenge_nba/train.csv')\n",
    "Y_train = pd.read_csv('data/challenge_fichier_de_sortie_dentrainement_challenge_nba.csv', sep=';')"
   ]
  },
  {
   "cell_type": "markdown",
   "metadata": {},
   "source": [
    "## Preprocessing"
   ]
  },
  {
   "cell_type": "markdown",
   "metadata": {},
   "source": [
    "**Feature Engineering**"
   ]
  },
  {
   "cell_type": "code",
   "execution_count": 11,
   "metadata": {
    "collapsed": true
   },
   "outputs": [],
   "source": [
    "def extract_main_features(data_X_test):\n",
    "    filter_col = [col for col in data_X_test if col.startswith('miss') or col.startswith('offensive rebound') or col.startswith('score') or col.startswith('assist')\n",
    "                                            or col.startswith('two pts') or col.startswith('three pts') or col.startswith('fg') or col.startswith('ID')]\n",
    "    data_X_test = data_X_test[filter_col]\n",
    "    return data_X_test"
   ]
  },
  {
   "cell_type": "code",
   "execution_count": 12,
   "metadata": {
    "collapsed": true
   },
   "outputs": [],
   "source": [
    "X_train = extract_main_features(X_train)"
   ]
  },
  {
   "cell_type": "code",
   "execution_count": 14,
   "metadata": {},
   "outputs": [
    {
     "name": "stderr",
     "output_type": "stream",
     "text": [
      "D:\\Scolaire\\Ponts\\3A\\MVA\\Malediction Dimension\\NBA_Challenge\\src\\utils.py:50: SettingWithCopyWarning: \n",
      "A value is trying to be set on a copy of a slice from a DataFrame.\n",
      "Try using .loc[row_indexer,col_indexer] = value instead\n",
      "\n",
      "See the caveats in the documentation: http://pandas.pydata.org/pandas-docs/stable/indexing.html#indexing-view-versus-copy\n",
      "  df['diff score_%d' % 1] = df['score_%d' % 1]\n",
      "  0%|                                                                                         | 0/1439 [00:00<?, ?it/s]D:\\Scolaire\\Ponts\\3A\\MVA\\Malediction Dimension\\NBA_Challenge\\src\\utils.py:52: SettingWithCopyWarning: \n",
      "A value is trying to be set on a copy of a slice from a DataFrame.\n",
      "Try using .loc[row_indexer,col_indexer] = value instead\n",
      "\n",
      "See the caveats in the documentation: http://pandas.pydata.org/pandas-docs/stable/indexing.html#indexing-view-versus-copy\n",
      "  df['diff score_%d' % k] = df['score_%d' % k] - df['score_%d' % (k-1)]\n",
      "100%|██████████████████████████████████████████████████████████████████████████████| 1439/1439 [01:21<00:00, 17.60it/s]\n",
      "  0%|                                                                                         | 0/1440 [00:00<?, ?it/s]D:\\Scolaire\\Ponts\\3A\\MVA\\Malediction Dimension\\NBA_Challenge\\src\\utils.py:55: SettingWithCopyWarning: \n",
      "A value is trying to be set on a copy of a slice from a DataFrame.\n",
      "Try using .loc[row_indexer,col_indexer] = value instead\n",
      "\n",
      "See the caveats in the documentation: http://pandas.pydata.org/pandas-docs/stable/indexing.html#indexing-view-versus-copy\n",
      "  df['two pts_%d' % k] = df['diff score_%d' % k].apply(lambda x:convert_pt(x, 2))\n",
      "D:\\Scolaire\\Ponts\\3A\\MVA\\Malediction Dimension\\NBA_Challenge\\src\\utils.py:56: SettingWithCopyWarning: \n",
      "A value is trying to be set on a copy of a slice from a DataFrame.\n",
      "Try using .loc[row_indexer,col_indexer] = value instead\n",
      "\n",
      "See the caveats in the documentation: http://pandas.pydata.org/pandas-docs/stable/indexing.html#indexing-view-versus-copy\n",
      "  df['three pts_%d' % k] = df['diff score_%d' % k].apply(lambda x:convert_pt(x, 3))\n",
      "100%|██████████████████████████████████████████████████████████████████████████████| 1440/1440 [04:15<00:00,  5.64it/s]\n",
      "100%|██████████████████████████████████████████████████████████████████████████████| 1440/1440 [00:33<00:00, 42.40it/s]\n"
     ]
    },
    {
     "data": {
      "text/html": [
       "<div>\n",
       "<style scoped>\n",
       "    .dataframe tbody tr th:only-of-type {\n",
       "        vertical-align: middle;\n",
       "    }\n",
       "\n",
       "    .dataframe tbody tr th {\n",
       "        vertical-align: top;\n",
       "    }\n",
       "\n",
       "    .dataframe thead th {\n",
       "        text-align: right;\n",
       "    }\n",
       "</style>\n",
       "<table border=\"1\" class=\"dataframe\">\n",
       "  <thead>\n",
       "    <tr style=\"text-align: right;\">\n",
       "      <th></th>\n",
       "      <th>ID</th>\n",
       "      <th>score_1</th>\n",
       "      <th>offensive rebound_1</th>\n",
       "      <th>assist_1</th>\n",
       "      <th>miss_1</th>\n",
       "      <th>two pts_1</th>\n",
       "      <th>three pts_1</th>\n",
       "      <th>fg_1</th>\n",
       "      <th>score_2</th>\n",
       "      <th>offensive rebound_2</th>\n",
       "      <th>...</th>\n",
       "      <th>two pts_1439</th>\n",
       "      <th>three pts_1439</th>\n",
       "      <th>fg_1439</th>\n",
       "      <th>score_1440</th>\n",
       "      <th>offensive rebound_1440</th>\n",
       "      <th>assist_1440</th>\n",
       "      <th>miss_1440</th>\n",
       "      <th>two pts_1440</th>\n",
       "      <th>three pts_1440</th>\n",
       "      <th>fg_1440</th>\n",
       "    </tr>\n",
       "  </thead>\n",
       "  <tbody>\n",
       "    <tr>\n",
       "      <th>0</th>\n",
       "      <td>14186</td>\n",
       "      <td>-2</td>\n",
       "      <td>0</td>\n",
       "      <td>0</td>\n",
       "      <td>0</td>\n",
       "      <td>-1</td>\n",
       "      <td>0</td>\n",
       "      <td>-1</td>\n",
       "      <td>-2</td>\n",
       "      <td>0</td>\n",
       "      <td>...</td>\n",
       "      <td>-6</td>\n",
       "      <td>-2</td>\n",
       "      <td>-8</td>\n",
       "      <td>-13</td>\n",
       "      <td>8</td>\n",
       "      <td>-3</td>\n",
       "      <td>9</td>\n",
       "      <td>-6</td>\n",
       "      <td>-1</td>\n",
       "      <td>-7</td>\n",
       "    </tr>\n",
       "    <tr>\n",
       "      <th>1</th>\n",
       "      <td>13013</td>\n",
       "      <td>0</td>\n",
       "      <td>0</td>\n",
       "      <td>0</td>\n",
       "      <td>1</td>\n",
       "      <td>0</td>\n",
       "      <td>0</td>\n",
       "      <td>0</td>\n",
       "      <td>0</td>\n",
       "      <td>0</td>\n",
       "      <td>...</td>\n",
       "      <td>-7</td>\n",
       "      <td>3</td>\n",
       "      <td>-4</td>\n",
       "      <td>-5</td>\n",
       "      <td>1</td>\n",
       "      <td>1</td>\n",
       "      <td>-1</td>\n",
       "      <td>-7</td>\n",
       "      <td>3</td>\n",
       "      <td>-4</td>\n",
       "    </tr>\n",
       "    <tr>\n",
       "      <th>2</th>\n",
       "      <td>7102</td>\n",
       "      <td>0</td>\n",
       "      <td>0</td>\n",
       "      <td>0</td>\n",
       "      <td>0</td>\n",
       "      <td>0</td>\n",
       "      <td>0</td>\n",
       "      <td>0</td>\n",
       "      <td>0</td>\n",
       "      <td>0</td>\n",
       "      <td>...</td>\n",
       "      <td>1</td>\n",
       "      <td>1</td>\n",
       "      <td>2</td>\n",
       "      <td>5</td>\n",
       "      <td>-1</td>\n",
       "      <td>0</td>\n",
       "      <td>-5</td>\n",
       "      <td>1</td>\n",
       "      <td>1</td>\n",
       "      <td>2</td>\n",
       "    </tr>\n",
       "    <tr>\n",
       "      <th>3</th>\n",
       "      <td>7637</td>\n",
       "      <td>-2</td>\n",
       "      <td>0</td>\n",
       "      <td>0</td>\n",
       "      <td>0</td>\n",
       "      <td>-1</td>\n",
       "      <td>0</td>\n",
       "      <td>-1</td>\n",
       "      <td>-2</td>\n",
       "      <td>0</td>\n",
       "      <td>...</td>\n",
       "      <td>-2</td>\n",
       "      <td>0</td>\n",
       "      <td>-2</td>\n",
       "      <td>-1</td>\n",
       "      <td>2</td>\n",
       "      <td>-1</td>\n",
       "      <td>-1</td>\n",
       "      <td>-2</td>\n",
       "      <td>0</td>\n",
       "      <td>-2</td>\n",
       "    </tr>\n",
       "    <tr>\n",
       "      <th>4</th>\n",
       "      <td>12350</td>\n",
       "      <td>0</td>\n",
       "      <td>0</td>\n",
       "      <td>0</td>\n",
       "      <td>1</td>\n",
       "      <td>0</td>\n",
       "      <td>0</td>\n",
       "      <td>0</td>\n",
       "      <td>0</td>\n",
       "      <td>0</td>\n",
       "      <td>...</td>\n",
       "      <td>-2</td>\n",
       "      <td>2</td>\n",
       "      <td>0</td>\n",
       "      <td>1</td>\n",
       "      <td>4</td>\n",
       "      <td>4</td>\n",
       "      <td>3</td>\n",
       "      <td>-2</td>\n",
       "      <td>2</td>\n",
       "      <td>0</td>\n",
       "    </tr>\n",
       "  </tbody>\n",
       "</table>\n",
       "<p>5 rows × 10081 columns</p>\n",
       "</div>"
      ],
      "text/plain": [
       "      ID  score_1  offensive rebound_1  assist_1  miss_1  two pts_1  \\\n",
       "0  14186       -2                    0         0       0         -1   \n",
       "1  13013        0                    0         0       1          0   \n",
       "2   7102        0                    0         0       0          0   \n",
       "3   7637       -2                    0         0       0         -1   \n",
       "4  12350        0                    0         0       1          0   \n",
       "\n",
       "   three pts_1  fg_1  score_2  offensive rebound_2   ...     two pts_1439  \\\n",
       "0            0    -1       -2                    0   ...               -6   \n",
       "1            0     0        0                    0   ...               -7   \n",
       "2            0     0        0                    0   ...                1   \n",
       "3            0    -1       -2                    0   ...               -2   \n",
       "4            0     0        0                    0   ...               -2   \n",
       "\n",
       "   three pts_1439  fg_1439  score_1440  offensive rebound_1440  assist_1440  \\\n",
       "0              -2       -8         -13                       8           -3   \n",
       "1               3       -4          -5                       1            1   \n",
       "2               1        2           5                      -1            0   \n",
       "3               0       -2          -1                       2           -1   \n",
       "4               2        0           1                       4            4   \n",
       "\n",
       "   miss_1440  two pts_1440  three pts_1440  fg_1440  \n",
       "0          9            -6              -1       -7  \n",
       "1         -1            -7               3       -4  \n",
       "2         -5             1               1        2  \n",
       "3         -1            -2               0       -2  \n",
       "4          3            -2               2        0  \n",
       "\n",
       "[5 rows x 10081 columns]"
      ]
     },
     "execution_count": 14,
     "metadata": {},
     "output_type": "execute_result"
    }
   ],
   "source": [
    "X_train = feature_engineering(X_train)\n",
    "X_train.head()"
   ]
  },
  {
   "cell_type": "code",
   "execution_count": 15,
   "metadata": {
    "collapsed": true
   },
   "outputs": [],
   "source": [
    "X_train, Y_train, X_val, Y_val = preprocess(X_train, Y_train, 0.8)"
   ]
  },
  {
   "cell_type": "markdown",
   "metadata": {},
   "source": [
    "## XGBoost classifier"
   ]
  },
  {
   "cell_type": "code",
   "execution_count": 17,
   "metadata": {},
   "outputs": [
    {
     "name": "stdout",
     "output_type": "stream",
     "text": [
      "Training accurary : 0.96\n",
      "Validation accurary : 0.73\n"
     ]
    }
   ],
   "source": [
    "xgb = GradientBoostingClassifier(max_depth=3, n_estimators = 1000)\n",
    "xgb.fit(X_train, Y_train)\n",
    "print('Training accurary : {0:.2f}'.format(xgb.score(X_train, Y_train)))\n",
    "print('Validation accurary : {0:.2f}'.format(xgb.score(X_val, Y_val)))"
   ]
  },
  {
   "cell_type": "markdown",
   "metadata": {},
   "source": [
    "## Logistic Regression"
   ]
  },
  {
   "cell_type": "code",
   "execution_count": 16,
   "metadata": {},
   "outputs": [
    {
     "name": "stdout",
     "output_type": "stream",
     "text": [
      "Training accurary : 0.73\n",
      "Validation accurary : 0.74\n"
     ]
    }
   ],
   "source": [
    "LR = LogisticRegression(C=0.00001)\n",
    "LR.fit(X_train, Y_train)\n",
    "print('Training accurary : {0:.2f}'.format(LR.score(X_train, Y_train)))\n",
    "print('Validation accurary : {0:.2f}'.format(LR.score(X_val, Y_val)))"
   ]
  },
  {
   "cell_type": "code",
   "execution_count": null,
   "metadata": {
    "collapsed": true
   },
   "outputs": [],
   "source": []
  }
 ],
 "metadata": {
  "kernelspec": {
   "display_name": "Python 3",
   "language": "python",
   "name": "python3"
  },
  "language_info": {
   "codemirror_mode": {
    "name": "ipython",
    "version": 3
   },
   "file_extension": ".py",
   "mimetype": "text/x-python",
   "name": "python",
   "nbconvert_exporter": "python",
   "pygments_lexer": "ipython3",
   "version": "3.6.2"
  }
 },
 "nbformat": 4,
 "nbformat_minor": 2
}
