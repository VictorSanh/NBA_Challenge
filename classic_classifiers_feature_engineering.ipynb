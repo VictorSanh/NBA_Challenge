{
 "cells": [
  {
   "cell_type": "markdown",
   "metadata": {},
   "source": [
    "# Classifiers with Feature Engineering"
   ]
  },
  {
   "cell_type": "code",
   "execution_count": 62,
   "metadata": {
    "collapsed": true
   },
   "outputs": [],
   "source": [
    "import numpy as np\n",
    "import pandas as pd\n",
    "from tqdm import tqdm\n",
    "from sklearn.ensemble import GradientBoostingClassifier, RandomForestClassifier, VotingClassifier\n",
    "from sklearn.model_selection import StratifiedKFold, GridSearchCV \n",
    "from sklearn.linear_model import LogisticRegression\n",
    "from src.utils import preprocess, feature_engineering\n",
    "\n",
    "from keras.models import Sequential\n",
    "from keras.layers import SimpleRNN, Dropout, Dense, Flatten, Activation\n",
    "from keras.utils import np_utils"
   ]
  },
  {
   "cell_type": "markdown",
   "metadata": {},
   "source": [
    "## Loading data"
   ]
  },
  {
   "cell_type": "code",
   "execution_count": 2,
   "metadata": {
    "collapsed": true
   },
   "outputs": [],
   "source": [
    "# Open files\n",
    "Data_X_train = pd.read_csv('data/challenge_fichier_dentrees_dentrainement_challenge_nba/train.csv')\n",
    "Data_Y_train = pd.read_csv('data/challenge_fichier_de_sortie_dentrainement_challenge_nba.csv', sep=';')"
   ]
  },
  {
   "cell_type": "markdown",
   "metadata": {},
   "source": [
    "## Preprocessing"
   ]
  },
  {
   "cell_type": "code",
   "execution_count": 3,
   "metadata": {},
   "outputs": [
    {
     "name": "stderr",
     "output_type": "stream",
     "text": [
      "100%|██████████████████████████████████████████████████████████████████████████████| 1439/1439 [00:54<00:00, 26.45it/s]\n",
      "100%|██████████████████████████████████████████████████████████████████████████████| 1440/1440 [03:40<00:00,  6.54it/s]\n",
      "100%|██████████████████████████████████████████████████████████████████████████████| 1440/1440 [02:47<00:00,  8.58it/s]\n"
     ]
    },
    {
     "data": {
      "text/html": [
       "<div>\n",
       "<style scoped>\n",
       "    .dataframe tbody tr th:only-of-type {\n",
       "        vertical-align: middle;\n",
       "    }\n",
       "\n",
       "    .dataframe tbody tr th {\n",
       "        vertical-align: top;\n",
       "    }\n",
       "\n",
       "    .dataframe thead th {\n",
       "        text-align: right;\n",
       "    }\n",
       "</style>\n",
       "<table border=\"1\" class=\"dataframe\">\n",
       "  <thead>\n",
       "    <tr style=\"text-align: right;\">\n",
       "      <th></th>\n",
       "      <th>ID</th>\n",
       "      <th>score_1</th>\n",
       "      <th>offensive rebound_1</th>\n",
       "      <th>defensive rebound_1</th>\n",
       "      <th>offensive foul_1</th>\n",
       "      <th>defensive foul_1</th>\n",
       "      <th>assist_1</th>\n",
       "      <th>lost ball_1</th>\n",
       "      <th>steals_1</th>\n",
       "      <th>bad pass_1</th>\n",
       "      <th>...</th>\n",
       "      <th>assist_1440</th>\n",
       "      <th>lost ball_1440</th>\n",
       "      <th>steals_1440</th>\n",
       "      <th>bad pass_1440</th>\n",
       "      <th>block_1440</th>\n",
       "      <th>miss_1440</th>\n",
       "      <th>two pts_1440</th>\n",
       "      <th>three pts_1440</th>\n",
       "      <th>fg_1440</th>\n",
       "      <th>total rebound_1440</th>\n",
       "    </tr>\n",
       "  </thead>\n",
       "  <tbody>\n",
       "    <tr>\n",
       "      <th>0</th>\n",
       "      <td>14186</td>\n",
       "      <td>-2</td>\n",
       "      <td>0</td>\n",
       "      <td>0</td>\n",
       "      <td>0</td>\n",
       "      <td>0</td>\n",
       "      <td>0</td>\n",
       "      <td>0</td>\n",
       "      <td>0</td>\n",
       "      <td>0</td>\n",
       "      <td>...</td>\n",
       "      <td>-3</td>\n",
       "      <td>3</td>\n",
       "      <td>3</td>\n",
       "      <td>-2</td>\n",
       "      <td>1</td>\n",
       "      <td>9</td>\n",
       "      <td>-6</td>\n",
       "      <td>-1</td>\n",
       "      <td>-7</td>\n",
       "      <td>4</td>\n",
       "    </tr>\n",
       "    <tr>\n",
       "      <th>1</th>\n",
       "      <td>13013</td>\n",
       "      <td>0</td>\n",
       "      <td>0</td>\n",
       "      <td>-1</td>\n",
       "      <td>0</td>\n",
       "      <td>0</td>\n",
       "      <td>0</td>\n",
       "      <td>0</td>\n",
       "      <td>0</td>\n",
       "      <td>0</td>\n",
       "      <td>...</td>\n",
       "      <td>1</td>\n",
       "      <td>0</td>\n",
       "      <td>0</td>\n",
       "      <td>1</td>\n",
       "      <td>-2</td>\n",
       "      <td>-1</td>\n",
       "      <td>-7</td>\n",
       "      <td>3</td>\n",
       "      <td>-4</td>\n",
       "      <td>6</td>\n",
       "    </tr>\n",
       "    <tr>\n",
       "      <th>2</th>\n",
       "      <td>7102</td>\n",
       "      <td>0</td>\n",
       "      <td>0</td>\n",
       "      <td>0</td>\n",
       "      <td>0</td>\n",
       "      <td>0</td>\n",
       "      <td>0</td>\n",
       "      <td>0</td>\n",
       "      <td>1</td>\n",
       "      <td>1</td>\n",
       "      <td>...</td>\n",
       "      <td>0</td>\n",
       "      <td>5</td>\n",
       "      <td>5</td>\n",
       "      <td>-2</td>\n",
       "      <td>3</td>\n",
       "      <td>-5</td>\n",
       "      <td>1</td>\n",
       "      <td>1</td>\n",
       "      <td>2</td>\n",
       "      <td>-6</td>\n",
       "    </tr>\n",
       "    <tr>\n",
       "      <th>3</th>\n",
       "      <td>7637</td>\n",
       "      <td>-2</td>\n",
       "      <td>0</td>\n",
       "      <td>0</td>\n",
       "      <td>0</td>\n",
       "      <td>0</td>\n",
       "      <td>0</td>\n",
       "      <td>0</td>\n",
       "      <td>0</td>\n",
       "      <td>0</td>\n",
       "      <td>...</td>\n",
       "      <td>-1</td>\n",
       "      <td>-1</td>\n",
       "      <td>2</td>\n",
       "      <td>2</td>\n",
       "      <td>-1</td>\n",
       "      <td>-1</td>\n",
       "      <td>-2</td>\n",
       "      <td>0</td>\n",
       "      <td>-2</td>\n",
       "      <td>10</td>\n",
       "    </tr>\n",
       "    <tr>\n",
       "      <th>4</th>\n",
       "      <td>12350</td>\n",
       "      <td>0</td>\n",
       "      <td>0</td>\n",
       "      <td>0</td>\n",
       "      <td>0</td>\n",
       "      <td>0</td>\n",
       "      <td>0</td>\n",
       "      <td>0</td>\n",
       "      <td>0</td>\n",
       "      <td>0</td>\n",
       "      <td>...</td>\n",
       "      <td>4</td>\n",
       "      <td>3</td>\n",
       "      <td>2</td>\n",
       "      <td>1</td>\n",
       "      <td>1</td>\n",
       "      <td>3</td>\n",
       "      <td>-2</td>\n",
       "      <td>2</td>\n",
       "      <td>0</td>\n",
       "      <td>5</td>\n",
       "    </tr>\n",
       "  </tbody>\n",
       "</table>\n",
       "<p>5 rows × 21601 columns</p>\n",
       "</div>"
      ],
      "text/plain": [
       "      ID  score_1  offensive rebound_1  defensive rebound_1  offensive foul_1  \\\n",
       "0  14186       -2                    0                    0                 0   \n",
       "1  13013        0                    0                   -1                 0   \n",
       "2   7102        0                    0                    0                 0   \n",
       "3   7637       -2                    0                    0                 0   \n",
       "4  12350        0                    0                    0                 0   \n",
       "\n",
       "   defensive foul_1  assist_1  lost ball_1  steals_1  bad pass_1  \\\n",
       "0                 0         0            0         0           0   \n",
       "1                 0         0            0         0           0   \n",
       "2                 0         0            0         1           1   \n",
       "3                 0         0            0         0           0   \n",
       "4                 0         0            0         0           0   \n",
       "\n",
       "          ...          assist_1440  lost ball_1440  steals_1440  \\\n",
       "0         ...                   -3               3            3   \n",
       "1         ...                    1               0            0   \n",
       "2         ...                    0               5            5   \n",
       "3         ...                   -1              -1            2   \n",
       "4         ...                    4               3            2   \n",
       "\n",
       "   bad pass_1440  block_1440  miss_1440  two pts_1440  three pts_1440  \\\n",
       "0             -2           1          9            -6              -1   \n",
       "1              1          -2         -1            -7               3   \n",
       "2             -2           3         -5             1               1   \n",
       "3              2          -1         -1            -2               0   \n",
       "4              1           1          3            -2               2   \n",
       "\n",
       "   fg_1440  total rebound_1440  \n",
       "0       -7                   4  \n",
       "1       -4                   6  \n",
       "2        2                  -6  \n",
       "3       -2                  10  \n",
       "4        0                   5  \n",
       "\n",
       "[5 rows x 21601 columns]"
      ]
     },
     "execution_count": 3,
     "metadata": {},
     "output_type": "execute_result"
    }
   ],
   "source": [
    "Data_X_train = feature_engineering(Data_X_train)\n",
    "Data_X_train.head()"
   ]
  },
  {
   "cell_type": "code",
   "execution_count": 4,
   "metadata": {
    "collapsed": true
   },
   "outputs": [],
   "source": [
    "nb_games, col = Data_X_train.shape\n",
    "nb_features = int((col-1)/1440)"
   ]
  },
  {
   "cell_type": "markdown",
   "metadata": {},
   "source": [
    "**Aggregate by 10 seconds**"
   ]
  },
  {
   "cell_type": "code",
   "execution_count": 87,
   "metadata": {
    "collapsed": true
   },
   "outputs": [],
   "source": [
    "X = Data_X_train.as_matrix()[:,1:]\n",
    "Y = Data_Y_train.as_matrix()[:,1:].reshape(nb_games,)"
   ]
  },
  {
   "cell_type": "code",
   "execution_count": 83,
   "metadata": {
    "collapsed": true
   },
   "outputs": [],
   "source": [
    "X = X.reshape((nb_games, nb_features, 10, -1), order = 'F')\n",
    "X = X.mean(axis = 2)\n",
    "X = X.reshape(nb_games, nb_features*144)\n",
    "\n",
    "## Add Score at the end to postprocess\n",
    "score_end = Data_X_train['score_1440'].as_matrix()\n",
    "X_tot = np.zeros((X.shape[0],X.shape[1]+1))\n",
    "X_tot[:,:-1] = X\n",
    "X_tot[:,-1] = score_end"
   ]
  },
  {
   "cell_type": "markdown",
   "metadata": {},
   "source": [
    "**Split train/val**"
   ]
  },
  {
   "cell_type": "code",
   "execution_count": 84,
   "metadata": {
    "collapsed": true
   },
   "outputs": [],
   "source": [
    "portion_train = 0.7\n",
    "n_train = int(portion_train*nb_games)\n",
    "n_val = nb_games - n_train\n",
    "id_train = np.random.choice(nb_games, n_train, replace=False)\n",
    "\n",
    "# Def train and validation data\n",
    "X_train = X_tot[id_train,:]\n",
    "Y_train = Y[id_train,:].reshape(n_train,)\n",
    "X_val = np.delete(X_tot, id_train, axis = 0)\n",
    "Y_val = np.delete(Y, id_train, axis = 0).reshape(n_val,)"
   ]
  },
  {
   "cell_type": "code",
   "execution_count": 69,
   "metadata": {
    "collapsed": true
   },
   "outputs": [],
   "source": [
    "# # Find score column\n",
    "# Data_X_train['score_1440']\n",
    "# a = Data_X_train.as_matrix()\n",
    "# a[:,21586]"
   ]
  },
  {
   "cell_type": "code",
   "execution_count": 70,
   "metadata": {
    "collapsed": true
   },
   "outputs": [],
   "source": [
    "# If the score difference is greater than 8 points (20147 = score_1140)\n",
    "def postprocess(X, Y) :\n",
    "    Y[X[:,-1] > 9] = 1\n",
    "    Y[X[:,-1] < -9] = 0\n",
    "    return Y"
   ]
  },
  {
   "cell_type": "code",
   "execution_count": 71,
   "metadata": {
    "collapsed": true
   },
   "outputs": [],
   "source": [
    "def score_function(y_true, y_pred):\n",
    "    score = 0\n",
    "    length1 = y_true.shape[0]\n",
    "    for i in range(length1):\n",
    "        if y_pred[i] == y_true[i]:\n",
    "            score += 1\n",
    "    return float(score)/float(length1)"
   ]
  },
  {
   "cell_type": "code",
   "execution_count": 89,
   "metadata": {
    "collapsed": true
   },
   "outputs": [],
   "source": [
    "def evaluate_model(model, X, Y, skf) :\n",
    "    accs_train = []\n",
    "    accs_val = []\n",
    "    accs_val_post = []\n",
    "    for train, val in skf.split(X, Y) :\n",
    "        model.fit(X[train], Y[train])\n",
    "        acc_train = model.score(X[train], Y[train])\n",
    "        acc_val = model.score(X[val], Y[val])\n",
    "        accs_train.append(acc_train)\n",
    "        accs_val.append(acc_val)\n",
    "        Y_post_val = postprocess(X[val],model.predict(X[val]))\n",
    "        acc_val_post = score_function(Y[val], Y_post_val)\n",
    "        accs_val_post.append(acc_val_post)\n",
    "        print('(Training, Validation, Validation with postprocesing) accuracies: ({:.2f},{:.2f},{:.2f})'\n",
    "                          .format(100*acc_train, 100*acc_val, 100*acc_val_post))\n",
    "\n",
    "    print('Mean Training Accuracy: {0:.2f} +/- {1:.2f}'.format(100*np.mean(accs_train), 100*np.std(accs_train)))\n",
    "    print('Mean Validation Accuracy: {0:.2f} +/- {1:.2f}'.format(100*np.mean(accs_val), 100*np.std(accs_val)))  \n",
    "    print('Mean Validation Accuracy with postprocessing: {0:.2f} +/- {1:.2f}'.format(100*np.mean(accs_val_post), 100*np.std(accs_val_post)))  "
   ]
  },
  {
   "cell_type": "markdown",
   "metadata": {},
   "source": [
    "## XGBoost classifier"
   ]
  },
  {
   "cell_type": "code",
   "execution_count": 60,
   "metadata": {
    "collapsed": true
   },
   "outputs": [],
   "source": [
    "xgb = GradientBoostingClassifier(max_depth=10, n_estimators = 1000)\n",
    "xgb.fit(X_train, Y_train)\n",
    "print('Training accurary : {0:.2f}'.format(xgb.score(X_train, Y_train)*100))\n",
    "print('Validation accurary : {0:.2f}'.format(xgb.score(X_val, Y_val)*100))"
   ]
  },
  {
   "cell_type": "markdown",
   "metadata": {},
   "source": [
    "## Logistic Regression"
   ]
  },
  {
   "cell_type": "code",
   "execution_count": 61,
   "metadata": {
    "collapsed": true
   },
   "outputs": [],
   "source": [
    "LR = LogisticRegression(C=0.00001)\n",
    "LR.fit(X_train, Y_train)\n",
    "print('Training accurary : {0:.2f}'.format(LR.score(X_train, Y_train)))\n",
    "print('Validation accurary : {0:.2f}'.format(LR.score(X_val, Y_val)))"
   ]
  },
  {
   "cell_type": "markdown",
   "metadata": {
    "collapsed": true
   },
   "source": [
    "## Random Forest"
   ]
  },
  {
   "cell_type": "markdown",
   "metadata": {},
   "source": [
    "**Grid Search**"
   ]
  },
  {
   "cell_type": "code",
   "execution_count": 63,
   "metadata": {
    "collapsed": true
   },
   "outputs": [],
   "source": [
    "parameters = {'n_estimators': 200, 'max_depth': None, 'max_features': 15, \n",
    "               'min_samples_split': 15, 'min_samples_leaf': 2, 'bootstrap': True, \n",
    "               'oob_score': True, 'criterion': 'entropy'}"
   ]
  },
  {
   "cell_type": "code",
   "execution_count": 77,
   "metadata": {},
   "outputs": [
    {
     "name": "stdout",
     "output_type": "stream",
     "text": [
      "Training accurary : 96.97\n",
      "Validation accurary : 73.50\n",
      "Validation accurary with post-processing : 74.24\n"
     ]
    }
   ],
   "source": [
    "RandomForest = RandomForestClassifier(**parameters)\n",
    "RandomForest.fit(X_train, Y_train)\n",
    "\n",
    "print('Training accurary : {0:.2f}'.format(RandomForest.score(X_train, Y_train)*100))\n",
    "\n",
    "print('Validation accurary : {0:.2f}'.format(RandomForest.score(X_val, Y_val)*100))\n",
    "Y_val_post = postprocess(X_val, eclf.predict(X_val))\n",
    "print('Validation accurary with post-processing : {0:.2f}'.format(score_function(Y_val, Y_val_post)*100))"
   ]
  },
  {
   "cell_type": "markdown",
   "metadata": {},
   "source": [
    "**With K-folds**"
   ]
  },
  {
   "cell_type": "code",
   "execution_count": 85,
   "metadata": {
    "collapsed": true
   },
   "outputs": [],
   "source": [
    "skf = StratifiedKFold(n_splits = 5, shuffle = True, random_state = 7)"
   ]
  },
  {
   "cell_type": "code",
   "execution_count": 90,
   "metadata": {},
   "outputs": [
    {
     "name": "stdout",
     "output_type": "stream",
     "text": [
      "(Training, Validation, Validation with postprocesing) accuracies: (96.92,75.52,75.40)\n",
      "(Training, Validation, Validation with postprocesing) accuracies: (97.24,74.56,74.28)\n",
      "(Training, Validation, Validation with postprocesing) accuracies: (96.97,73.52,73.16)\n",
      "(Training, Validation, Validation with postprocesing) accuracies: (97.10,74.47,74.16)\n",
      "(Training, Validation, Validation with postprocesing) accuracies: (96.86,71.92,71.80)\n",
      "Mean Training Accuracy: 97.02 +/- 0.14\n",
      "Mean Validation Accuracy: 74.00 +/- 1.22\n",
      "Mean Validation Accuracy with postprocessing: 73.76 +/- 1.21\n"
     ]
    }
   ],
   "source": [
    "evaluate_model(RandomForest, X_tot, Y, skf)"
   ]
  },
  {
   "cell_type": "markdown",
   "metadata": {},
   "source": [
    "## Combination of those models"
   ]
  },
  {
   "cell_type": "code",
   "execution_count": 73,
   "metadata": {},
   "outputs": [
    {
     "data": {
      "text/plain": [
       "VotingClassifier(estimators=[('lr', LogisticRegression(C=1e-05, class_weight=None, dual=False, fit_intercept=True,\n",
       "          intercept_scaling=1, max_iter=100, multi_class='ovr', n_jobs=1,\n",
       "          penalty='l2', random_state=None, solver='liblinear', tol=0.0001,\n",
       "          verbose=0, warm_start=False)), ('xgb', Grad...imators=200, n_jobs=1,\n",
       "            oob_score=True, random_state=None, verbose=0, warm_start=False))],\n",
       "         flatten_transform=None, n_jobs=1, voting='soft', weights=None)"
      ]
     },
     "execution_count": 73,
     "metadata": {},
     "output_type": "execute_result"
    }
   ],
   "source": [
    "xgb = GradientBoostingClassifier(max_depth=10, n_estimators = 1000)\n",
    "LogReg = LogisticRegression(C=0.00001)\n",
    "RandomForest = RandomForestClassifier(**parameters)\n",
    "\n",
    "eclf = VotingClassifier(estimators=[\n",
    "                ('lr', LogReg), ('xgb', xgb), ('RandomForest', RandomForest)], voting='soft')\n",
    "eclf.fit(X_train, Y_train)"
   ]
  },
  {
   "cell_type": "code",
   "execution_count": 78,
   "metadata": {},
   "outputs": [
    {
     "name": "stdout",
     "output_type": "stream",
     "text": [
      "Training accurary : 99.70\n",
      "Validation accurary : 74.56\n"
     ]
    }
   ],
   "source": [
    "print('Training accurary : {0:.2f}'.format(eclf.score(X_train, Y_train)*100))\n",
    "print('Validation accurary : {0:.2f}'.format(eclf.score(X_val, Y_val)*100))"
   ]
  }
 ],
 "metadata": {
  "kernelspec": {
   "display_name": "Python 3",
   "language": "python",
   "name": "python3"
  },
  "language_info": {
   "codemirror_mode": {
    "name": "ipython",
    "version": 3
   },
   "file_extension": ".py",
   "mimetype": "text/x-python",
   "name": "python",
   "nbconvert_exporter": "python",
   "pygments_lexer": "ipython3",
   "version": "3.6.2"
  }
 },
 "nbformat": 4,
 "nbformat_minor": 2
}
