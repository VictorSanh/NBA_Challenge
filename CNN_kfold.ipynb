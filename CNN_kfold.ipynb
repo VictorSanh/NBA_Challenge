{
 "cells": [
  {
   "cell_type": "code",
   "execution_count": 23,
   "metadata": {},
   "outputs": [],
   "source": [
    "import numpy as np\n",
    "import pandas as pd\n",
    "import random\n",
    "import time \n",
    "\n",
    "from keras.utils import np_utils\n",
    "from keras.models import Sequential\n",
    "from keras.layers import Conv2D, MaxPooling2D, BatchNormalization, Dropout, Flatten, Dense\n",
    "from keras.optimizers import SGD\n",
    "from keras import losses\n",
    "from keras import regularizers\n",
    "from keras.constraints import max_norm\n",
    "from keras.wrappers.scikit_learn import KerasClassifier\n",
    "\n",
    "from sklearn.model_selection import StratifiedKFold\n",
    "\n",
    "random.seed(7)\n",
    "\n",
    "%matplotlib inline\n",
    "import matplotlib.pyplot as plt\n",
    "\n",
    "from src.utils import preprocess"
   ]
  },
  {
   "cell_type": "markdown",
   "metadata": {},
   "source": [
    "# Load Data"
   ]
  },
  {
   "cell_type": "code",
   "execution_count": 4,
   "metadata": {},
   "outputs": [],
   "source": [
    "X_train_pd = pd.read_csv('data/challenge_fichier_dentrees_dentrainement_challenge_nba/train.csv')\n",
    "Y_train_pd = pd.read_csv('data/challenge_fichier_de_sortie_dentrainement_challenge_nba.csv', sep=';')"
   ]
  },
  {
   "cell_type": "code",
   "execution_count": 5,
   "metadata": {},
   "outputs": [],
   "source": [
    "X, Y, _, _ = preprocess(X_train_pd, Y_train_pd, 1)"
   ]
  },
  {
   "cell_type": "code",
   "execution_count": 30,
   "metadata": {},
   "outputs": [],
   "source": [
    "X = X.reshape((len(X), 11, 1440, 1), order = 'F')"
   ]
  },
  {
   "cell_type": "markdown",
   "metadata": {},
   "source": [
    "# Defining k fold functions and evaluation functions"
   ]
  },
  {
   "cell_type": "code",
   "execution_count": 22,
   "metadata": {},
   "outputs": [],
   "source": [
    "def train_and_evaluate(model, X_train, Y_train, X_val, Y_val, epochs, batch_size, verbose):\n",
    "    training = model.fit(X_train, Y_train, epochs = epochs, batch_size = batch_size, verbose = verbose)\n",
    "    evalu = model.evaluate(X_val, Y_val)\n",
    "    \n",
    "    return training.history['acc'][-1], evalu[1]"
   ]
  },
  {
   "cell_type": "code",
   "execution_count": 25,
   "metadata": {},
   "outputs": [],
   "source": [
    "skf = StratifiedKFold(n_splits = 5, shuffle = True, random_state = 7)"
   ]
  },
  {
   "cell_type": "code",
   "execution_count": 46,
   "metadata": {},
   "outputs": [],
   "source": [
    "def kfold_print(skf_splitter, X, Y, create_model_func, epochs, batch_size, verbose):\n",
    "    accs_train = []\n",
    "    accs_val = []\n",
    "    for train, val in skf.split(X, Y):\n",
    "        model = create_model_func()\n",
    "        Y_train = np_utils.to_categorical(Y[train], 2)\n",
    "        Y_val = np_utils.to_categorical(Y[val], 2)\n",
    "        acc_train, acc_val = train_and_evaluate(model, \n",
    "                                                X[train], Y_train, X[val], Y_val, \n",
    "                                                epochs = epochs, batch_size = batch_size, verbose = verbose)\n",
    "\n",
    "        accs_train.append(acc_train)\n",
    "        accs_val.append(acc_val)\n",
    "        print('(Training, Validation) accuracies: ({0:.2f},{1:.2f})'.format(100*acc_train, 100*acc_val))\n",
    "\n",
    "    print('Mean Training Accuracy: {0:.2f} +/- {1:.2f}'.format(100*np.mean(accs_train), 100*np.std(accs_train)))\n",
    "    print('Mean Validation Accuracy: {0:.2f} +/- {1:.2f}'.format(100*np.mean(accs_val), 100*np.std(accs_val)))"
   ]
  },
  {
   "cell_type": "markdown",
   "metadata": {},
   "source": [
    "# Train CNN kfold"
   ]
  },
  {
   "cell_type": "code",
   "execution_count": 40,
   "metadata": {},
   "outputs": [
    {
     "name": "stdout",
     "output_type": "stream",
     "text": [
      "2516/2516 [==============================] - 1s 508us/step\n",
      "(Training, Validation) accuracies: (75.12,70.79)\n",
      "2516/2516 [==============================] - 1s 288us/step\n",
      "(Training, Validation) accuracies: (73.69,69.00)\n",
      "2515/2515 [==============================] - 1s 363us/step\n",
      "(Training, Validation) accuracies: (74.62,71.69)\n",
      "2515/2515 [==============================] - 1s 353us/step\n",
      "(Training, Validation) accuracies: (74.04,69.70)\n",
      "2514/2514 [==============================] - 1s 327us/step\n",
      "(Training, Validation) accuracies: (74.24,72.55)\n",
      "Mean Training Accuracy: 74.34 +/- 0.49\n",
      "Mean Validation Accuracy: 70.75 +/- 1.29\n"
     ]
    }
   ],
   "source": [
    "def create_model():\n",
    "    conv_model = Sequential()\n",
    "    conv_model.add(BatchNormalization(axis=1, \n",
    "                                      input_shape = (11, 1440, 1)))\n",
    "    conv_model.add(Conv2D(filters = 16, \n",
    "                     kernel_size = (11, 15), \n",
    "                     activation = 'relu'))\n",
    "    conv_model.add(Dropout(0.75))\n",
    "    conv_model.add(Flatten())\n",
    "    conv_model.add(Dense(units = 2, \n",
    "                    activation='softmax'))\n",
    "\n",
    "    #Construct Loss\n",
    "    conv_model.compile(loss = losses.categorical_crossentropy,\n",
    "                         optimizer = 'adam',\n",
    "                         metrics = ['accuracy'])\n",
    "    \n",
    "    return conv_model\n",
    "\n",
    "kfold_print(skf, X, Y, create_model, 200, 32, False)"
   ]
  },
  {
   "cell_type": "code",
   "execution_count": 42,
   "metadata": {},
   "outputs": [
    {
     "name": "stdout",
     "output_type": "stream",
     "text": [
      "2516/2516 [==============================] - 1s 353us/step\n",
      "(Training, Validation) accuracies: (73.62,70.75)\n",
      "2516/2516 [==============================] - 2s 857us/step\n",
      "(Training, Validation) accuracies: (74.04,71.03)\n",
      "2515/2515 [==============================] - 1s 342us/step\n",
      "(Training, Validation) accuracies: (73.49,72.92)\n",
      "2515/2515 [==============================] - 1s 357us/step\n",
      "(Training, Validation) accuracies: (73.61,72.01)\n",
      "2514/2514 [==============================] - 1s 366us/step\n",
      "(Training, Validation) accuracies: (73.47,72.00)\n",
      "Mean Training Accuracy: 73.65 +/- 0.20\n",
      "Mean Validation Accuracy: 71.74 +/- 0.78\n"
     ]
    }
   ],
   "source": [
    "def create_model():\n",
    "    conv_model = Sequential()\n",
    "    conv_model.add(BatchNormalization(axis=1, \n",
    "                                      input_shape = (11, 1440, 1)))\n",
    "    conv_model.add(Conv2D(filters = 16, \n",
    "                     kernel_size = (11, 10),\n",
    "                     strides = (1, 10),\n",
    "                     activation = 'relu'))\n",
    "    conv_model.add(Dropout(0.75))\n",
    "    conv_model.add(Flatten())\n",
    "    conv_model.add(Dense(units = 50, activation = 'relu'))\n",
    "    conv_model.add(Dropout(0.5))\n",
    "    conv_model.add(Dense(units = 2, \n",
    "                    activation='softmax'))\n",
    "    #Construct Loss\n",
    "    conv_model.compile(loss = losses.categorical_crossentropy,\n",
    "                         optimizer = 'adam',\n",
    "                         metrics = ['accuracy'])\n",
    "    return conv_model\n",
    "\n",
    "kfold_print(skf, X, Y, create_model, 200, 32, False)"
   ]
  },
  {
   "cell_type": "code",
   "execution_count": 45,
   "metadata": {},
   "outputs": [
    {
     "name": "stdout",
     "output_type": "stream",
     "text": [
      "2516/2516 [==============================] - 3s 1ms/step\n",
      "(Training, Validation) accuracies: (78.82,69.52)\n",
      "2516/2516 [==============================] - 1s 504us/step\n",
      "(Training, Validation) accuracies: (79.17,69.32)\n",
      "2515/2515 [==============================] - 1s 510us/step\n",
      "(Training, Validation) accuracies: (78.49,72.68)\n",
      "2515/2515 [==============================] - 1s 531us/step\n",
      "(Training, Validation) accuracies: (78.49,72.13)\n",
      "2514/2514 [==============================] - 1s 585us/step\n",
      "(Training, Validation) accuracies: (78.78,70.45)\n",
      "Mean Training Accuracy: 78.75 +/- 0.25\n",
      "Mean Validation Accuracy: 70.82 +/- 1.36\n"
     ]
    }
   ],
   "source": [
    "def create_model():\n",
    "    conv_model = Sequential()\n",
    "    conv_model.add(BatchNormalization(axis=1, \n",
    "                                      input_shape = (11, 1440, 1)))\n",
    "    conv_model.add(Conv2D(filters = 32, \n",
    "                     kernel_size = (11, 10), \n",
    "                     activation = 'relu',\n",
    "                     strides = (1, 2)))\n",
    "    conv_model.add(Dropout(0.75))\n",
    "    conv_model.add(Flatten())\n",
    "    conv_model.add(Dense(units = 50, \n",
    "                         activation = 'relu'))\n",
    "    conv_model.add(Dropout(0.5))\n",
    "    conv_model.add(Dense(units = 2, \n",
    "                    activation='softmax'))\n",
    "    #Construct Loss\n",
    "    conv_model.compile(loss = losses.categorical_crossentropy,\n",
    "                         optimizer = 'adam',\n",
    "                         metrics = ['accuracy'])\n",
    "    return conv_model\n",
    "\n",
    "kfold_print(skf, X, Y, create_model, 250, 32, False)"
   ]
  },
  {
   "cell_type": "markdown",
   "metadata": {},
   "source": [
    "# Submitted models: verifying that this cross validation is a reasonable proxy for estimating test accuracy"
   ]
  },
  {
   "cell_type": "code",
   "execution_count": 47,
   "metadata": {},
   "outputs": [
    {
     "name": "stdout",
     "output_type": "stream",
     "text": [
      "2516/2516 [==============================] - 1s 558us/step\n",
      "(Training, Validation) accuracies: (81.35,70.75)\n",
      "2516/2516 [==============================] - 2s 605us/step\n",
      "(Training, Validation) accuracies: (81.10,70.15)\n",
      "2515/2515 [==============================] - 2s 630us/step\n",
      "(Training, Validation) accuracies: (78.31,71.57)\n",
      "2515/2515 [==============================] - 2s 645us/step\n",
      "(Training, Validation) accuracies: (80.51,71.57)\n",
      "2514/2514 [==============================] - 2s 616us/step\n",
      "(Training, Validation) accuracies: (78.42,70.84)\n",
      "Mean Training Accuracy: 79.94 +/- 1.31\n",
      "Mean Validation Accuracy: 70.98 +/- 0.54\n"
     ]
    }
   ],
   "source": [
    "# 72% on test\n",
    "def create_model():\n",
    "    conv_model = Sequential()\n",
    "    conv_model.add(BatchNormalization(axis=1, \n",
    "                                      input_shape = (11, 1440, 1)))\n",
    "    conv_model.add(Conv2D(filters = 16, \n",
    "                     kernel_size = (11, 10), \n",
    "                     activation = 'relu'))\n",
    "    conv_model.add(Dropout(0.75))\n",
    "    conv_model.add(Flatten())\n",
    "    conv_model.add(Dense(units = 50, activation = 'relu'))\n",
    "    conv_model.add(Dropout(0.5))\n",
    "    conv_model.add(Dense(units = 2, \n",
    "                    activation='softmax'))\n",
    "    #Construct Loss\n",
    "    conv_model.compile(loss = losses.categorical_crossentropy,\n",
    "                         optimizer = 'adam',\n",
    "                         metrics = ['accuracy'])\n",
    "    return conv_model\n",
    "\n",
    "kfold_print(skf, X, Y, create_model, 200, 32, False)"
   ]
  },
  {
   "cell_type": "code",
   "execution_count": null,
   "metadata": {},
   "outputs": [],
   "source": []
  }
 ],
 "metadata": {
  "kernelspec": {
   "display_name": "Python 3",
   "language": "python",
   "name": "python3"
  },
  "language_info": {
   "codemirror_mode": {
    "name": "ipython",
    "version": 3
   },
   "file_extension": ".py",
   "mimetype": "text/x-python",
   "name": "python",
   "nbconvert_exporter": "python",
   "pygments_lexer": "ipython3",
   "version": "3.5.2"
  }
 },
 "nbformat": 4,
 "nbformat_minor": 2
}
