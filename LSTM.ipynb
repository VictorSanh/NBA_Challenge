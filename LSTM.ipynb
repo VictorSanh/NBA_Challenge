{
 "cells": [
  {
   "cell_type": "markdown",
   "metadata": {},
   "source": [
    "# LSTM"
   ]
  },
  {
   "cell_type": "code",
   "execution_count": null,
   "metadata": {},
   "outputs": [],
   "source": [
    "import numpy as np\n",
    "import pandas as pd\n",
    "import random\n",
    "from sklearn.ensemble import RandomForestClassifier\n",
    "from src.utils import preprocess\n",
    "from tqdm import tqdm\n",
    "\n",
    "from keras.models import Sequential\n",
    "from keras.layers import Dense, Dropout, Conv2D, MaxPooling2D, BatchNormalization, Dropout, Flatten, Dense\n",
    "from keras.layers import Embedding\n",
    "from keras.layers import LSTM\n",
    "from keras.optimizers import SGD\n",
    "from keras.utils import np_utils\n",
    "from keras import losses\n",
    "\n",
    "import time\n",
    "random.seed(7)\n",
    "\n",
    "%matplotlib inline\n",
    "import matplotlib.pyplot as plt"
   ]
  },
  {
   "cell_type": "markdown",
   "metadata": {},
   "source": [
    "## Loading data"
   ]
  },
  {
   "cell_type": "code",
   "execution_count": null,
   "metadata": {
    "collapsed": true
   },
   "outputs": [],
   "source": [
    "# Open files\n",
    "Data_X_train = pd.read_csv('data/challenge_fichier_dentrees_dentrainement_challenge_nba/train.csv')\n",
    "Data_Y_train = pd.read_csv('data/challenge_fichier_de_sortie_dentrainement_challenge_nba.csv', sep=';')\n",
    "X_test = pd.read_csv('data/challenge_fichiers_dentrees_de_test_challenge_nba/test.csv')"
   ]
  },
  {
   "cell_type": "markdown",
   "metadata": {},
   "source": [
    "**Data preprocessing : split train/validation and remove ID**"
   ]
  },
  {
   "cell_type": "code",
   "execution_count": null,
   "metadata": {
    "collapsed": true
   },
   "outputs": [],
   "source": [
    "X_train, Y_train, X_val, Y_val = preprocess(Data_X_train, Data_Y_train, 0.7, True)"
   ]
  },
  {
   "cell_type": "markdown",
   "metadata": {},
   "source": [
    "## Model evaluation"
   ]
  },
  {
   "cell_type": "code",
   "execution_count": null,
   "metadata": {
    "collapsed": true
   },
   "outputs": [],
   "source": [
    "nb_games_train = len(X_train)\n",
    "nb_games_val = len(X_val)\n",
    "X_train = X_train.reshape((nb_games_train, 4, 1440), order = 'F')\n",
    "X_val = X_val.reshape((nb_games_val, 4, 1440), order = 'F')\n",
    "# Y_train = np_utils.to_categorical(Y_train, 2)\n",
    "# Y_val = np_utils.to_categorical(Y_val, 2)"
   ]
  },
  {
   "cell_type": "code",
   "execution_count": null,
   "metadata": {},
   "outputs": [],
   "source": [
    "lstm_model = Sequential()\n",
    "lstm_model.add(LSTM(50, input_shape = (4, 1440)))\n",
    "lstm_model.add(Dense(units = 2, \n",
    "                activation='softmax'))\n",
    "\n",
    "#Construct Loss\n",
    "lstm_model.compile(loss = losses.categorical_crossentropy,\n",
    "                     optimizer = 'adam',\n",
    "                     metrics = ['accuracy'])\n",
    "\n",
    "#Train\n",
    "start = time.time()\n",
    "training = lstm_model.fit(X_train, Y_train, epochs = 100, batch_size = 32, verbose = True)\n",
    "end = time.time()\n",
    "\n",
    "print('TRAINING')\n",
    "print('Loss at last iteration: {}'.format(training.history['loss'][-1]))\n",
    "print('Accuracy at last iteration: {}'.format(training.history['acc'][-1]))\n",
    "print('Training time: {}'.format(end - start))\n",
    "\n",
    "print('\\nTEST')\n",
    "evalu = conv_model.evaluate(X_val, Y_val)\n",
    "print('Loss: {}'.format(evalu[0]))\n",
    "print('Accuracy: {}'.format(evalu[1]))"
   ]
  },
  {
   "cell_type": "code",
   "execution_count": null,
   "metadata": {
    "collapsed": true
   },
   "outputs": [],
   "source": [
    "conv_model.save('models/lstm1.h5')"
   ]
  },
  {
   "cell_type": "code",
   "execution_count": null,
   "metadata": {
    "collapsed": true
   },
   "outputs": [],
   "source": []
  },
  {
   "cell_type": "code",
   "execution_count": null,
   "metadata": {
    "collapsed": true
   },
   "outputs": [],
   "source": []
  },
  {
   "cell_type": "code",
   "execution_count": null,
   "metadata": {
    "collapsed": true
   },
   "outputs": [],
   "source": []
  }
 ],
 "metadata": {
  "kernelspec": {
   "display_name": "Python 3",
   "language": "python",
   "name": "python3"
  },
  "language_info": {
   "codemirror_mode": {
    "name": "ipython",
    "version": 3
   },
   "file_extension": ".py",
   "mimetype": "text/x-python",
   "name": "python",
   "nbconvert_exporter": "python",
   "pygments_lexer": "ipython3",
   "version": "3.6.2"
  }
 },
 "nbformat": 4,
 "nbformat_minor": 2
}
