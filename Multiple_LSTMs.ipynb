{
 "cells": [
  {
   "cell_type": "code",
   "execution_count": 1,
   "metadata": {},
   "outputs": [
    {
     "name": "stderr",
     "output_type": "stream",
     "text": [
      "/usr/local/lib/python3.5/dist-packages/h5py/__init__.py:36: FutureWarning: Conversion of the second argument of issubdtype from `float` to `np.floating` is deprecated. In future, it will be treated as `np.float64 == np.dtype(float).type`.\n",
      "  from ._conv import register_converters as _register_converters\n",
      "Using TensorFlow backend.\n"
     ]
    }
   ],
   "source": [
    "import numpy as np\n",
    "import pandas as pd\n",
    "import random\n",
    "\n",
    "from sklearn.ensemble import RandomForestClassifier\n",
    "from src.utils import *\n",
    "from tqdm import tqdm\n",
    "\n",
    "from keras.models import Sequential\n",
    "from keras.layers import Dense, Dropout, Conv2D, MaxPooling2D, BatchNormalization, Dropout, Flatten, Dense\n",
    "from keras.layers import Embedding, LSTM\n",
    "from keras.optimizers import SGD\n",
    "from keras.utils import np_utils\n",
    "from keras import losses\n",
    "from keras import regularizers\n",
    "from keras.constraints import max_norm\n",
    "from keras.wrappers.scikit_learn import KerasClassifier\n",
    "from keras import backend as K\n",
    "\n",
    "import time\n",
    "\n",
    "from sklearn.model_selection import StratifiedKFold\n",
    "from sklearn.decomposition import PCA\n",
    "\n",
    "%matplotlib inline\n",
    "import matplotlib.pyplot as plt"
   ]
  },
  {
   "cell_type": "code",
   "execution_count": 2,
   "metadata": {},
   "outputs": [],
   "source": [
    "Data_X_train = pd.read_csv('data/challenge_fichier_dentrees_dentrainement_challenge_nba/train.csv')\n",
    "Data_Y_train = pd.read_csv('data/challenge_fichier_de_sortie_dentrainement_challenge_nba.csv', sep=';')"
   ]
  },
  {
   "cell_type": "code",
   "execution_count": 3,
   "metadata": {},
   "outputs": [
    {
     "name": "stderr",
     "output_type": "stream",
     "text": [
      "100%|██████████| 1439/1439 [02:37<00:00,  9.12it/s] \n",
      "100%|██████████| 1440/1440 [01:50<00:00,  9.34it/s]\n",
      "100%|██████████| 1440/1440 [03:31<00:00,  6.81it/s]\n"
     ]
    }
   ],
   "source": [
    "Data_X_train = feature_engineering(Data_X_train)"
   ]
  },
  {
   "cell_type": "code",
   "execution_count": 4,
   "metadata": {},
   "outputs": [],
   "source": [
    "X = Data_X_train.as_matrix()[:,1:]\n",
    "Y = Data_Y_train.as_matrix()[:,1:]"
   ]
  },
  {
   "cell_type": "code",
   "execution_count": 16,
   "metadata": {},
   "outputs": [],
   "source": [
    "def train_and_evaluate(model, X_train, Y_train, X_val, Y_val, epochs, batch_size, verbose):\n",
    "    training = model.fit(X_train, Y_train, epochs = epochs, batch_size = batch_size, verbose = verbose)\n",
    "    evalu = model.evaluate(X_val, Y_val)\n",
    "    \n",
    "    return training.history['acc'][-1], evalu[1]"
   ]
  },
  {
   "cell_type": "code",
   "execution_count": 17,
   "metadata": {},
   "outputs": [],
   "source": [
    "skf = StratifiedKFold(n_splits = 5, shuffle = True, random_state = 7)"
   ]
  },
  {
   "cell_type": "code",
   "execution_count": 18,
   "metadata": {},
   "outputs": [],
   "source": [
    "def kfold_print(skf_splitter, X, Y, create_model_func, epochs, batch_size, verbose):\n",
    "    accs_train = []\n",
    "    accs_val = []\n",
    "    for train, val in skf.split(X, Y):\n",
    "        model = create_model_func()\n",
    "        Y_train = np_utils.to_categorical(Y[train], 2)\n",
    "        Y_val = np_utils.to_categorical(Y[val], 2)\n",
    "        acc_train, acc_val = train_and_evaluate(model, \n",
    "                                                X[train], Y_train, X[val], Y_val, \n",
    "                                                epochs = epochs, batch_size = batch_size, verbose = verbose)\n",
    "\n",
    "        accs_train.append(acc_train)\n",
    "        accs_val.append(acc_val)\n",
    "        print('(Training, Validation) accuracies: ({0:.2f},{1:.2f})'.format(100*acc_train, 100*acc_val))\n",
    "\n",
    "    print('Mean Training Accuracy: {0:.2f} +/- {1:.2f}'.format(100*np.mean(accs_train), 100*np.std(accs_train)))\n",
    "    print('Mean Validation Accuracy: {0:.2f} +/- {1:.2f}'.format(100*np.mean(accs_val), 100*np.std(accs_val)))"
   ]
  },
  {
   "cell_type": "markdown",
   "metadata": {},
   "source": [
    "# 20 seconds subsequences"
   ]
  },
  {
   "cell_type": "code",
   "execution_count": 20,
   "metadata": {},
   "outputs": [],
   "source": [
    "X_train = X.reshape((len(X), 14, 20, -1), order = 'F')\n",
    "X_train = X_train.mean(axis = 2)"
   ]
  },
  {
   "cell_type": "code",
   "execution_count": 23,
   "metadata": {
    "scrolled": true
   },
   "outputs": [
    {
     "name": "stdout",
     "output_type": "stream",
     "text": [
      "2516/2516 [==============================] - 1s 379us/step\n",
      "(Training, Validation) accuracies: (72.56,73.29)\n",
      "2516/2516 [==============================] - 1s 425us/step\n",
      "(Training, Validation) accuracies: (72.76,72.73)\n",
      "2515/2515 [==============================] - 1s 488us/step\n",
      "(Training, Validation) accuracies: (73.66,71.57)\n",
      "2515/2515 [==============================] - 1s 462us/step\n",
      "(Training, Validation) accuracies: (73.06,71.17)\n",
      "2514/2514 [==============================] - 1s 499us/step\n",
      "(Training, Validation) accuracies: (73.74,69.25)\n",
      "Mean Training Accuracy: 73.16 +/- 0.47\n",
      "Mean Validation Accuracy: 71.60 +/- 1.40\n"
     ]
    }
   ],
   "source": [
    "def create_model():\n",
    "    lstm_model = Sequential()\n",
    "    lstm_model.add(LSTM(150, \n",
    "                        input_shape = (14, 72), \n",
    "                        return_sequences = True))\n",
    "    lstm_model.add(Dropout(0.75))\n",
    "    lstm_model.add(LSTM(100, \n",
    "                        return_sequences = True))\n",
    "    lstm_model.add(Dropout(0.75))\n",
    "    lstm_model.add(LSTM(75))\n",
    "    lstm_model.add(Dropout(0.75))\n",
    "    lstm_model.add(Dense(units = 75, activation = 'relu'))\n",
    "    lstm_model.add(Dropout(0.5))\n",
    "    lstm_model.add(Dense(units = 2, \n",
    "                    activation='softmax'))\n",
    "    \n",
    "    lstm_model.compile(loss = losses.categorical_crossentropy,\n",
    "                         optimizer = 'adam',\n",
    "                         metrics = ['accuracy'])\n",
    "    \n",
    "    return lstm_model\n",
    "\n",
    "kfold_print(skf, X_train, Y, create_model, 10, 32, False)"
   ]
  },
  {
   "cell_type": "code",
   "execution_count": 24,
   "metadata": {},
   "outputs": [
    {
     "name": "stdout",
     "output_type": "stream",
     "text": [
      "2516/2516 [==============================] - 1s 525us/step\n",
      "(Training, Validation) accuracies: (73.15,73.21)\n",
      "2516/2516 [==============================] - 1s 558us/step\n",
      "(Training, Validation) accuracies: (72.35,72.81)\n",
      "2515/2515 [==============================] - 1s 589us/step\n",
      "(Training, Validation) accuracies: (73.12,69.86)\n",
      "2515/2515 [==============================] - 2s 621us/step\n",
      "(Training, Validation) accuracies: (73.22,71.37)\n",
      "2514/2514 [==============================] - 2s 687us/step\n",
      "(Training, Validation) accuracies: (73.32,68.58)\n",
      "Mean Training Accuracy: 73.03 +/- 0.35\n",
      "Mean Validation Accuracy: 71.17 +/- 1.75\n"
     ]
    }
   ],
   "source": [
    "def create_model():\n",
    "    lstm_model = Sequential()\n",
    "    lstm_model.add(LSTM(150, \n",
    "                        input_shape = (14, 72), \n",
    "                        return_sequences = True))\n",
    "    lstm_model.add(Dropout(0.75))\n",
    "    lstm_model.add(LSTM(100, \n",
    "                        return_sequences = True))\n",
    "    lstm_model.add(Dropout(0.75))\n",
    "    lstm_model.add(LSTM(75))\n",
    "    lstm_model.add(Dropout(0.75))\n",
    "    lstm_model.add(Dense(units = 50, activation = 'relu'))\n",
    "    lstm_model.add(Dropout(0.5))\n",
    "    lstm_model.add(Dense(units = 2, \n",
    "                    activation='softmax'))\n",
    "    \n",
    "    lstm_model.compile(loss = losses.categorical_crossentropy,\n",
    "                         optimizer = 'adam',\n",
    "                         metrics = ['accuracy'])\n",
    "    \n",
    "    return lstm_model\n",
    "\n",
    "kfold_print(skf, X_train, Y, create_model, 10, 32, False)"
   ]
  },
  {
   "cell_type": "code",
   "execution_count": 25,
   "metadata": {},
   "outputs": [
    {
     "name": "stdout",
     "output_type": "stream",
     "text": [
      "2516/2516 [==============================] - 2s 676us/step\n",
      "(Training, Validation) accuracies: (72.96,72.69)\n",
      "2516/2516 [==============================] - 2s 709us/step\n",
      "(Training, Validation) accuracies: (73.22,72.34)\n",
      "2515/2515 [==============================] - 2s 739us/step\n",
      "(Training, Validation) accuracies: (73.74,70.42)\n",
      "2515/2515 [==============================] - 2s 830us/step\n",
      "(Training, Validation) accuracies: (73.96,71.53)\n",
      "2514/2514 [==============================] - 2s 849us/step\n",
      "(Training, Validation) accuracies: (73.63,70.17)\n",
      "Mean Training Accuracy: 73.50 +/- 0.36\n",
      "Mean Validation Accuracy: 71.43 +/- 1.01\n"
     ]
    }
   ],
   "source": [
    "def create_model():\n",
    "    lstm_model = Sequential()\n",
    "    lstm_model.add(LSTM(150, \n",
    "                        input_shape = (14, 72), \n",
    "                        return_sequences = True))\n",
    "    lstm_model.add(Dropout(0.75))\n",
    "    lstm_model.add(LSTM(100, \n",
    "                        return_sequences = True))\n",
    "    lstm_model.add(Dropout(0.75))\n",
    "    lstm_model.add(LSTM(100))\n",
    "    lstm_model.add(Dropout(0.75))\n",
    "    lstm_model.add(Dense(units = 75, activation = 'relu'))\n",
    "    lstm_model.add(Dropout(0.5))\n",
    "    lstm_model.add(Dense(units = 2, \n",
    "                    activation='softmax'))\n",
    "    \n",
    "    lstm_model.compile(loss = losses.categorical_crossentropy,\n",
    "                         optimizer = 'adam',\n",
    "                         metrics = ['accuracy'])\n",
    "    \n",
    "    return lstm_model\n",
    "\n",
    "kfold_print(skf, X_train, Y, create_model, 10, 32, False)"
   ]
  },
  {
   "cell_type": "code",
   "execution_count": 26,
   "metadata": {},
   "outputs": [
    {
     "name": "stdout",
     "output_type": "stream",
     "text": [
      "2516/2516 [==============================] - 2s 774us/step\n",
      "(Training, Validation) accuracies: (71.30,72.97)\n",
      "2516/2516 [==============================] - 2s 782us/step\n",
      "(Training, Validation) accuracies: (71.05,72.66)\n",
      "2515/2515 [==============================] - 2s 810us/step\n",
      "(Training, Validation) accuracies: (71.31,71.49)\n",
      "2515/2515 [==============================] - 2s 821us/step\n",
      "(Training, Validation) accuracies: (71.67,72.25)\n",
      "2514/2514 [==============================] - 2s 868us/step\n",
      "(Training, Validation) accuracies: (71.84,69.53)\n",
      "Mean Training Accuracy: 71.44 +/- 0.28\n",
      "Mean Validation Accuracy: 71.78 +/- 1.23\n"
     ]
    }
   ],
   "source": [
    "def create_model():\n",
    "    lstm_model = Sequential()\n",
    "    lstm_model.add(LSTM(150, \n",
    "                        input_shape = (14, 72), \n",
    "                        return_sequences = True))\n",
    "    lstm_model.add(Dropout(0.75))\n",
    "    lstm_model.add(LSTM(100))\n",
    "    lstm_model.add(Dropout(0.75))\n",
    "    lstm_model.add(Dense(units = 75, activation = 'relu'))\n",
    "    lstm_model.add(Dropout(0.5))\n",
    "    lstm_model.add(Dense(units = 2, \n",
    "                    activation='softmax'))\n",
    "    \n",
    "    lstm_model.compile(loss = losses.categorical_crossentropy,\n",
    "                         optimizer = 'adam',\n",
    "                         metrics = ['accuracy'])\n",
    "    \n",
    "    return lstm_model\n",
    "\n",
    "kfold_print(skf, X_train, Y, create_model, 10, 32, False)"
   ]
  },
  {
   "cell_type": "code",
   "execution_count": 28,
   "metadata": {},
   "outputs": [
    {
     "name": "stdout",
     "output_type": "stream",
     "text": [
      "2516/2516 [==============================] - 2s 973us/step\n",
      "(Training, Validation) accuracies: (70.45,72.50)\n",
      "2516/2516 [==============================] - 3s 998us/step\n",
      "(Training, Validation) accuracies: (70.96,73.21)\n",
      "2515/2515 [==============================] - 3s 1ms/step\n",
      "(Training, Validation) accuracies: (71.08,71.17)\n",
      "2515/2515 [==============================] - 3s 1ms/step\n",
      "(Training, Validation) accuracies: (71.20,71.81)\n",
      "2514/2514 [==============================] - 3s 1ms/step\n",
      "(Training, Validation) accuracies: (71.69,69.01)\n",
      "Mean Training Accuracy: 71.07 +/- 0.40\n",
      "Mean Validation Accuracy: 71.54 +/- 1.44\n"
     ]
    }
   ],
   "source": [
    "def create_model():\n",
    "    lstm_model = Sequential()\n",
    "    lstm_model.add(LSTM(50, \n",
    "                        input_shape = (14, 72), \n",
    "                        return_sequences = True))\n",
    "    lstm_model.add(Dropout(0.75))\n",
    "    lstm_model.add(LSTM(50))\n",
    "    lstm_model.add(Dropout(0.75))\n",
    "    lstm_model.add(Dense(units = 100, activation = 'relu'))\n",
    "    lstm_model.add(Dropout(0.5))\n",
    "    lstm_model.add(Dense(units = 2, \n",
    "                    activation='softmax'))\n",
    "    \n",
    "    lstm_model.compile(loss = losses.categorical_crossentropy,\n",
    "                         optimizer = 'adam',\n",
    "                         metrics = ['accuracy'])\n",
    "    \n",
    "    return lstm_model\n",
    "\n",
    "kfold_print(skf, X_train, Y, create_model, 10, 32, False)"
   ]
  },
  {
   "cell_type": "code",
   "execution_count": 29,
   "metadata": {},
   "outputs": [
    {
     "name": "stdout",
     "output_type": "stream",
     "text": [
      "2516/2516 [==============================] - 3s 1ms/step\n",
      "(Training, Validation) accuracies: (71.63,72.34)\n",
      "2516/2516 [==============================] - 3s 1ms/step\n",
      "(Training, Validation) accuracies: (72.62,72.73)\n",
      "2515/2515 [==============================] - 3s 1ms/step\n",
      "(Training, Validation) accuracies: (71.97,70.82)\n",
      "2515/2515 [==============================] - 3s 1ms/step\n",
      "(Training, Validation) accuracies: (72.53,71.05)\n",
      "2514/2514 [==============================] - 3s 1ms/step\n",
      "(Training, Validation) accuracies: (73.17,69.61)\n",
      "Mean Training Accuracy: 72.38 +/- 0.53\n",
      "Mean Validation Accuracy: 71.31 +/- 1.12\n"
     ]
    }
   ],
   "source": [
    "def create_model():\n",
    "    lstm_model = Sequential()\n",
    "    lstm_model.add(LSTM(50, \n",
    "                        input_shape = (14, 72), \n",
    "                        return_sequences = True))\n",
    "    lstm_model.add(Dropout(0.5))\n",
    "    lstm_model.add(LSTM(50))\n",
    "    lstm_model.add(Dropout(0.5))\n",
    "    lstm_model.add(Dense(units = 100, activation = 'relu'))\n",
    "    lstm_model.add(Dropout(0.5))\n",
    "    lstm_model.add(Dense(units = 2, \n",
    "                    activation='softmax'))\n",
    "    \n",
    "    lstm_model.compile(loss = losses.categorical_crossentropy,\n",
    "                         optimizer = 'adam',\n",
    "                         metrics = ['accuracy'])\n",
    "    \n",
    "    return lstm_model\n",
    "\n",
    "kfold_print(skf, X_train, Y, create_model, 10, 32, False)"
   ]
  },
  {
   "cell_type": "code",
   "execution_count": 30,
   "metadata": {},
   "outputs": [
    {
     "name": "stdout",
     "output_type": "stream",
     "text": [
      "2516/2516 [==============================] - 4s 2ms/step\n",
      "(Training, Validation) accuracies: (71.31,71.78)\n",
      "2516/2516 [==============================] - 4s 1ms/step\n",
      "(Training, Validation) accuracies: (72.32,72.10)\n",
      "2515/2515 [==============================] - 4s 1ms/step\n",
      "(Training, Validation) accuracies: (71.60,70.26)\n",
      "2515/2515 [==============================] - 4s 1ms/step\n",
      "(Training, Validation) accuracies: (72.68,71.17)\n",
      "2514/2514 [==============================] - 4s 1ms/step\n",
      "(Training, Validation) accuracies: (73.13,68.22)\n",
      "Mean Training Accuracy: 72.21 +/- 0.67\n",
      "Mean Validation Accuracy: 70.71 +/- 1.39\n"
     ]
    }
   ],
   "source": [
    "def create_model():\n",
    "    lstm_model = Sequential()\n",
    "    lstm_model.add(LSTM(75, \n",
    "                        input_shape = (14, 72), \n",
    "                        return_sequences = True))\n",
    "    lstm_model.add(Dropout(0.75))\n",
    "    lstm_model.add(LSTM(50, return_sequences = True))\n",
    "    lstm_model.add(Dropout(0.75))\n",
    "    lstm_model.add(LSTM(25))\n",
    "    lstm_model.add(Dropout(0.75))\n",
    "    lstm_model.add(Dense(units = 75, activation = 'relu'))\n",
    "    lstm_model.add(Dropout(0.5))\n",
    "    lstm_model.add(Dense(units = 2, \n",
    "                    activation='softmax'))\n",
    "    \n",
    "    lstm_model.compile(loss = losses.categorical_crossentropy,\n",
    "                         optimizer = 'adam',\n",
    "                         metrics = ['accuracy'])\n",
    "    \n",
    "    return lstm_model\n",
    "\n",
    "kfold_print(skf, X_train, Y, create_model, 10, 32, False)"
   ]
  },
  {
   "cell_type": "code",
   "execution_count": 31,
   "metadata": {},
   "outputs": [
    {
     "name": "stdout",
     "output_type": "stream",
     "text": [
      "2516/2516 [==============================] - 4s 2ms/step\n",
      "(Training, Validation) accuracies: (71.54,73.77)\n",
      "2516/2516 [==============================] - 4s 2ms/step\n",
      "(Training, Validation) accuracies: (71.58,71.94)\n",
      "2515/2515 [==============================] - 4s 2ms/step\n",
      "(Training, Validation) accuracies: (72.26,71.33)\n",
      "2515/2515 [==============================] - 5s 2ms/step\n",
      "(Training, Validation) accuracies: (72.19,69.38)\n",
      "2514/2514 [==============================] - 5s 2ms/step\n",
      "(Training, Validation) accuracies: (72.74,69.25)\n",
      "Mean Training Accuracy: 72.06 +/- 0.45\n",
      "Mean Validation Accuracy: 71.14 +/- 1.69\n"
     ]
    }
   ],
   "source": [
    "def create_model():\n",
    "    lstm_model = Sequential()\n",
    "    lstm_model.add(LSTM(49, \n",
    "                        input_shape = (14, 72), \n",
    "                        return_sequences = True))\n",
    "    lstm_model.add(Dropout(0.75))\n",
    "    lstm_model.add(LSTM(35, return_sequences = True))\n",
    "    lstm_model.add(Dropout(0.75))\n",
    "    lstm_model.add(LSTM(71, return_sequences = True))\n",
    "    lstm_model.add(Dropout(0.75))\n",
    "    lstm_model.add(LSTM(19, return_sequences = True))\n",
    "    lstm_model.add(Dropout(0.75))\n",
    "    lstm_model.add(LSTM(65))\n",
    "    lstm_model.add(Dropout(0.75))\n",
    "    lstm_model.add(Dense(units = 75, activation = 'relu'))\n",
    "    lstm_model.add(Dropout(0.5))\n",
    "    lstm_model.add(Dense(units = 2, \n",
    "                    activation='softmax'))\n",
    "    \n",
    "    lstm_model.compile(loss = losses.categorical_crossentropy,\n",
    "                         optimizer = 'adam',\n",
    "                         metrics = ['accuracy'])\n",
    "    \n",
    "    return lstm_model\n",
    "\n",
    "kfold_print(skf, X_train, Y, create_model, 10, 32, False)"
   ]
  },
  {
   "cell_type": "markdown",
   "metadata": {},
   "source": [
    "**Project Data**"
   ]
  },
  {
   "cell_type": "code",
   "execution_count": 32,
   "metadata": {},
   "outputs": [
    {
     "data": {
      "text/plain": [
       "<matplotlib.collections.PathCollection at 0x7f7131b047b8>"
      ]
     },
     "execution_count": 32,
     "metadata": {},
     "output_type": "execute_result"
    },
    {
     "data": {
      "image/png": "[encoded data removed]",
      "text/plain": [
       "<matplotlib.figure.Figure at 0x7f71383e1be0>"
      ]
     },
     "metadata": {},
     "output_type": "display_data"
    }
   ],
   "source": [
    "lstm_model = Sequential()\n",
    "lstm_model.add(LSTM(150, \n",
    "                    input_shape = (14, 72), \n",
    "                    return_sequences = True))\n",
    "lstm_model.add(Dropout(0.75))\n",
    "lstm_model.add(LSTM(100))\n",
    "lstm_model.add(Dropout(0.75))\n",
    "lstm_model.add(Dense(units = 75, activation = 'relu'))\n",
    "lstm_model.add(Dropout(0.5))\n",
    "lstm_model.add(Dense(units = 2, \n",
    "                activation='softmax'))\n",
    "#Construct Loss\n",
    "lstm_model.compile(loss = losses.categorical_crossentropy,\n",
    "                     optimizer = 'adam',\n",
    "                     metrics = ['accuracy'])\n",
    "lstm_model.fit(X_train, np_utils.to_categorical(Y, 2), epochs = 10, batch_size = 32, verbose = False)\n",
    "\n",
    "\n",
    "extract_cnn_features = K.function([lstm_model.layers[0].input, K.learning_phase()],\n",
    "                                  [lstm_model.layers[4].output])\n",
    "X_train_features = extract_cnn_features([X_train, 0])[0]\n",
    "\n",
    "proj = PCA(n_components = 2)\n",
    "X_proj = proj.fit_transform(X_train_features)\n",
    "\n",
    "plt.scatter(X_proj[:,0], X_proj[:,1], c = Y.flatten())"
   ]
  },
  {
   "cell_type": "code",
   "execution_count": 34,
   "metadata": {},
   "outputs": [
    {
     "data": {
      "text/plain": [
       "<matplotlib.collections.PathCollection at 0x7f712f6ee7f0>"
      ]
     },
     "execution_count": 34,
     "metadata": {},
     "output_type": "execute_result"
    },
    {
     "data": {
      "image/png": "[encoded data removed]",
      "text/plain": [
       "<matplotlib.figure.Figure at 0x7f7130ffecc0>"
      ]
     },
     "metadata": {},
     "output_type": "display_data"
    }
   ],
   "source": [
    "lstm_model = Sequential()\n",
    "lstm_model.add(LSTM(150, \n",
    "                    input_shape = (14, 72), \n",
    "                    return_sequences = True))\n",
    "lstm_model.add(Dropout(0.75))\n",
    "lstm_model.add(LSTM(100, return_sequences = True))\n",
    "lstm_model.add(Dropout(0.75))\n",
    "lstm_model.add(LSTM(100))\n",
    "lstm_model.add(Dropout(0.75))\n",
    "lstm_model.add(Dense(units = 75, activation = 'relu'))\n",
    "lstm_model.add(Dropout(0.5))\n",
    "lstm_model.add(Dense(units = 2, \n",
    "                activation='softmax'))\n",
    "#Construct Loss\n",
    "lstm_model.compile(loss = losses.categorical_crossentropy,\n",
    "                     optimizer = 'adam',\n",
    "                     metrics = ['accuracy'])\n",
    "lstm_model.fit(X_train, np_utils.to_categorical(Y, 2), epochs = 10, batch_size = 32, verbose = False)\n",
    "\n",
    "\n",
    "extract_cnn_features = K.function([lstm_model.layers[0].input, K.learning_phase()],\n",
    "                                  [lstm_model.layers[6].output])\n",
    "X_train_features = extract_cnn_features([X_train, 0])[0]\n",
    "\n",
    "proj = PCA(n_components = 2)\n",
    "X_proj = proj.fit_transform(X_train_features)\n",
    "\n",
    "plt.scatter(X_proj[:,0], X_proj[:,1], c = Y.flatten())"
   ]
  },
  {
   "cell_type": "code",
   "execution_count": null,
   "metadata": {},
   "outputs": [],
   "source": []
  }
 ],
 "metadata": {
  "kernelspec": {
   "display_name": "Python 3",
   "language": "python",
   "name": "python3"
  },
  "language_info": {
   "codemirror_mode": {
    "name": "ipython",
    "version": 3
   },
   "file_extension": ".py",
   "mimetype": "text/x-python",
   "name": "python",
   "nbconvert_exporter": "python",
   "pygments_lexer": "ipython3",
   "version": "3.5.2"
  }
 },
 "nbformat": 4,
 "nbformat_minor": 2
}
